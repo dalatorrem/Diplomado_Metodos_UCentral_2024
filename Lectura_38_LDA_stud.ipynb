{
  "nbformat": 4,
  "nbformat_minor": 0,
  "metadata": {
    "colab": {
      "provenance": [],
      "include_colab_link": true
    },
    "kernelspec": {
      "name": "python3",
      "display_name": "Python 3"
    },
    "language_info": {
      "name": "python"
    }
  },
  "cells": [
    {
      "cell_type": "markdown",
      "metadata": {
        "id": "view-in-github",
        "colab_type": "text"
      },
      "source": [
        "<a href=\"https://colab.research.google.com/github/dalatorrem/Diplomado_Metodos_UCentral_2023/blob/main/Lectura_38_LDA_stud.ipynb\" target=\"_parent\"><img src=\"https://colab.research.google.com/assets/colab-badge.svg\" alt=\"Open In Colab\"/></a>"
      ]
    },
    {
      "cell_type": "markdown",
      "source": [
        "---\n",
        "\n",
        "<p align=\"center\">\n",
        "  <img src=\"https://raw.githubusercontent.com/lacamposm/Diplomado_Metodos_UCentral/main/data/images/imagen_ucentral.jpg\" alt=\"logo_Ucentral\" width=\"400px\" height=\"300px\">\n",
        "</p>"
      ],
      "metadata": {
        "id": "cyfSsNpcwrJV"
      }
    },
    {
      "cell_type": "markdown",
      "source": [
        "***LDA o Linear Discriminant Analysis es una técnica de clasificación***\n",
        "\n",
        "En contraste con la regresión logística, LDA permite enfrentar problemas multiclase.\n",
        "\n",
        "<br>\n",
        "\n",
        "**Ideas**\n",
        "\n",
        "* Métricas para cada una de las clases.\n",
        "* Para el caso univariado media y desviación estándar.\n",
        "* Para el caso multivariado los análogos.\n",
        "\n",
        "**Supuestos**\n",
        "* Normalidad para las entradas.\n",
        "* Misma estructura de varianza ( si se modela es QDA Quadratic Discriminant Analysis)\n",
        "\n",
        "**Estimadores**\n",
        "$$\\mu_k = 1/n_k * \\sum(x)$$\n",
        "\n",
        "$$\\sigma^2 = 1 / (n-K) * \\sum((x – \\mu_k)^2)$$\n",
        "\n",
        "**Estimación de la clase**\n",
        "\n",
        "Para todo $X$,  $P(X=x|y=k)$ corresponde a la probabilidad de que X tome el valor observado, asumiendo que pertenece a la clase $k$, usando la regla de Bayes se obtiene la probabilidad $P(y=k|x)$ la clase $k$ que maximice la probabilidad corresponde a la predicción del algoritmo.  "
      ],
      "metadata": {
        "id": "ho-_nmhI7q-5"
      }
    },
    {
      "cell_type": "code",
      "execution_count": 1,
      "metadata": {
        "id": "npl9_TvzQnwH"
      },
      "outputs": [],
      "source": [
        "import pandas as pd\n",
        "import numpy  as np\n",
        "import matplotlib.pyplot as plt\n",
        "import seaborn as sns\n",
        "import statsmodels.formula.api  as smf\n",
        "import warnings\n",
        "##\n",
        "from sklearn.naive_bayes import GaussianNB, MultinomialNB\n",
        "from sklearn.naive_bayes import GaussianNB, MultinomialNB\n",
        "from sklearn.discriminant_analysis import LinearDiscriminantAnalysis\n",
        "from sklearn.preprocessing import LabelEncoder\n",
        "from scipy.stats import norm\n",
        "from sklearn.metrics import roc_curve, auc, accuracy_score\n",
        "from sklearn.model_selection import train_test_split\n",
        "##\n",
        "plt.style.use(\"ggplot\")\n",
        "plt.rcParams[\"figure.figsize\"] = (15,6)\n",
        "warnings.filterwarnings(\"ignore\")\n",
        "url_base = \"https://raw.githubusercontent.com/lacamposm/Metodos_Estadisticos/main/data/\""
      ]
    },
    {
      "cell_type": "markdown",
      "source": [
        "## ***Nuevo modelo de clasisificación para la predicción de los incumplimientos del pago en préstamos en Lending club.***"
      ],
      "metadata": {
        "id": "NcdPxg5gxkbC"
      }
    },
    {
      "cell_type": "markdown",
      "source": [
        "## ***Introducción.***\n",
        "\n",
        "\n",
        "\n",
        "Vamos a usar nuestro modelo de la lectura anterior y será tomado como referencia para ser comparado con este nuevo clasificador."
      ],
      "metadata": {
        "id": "FhcxFXvQxy3o"
      }
    },
    {
      "cell_type": "code",
      "source": [
        "## Cargamos el Dataset. Usamos el conocimiento del mismo para que sea importando con el tipo de dato\n",
        "## adecuado en cada variables.\n",
        "df = pd.read_csv(url_base + \"Logistic_Regression_1.csv\",\n",
        "                 dtype = {\"loan_status\":\"category\", \"annual_inc\":\"float\",\n",
        "                          \"verification_status\":\"category\", \"emp_length\":\"category\",\n",
        "                          \"home_ownership\":\"category\", \"int_rate\":\"object\",\n",
        "                          \"loan_amnt\":\"float\", \"purpose\":\"category\",\n",
        "                          \"term\":\"category\", \"grade\":\"category\"})\n",
        "df[\"int_rate\"] = df[\"int_rate\"].str.replace(\"%\",\"\").astype(\"float\")\n",
        "df.head()"
      ],
      "metadata": {
        "colab": {
          "base_uri": "https://localhost:8080/",
          "height": 206
        },
        "id": "IuFZ9c8KzfGl",
        "outputId": "a258a7ad-9ff2-4835-bdf2-3465f29c510b"
      },
      "execution_count": 2,
      "outputs": [
        {
          "output_type": "execute_result",
          "data": {
            "text/plain": [
              "   loan_status  annual_inc verification_status emp_length home_ownership  \\\n",
              "0   Fully Paid     24000.0            Verified  10+ years           RENT   \n",
              "1  Charged Off     30000.0     Source Verified   < 1 year           RENT   \n",
              "2   Fully Paid     12252.0        Not Verified  10+ years           RENT   \n",
              "3   Fully Paid     49200.0     Source Verified  10+ years           RENT   \n",
              "4   Fully Paid     80000.0     Source Verified     1 year           RENT   \n",
              "\n",
              "   int_rate  loan_amnt         purpose        term grade  \n",
              "0     10.65     5000.0     credit_card   36 months     B  \n",
              "1     15.27     2500.0             car   60 months     C  \n",
              "2     15.96     2400.0  small_business   36 months     C  \n",
              "3     13.49    10000.0           other   36 months     C  \n",
              "4     12.69     3000.0           other   60 months     B  "
            ],
            "text/html": [
              "\n",
              "  <div id=\"df-d8200281-0582-4c20-afaa-ae25ab9bfbd8\" class=\"colab-df-container\">\n",
              "    <div>\n",
              "<style scoped>\n",
              "    .dataframe tbody tr th:only-of-type {\n",
              "        vertical-align: middle;\n",
              "    }\n",
              "\n",
              "    .dataframe tbody tr th {\n",
              "        vertical-align: top;\n",
              "    }\n",
              "\n",
              "    .dataframe thead th {\n",
              "        text-align: right;\n",
              "    }\n",
              "</style>\n",
              "<table border=\"1\" class=\"dataframe\">\n",
              "  <thead>\n",
              "    <tr style=\"text-align: right;\">\n",
              "      <th></th>\n",
              "      <th>loan_status</th>\n",
              "      <th>annual_inc</th>\n",
              "      <th>verification_status</th>\n",
              "      <th>emp_length</th>\n",
              "      <th>home_ownership</th>\n",
              "      <th>int_rate</th>\n",
              "      <th>loan_amnt</th>\n",
              "      <th>purpose</th>\n",
              "      <th>term</th>\n",
              "      <th>grade</th>\n",
              "    </tr>\n",
              "  </thead>\n",
              "  <tbody>\n",
              "    <tr>\n",
              "      <th>0</th>\n",
              "      <td>Fully Paid</td>\n",
              "      <td>24000.0</td>\n",
              "      <td>Verified</td>\n",
              "      <td>10+ years</td>\n",
              "      <td>RENT</td>\n",
              "      <td>10.65</td>\n",
              "      <td>5000.0</td>\n",
              "      <td>credit_card</td>\n",
              "      <td>36 months</td>\n",
              "      <td>B</td>\n",
              "    </tr>\n",
              "    <tr>\n",
              "      <th>1</th>\n",
              "      <td>Charged Off</td>\n",
              "      <td>30000.0</td>\n",
              "      <td>Source Verified</td>\n",
              "      <td>&lt; 1 year</td>\n",
              "      <td>RENT</td>\n",
              "      <td>15.27</td>\n",
              "      <td>2500.0</td>\n",
              "      <td>car</td>\n",
              "      <td>60 months</td>\n",
              "      <td>C</td>\n",
              "    </tr>\n",
              "    <tr>\n",
              "      <th>2</th>\n",
              "      <td>Fully Paid</td>\n",
              "      <td>12252.0</td>\n",
              "      <td>Not Verified</td>\n",
              "      <td>10+ years</td>\n",
              "      <td>RENT</td>\n",
              "      <td>15.96</td>\n",
              "      <td>2400.0</td>\n",
              "      <td>small_business</td>\n",
              "      <td>36 months</td>\n",
              "      <td>C</td>\n",
              "    </tr>\n",
              "    <tr>\n",
              "      <th>3</th>\n",
              "      <td>Fully Paid</td>\n",
              "      <td>49200.0</td>\n",
              "      <td>Source Verified</td>\n",
              "      <td>10+ years</td>\n",
              "      <td>RENT</td>\n",
              "      <td>13.49</td>\n",
              "      <td>10000.0</td>\n",
              "      <td>other</td>\n",
              "      <td>36 months</td>\n",
              "      <td>C</td>\n",
              "    </tr>\n",
              "    <tr>\n",
              "      <th>4</th>\n",
              "      <td>Fully Paid</td>\n",
              "      <td>80000.0</td>\n",
              "      <td>Source Verified</td>\n",
              "      <td>1 year</td>\n",
              "      <td>RENT</td>\n",
              "      <td>12.69</td>\n",
              "      <td>3000.0</td>\n",
              "      <td>other</td>\n",
              "      <td>60 months</td>\n",
              "      <td>B</td>\n",
              "    </tr>\n",
              "  </tbody>\n",
              "</table>\n",
              "</div>\n",
              "    <div class=\"colab-df-buttons\">\n",
              "\n",
              "  <div class=\"colab-df-container\">\n",
              "    <button class=\"colab-df-convert\" onclick=\"convertToInteractive('df-d8200281-0582-4c20-afaa-ae25ab9bfbd8')\"\n",
              "            title=\"Convert this dataframe to an interactive table.\"\n",
              "            style=\"display:none;\">\n",
              "\n",
              "  <svg xmlns=\"http://www.w3.org/2000/svg\" height=\"24px\" viewBox=\"0 -960 960 960\">\n",
              "    <path d=\"M120-120v-720h720v720H120Zm60-500h600v-160H180v160Zm220 220h160v-160H400v160Zm0 220h160v-160H400v160ZM180-400h160v-160H180v160Zm440 0h160v-160H620v160ZM180-180h160v-160H180v160Zm440 0h160v-160H620v160Z\"/>\n",
              "  </svg>\n",
              "    </button>\n",
              "\n",
              "  <style>\n",
              "    .colab-df-container {\n",
              "      display:flex;\n",
              "      gap: 12px;\n",
              "    }\n",
              "\n",
              "    .colab-df-convert {\n",
              "      background-color: #E8F0FE;\n",
              "      border: none;\n",
              "      border-radius: 50%;\n",
              "      cursor: pointer;\n",
              "      display: none;\n",
              "      fill: #1967D2;\n",
              "      height: 32px;\n",
              "      padding: 0 0 0 0;\n",
              "      width: 32px;\n",
              "    }\n",
              "\n",
              "    .colab-df-convert:hover {\n",
              "      background-color: #E2EBFA;\n",
              "      box-shadow: 0px 1px 2px rgba(60, 64, 67, 0.3), 0px 1px 3px 1px rgba(60, 64, 67, 0.15);\n",
              "      fill: #174EA6;\n",
              "    }\n",
              "\n",
              "    .colab-df-buttons div {\n",
              "      margin-bottom: 4px;\n",
              "    }\n",
              "\n",
              "    [theme=dark] .colab-df-convert {\n",
              "      background-color: #3B4455;\n",
              "      fill: #D2E3FC;\n",
              "    }\n",
              "\n",
              "    [theme=dark] .colab-df-convert:hover {\n",
              "      background-color: #434B5C;\n",
              "      box-shadow: 0px 1px 3px 1px rgba(0, 0, 0, 0.15);\n",
              "      filter: drop-shadow(0px 1px 2px rgba(0, 0, 0, 0.3));\n",
              "      fill: #FFFFFF;\n",
              "    }\n",
              "  </style>\n",
              "\n",
              "    <script>\n",
              "      const buttonEl =\n",
              "        document.querySelector('#df-d8200281-0582-4c20-afaa-ae25ab9bfbd8 button.colab-df-convert');\n",
              "      buttonEl.style.display =\n",
              "        google.colab.kernel.accessAllowed ? 'block' : 'none';\n",
              "\n",
              "      async function convertToInteractive(key) {\n",
              "        const element = document.querySelector('#df-d8200281-0582-4c20-afaa-ae25ab9bfbd8');\n",
              "        const dataTable =\n",
              "          await google.colab.kernel.invokeFunction('convertToInteractive',\n",
              "                                                    [key], {});\n",
              "        if (!dataTable) return;\n",
              "\n",
              "        const docLinkHtml = 'Like what you see? Visit the ' +\n",
              "          '<a target=\"_blank\" href=https://colab.research.google.com/notebooks/data_table.ipynb>data table notebook</a>'\n",
              "          + ' to learn more about interactive tables.';\n",
              "        element.innerHTML = '';\n",
              "        dataTable['output_type'] = 'display_data';\n",
              "        await google.colab.output.renderOutput(dataTable, element);\n",
              "        const docLink = document.createElement('div');\n",
              "        docLink.innerHTML = docLinkHtml;\n",
              "        element.appendChild(docLink);\n",
              "      }\n",
              "    </script>\n",
              "  </div>\n",
              "\n",
              "\n",
              "<div id=\"df-69c034be-9c04-4b11-8d10-447e54110e8e\">\n",
              "  <button class=\"colab-df-quickchart\" onclick=\"quickchart('df-69c034be-9c04-4b11-8d10-447e54110e8e')\"\n",
              "            title=\"Suggest charts.\"\n",
              "            style=\"display:none;\">\n",
              "\n",
              "<svg xmlns=\"http://www.w3.org/2000/svg\" height=\"24px\"viewBox=\"0 0 24 24\"\n",
              "     width=\"24px\">\n",
              "    <g>\n",
              "        <path d=\"M19 3H5c-1.1 0-2 .9-2 2v14c0 1.1.9 2 2 2h14c1.1 0 2-.9 2-2V5c0-1.1-.9-2-2-2zM9 17H7v-7h2v7zm4 0h-2V7h2v10zm4 0h-2v-4h2v4z\"/>\n",
              "    </g>\n",
              "</svg>\n",
              "  </button>\n",
              "\n",
              "<style>\n",
              "  .colab-df-quickchart {\n",
              "      --bg-color: #E8F0FE;\n",
              "      --fill-color: #1967D2;\n",
              "      --hover-bg-color: #E2EBFA;\n",
              "      --hover-fill-color: #174EA6;\n",
              "      --disabled-fill-color: #AAA;\n",
              "      --disabled-bg-color: #DDD;\n",
              "  }\n",
              "\n",
              "  [theme=dark] .colab-df-quickchart {\n",
              "      --bg-color: #3B4455;\n",
              "      --fill-color: #D2E3FC;\n",
              "      --hover-bg-color: #434B5C;\n",
              "      --hover-fill-color: #FFFFFF;\n",
              "      --disabled-bg-color: #3B4455;\n",
              "      --disabled-fill-color: #666;\n",
              "  }\n",
              "\n",
              "  .colab-df-quickchart {\n",
              "    background-color: var(--bg-color);\n",
              "    border: none;\n",
              "    border-radius: 50%;\n",
              "    cursor: pointer;\n",
              "    display: none;\n",
              "    fill: var(--fill-color);\n",
              "    height: 32px;\n",
              "    padding: 0;\n",
              "    width: 32px;\n",
              "  }\n",
              "\n",
              "  .colab-df-quickchart:hover {\n",
              "    background-color: var(--hover-bg-color);\n",
              "    box-shadow: 0 1px 2px rgba(60, 64, 67, 0.3), 0 1px 3px 1px rgba(60, 64, 67, 0.15);\n",
              "    fill: var(--button-hover-fill-color);\n",
              "  }\n",
              "\n",
              "  .colab-df-quickchart-complete:disabled,\n",
              "  .colab-df-quickchart-complete:disabled:hover {\n",
              "    background-color: var(--disabled-bg-color);\n",
              "    fill: var(--disabled-fill-color);\n",
              "    box-shadow: none;\n",
              "  }\n",
              "\n",
              "  .colab-df-spinner {\n",
              "    border: 2px solid var(--fill-color);\n",
              "    border-color: transparent;\n",
              "    border-bottom-color: var(--fill-color);\n",
              "    animation:\n",
              "      spin 1s steps(1) infinite;\n",
              "  }\n",
              "\n",
              "  @keyframes spin {\n",
              "    0% {\n",
              "      border-color: transparent;\n",
              "      border-bottom-color: var(--fill-color);\n",
              "      border-left-color: var(--fill-color);\n",
              "    }\n",
              "    20% {\n",
              "      border-color: transparent;\n",
              "      border-left-color: var(--fill-color);\n",
              "      border-top-color: var(--fill-color);\n",
              "    }\n",
              "    30% {\n",
              "      border-color: transparent;\n",
              "      border-left-color: var(--fill-color);\n",
              "      border-top-color: var(--fill-color);\n",
              "      border-right-color: var(--fill-color);\n",
              "    }\n",
              "    40% {\n",
              "      border-color: transparent;\n",
              "      border-right-color: var(--fill-color);\n",
              "      border-top-color: var(--fill-color);\n",
              "    }\n",
              "    60% {\n",
              "      border-color: transparent;\n",
              "      border-right-color: var(--fill-color);\n",
              "    }\n",
              "    80% {\n",
              "      border-color: transparent;\n",
              "      border-right-color: var(--fill-color);\n",
              "      border-bottom-color: var(--fill-color);\n",
              "    }\n",
              "    90% {\n",
              "      border-color: transparent;\n",
              "      border-bottom-color: var(--fill-color);\n",
              "    }\n",
              "  }\n",
              "</style>\n",
              "\n",
              "  <script>\n",
              "    async function quickchart(key) {\n",
              "      const quickchartButtonEl =\n",
              "        document.querySelector('#' + key + ' button');\n",
              "      quickchartButtonEl.disabled = true;  // To prevent multiple clicks.\n",
              "      quickchartButtonEl.classList.add('colab-df-spinner');\n",
              "      try {\n",
              "        const charts = await google.colab.kernel.invokeFunction(\n",
              "            'suggestCharts', [key], {});\n",
              "      } catch (error) {\n",
              "        console.error('Error during call to suggestCharts:', error);\n",
              "      }\n",
              "      quickchartButtonEl.classList.remove('colab-df-spinner');\n",
              "      quickchartButtonEl.classList.add('colab-df-quickchart-complete');\n",
              "    }\n",
              "    (() => {\n",
              "      let quickchartButtonEl =\n",
              "        document.querySelector('#df-69c034be-9c04-4b11-8d10-447e54110e8e button');\n",
              "      quickchartButtonEl.style.display =\n",
              "        google.colab.kernel.accessAllowed ? 'block' : 'none';\n",
              "    })();\n",
              "  </script>\n",
              "</div>\n",
              "    </div>\n",
              "  </div>\n"
            ]
          },
          "metadata": {},
          "execution_count": 2
        }
      ]
    },
    {
      "cell_type": "code",
      "source": [
        "## Ajustamos el modelo de regresión logística de la lectura anterior.\n",
        "df_full = df.copy()\n",
        "## Variable objetivo numérica\n",
        "df_full[\"loan_status\"]= df_full[\"loan_status\"].cat.codes\n",
        "## MODELO\n",
        "formula1 = \"loan_status ~ int_rate + annual_inc + loan_amnt+\"\n",
        "formula2 = \"verification_status + emp_length + home_ownership + purpose + term+ grade\"\n",
        "lr_full = smf.logit(formula = formula1+formula2, data = df_full).fit()\n",
        "## AUC\n",
        "p_hat = lr_full.predict(df_full.drop(columns = [\"loan_status\"]))\n",
        "fpr, tpr, thresholds = roc_curve(df_full[\"loan_status\"],p_hat)\n",
        "print(\"AUC={:.3f}\".format(auc(fpr, tpr)))"
      ],
      "metadata": {
        "colab": {
          "base_uri": "https://localhost:8080/"
        },
        "id": "iKQslfFA5Daw",
        "outputId": "3cb4a94d-1686-4d26-f2fb-b2ce7943158f"
      },
      "execution_count": 3,
      "outputs": [
        {
          "output_type": "stream",
          "name": "stdout",
          "text": [
            "Optimization terminated successfully.\n",
            "         Current function value: 0.377925\n",
            "         Iterations 7\n",
            "AUC=0.691\n"
          ]
        }
      ]
    },
    {
      "cell_type": "code",
      "source": [
        "## Curva ROC modelo FULL.\n",
        "fpr, tpr, thresholds = roc_curve(df_full[\"loan_status\"],p_hat)\n",
        "roc_auc = auc(fpr, tpr)\n",
        "plt.plot(fpr,tpr,label = \"lr_FULL  (AUC = {:.5f})\".format(roc_auc),)\n",
        "##\n",
        "plt.plot((0,1), (0,1), ls = \"--\", color = \"grey\", label = \"Randow guess\")\n",
        "plt.legend(loc=\"lower right\")\n",
        "plt.title(\"Receiver operating characteristic\")\n",
        "plt.show()"
      ],
      "metadata": {
        "colab": {
          "base_uri": "https://localhost:8080/",
          "height": 546
        },
        "id": "bhnJxPFa-WOq",
        "outputId": "edde01e8-ba9e-4153-d9e1-69cab03e97d8"
      },
      "execution_count": 4,
      "outputs": [
        {
          "output_type": "display_data",
          "data": {
            "text/plain": [
              "<Figure size 1500x600 with 1 Axes>"
            ],
            "image/png": "[encoded data removed]"
          },
          "metadata": {}
        }
      ]
    },
    {
      "cell_type": "markdown",
      "source": [
        "La regresión logística es uno de los algoritmos de clasificación más utilizados, pero por supuesto no es el único. Si la relación subyacente entre el logit de probabilidades y las covariables no es lineal, debemos considerar términos de orden superior de las covariables para que el modelo logístico sea válido. Hacerlo requiere mucho ajuste y experimentación. En tales casos, a menudo es mejor buscar un algoritmo de clasificación que no se base en una suposición específica sobre la relación entre la probabilidad del resultado y las covariables. Uno de esos modelos es el ***clasificador Naive Bayes***."
      ],
      "metadata": {
        "id": "LpYTnm-a-5Ea"
      }
    },
    {
      "cell_type": "markdown",
      "source": [
        "## ***El clasificador Naive Bayes.***\n",
        "\n",
        "El clasificador que veremos a continuación se basa en un resultado estadístico muy simple pero poderoso llamado: ***Teorema de Bayes.*** Vamos entonces a recordar algunos conceptos para desglosar el razonamiento. La idea general de este clasificador es la siguiente:\n",
        "\n",
        "***Dado un individuo con ciertas características, usaremos el teorema de Bayes y los datos observados para estimar la probabilidad de que pertenezca a una clase u otra. La mayor de estas dos probabilidades determinaría cómo clasificamos el individuo.***\n",
        "\n"
      ],
      "metadata": {
        "id": "ZjJZn9NDTOcx"
      }
    },
    {
      "cell_type": "markdown",
      "source": [
        "#### ***Ejemplo 1.***\n",
        "\n",
        "Vamos a usar nuestros datos para estimar:\n",
        "\n",
        "1. $\\text{P(moroso)}$\n",
        "2. $\\text{P(no moroso)}$."
      ],
      "metadata": {
        "id": "Ko5hUfeYFGjH"
      }
    },
    {
      "cell_type": "code",
      "source": [
        "probas = df[\"loan_status\"].value_counts(normalize = True)\n",
        "proba_no_moroso, proba_moroso  = probas[0], probas[1]\n",
        "print(\"P(moroso)={:.3f}\\nP(no moroso)={:.3f}\".format(proba_moroso,proba_no_moroso))"
      ],
      "metadata": {
        "colab": {
          "base_uri": "https://localhost:8080/"
        },
        "id": "szL6V5COFvXO",
        "outputId": "50c0cd06-c3ca-464e-9b97-dcbfce8856dc"
      },
      "execution_count": 5,
      "outputs": [
        {
          "output_type": "stream",
          "name": "stdout",
          "text": [
            "P(moroso)=0.141\n",
            "P(no moroso)=0.859\n"
          ]
        }
      ]
    },
    {
      "cell_type": "markdown",
      "source": [
        "Además, vamos a usar la definición de probabilidad condicional y los datos para estimar las probabilidades:\n",
        "\n",
        "$$\n",
        "\\text{P(ingresos verificados|moroso) y P(ingresos verificados|no-moroso)}\n",
        "$$\n"
      ],
      "metadata": {
        "id": "6uh1eM_2GsLv"
      }
    },
    {
      "cell_type": "code",
      "source": [
        "## Verified y moroso (Charged Off)\n",
        "temp = df[(df[\"loan_status\"]==\"Charged Off\") & (df[\"verification_status\"]==\"Verified\")][\"loan_status\"]\n",
        "temp_moro = df[(df[\"loan_status\"]==\"Charged Off\")]                                    ## Los morosos.\n",
        "#####################################################################################################\n",
        "## Verified y no-moroso (Fully Paid)\n",
        "temp1 = df[(df[\"loan_status\"]==\"Fully Paid\") & (df[\"verification_status\"]==\"Verified\")][\"loan_status\"]\n",
        "temp1_no_moro = df[(df[\"loan_status\"]==\"Fully Paid\")]                               ## Los NO-morosos.\n",
        "#####################################################################################################\n",
        "print(\"P(ingresos verificados|moroso)={:.3f}\".format(len(temp)/len(temp_moro)))\n",
        "print(\"P(ingresos verificados|no-moroso)={:.3f}\".format(len(temp1)/len(temp1_no_moro)))"
      ],
      "metadata": {
        "colab": {
          "base_uri": "https://localhost:8080/"
        },
        "id": "b9hGkNN9HMvb",
        "outputId": "11204332-a9a5-42ff-d733-a43837befc28"
      },
      "execution_count": 6,
      "outputs": [
        {
          "output_type": "stream",
          "name": "stdout",
          "text": [
            "P(ingresos verificados|moroso)=0.363\n",
            "P(ingresos verificados|no-moroso)=0.313\n"
          ]
        }
      ]
    },
    {
      "cell_type": "markdown",
      "source": [
        "Vamos a usar el ***Teorema de Bayes*** para comparar este par de cantidades:\n",
        "\n",
        "$$\\text{P(moroso|ingreso verificado)} \\text{ y } \\text{P(no-moroso|ingreso verificado)}$$\n"
      ],
      "metadata": {
        "id": "V7uvTWo9KJtg"
      }
    },
    {
      "cell_type": "markdown",
      "source": [
        "Como:\n",
        "\n",
        "1. $\\text{P(moroso|ingreso verificado)}=\\frac{\\text{P(ingreso verificado|moroso)P(moroso)}}{\\text{P(ingreso verificado)}}$\n",
        "\n",
        "2. $\\text{P(no-moroso|ingreso verificado)}=\\frac{\\text{P(ingreso verificado|no-moroso)P(no-moroso)}}{\\text{P(ingreso verificado)}}$\n",
        "\n",
        "y observando además que los 2 denominadores de las expresiones anteriores son iguales, tenemos:\n",
        "\n"
      ],
      "metadata": {
        "id": "mA0_uBzAKuft"
      }
    },
    {
      "cell_type": "code",
      "source": [
        "p1 = len(temp)/len(temp_moro)*proba_moroso\n",
        "p2 = len(temp1)/len(temp1_no_moro)*proba_no_moroso\n",
        "##\n",
        "print(\"P(moroso|ingreso verificado) es proporcional a {:.3f}\".format(p1))\n",
        "print(\"P(no-moroso|ingreso verificado) es proporcional a {:.3f}\".format(p2))"
      ],
      "metadata": {
        "colab": {
          "base_uri": "https://localhost:8080/"
        },
        "id": "_KmxNrWwVI2r",
        "outputId": "5733c9bb-e3cc-48f2-9433-8dfd16d1b9f8"
      },
      "execution_count": 7,
      "outputs": [
        {
          "output_type": "stream",
          "name": "stdout",
          "text": [
            "P(moroso|ingreso verificado) es proporcional a 0.051\n",
            "P(no-moroso|ingreso verificado) es proporcional a 0.269\n"
          ]
        }
      ]
    },
    {
      "cell_type": "markdown",
      "source": [
        "De lo anterior podemos pensar en lo siguiente:\n",
        "\n",
        "***Si solo tenemos información sobre el estado de verificación de ingresos de nuestros clientes, probablemente daríamos préstamos a aquellos clientes cuyos ingresos han sido verificados.***\n",
        "\n",
        "¿Qué sucede si el cliente es `Source Verified` o `Not Verified`?"
      ],
      "metadata": {
        "id": "pXdpULdiXBPF"
      }
    },
    {
      "cell_type": "markdown",
      "source": [
        "#### ***Ejercicio 1.***\n",
        "\n",
        "Encuentre las siguientes probabilidades:\n",
        "\n",
        "1. $\\text{P(moroso|Source Verified)}$\n",
        "2. $\\text{P(no-moroso|Source Verified)}$\n",
        "\n",
        "¿Que puede comentar frente a comparar las 2 probabilidades anteriores?\n",
        "\n",
        "Luego, encuentre:\n",
        "\n",
        "3. $\\text{P(moroso|Not Verified)}$\n",
        "4. $\\text{P(no-moroso|Not Verified)}$\n",
        "\n",
        "Comente la comparación de las 2 probabilidades anteriores.\n"
      ],
      "metadata": {
        "id": "N6POV5qYX0Ke"
      }
    },
    {
      "cell_type": "code",
      "source": [
        "## Celda de código para probar.\n",
        "temp1=df[(df[\"loan_status\"]==\"Charged Off\")&(df[\"verification_status\"]==\"Source Verified\")][\"loan_status\"]\n",
        "temp1_moro=df[(df[\"loan_status\"]==\"Charged Off\")]\n",
        "p1 = len(temp)/len(temp1_moro)*proba_moroso\n",
        "print(\"P(moroso|Source verified) es proporcional a {:.3f}\".format(p1))\n",
        "##\n",
        "temp2=df[(df[\"loan_status\"]==\"Fully Paid\")&(df[\"verification_status\"]==\"Source Verified\")][\"loan_status\"]\n",
        "temp2_no_moro = df[(df[\"loan_status\"]==\"Fully Paid\")]\n",
        "p2 = len(temp2)/len(temp2_no_moro)*proba_no_moroso\n",
        "print(\"P(no-moroso|Source verified) es proporcional a {:.3f}\".format(p2))"
      ],
      "metadata": {
        "colab": {
          "base_uri": "https://localhost:8080/"
        },
        "id": "CqfVfWuVZaw8",
        "outputId": "49a8719f-c756-49dd-cbdb-e957f3ac9647"
      },
      "execution_count": 8,
      "outputs": [
        {
          "output_type": "stream",
          "name": "stdout",
          "text": [
            "P(moroso|Source verified) es proporcional a 0.051\n",
            "P(no-moroso|Source verified) es proporcional a 0.217\n"
          ]
        }
      ]
    },
    {
      "cell_type": "code",
      "source": [
        "## Celda de código para probar.\n",
        "temp1=df[(df[\"loan_status\"]==\"Charged Off\")&(df[\"verification_status\"]==\"Not Verified\")][\"loan_status\"]\n",
        "temp1_moro=df[(df[\"loan_status\"]==\"Charged Off\")]\n",
        "p1 = len(temp1)/len(temp1_moro)*proba_moroso\n",
        "print(\"P(moroso|Not Verified) es proporcional a {:.3f}\".format(p1))\n",
        "##\n",
        "temp2=df[(df[\"loan_status\"]==\"Fully Paid\")&(df[\"verification_status\"]==\"Not Verified\")][\"loan_status\"]\n",
        "temp2_no_moro = df[(df[\"loan_status\"]==\"Fully Paid\")]\n",
        "p2 = len(temp2)/len(temp2_no_moro)*proba_no_moroso\n",
        "print(\"P(no-moroso|Not Verified) es proporcional a {:.3f}\".format(p2))"
      ],
      "metadata": {
        "colab": {
          "base_uri": "https://localhost:8080/"
        },
        "id": "9hR2pwdsajo4",
        "outputId": "371815f0-81cd-4c15-a734-fa2ccaa73f3c"
      },
      "execution_count": 9,
      "outputs": [
        {
          "output_type": "stream",
          "name": "stdout",
          "text": [
            "P(moroso|Not Verified) es proporcional a 0.053\n",
            "P(no-moroso|Not Verified) es proporcional a 0.373\n"
          ]
        }
      ]
    },
    {
      "cell_type": "markdown",
      "source": [
        "***Las probabilidades condicionales de ser NO moroso son siempre mayores que las de ser moroso.***"
      ],
      "metadata": {
        "id": "UEbIzmVlbn6f"
      }
    },
    {
      "cell_type": "markdown",
      "source": [
        "### ***Introducción al algoritmo.***\n",
        "\n",
        "\n",
        "Vamos a considerar que la variable $Y$ tiene $l$ etiquetas, y que $Y$ junto con $\\mathbf X=(X_1,X_2,...X_p)$ es un conjunto de característica tomadas para $n$ individuos. Por el ***Teorema de Bayes*** la probabilidad que un indiviudo pertenezca a determinada clase $i$ de $Y$ dados los predictores $\\mathbf X$ es:\n",
        "\n",
        "$$P(Y=i|\\mathbf X)=\\frac{P(\\mathbf X|Y=i)*P(Y=i)}{P(\\mathbf X)}$$\n",
        "\n",
        "Tenemos este hecho:\n",
        "\n",
        "$$P(\\mathbf X|Y=i)=P(X_1=x_1,X_2=x_2,...,X_p=x_p|Y=i)=$$\n",
        "\n",
        "$$P(X_1=x_1|Y=i)P(X_2=x_2|Y=i,X_1=x_1)...P(X_p=x_p|Y=i,X_1=x_1,...X_{p-1}=x_{p-1})$$\n",
        "\n"
      ],
      "metadata": {
        "id": "ne2inbp2p20m"
      }
    },
    {
      "cell_type": "markdown",
      "source": [
        "El supuesto que se hace y por el cual es denominado \"ingenuo\" (Naive) es de la [_**Independencia condicional**_](https://es.wikipedia.org/wiki/Independencia_condicional). Con este supuesto se sigue que:\n",
        "\n",
        "$$P(\\mathbf X|Y=i)=P(X_1=x_1|Y=i)P(X_2=x_2|Y=i)\\ ... \\ P(X_p=x_p|Y=i)$$\n",
        "\n",
        "Que usando la notación de productoría se ve como:\n",
        "\n",
        "$$P(X_1=x_1,X_2=x_2,...,X_p=x_p|Y=i)=\\prod_{j = 1}^p P(X_j=x_j|Y=i)$$"
      ],
      "metadata": {
        "id": "Z4NRmpTK7oM5"
      }
    },
    {
      "cell_type": "markdown",
      "source": [
        "En total, hemos visto que:\n",
        "\n",
        "$$P(Y=i|X_1=x_1, \\ldots, X_p=x_p)=\\frac{\\prod_{j=1}^p P(X_j=x_j|Y=i)P(Y=i)}{P(X_1=x_1, \\ldots, X_n=x_n)}$$\n",
        "\n",
        "y como $P(X_1=x_1, \\ldots, X_n=x_n)$ es constante, entonces el clasificador Naive Bayes tiene la regla de clasificación:\n",
        "\n",
        "$$\\hat{y}=\\arg\\max_{i\\in\\{1,...l\\}}\\left\\{ P(Y=i)\\prod_{j=1}^p P(X_j=x_j|Y=i)\\right\\}$$"
      ],
      "metadata": {
        "id": "zWFnaZGi17EB"
      }
    },
    {
      "cell_type": "markdown",
      "source": [
        "***Nota:***\n",
        "\n",
        "1. Cuando el número de covariables es grande, es difícil estimar probabilidades condicionales con solo proporciones. Pensemos en el caso que tenemos 10 covariables binarias, luego el número total de posibilidades que pueden tomar estas covariables es $2^{10}=1024$, luego necesitamos 1024 muestras al menos. Piense en 82 covariables cada una con 10 opciones... ¡Inmenso!\n",
        "\n",
        "2. Recuerde que el clasificador ***Naive Bayes*** supone que *todas las covariables son independientes cuando están condicionadas por el resultado*. Esto posiblemente nunca sea cierto en el mundo real (***Naive***), pero aún así, muestra resultados poderosos."
      ],
      "metadata": {
        "id": "SjZmtcGV0lw1"
      }
    },
    {
      "cell_type": "markdown",
      "source": [
        "### ***Modelo máximo a posteriori (MAP)***\n",
        "\n",
        "Para este clasificador, y pensando en nuestro problema tenemos que un cliente con valores de covariables dados se clasifica como no moroso si:\n",
        "\n",
        "$$\n",
        "\\text{P(no-moroso| covariables=valores)}>\\text{P(moroso|covariables=valores)}\n",
        "$$\n",
        "\n",
        "Lo que equivale a:\n",
        "\n",
        "$$\n",
        "\\begin{equation}\n",
        "\\text{P(covariables=valores| no-moroso)P(no-moroso)}>\\text{P(covariables=valores| moroso)P(moroso)}\n",
        "\\end{equation}\n",
        "$$\n",
        "\n",
        "Las expresiones inmersas determinan lo siguiente:\n",
        "\n",
        "1. $\\text{P(moroso)}$ y $\\text{P(no-moroso)}$. Este par de probabilidades se obtienen del Dataset.\n",
        "\n",
        "2. $\\text{P(covariables=valores)}$. Esta es la probabilidad de tener un cliente cuyas covariables sean iguales a $\\text{valores}$. Esto también se puede estimar mediante proporciones, pero en realidad no es necesario estimar esta cantidad en absoluto.\n",
        "\n",
        "3. $\\text{P(covariables=valores | no-moroso)}$ y $\\text{P(covariables=valores | moroso)}$. Podemos estimarlos observando la proporción de morosos y no morosos con covariables iguales a $\\text{valores}$. Pero si tenemos muchas covariables, el número de tales morosos podría ser extremadamente pequeño o incluso igual a cero. El principal desafío en la construcción de un clasificador ***Naive Bayes*** es estimar estas probabilidades particulares.\n",
        "\n"
      ],
      "metadata": {
        "id": "1GwzslpPyWxg"
      }
    },
    {
      "cell_type": "markdown",
      "source": [
        "#### ***Ejemplo 2.***\n",
        "\n",
        "\n",
        "Vamos a encontrar un estimación ***Naive*** de:\n",
        "\n",
        "1. $\\text{P(term, verification_status|moroso)}$\n",
        "2. $\\text{P(term,verification_status|no-moroso)}$\n",
        "\n",
        "Para todos los valores de las features categóricas `term` y `verification_status`."
      ],
      "metadata": {
        "id": "2YRDnltx1SQT"
      }
    },
    {
      "cell_type": "markdown",
      "source": [
        "***Solución:***\n",
        "\n",
        "Debemos tener en mente que nuestra solución ***Naive*** hará uso de:\n",
        "\n",
        "1. $\\text{P(term, verification_status|moroso)}=\\text{P(term|moroso)*P(verification_status|moroso)}$\n",
        "\n",
        "2. $\\text{P(term, verification_status|no-moroso)}=\\text{P(term|no-moroso)*P(verification_status|no-moroso)}$"
      ],
      "metadata": {
        "id": "j3MkEDmQ5sJK"
      }
    },
    {
      "cell_type": "code",
      "source": [
        "### Caso moroso\n",
        "df_moro  = df[df[\"loan_status\"]==\"Charged Off\"]\n",
        "term_moro =df_moro[\"term\"].value_counts()/df_moro.shape[0]\n",
        "verifi_moro = df_moro[\"verification_status\"].value_counts()/df_moro.shape[0]\n",
        "###\n",
        "print(\"Estimación DADO moroso\")\n",
        "moro = pd.DataFrame(verifi_moro.values.reshape(3,1).dot(term_moro.values.reshape(1,2)),\n",
        "                    columns=term_moro.index,index=verifi_moro.index)\n",
        "moro"
      ],
      "metadata": {
        "colab": {
          "base_uri": "https://localhost:8080/",
          "height": 161
        },
        "id": "VIc7jz4S3qmi",
        "outputId": "60d9016e-3ff9-47bc-a769-e30b77f5a23a"
      },
      "execution_count": 10,
      "outputs": [
        {
          "output_type": "stream",
          "name": "stdout",
          "text": [
            "Estimación DADO moroso\n"
          ]
        },
        {
          "output_type": "execute_result",
          "data": {
            "text/plain": [
              "                  36 months   60 months\n",
              "Not Verified       0.212872    0.163966\n",
              "Verified           0.205292    0.158127\n",
              "Source Verified    0.146726    0.113017"
            ],
            "text/html": [
              "\n",
              "  <div id=\"df-ebe0e16e-2566-4f19-936d-1f5088c8e18f\" class=\"colab-df-container\">\n",
              "    <div>\n",
              "<style scoped>\n",
              "    .dataframe tbody tr th:only-of-type {\n",
              "        vertical-align: middle;\n",
              "    }\n",
              "\n",
              "    .dataframe tbody tr th {\n",
              "        vertical-align: top;\n",
              "    }\n",
              "\n",
              "    .dataframe thead th {\n",
              "        text-align: right;\n",
              "    }\n",
              "</style>\n",
              "<table border=\"1\" class=\"dataframe\">\n",
              "  <thead>\n",
              "    <tr style=\"text-align: right;\">\n",
              "      <th></th>\n",
              "      <th>36 months</th>\n",
              "      <th>60 months</th>\n",
              "    </tr>\n",
              "  </thead>\n",
              "  <tbody>\n",
              "    <tr>\n",
              "      <th>Not Verified</th>\n",
              "      <td>0.212872</td>\n",
              "      <td>0.163966</td>\n",
              "    </tr>\n",
              "    <tr>\n",
              "      <th>Verified</th>\n",
              "      <td>0.205292</td>\n",
              "      <td>0.158127</td>\n",
              "    </tr>\n",
              "    <tr>\n",
              "      <th>Source Verified</th>\n",
              "      <td>0.146726</td>\n",
              "      <td>0.113017</td>\n",
              "    </tr>\n",
              "  </tbody>\n",
              "</table>\n",
              "</div>\n",
              "    <div class=\"colab-df-buttons\">\n",
              "\n",
              "  <div class=\"colab-df-container\">\n",
              "    <button class=\"colab-df-convert\" onclick=\"convertToInteractive('df-ebe0e16e-2566-4f19-936d-1f5088c8e18f')\"\n",
              "            title=\"Convert this dataframe to an interactive table.\"\n",
              "            style=\"display:none;\">\n",
              "\n",
              "  <svg xmlns=\"http://www.w3.org/2000/svg\" height=\"24px\" viewBox=\"0 -960 960 960\">\n",
              "    <path d=\"M120-120v-720h720v720H120Zm60-500h600v-160H180v160Zm220 220h160v-160H400v160Zm0 220h160v-160H400v160ZM180-400h160v-160H180v160Zm440 0h160v-160H620v160ZM180-180h160v-160H180v160Zm440 0h160v-160H620v160Z\"/>\n",
              "  </svg>\n",
              "    </button>\n",
              "\n",
              "  <style>\n",
              "    .colab-df-container {\n",
              "      display:flex;\n",
              "      gap: 12px;\n",
              "    }\n",
              "\n",
              "    .colab-df-convert {\n",
              "      background-color: #E8F0FE;\n",
              "      border: none;\n",
              "      border-radius: 50%;\n",
              "      cursor: pointer;\n",
              "      display: none;\n",
              "      fill: #1967D2;\n",
              "      height: 32px;\n",
              "      padding: 0 0 0 0;\n",
              "      width: 32px;\n",
              "    }\n",
              "\n",
              "    .colab-df-convert:hover {\n",
              "      background-color: #E2EBFA;\n",
              "      box-shadow: 0px 1px 2px rgba(60, 64, 67, 0.3), 0px 1px 3px 1px rgba(60, 64, 67, 0.15);\n",
              "      fill: #174EA6;\n",
              "    }\n",
              "\n",
              "    .colab-df-buttons div {\n",
              "      margin-bottom: 4px;\n",
              "    }\n",
              "\n",
              "    [theme=dark] .colab-df-convert {\n",
              "      background-color: #3B4455;\n",
              "      fill: #D2E3FC;\n",
              "    }\n",
              "\n",
              "    [theme=dark] .colab-df-convert:hover {\n",
              "      background-color: #434B5C;\n",
              "      box-shadow: 0px 1px 3px 1px rgba(0, 0, 0, 0.15);\n",
              "      filter: drop-shadow(0px 1px 2px rgba(0, 0, 0, 0.3));\n",
              "      fill: #FFFFFF;\n",
              "    }\n",
              "  </style>\n",
              "\n",
              "    <script>\n",
              "      const buttonEl =\n",
              "        document.querySelector('#df-ebe0e16e-2566-4f19-936d-1f5088c8e18f button.colab-df-convert');\n",
              "      buttonEl.style.display =\n",
              "        google.colab.kernel.accessAllowed ? 'block' : 'none';\n",
              "\n",
              "      async function convertToInteractive(key) {\n",
              "        const element = document.querySelector('#df-ebe0e16e-2566-4f19-936d-1f5088c8e18f');\n",
              "        const dataTable =\n",
              "          await google.colab.kernel.invokeFunction('convertToInteractive',\n",
              "                                                    [key], {});\n",
              "        if (!dataTable) return;\n",
              "\n",
              "        const docLinkHtml = 'Like what you see? Visit the ' +\n",
              "          '<a target=\"_blank\" href=https://colab.research.google.com/notebooks/data_table.ipynb>data table notebook</a>'\n",
              "          + ' to learn more about interactive tables.';\n",
              "        element.innerHTML = '';\n",
              "        dataTable['output_type'] = 'display_data';\n",
              "        await google.colab.output.renderOutput(dataTable, element);\n",
              "        const docLink = document.createElement('div');\n",
              "        docLink.innerHTML = docLinkHtml;\n",
              "        element.appendChild(docLink);\n",
              "      }\n",
              "    </script>\n",
              "  </div>\n",
              "\n",
              "\n",
              "<div id=\"df-a905a1be-87f2-4be0-95c3-b71e3f8fb75d\">\n",
              "  <button class=\"colab-df-quickchart\" onclick=\"quickchart('df-a905a1be-87f2-4be0-95c3-b71e3f8fb75d')\"\n",
              "            title=\"Suggest charts.\"\n",
              "            style=\"display:none;\">\n",
              "\n",
              "<svg xmlns=\"http://www.w3.org/2000/svg\" height=\"24px\"viewBox=\"0 0 24 24\"\n",
              "     width=\"24px\">\n",
              "    <g>\n",
              "        <path d=\"M19 3H5c-1.1 0-2 .9-2 2v14c0 1.1.9 2 2 2h14c1.1 0 2-.9 2-2V5c0-1.1-.9-2-2-2zM9 17H7v-7h2v7zm4 0h-2V7h2v10zm4 0h-2v-4h2v4z\"/>\n",
              "    </g>\n",
              "</svg>\n",
              "  </button>\n",
              "\n",
              "<style>\n",
              "  .colab-df-quickchart {\n",
              "      --bg-color: #E8F0FE;\n",
              "      --fill-color: #1967D2;\n",
              "      --hover-bg-color: #E2EBFA;\n",
              "      --hover-fill-color: #174EA6;\n",
              "      --disabled-fill-color: #AAA;\n",
              "      --disabled-bg-color: #DDD;\n",
              "  }\n",
              "\n",
              "  [theme=dark] .colab-df-quickchart {\n",
              "      --bg-color: #3B4455;\n",
              "      --fill-color: #D2E3FC;\n",
              "      --hover-bg-color: #434B5C;\n",
              "      --hover-fill-color: #FFFFFF;\n",
              "      --disabled-bg-color: #3B4455;\n",
              "      --disabled-fill-color: #666;\n",
              "  }\n",
              "\n",
              "  .colab-df-quickchart {\n",
              "    background-color: var(--bg-color);\n",
              "    border: none;\n",
              "    border-radius: 50%;\n",
              "    cursor: pointer;\n",
              "    display: none;\n",
              "    fill: var(--fill-color);\n",
              "    height: 32px;\n",
              "    padding: 0;\n",
              "    width: 32px;\n",
              "  }\n",
              "\n",
              "  .colab-df-quickchart:hover {\n",
              "    background-color: var(--hover-bg-color);\n",
              "    box-shadow: 0 1px 2px rgba(60, 64, 67, 0.3), 0 1px 3px 1px rgba(60, 64, 67, 0.15);\n",
              "    fill: var(--button-hover-fill-color);\n",
              "  }\n",
              "\n",
              "  .colab-df-quickchart-complete:disabled,\n",
              "  .colab-df-quickchart-complete:disabled:hover {\n",
              "    background-color: var(--disabled-bg-color);\n",
              "    fill: var(--disabled-fill-color);\n",
              "    box-shadow: none;\n",
              "  }\n",
              "\n",
              "  .colab-df-spinner {\n",
              "    border: 2px solid var(--fill-color);\n",
              "    border-color: transparent;\n",
              "    border-bottom-color: var(--fill-color);\n",
              "    animation:\n",
              "      spin 1s steps(1) infinite;\n",
              "  }\n",
              "\n",
              "  @keyframes spin {\n",
              "    0% {\n",
              "      border-color: transparent;\n",
              "      border-bottom-color: var(--fill-color);\n",
              "      border-left-color: var(--fill-color);\n",
              "    }\n",
              "    20% {\n",
              "      border-color: transparent;\n",
              "      border-left-color: var(--fill-color);\n",
              "      border-top-color: var(--fill-color);\n",
              "    }\n",
              "    30% {\n",
              "      border-color: transparent;\n",
              "      border-left-color: var(--fill-color);\n",
              "      border-top-color: var(--fill-color);\n",
              "      border-right-color: var(--fill-color);\n",
              "    }\n",
              "    40% {\n",
              "      border-color: transparent;\n",
              "      border-right-color: var(--fill-color);\n",
              "      border-top-color: var(--fill-color);\n",
              "    }\n",
              "    60% {\n",
              "      border-color: transparent;\n",
              "      border-right-color: var(--fill-color);\n",
              "    }\n",
              "    80% {\n",
              "      border-color: transparent;\n",
              "      border-right-color: var(--fill-color);\n",
              "      border-bottom-color: var(--fill-color);\n",
              "    }\n",
              "    90% {\n",
              "      border-color: transparent;\n",
              "      border-bottom-color: var(--fill-color);\n",
              "    }\n",
              "  }\n",
              "</style>\n",
              "\n",
              "  <script>\n",
              "    async function quickchart(key) {\n",
              "      const quickchartButtonEl =\n",
              "        document.querySelector('#' + key + ' button');\n",
              "      quickchartButtonEl.disabled = true;  // To prevent multiple clicks.\n",
              "      quickchartButtonEl.classList.add('colab-df-spinner');\n",
              "      try {\n",
              "        const charts = await google.colab.kernel.invokeFunction(\n",
              "            'suggestCharts', [key], {});\n",
              "      } catch (error) {\n",
              "        console.error('Error during call to suggestCharts:', error);\n",
              "      }\n",
              "      quickchartButtonEl.classList.remove('colab-df-spinner');\n",
              "      quickchartButtonEl.classList.add('colab-df-quickchart-complete');\n",
              "    }\n",
              "    (() => {\n",
              "      let quickchartButtonEl =\n",
              "        document.querySelector('#df-a905a1be-87f2-4be0-95c3-b71e3f8fb75d button');\n",
              "      quickchartButtonEl.style.display =\n",
              "        google.colab.kernel.accessAllowed ? 'block' : 'none';\n",
              "    })();\n",
              "  </script>\n",
              "</div>\n",
              "    </div>\n",
              "  </div>\n"
            ]
          },
          "metadata": {},
          "execution_count": 10
        }
      ]
    },
    {
      "cell_type": "code",
      "source": [
        "### Caso NO-moroso\n",
        "df_nmoro = df[df[\"loan_status\"]==\"Fully Paid\"]\n",
        "term_no_moro=df_nmoro[\"term\"].value_counts()/df_nmoro.shape[0]\n",
        "verifi_no_moro=df_nmoro[\"verification_status\"].value_counts()/df_nmoro.shape[0]\n",
        "###\n",
        "print(\"Estimación DADO no-moroso\")\n",
        "no_moro = pd.DataFrame(verifi_no_moro.values.reshape(3,1).dot(term_no_moro.values.reshape(1,2)),\n",
        "                       columns=term_no_moro.index,index=verifi_no_moro.index)\n",
        "no_moro"
      ],
      "metadata": {
        "colab": {
          "base_uri": "https://localhost:8080/",
          "height": 161
        },
        "id": "mXnKQip87ipa",
        "outputId": "7c675e14-d141-47e0-ea76-0711823c8e3c"
      },
      "execution_count": 11,
      "outputs": [
        {
          "output_type": "stream",
          "name": "stdout",
          "text": [
            "Estimación DADO no-moroso\n"
          ]
        },
        {
          "output_type": "execute_result",
          "data": {
            "text/plain": [
              "                  36 months   60 months\n",
              "Not Verified       0.329195    0.105166\n",
              "Verified           0.237173    0.075768\n",
              "Source Verified    0.191516    0.061182"
            ],
            "text/html": [
              "\n",
              "  <div id=\"df-3612115c-6b55-46f4-afc7-aee89f5a02c2\" class=\"colab-df-container\">\n",
              "    <div>\n",
              "<style scoped>\n",
              "    .dataframe tbody tr th:only-of-type {\n",
              "        vertical-align: middle;\n",
              "    }\n",
              "\n",
              "    .dataframe tbody tr th {\n",
              "        vertical-align: top;\n",
              "    }\n",
              "\n",
              "    .dataframe thead th {\n",
              "        text-align: right;\n",
              "    }\n",
              "</style>\n",
              "<table border=\"1\" class=\"dataframe\">\n",
              "  <thead>\n",
              "    <tr style=\"text-align: right;\">\n",
              "      <th></th>\n",
              "      <th>36 months</th>\n",
              "      <th>60 months</th>\n",
              "    </tr>\n",
              "  </thead>\n",
              "  <tbody>\n",
              "    <tr>\n",
              "      <th>Not Verified</th>\n",
              "      <td>0.329195</td>\n",
              "      <td>0.105166</td>\n",
              "    </tr>\n",
              "    <tr>\n",
              "      <th>Verified</th>\n",
              "      <td>0.237173</td>\n",
              "      <td>0.075768</td>\n",
              "    </tr>\n",
              "    <tr>\n",
              "      <th>Source Verified</th>\n",
              "      <td>0.191516</td>\n",
              "      <td>0.061182</td>\n",
              "    </tr>\n",
              "  </tbody>\n",
              "</table>\n",
              "</div>\n",
              "    <div class=\"colab-df-buttons\">\n",
              "\n",
              "  <div class=\"colab-df-container\">\n",
              "    <button class=\"colab-df-convert\" onclick=\"convertToInteractive('df-3612115c-6b55-46f4-afc7-aee89f5a02c2')\"\n",
              "            title=\"Convert this dataframe to an interactive table.\"\n",
              "            style=\"display:none;\">\n",
              "\n",
              "  <svg xmlns=\"http://www.w3.org/2000/svg\" height=\"24px\" viewBox=\"0 -960 960 960\">\n",
              "    <path d=\"M120-120v-720h720v720H120Zm60-500h600v-160H180v160Zm220 220h160v-160H400v160Zm0 220h160v-160H400v160ZM180-400h160v-160H180v160Zm440 0h160v-160H620v160ZM180-180h160v-160H180v160Zm440 0h160v-160H620v160Z\"/>\n",
              "  </svg>\n",
              "    </button>\n",
              "\n",
              "  <style>\n",
              "    .colab-df-container {\n",
              "      display:flex;\n",
              "      gap: 12px;\n",
              "    }\n",
              "\n",
              "    .colab-df-convert {\n",
              "      background-color: #E8F0FE;\n",
              "      border: none;\n",
              "      border-radius: 50%;\n",
              "      cursor: pointer;\n",
              "      display: none;\n",
              "      fill: #1967D2;\n",
              "      height: 32px;\n",
              "      padding: 0 0 0 0;\n",
              "      width: 32px;\n",
              "    }\n",
              "\n",
              "    .colab-df-convert:hover {\n",
              "      background-color: #E2EBFA;\n",
              "      box-shadow: 0px 1px 2px rgba(60, 64, 67, 0.3), 0px 1px 3px 1px rgba(60, 64, 67, 0.15);\n",
              "      fill: #174EA6;\n",
              "    }\n",
              "\n",
              "    .colab-df-buttons div {\n",
              "      margin-bottom: 4px;\n",
              "    }\n",
              "\n",
              "    [theme=dark] .colab-df-convert {\n",
              "      background-color: #3B4455;\n",
              "      fill: #D2E3FC;\n",
              "    }\n",
              "\n",
              "    [theme=dark] .colab-df-convert:hover {\n",
              "      background-color: #434B5C;\n",
              "      box-shadow: 0px 1px 3px 1px rgba(0, 0, 0, 0.15);\n",
              "      filter: drop-shadow(0px 1px 2px rgba(0, 0, 0, 0.3));\n",
              "      fill: #FFFFFF;\n",
              "    }\n",
              "  </style>\n",
              "\n",
              "    <script>\n",
              "      const buttonEl =\n",
              "        document.querySelector('#df-3612115c-6b55-46f4-afc7-aee89f5a02c2 button.colab-df-convert');\n",
              "      buttonEl.style.display =\n",
              "        google.colab.kernel.accessAllowed ? 'block' : 'none';\n",
              "\n",
              "      async function convertToInteractive(key) {\n",
              "        const element = document.querySelector('#df-3612115c-6b55-46f4-afc7-aee89f5a02c2');\n",
              "        const dataTable =\n",
              "          await google.colab.kernel.invokeFunction('convertToInteractive',\n",
              "                                                    [key], {});\n",
              "        if (!dataTable) return;\n",
              "\n",
              "        const docLinkHtml = 'Like what you see? Visit the ' +\n",
              "          '<a target=\"_blank\" href=https://colab.research.google.com/notebooks/data_table.ipynb>data table notebook</a>'\n",
              "          + ' to learn more about interactive tables.';\n",
              "        element.innerHTML = '';\n",
              "        dataTable['output_type'] = 'display_data';\n",
              "        await google.colab.output.renderOutput(dataTable, element);\n",
              "        const docLink = document.createElement('div');\n",
              "        docLink.innerHTML = docLinkHtml;\n",
              "        element.appendChild(docLink);\n",
              "      }\n",
              "    </script>\n",
              "  </div>\n",
              "\n",
              "\n",
              "<div id=\"df-8a970ff8-c549-4d7b-b7bd-e4c056cb08fb\">\n",
              "  <button class=\"colab-df-quickchart\" onclick=\"quickchart('df-8a970ff8-c549-4d7b-b7bd-e4c056cb08fb')\"\n",
              "            title=\"Suggest charts.\"\n",
              "            style=\"display:none;\">\n",
              "\n",
              "<svg xmlns=\"http://www.w3.org/2000/svg\" height=\"24px\"viewBox=\"0 0 24 24\"\n",
              "     width=\"24px\">\n",
              "    <g>\n",
              "        <path d=\"M19 3H5c-1.1 0-2 .9-2 2v14c0 1.1.9 2 2 2h14c1.1 0 2-.9 2-2V5c0-1.1-.9-2-2-2zM9 17H7v-7h2v7zm4 0h-2V7h2v10zm4 0h-2v-4h2v4z\"/>\n",
              "    </g>\n",
              "</svg>\n",
              "  </button>\n",
              "\n",
              "<style>\n",
              "  .colab-df-quickchart {\n",
              "      --bg-color: #E8F0FE;\n",
              "      --fill-color: #1967D2;\n",
              "      --hover-bg-color: #E2EBFA;\n",
              "      --hover-fill-color: #174EA6;\n",
              "      --disabled-fill-color: #AAA;\n",
              "      --disabled-bg-color: #DDD;\n",
              "  }\n",
              "\n",
              "  [theme=dark] .colab-df-quickchart {\n",
              "      --bg-color: #3B4455;\n",
              "      --fill-color: #D2E3FC;\n",
              "      --hover-bg-color: #434B5C;\n",
              "      --hover-fill-color: #FFFFFF;\n",
              "      --disabled-bg-color: #3B4455;\n",
              "      --disabled-fill-color: #666;\n",
              "  }\n",
              "\n",
              "  .colab-df-quickchart {\n",
              "    background-color: var(--bg-color);\n",
              "    border: none;\n",
              "    border-radius: 50%;\n",
              "    cursor: pointer;\n",
              "    display: none;\n",
              "    fill: var(--fill-color);\n",
              "    height: 32px;\n",
              "    padding: 0;\n",
              "    width: 32px;\n",
              "  }\n",
              "\n",
              "  .colab-df-quickchart:hover {\n",
              "    background-color: var(--hover-bg-color);\n",
              "    box-shadow: 0 1px 2px rgba(60, 64, 67, 0.3), 0 1px 3px 1px rgba(60, 64, 67, 0.15);\n",
              "    fill: var(--button-hover-fill-color);\n",
              "  }\n",
              "\n",
              "  .colab-df-quickchart-complete:disabled,\n",
              "  .colab-df-quickchart-complete:disabled:hover {\n",
              "    background-color: var(--disabled-bg-color);\n",
              "    fill: var(--disabled-fill-color);\n",
              "    box-shadow: none;\n",
              "  }\n",
              "\n",
              "  .colab-df-spinner {\n",
              "    border: 2px solid var(--fill-color);\n",
              "    border-color: transparent;\n",
              "    border-bottom-color: var(--fill-color);\n",
              "    animation:\n",
              "      spin 1s steps(1) infinite;\n",
              "  }\n",
              "\n",
              "  @keyframes spin {\n",
              "    0% {\n",
              "      border-color: transparent;\n",
              "      border-bottom-color: var(--fill-color);\n",
              "      border-left-color: var(--fill-color);\n",
              "    }\n",
              "    20% {\n",
              "      border-color: transparent;\n",
              "      border-left-color: var(--fill-color);\n",
              "      border-top-color: var(--fill-color);\n",
              "    }\n",
              "    30% {\n",
              "      border-color: transparent;\n",
              "      border-left-color: var(--fill-color);\n",
              "      border-top-color: var(--fill-color);\n",
              "      border-right-color: var(--fill-color);\n",
              "    }\n",
              "    40% {\n",
              "      border-color: transparent;\n",
              "      border-right-color: var(--fill-color);\n",
              "      border-top-color: var(--fill-color);\n",
              "    }\n",
              "    60% {\n",
              "      border-color: transparent;\n",
              "      border-right-color: var(--fill-color);\n",
              "    }\n",
              "    80% {\n",
              "      border-color: transparent;\n",
              "      border-right-color: var(--fill-color);\n",
              "      border-bottom-color: var(--fill-color);\n",
              "    }\n",
              "    90% {\n",
              "      border-color: transparent;\n",
              "      border-bottom-color: var(--fill-color);\n",
              "    }\n",
              "  }\n",
              "</style>\n",
              "\n",
              "  <script>\n",
              "    async function quickchart(key) {\n",
              "      const quickchartButtonEl =\n",
              "        document.querySelector('#' + key + ' button');\n",
              "      quickchartButtonEl.disabled = true;  // To prevent multiple clicks.\n",
              "      quickchartButtonEl.classList.add('colab-df-spinner');\n",
              "      try {\n",
              "        const charts = await google.colab.kernel.invokeFunction(\n",
              "            'suggestCharts', [key], {});\n",
              "      } catch (error) {\n",
              "        console.error('Error during call to suggestCharts:', error);\n",
              "      }\n",
              "      quickchartButtonEl.classList.remove('colab-df-spinner');\n",
              "      quickchartButtonEl.classList.add('colab-df-quickchart-complete');\n",
              "    }\n",
              "    (() => {\n",
              "      let quickchartButtonEl =\n",
              "        document.querySelector('#df-8a970ff8-c549-4d7b-b7bd-e4c056cb08fb button');\n",
              "      quickchartButtonEl.style.display =\n",
              "        google.colab.kernel.accessAllowed ? 'block' : 'none';\n",
              "    })();\n",
              "  </script>\n",
              "</div>\n",
              "    </div>\n",
              "  </div>\n"
            ]
          },
          "metadata": {},
          "execution_count": 11
        }
      ]
    },
    {
      "cell_type": "markdown",
      "source": [
        "#### ***Ejemplo 3.***\n",
        "\n",
        "Piense que ha llegado un cliente que tiene los ingresos verificados y con un término de 60 meses, utilizar el clasificador Naive Bayes para tomar una decisión frente al préstamo."
      ],
      "metadata": {
        "id": "QsTjSIq57_4U"
      }
    },
    {
      "cell_type": "code",
      "source": [
        "## Moroso\n",
        "moro*proba_moroso"
      ],
      "metadata": {
        "colab": {
          "base_uri": "https://localhost:8080/",
          "height": 143
        },
        "id": "HxitrbZ_8792",
        "outputId": "8b7bd5d2-f871-4a1e-93cb-848818488f1c"
      },
      "execution_count": 12,
      "outputs": [
        {
          "output_type": "execute_result",
          "data": {
            "text/plain": [
              "                  36 months   60 months\n",
              "Not Verified       0.029919    0.023046\n",
              "Verified           0.028854    0.022225\n",
              "Source Verified    0.020622    0.015885"
            ],
            "text/html": [
              "\n",
              "  <div id=\"df-be205d54-ec67-4265-9b21-20b876c6d28c\" class=\"colab-df-container\">\n",
              "    <div>\n",
              "<style scoped>\n",
              "    .dataframe tbody tr th:only-of-type {\n",
              "        vertical-align: middle;\n",
              "    }\n",
              "\n",
              "    .dataframe tbody tr th {\n",
              "        vertical-align: top;\n",
              "    }\n",
              "\n",
              "    .dataframe thead th {\n",
              "        text-align: right;\n",
              "    }\n",
              "</style>\n",
              "<table border=\"1\" class=\"dataframe\">\n",
              "  <thead>\n",
              "    <tr style=\"text-align: right;\">\n",
              "      <th></th>\n",
              "      <th>36 months</th>\n",
              "      <th>60 months</th>\n",
              "    </tr>\n",
              "  </thead>\n",
              "  <tbody>\n",
              "    <tr>\n",
              "      <th>Not Verified</th>\n",
              "      <td>0.029919</td>\n",
              "      <td>0.023046</td>\n",
              "    </tr>\n",
              "    <tr>\n",
              "      <th>Verified</th>\n",
              "      <td>0.028854</td>\n",
              "      <td>0.022225</td>\n",
              "    </tr>\n",
              "    <tr>\n",
              "      <th>Source Verified</th>\n",
              "      <td>0.020622</td>\n",
              "      <td>0.015885</td>\n",
              "    </tr>\n",
              "  </tbody>\n",
              "</table>\n",
              "</div>\n",
              "    <div class=\"colab-df-buttons\">\n",
              "\n",
              "  <div class=\"colab-df-container\">\n",
              "    <button class=\"colab-df-convert\" onclick=\"convertToInteractive('df-be205d54-ec67-4265-9b21-20b876c6d28c')\"\n",
              "            title=\"Convert this dataframe to an interactive table.\"\n",
              "            style=\"display:none;\">\n",
              "\n",
              "  <svg xmlns=\"http://www.w3.org/2000/svg\" height=\"24px\" viewBox=\"0 -960 960 960\">\n",
              "    <path d=\"M120-120v-720h720v720H120Zm60-500h600v-160H180v160Zm220 220h160v-160H400v160Zm0 220h160v-160H400v160ZM180-400h160v-160H180v160Zm440 0h160v-160H620v160ZM180-180h160v-160H180v160Zm440 0h160v-160H620v160Z\"/>\n",
              "  </svg>\n",
              "    </button>\n",
              "\n",
              "  <style>\n",
              "    .colab-df-container {\n",
              "      display:flex;\n",
              "      gap: 12px;\n",
              "    }\n",
              "\n",
              "    .colab-df-convert {\n",
              "      background-color: #E8F0FE;\n",
              "      border: none;\n",
              "      border-radius: 50%;\n",
              "      cursor: pointer;\n",
              "      display: none;\n",
              "      fill: #1967D2;\n",
              "      height: 32px;\n",
              "      padding: 0 0 0 0;\n",
              "      width: 32px;\n",
              "    }\n",
              "\n",
              "    .colab-df-convert:hover {\n",
              "      background-color: #E2EBFA;\n",
              "      box-shadow: 0px 1px 2px rgba(60, 64, 67, 0.3), 0px 1px 3px 1px rgba(60, 64, 67, 0.15);\n",
              "      fill: #174EA6;\n",
              "    }\n",
              "\n",
              "    .colab-df-buttons div {\n",
              "      margin-bottom: 4px;\n",
              "    }\n",
              "\n",
              "    [theme=dark] .colab-df-convert {\n",
              "      background-color: #3B4455;\n",
              "      fill: #D2E3FC;\n",
              "    }\n",
              "\n",
              "    [theme=dark] .colab-df-convert:hover {\n",
              "      background-color: #434B5C;\n",
              "      box-shadow: 0px 1px 3px 1px rgba(0, 0, 0, 0.15);\n",
              "      filter: drop-shadow(0px 1px 2px rgba(0, 0, 0, 0.3));\n",
              "      fill: #FFFFFF;\n",
              "    }\n",
              "  </style>\n",
              "\n",
              "    <script>\n",
              "      const buttonEl =\n",
              "        document.querySelector('#df-be205d54-ec67-4265-9b21-20b876c6d28c button.colab-df-convert');\n",
              "      buttonEl.style.display =\n",
              "        google.colab.kernel.accessAllowed ? 'block' : 'none';\n",
              "\n",
              "      async function convertToInteractive(key) {\n",
              "        const element = document.querySelector('#df-be205d54-ec67-4265-9b21-20b876c6d28c');\n",
              "        const dataTable =\n",
              "          await google.colab.kernel.invokeFunction('convertToInteractive',\n",
              "                                                    [key], {});\n",
              "        if (!dataTable) return;\n",
              "\n",
              "        const docLinkHtml = 'Like what you see? Visit the ' +\n",
              "          '<a target=\"_blank\" href=https://colab.research.google.com/notebooks/data_table.ipynb>data table notebook</a>'\n",
              "          + ' to learn more about interactive tables.';\n",
              "        element.innerHTML = '';\n",
              "        dataTable['output_type'] = 'display_data';\n",
              "        await google.colab.output.renderOutput(dataTable, element);\n",
              "        const docLink = document.createElement('div');\n",
              "        docLink.innerHTML = docLinkHtml;\n",
              "        element.appendChild(docLink);\n",
              "      }\n",
              "    </script>\n",
              "  </div>\n",
              "\n",
              "\n",
              "<div id=\"df-b114fa3d-0655-40b9-9c87-a86228dd9723\">\n",
              "  <button class=\"colab-df-quickchart\" onclick=\"quickchart('df-b114fa3d-0655-40b9-9c87-a86228dd9723')\"\n",
              "            title=\"Suggest charts.\"\n",
              "            style=\"display:none;\">\n",
              "\n",
              "<svg xmlns=\"http://www.w3.org/2000/svg\" height=\"24px\"viewBox=\"0 0 24 24\"\n",
              "     width=\"24px\">\n",
              "    <g>\n",
              "        <path d=\"M19 3H5c-1.1 0-2 .9-2 2v14c0 1.1.9 2 2 2h14c1.1 0 2-.9 2-2V5c0-1.1-.9-2-2-2zM9 17H7v-7h2v7zm4 0h-2V7h2v10zm4 0h-2v-4h2v4z\"/>\n",
              "    </g>\n",
              "</svg>\n",
              "  </button>\n",
              "\n",
              "<style>\n",
              "  .colab-df-quickchart {\n",
              "      --bg-color: #E8F0FE;\n",
              "      --fill-color: #1967D2;\n",
              "      --hover-bg-color: #E2EBFA;\n",
              "      --hover-fill-color: #174EA6;\n",
              "      --disabled-fill-color: #AAA;\n",
              "      --disabled-bg-color: #DDD;\n",
              "  }\n",
              "\n",
              "  [theme=dark] .colab-df-quickchart {\n",
              "      --bg-color: #3B4455;\n",
              "      --fill-color: #D2E3FC;\n",
              "      --hover-bg-color: #434B5C;\n",
              "      --hover-fill-color: #FFFFFF;\n",
              "      --disabled-bg-color: #3B4455;\n",
              "      --disabled-fill-color: #666;\n",
              "  }\n",
              "\n",
              "  .colab-df-quickchart {\n",
              "    background-color: var(--bg-color);\n",
              "    border: none;\n",
              "    border-radius: 50%;\n",
              "    cursor: pointer;\n",
              "    display: none;\n",
              "    fill: var(--fill-color);\n",
              "    height: 32px;\n",
              "    padding: 0;\n",
              "    width: 32px;\n",
              "  }\n",
              "\n",
              "  .colab-df-quickchart:hover {\n",
              "    background-color: var(--hover-bg-color);\n",
              "    box-shadow: 0 1px 2px rgba(60, 64, 67, 0.3), 0 1px 3px 1px rgba(60, 64, 67, 0.15);\n",
              "    fill: var(--button-hover-fill-color);\n",
              "  }\n",
              "\n",
              "  .colab-df-quickchart-complete:disabled,\n",
              "  .colab-df-quickchart-complete:disabled:hover {\n",
              "    background-color: var(--disabled-bg-color);\n",
              "    fill: var(--disabled-fill-color);\n",
              "    box-shadow: none;\n",
              "  }\n",
              "\n",
              "  .colab-df-spinner {\n",
              "    border: 2px solid var(--fill-color);\n",
              "    border-color: transparent;\n",
              "    border-bottom-color: var(--fill-color);\n",
              "    animation:\n",
              "      spin 1s steps(1) infinite;\n",
              "  }\n",
              "\n",
              "  @keyframes spin {\n",
              "    0% {\n",
              "      border-color: transparent;\n",
              "      border-bottom-color: var(--fill-color);\n",
              "      border-left-color: var(--fill-color);\n",
              "    }\n",
              "    20% {\n",
              "      border-color: transparent;\n",
              "      border-left-color: var(--fill-color);\n",
              "      border-top-color: var(--fill-color);\n",
              "    }\n",
              "    30% {\n",
              "      border-color: transparent;\n",
              "      border-left-color: var(--fill-color);\n",
              "      border-top-color: var(--fill-color);\n",
              "      border-right-color: var(--fill-color);\n",
              "    }\n",
              "    40% {\n",
              "      border-color: transparent;\n",
              "      border-right-color: var(--fill-color);\n",
              "      border-top-color: var(--fill-color);\n",
              "    }\n",
              "    60% {\n",
              "      border-color: transparent;\n",
              "      border-right-color: var(--fill-color);\n",
              "    }\n",
              "    80% {\n",
              "      border-color: transparent;\n",
              "      border-right-color: var(--fill-color);\n",
              "      border-bottom-color: var(--fill-color);\n",
              "    }\n",
              "    90% {\n",
              "      border-color: transparent;\n",
              "      border-bottom-color: var(--fill-color);\n",
              "    }\n",
              "  }\n",
              "</style>\n",
              "\n",
              "  <script>\n",
              "    async function quickchart(key) {\n",
              "      const quickchartButtonEl =\n",
              "        document.querySelector('#' + key + ' button');\n",
              "      quickchartButtonEl.disabled = true;  // To prevent multiple clicks.\n",
              "      quickchartButtonEl.classList.add('colab-df-spinner');\n",
              "      try {\n",
              "        const charts = await google.colab.kernel.invokeFunction(\n",
              "            'suggestCharts', [key], {});\n",
              "      } catch (error) {\n",
              "        console.error('Error during call to suggestCharts:', error);\n",
              "      }\n",
              "      quickchartButtonEl.classList.remove('colab-df-spinner');\n",
              "      quickchartButtonEl.classList.add('colab-df-quickchart-complete');\n",
              "    }\n",
              "    (() => {\n",
              "      let quickchartButtonEl =\n",
              "        document.querySelector('#df-b114fa3d-0655-40b9-9c87-a86228dd9723 button');\n",
              "      quickchartButtonEl.style.display =\n",
              "        google.colab.kernel.accessAllowed ? 'block' : 'none';\n",
              "    })();\n",
              "  </script>\n",
              "</div>\n",
              "    </div>\n",
              "  </div>\n"
            ]
          },
          "metadata": {},
          "execution_count": 12
        }
      ]
    },
    {
      "cell_type": "code",
      "source": [
        "## No-Moroso\n",
        "no_moro*proba_no_moroso"
      ],
      "metadata": {
        "colab": {
          "base_uri": "https://localhost:8080/",
          "height": 143
        },
        "id": "dPncVI0c9gRr",
        "outputId": "8b7b5d70-3a33-4027-bf35-2baae8f2c3c2"
      },
      "execution_count": 13,
      "outputs": [
        {
          "output_type": "execute_result",
          "data": {
            "text/plain": [
              "                  36 months   60 months\n",
              "Not Verified       0.282926    0.090385\n",
              "Verified           0.203838    0.065119\n",
              "Source Verified    0.164598    0.052583"
            ],
            "text/html": [
              "\n",
              "  <div id=\"df-a2b981a0-45e5-4bce-8a7f-b0c81fd190a7\" class=\"colab-df-container\">\n",
              "    <div>\n",
              "<style scoped>\n",
              "    .dataframe tbody tr th:only-of-type {\n",
              "        vertical-align: middle;\n",
              "    }\n",
              "\n",
              "    .dataframe tbody tr th {\n",
              "        vertical-align: top;\n",
              "    }\n",
              "\n",
              "    .dataframe thead th {\n",
              "        text-align: right;\n",
              "    }\n",
              "</style>\n",
              "<table border=\"1\" class=\"dataframe\">\n",
              "  <thead>\n",
              "    <tr style=\"text-align: right;\">\n",
              "      <th></th>\n",
              "      <th>36 months</th>\n",
              "      <th>60 months</th>\n",
              "    </tr>\n",
              "  </thead>\n",
              "  <tbody>\n",
              "    <tr>\n",
              "      <th>Not Verified</th>\n",
              "      <td>0.282926</td>\n",
              "      <td>0.090385</td>\n",
              "    </tr>\n",
              "    <tr>\n",
              "      <th>Verified</th>\n",
              "      <td>0.203838</td>\n",
              "      <td>0.065119</td>\n",
              "    </tr>\n",
              "    <tr>\n",
              "      <th>Source Verified</th>\n",
              "      <td>0.164598</td>\n",
              "      <td>0.052583</td>\n",
              "    </tr>\n",
              "  </tbody>\n",
              "</table>\n",
              "</div>\n",
              "    <div class=\"colab-df-buttons\">\n",
              "\n",
              "  <div class=\"colab-df-container\">\n",
              "    <button class=\"colab-df-convert\" onclick=\"convertToInteractive('df-a2b981a0-45e5-4bce-8a7f-b0c81fd190a7')\"\n",
              "            title=\"Convert this dataframe to an interactive table.\"\n",
              "            style=\"display:none;\">\n",
              "\n",
              "  <svg xmlns=\"http://www.w3.org/2000/svg\" height=\"24px\" viewBox=\"0 -960 960 960\">\n",
              "    <path d=\"M120-120v-720h720v720H120Zm60-500h600v-160H180v160Zm220 220h160v-160H400v160Zm0 220h160v-160H400v160ZM180-400h160v-160H180v160Zm440 0h160v-160H620v160ZM180-180h160v-160H180v160Zm440 0h160v-160H620v160Z\"/>\n",
              "  </svg>\n",
              "    </button>\n",
              "\n",
              "  <style>\n",
              "    .colab-df-container {\n",
              "      display:flex;\n",
              "      gap: 12px;\n",
              "    }\n",
              "\n",
              "    .colab-df-convert {\n",
              "      background-color: #E8F0FE;\n",
              "      border: none;\n",
              "      border-radius: 50%;\n",
              "      cursor: pointer;\n",
              "      display: none;\n",
              "      fill: #1967D2;\n",
              "      height: 32px;\n",
              "      padding: 0 0 0 0;\n",
              "      width: 32px;\n",
              "    }\n",
              "\n",
              "    .colab-df-convert:hover {\n",
              "      background-color: #E2EBFA;\n",
              "      box-shadow: 0px 1px 2px rgba(60, 64, 67, 0.3), 0px 1px 3px 1px rgba(60, 64, 67, 0.15);\n",
              "      fill: #174EA6;\n",
              "    }\n",
              "\n",
              "    .colab-df-buttons div {\n",
              "      margin-bottom: 4px;\n",
              "    }\n",
              "\n",
              "    [theme=dark] .colab-df-convert {\n",
              "      background-color: #3B4455;\n",
              "      fill: #D2E3FC;\n",
              "    }\n",
              "\n",
              "    [theme=dark] .colab-df-convert:hover {\n",
              "      background-color: #434B5C;\n",
              "      box-shadow: 0px 1px 3px 1px rgba(0, 0, 0, 0.15);\n",
              "      filter: drop-shadow(0px 1px 2px rgba(0, 0, 0, 0.3));\n",
              "      fill: #FFFFFF;\n",
              "    }\n",
              "  </style>\n",
              "\n",
              "    <script>\n",
              "      const buttonEl =\n",
              "        document.querySelector('#df-a2b981a0-45e5-4bce-8a7f-b0c81fd190a7 button.colab-df-convert');\n",
              "      buttonEl.style.display =\n",
              "        google.colab.kernel.accessAllowed ? 'block' : 'none';\n",
              "\n",
              "      async function convertToInteractive(key) {\n",
              "        const element = document.querySelector('#df-a2b981a0-45e5-4bce-8a7f-b0c81fd190a7');\n",
              "        const dataTable =\n",
              "          await google.colab.kernel.invokeFunction('convertToInteractive',\n",
              "                                                    [key], {});\n",
              "        if (!dataTable) return;\n",
              "\n",
              "        const docLinkHtml = 'Like what you see? Visit the ' +\n",
              "          '<a target=\"_blank\" href=https://colab.research.google.com/notebooks/data_table.ipynb>data table notebook</a>'\n",
              "          + ' to learn more about interactive tables.';\n",
              "        element.innerHTML = '';\n",
              "        dataTable['output_type'] = 'display_data';\n",
              "        await google.colab.output.renderOutput(dataTable, element);\n",
              "        const docLink = document.createElement('div');\n",
              "        docLink.innerHTML = docLinkHtml;\n",
              "        element.appendChild(docLink);\n",
              "      }\n",
              "    </script>\n",
              "  </div>\n",
              "\n",
              "\n",
              "<div id=\"df-1c1c9b48-15b8-41f4-ab16-7a3b252523b3\">\n",
              "  <button class=\"colab-df-quickchart\" onclick=\"quickchart('df-1c1c9b48-15b8-41f4-ab16-7a3b252523b3')\"\n",
              "            title=\"Suggest charts.\"\n",
              "            style=\"display:none;\">\n",
              "\n",
              "<svg xmlns=\"http://www.w3.org/2000/svg\" height=\"24px\"viewBox=\"0 0 24 24\"\n",
              "     width=\"24px\">\n",
              "    <g>\n",
              "        <path d=\"M19 3H5c-1.1 0-2 .9-2 2v14c0 1.1.9 2 2 2h14c1.1 0 2-.9 2-2V5c0-1.1-.9-2-2-2zM9 17H7v-7h2v7zm4 0h-2V7h2v10zm4 0h-2v-4h2v4z\"/>\n",
              "    </g>\n",
              "</svg>\n",
              "  </button>\n",
              "\n",
              "<style>\n",
              "  .colab-df-quickchart {\n",
              "      --bg-color: #E8F0FE;\n",
              "      --fill-color: #1967D2;\n",
              "      --hover-bg-color: #E2EBFA;\n",
              "      --hover-fill-color: #174EA6;\n",
              "      --disabled-fill-color: #AAA;\n",
              "      --disabled-bg-color: #DDD;\n",
              "  }\n",
              "\n",
              "  [theme=dark] .colab-df-quickchart {\n",
              "      --bg-color: #3B4455;\n",
              "      --fill-color: #D2E3FC;\n",
              "      --hover-bg-color: #434B5C;\n",
              "      --hover-fill-color: #FFFFFF;\n",
              "      --disabled-bg-color: #3B4455;\n",
              "      --disabled-fill-color: #666;\n",
              "  }\n",
              "\n",
              "  .colab-df-quickchart {\n",
              "    background-color: var(--bg-color);\n",
              "    border: none;\n",
              "    border-radius: 50%;\n",
              "    cursor: pointer;\n",
              "    display: none;\n",
              "    fill: var(--fill-color);\n",
              "    height: 32px;\n",
              "    padding: 0;\n",
              "    width: 32px;\n",
              "  }\n",
              "\n",
              "  .colab-df-quickchart:hover {\n",
              "    background-color: var(--hover-bg-color);\n",
              "    box-shadow: 0 1px 2px rgba(60, 64, 67, 0.3), 0 1px 3px 1px rgba(60, 64, 67, 0.15);\n",
              "    fill: var(--button-hover-fill-color);\n",
              "  }\n",
              "\n",
              "  .colab-df-quickchart-complete:disabled,\n",
              "  .colab-df-quickchart-complete:disabled:hover {\n",
              "    background-color: var(--disabled-bg-color);\n",
              "    fill: var(--disabled-fill-color);\n",
              "    box-shadow: none;\n",
              "  }\n",
              "\n",
              "  .colab-df-spinner {\n",
              "    border: 2px solid var(--fill-color);\n",
              "    border-color: transparent;\n",
              "    border-bottom-color: var(--fill-color);\n",
              "    animation:\n",
              "      spin 1s steps(1) infinite;\n",
              "  }\n",
              "\n",
              "  @keyframes spin {\n",
              "    0% {\n",
              "      border-color: transparent;\n",
              "      border-bottom-color: var(--fill-color);\n",
              "      border-left-color: var(--fill-color);\n",
              "    }\n",
              "    20% {\n",
              "      border-color: transparent;\n",
              "      border-left-color: var(--fill-color);\n",
              "      border-top-color: var(--fill-color);\n",
              "    }\n",
              "    30% {\n",
              "      border-color: transparent;\n",
              "      border-left-color: var(--fill-color);\n",
              "      border-top-color: var(--fill-color);\n",
              "      border-right-color: var(--fill-color);\n",
              "    }\n",
              "    40% {\n",
              "      border-color: transparent;\n",
              "      border-right-color: var(--fill-color);\n",
              "      border-top-color: var(--fill-color);\n",
              "    }\n",
              "    60% {\n",
              "      border-color: transparent;\n",
              "      border-right-color: var(--fill-color);\n",
              "    }\n",
              "    80% {\n",
              "      border-color: transparent;\n",
              "      border-right-color: var(--fill-color);\n",
              "      border-bottom-color: var(--fill-color);\n",
              "    }\n",
              "    90% {\n",
              "      border-color: transparent;\n",
              "      border-bottom-color: var(--fill-color);\n",
              "    }\n",
              "  }\n",
              "</style>\n",
              "\n",
              "  <script>\n",
              "    async function quickchart(key) {\n",
              "      const quickchartButtonEl =\n",
              "        document.querySelector('#' + key + ' button');\n",
              "      quickchartButtonEl.disabled = true;  // To prevent multiple clicks.\n",
              "      quickchartButtonEl.classList.add('colab-df-spinner');\n",
              "      try {\n",
              "        const charts = await google.colab.kernel.invokeFunction(\n",
              "            'suggestCharts', [key], {});\n",
              "      } catch (error) {\n",
              "        console.error('Error during call to suggestCharts:', error);\n",
              "      }\n",
              "      quickchartButtonEl.classList.remove('colab-df-spinner');\n",
              "      quickchartButtonEl.classList.add('colab-df-quickchart-complete');\n",
              "    }\n",
              "    (() => {\n",
              "      let quickchartButtonEl =\n",
              "        document.querySelector('#df-1c1c9b48-15b8-41f4-ab16-7a3b252523b3 button');\n",
              "      quickchartButtonEl.style.display =\n",
              "        google.colab.kernel.accessAllowed ? 'block' : 'none';\n",
              "    })();\n",
              "  </script>\n",
              "</div>\n",
              "    </div>\n",
              "  </div>\n"
            ]
          },
          "metadata": {},
          "execution_count": 13
        }
      ]
    },
    {
      "cell_type": "markdown",
      "source": [
        "Debemos clasificarlo como ***NO-MOROSO***, aunque deberia observar que es este modelo, TODOS se deben clasificar como NO-MOROSO. ¿Porqué?"
      ],
      "metadata": {
        "id": "RJTeSGSi93cF"
      }
    },
    {
      "cell_type": "markdown",
      "source": [
        "### ***Situación covariables continuas.***"
      ],
      "metadata": {
        "id": "enNCxJI3BOMi"
      }
    },
    {
      "cell_type": "markdown",
      "source": [
        "En la situación anterior tomamos el cálculo de las probabilidades para el caso en que las covariables sean discretas. La pregunta natural es: ¿qué pasa con las variables no categóricas?. En estos casos, necesitamos ajustar una *distribución* a los datos. Dado que en el mundo muchas cosas se rigen por una distribución normal, será esta quien vamos a utilizar.\n",
        "\n",
        "Para ajustar una distribución normal, necesitamos solo su media y varianza. La distribución normal con media igual a la ***media muestral y varianza igual a la varianza muestral de la covariable*** resulta ser una muy buena aproximación. Una vez que obtengamos esta distribución normal, las probabilidades se pueden calcular directamente para cualquier valor de la covariable.\n",
        "\n",
        "**Nota:** Se debe ajustar sus datos a una distribución que tenga sentido: hay muchas para elegir y su elección debe ser informada por el EDA que realiza antes del modelado."
      ],
      "metadata": {
        "id": "aX_y1oIDBgvE"
      }
    },
    {
      "cell_type": "markdown",
      "source": [
        "#### ***Ejemplo 4.***\n",
        "\n",
        "Encuentre la distribución normal que más se \"alinee\" con la distribución observada de `annual_inc` en morosos. Con base en esta distribución normal, calcule $\\text{P(annual_inc=10,000|moroso)}$."
      ],
      "metadata": {
        "id": "6jU6XpO2BxSA"
      }
    },
    {
      "cell_type": "markdown",
      "source": [
        "***Solución:***\n",
        "\n",
        "De  `scipy.stats` vamos a usar `norm` y a su vez a `pdf()` para calcular la densidad de una distribución normal en un valor dado."
      ],
      "metadata": {
        "id": "MFLLHv6pJ0PJ"
      }
    },
    {
      "cell_type": "code",
      "source": [
        "mean_est = df_moro[\"annual_inc\"].mean()           ### Media\n",
        "std_est  = df_moro[\"annual_inc\"].std()            ### Desviación estándar\n",
        "print(f\"P(annual_inc=10,000|moroso) = {norm.pdf(10000, loc = mean_est, scale = std_est)}\")"
      ],
      "metadata": {
        "colab": {
          "base_uri": "https://localhost:8080/"
        },
        "id": "gL6shLQaBgcI",
        "outputId": "c834e593-08b7-406b-d03d-6c410583b534"
      },
      "execution_count": 14,
      "outputs": [
        {
          "output_type": "stream",
          "name": "stdout",
          "text": [
            "P(annual_inc=10,000|moroso) = 4.473123137400818e-06\n"
          ]
        }
      ]
    },
    {
      "cell_type": "markdown",
      "source": [
        "---"
      ],
      "metadata": {
        "id": "PZG9cp9FKkto"
      }
    },
    {
      "cell_type": "markdown",
      "source": [
        "Para el caso que tengamos más variables continuas, estimamos todas estas probabilidades condicionales de covariables individuales, las multiplicamos para obtener nuestra estimación final de $\\text{P(covariables=valores|moroso)}$."
      ],
      "metadata": {
        "id": "edoMEGeBC3Kc"
      }
    },
    {
      "cell_type": "markdown",
      "source": [
        "Pensando en general, para obtener:\n",
        "\n",
        "$$\\text{P(no-moroso|covariables=valores)}$$\n",
        "$$\\text{y}$$\n",
        "$$\\text{P(moroso|covariables=valores)}$$\n",
        "\n",
        "Procedemos así:\n",
        "\n",
        "1. Estime $\\text{P(moroso)}$ y $\\text{P(no-moroso)}$.\n",
        "2. Estime $\\text{P(covariables=valores|moroso)}$ y $\\text{P(covariables=valores|no-moroso)}$\n",
        "3. Estime $\\text{P(no-moroso|covariables=valores)}$ con la siguiente ecuación:\n",
        "\n",
        "$$\n",
        "    \\frac{\\text{P(covariables=valores|no moroso)}\\text{P(no moroso)}}{\\text{P(covariables=valores|moroso)}\\text{P(moroso)}+ \\text{P(covariables=valores|no-moroso)}\\text{P(no-moroso)}}\n",
        "$$\n",
        "\n",
        "4. Estime $\\text{P(moroso|covariables=valores)}$ con la siguiente ecuación:\n",
        "\n",
        "$$\n",
        "    \\frac{\\text{P(covariables=valores|moroso)}\\text{P(moroso)}}{\\text{P(covariables=valores|moroso)}\\text{P(moroso)}+ \\text{P(covariables=valores|no-moroso)}\\text{P(no-moroso)}}\n",
        "$$"
      ],
      "metadata": {
        "id": "lDnQBvZFD56h"
      }
    },
    {
      "cell_type": "markdown",
      "source": [
        "***Nota:*** Notemos que del paso 3 la probabilidad condicional de incumplimiento está determinada por los valores de las covariables a través de las probabilidades condicionales $\\text{P(covariables=valores|moroso)}$ y $\\text{P(covariables=valores|no-moroso)}$. La relación entre estas dos cantidades refleja cuán diferente es la distribución de las covariables en los morosos frente a los no-morosos. ***Naive Bayes*** está comparando la distribución de covariables en grupos de muestras con diferentes resultados. Esto nos proporciona una forma de preseleccionar las variables que deberían incluirse en el clasificador Naive Bayes."
      ],
      "metadata": {
        "id": "etALIP1EFYWu"
      }
    },
    {
      "cell_type": "markdown",
      "source": [
        "Visualicemos las distribuciones de covariables en nuestro conjunto de datos, estratificados por `loan_status`, para tener una idea de cuáles deben incluirse."
      ],
      "metadata": {
        "id": "ysa4OYWmGDUt"
      }
    },
    {
      "cell_type": "code",
      "source": [
        "ax = sns.violinplot(x=df[\"loan_status\"], y=np.log10(df[\"annual_inc\"]));\n",
        "ax.set(ylabel=\"log annual_inc\");"
      ],
      "metadata": {
        "colab": {
          "base_uri": "https://localhost:8080/",
          "height": 551
        },
        "id": "GNgyVu8qGzI4",
        "outputId": "943c1373-3b95-4a0c-a51d-265c04cb9258"
      },
      "execution_count": 15,
      "outputs": [
        {
          "output_type": "display_data",
          "data": {
            "text/plain": [
              "<Figure size 1500x600 with 1 Axes>"
            ],
            "image/png": "[encoded data removed]"
          },
          "metadata": {}
        }
      ]
    },
    {
      "cell_type": "markdown",
      "source": [
        "Aunque la diferencia en los ingresos anuales no es muy grande, todavía podemos ver un ligero aumento en la media de los ingresos anuales en `Fully Paid` vs. `Charged Off`.\n",
        "\n",
        "La distribución de `int_rate` es lo suficientemente cercana a la normal, pero la de `loan_amnt` parece un poco sesgada. Apliquemos una transformación de raíz cuadrada:"
      ],
      "metadata": {
        "id": "DTOm7T-oG5jK"
      }
    },
    {
      "cell_type": "code",
      "source": [
        "ax = sns.violinplot(x = df[\"loan_status\"], y = np.sqrt(df[\"loan_amnt\"]));\n",
        "ax.set(ylabel=\"sqrt loan_amnt\");"
      ],
      "metadata": {
        "colab": {
          "base_uri": "https://localhost:8080/",
          "height": 546
        },
        "id": "04Nr1i79HDiL",
        "outputId": "2f02d022-906f-4e94-b10c-7600eda3ca67"
      },
      "execution_count": 16,
      "outputs": [
        {
          "output_type": "display_data",
          "data": {
            "text/plain": [
              "<Figure size 1500x600 with 1 Axes>"
            ],
            "image/png": "[encoded data removed]"
          },
          "metadata": {}
        }
      ]
    },
    {
      "cell_type": "markdown",
      "source": [
        "Del ejercicio anterior, encontramos que necesitamos transformar `annual_inc` y `loan_amnt` para que la suposición de normalidad pueda satisfacerse aproximadamente. Usaremos las variables transformadas para construir el estimador Naive Bayes:"
      ],
      "metadata": {
        "id": "AFnxyhySHKLr"
      }
    },
    {
      "cell_type": "code",
      "source": [
        "df[\"annual_inc_log\"] = np.log10(df[\"annual_inc\"])\n",
        "df[\"loan_amnt_sqrt\"] = np.sqrt(df[\"loan_amnt\"])"
      ],
      "metadata": {
        "id": "MGgvA8WwHS5h"
      },
      "execution_count": 17,
      "outputs": []
    },
    {
      "cell_type": "markdown",
      "source": [
        "## ***Implementación del clasificador Naive Bayes***\n",
        "\n",
        "Vamos a usar un par de clases de [`sklearn.naive_bayes`](https://scikit-learn.org/stable/modules/naive_bayes.html):\n",
        "\n",
        "1. Para el caso de covariables categóricas:[`sklearn.naive_bayes.MultinomialNB`](https://scikit-learn.org/stable/modules/generated/sklearn.naive_bayes.MultinomialNB.html).\n",
        "\n",
        "2. Para el caso de covariables continuas: [`sklearn.naive_bayes.GaussianNB`](https://scikit-learn.org/stable/modules/generated/sklearn.naive_bayes.GaussianNB.html)"
      ],
      "metadata": {
        "id": "XozSs-64HZwE"
      }
    },
    {
      "cell_type": "markdown",
      "source": [
        "Tengamos en cuenta que una implementación del clasificador ***Naive Bayes***  basado en covariables mixtas (continuas y categóricas) no está implementada en `sklearn` aún. Sin embargo, por las suposiciones de independencia ***Naive***, ṕarece natural usar las implementaciones para variables discretas (`sklearn.naive_bayes.MultinomialNB`) y continuas (`sklearn.naive_bayes.GaussianNB`) de la siguiente manera:\n",
        "\n",
        "Supongamos por simplicidad que queremos estimar:\n",
        "\n",
        "$$\n",
        "\\begin{align}\n",
        "\\text{P(no-moroso|loan_amnt, term)}\n",
        "\\end{align}\n",
        "$$\n",
        "\n",
        "Haciendo uso de:   \n",
        "\n",
        "$$\n",
        "\\begin{equation}\n",
        "\\begin{aligned}\n",
        "\\text{P(no-moroso|loan_amnt)} \\quad \\text{y} \\quad \\text{P(no-moroso|term).}\n",
        "\\end{aligned}\n",
        "\\end{equation}\n",
        "$$"
      ],
      "metadata": {
        "id": "SWQRbpO_HlOO"
      }
    },
    {
      "cell_type": "markdown",
      "source": [
        "Por el ***Teorema de Bayes*** tenemos:\n",
        "\n",
        "$$\n",
        "\\begin{align}\n",
        "\\text{P(no-moroso|loan_amnt, term)}&=\\frac{\\text{P(term, loan_amnt|no-moroso)P(no-moroso)}}{\\text{P(term, loan_amnt)}}, \\\\\n",
        "&\\approx \\frac{\\text{P(term|no-moroso)P(loan_amnt|no-moroso)P(no-moroso)}}{\\text{P(term)P(loan_amnt)}},\\\\\n",
        "&=\\left[\\frac{\\text{P(term|no-moroso)}}{\\text{P(term)}}\\right]\\left[\\frac{\\text{P(loan_amnt|no-moroso)}}{\\text{P(loan_amnt)}}\\right]\\left[\\frac{\\text{P(no-moroso)P(no-moroso)}}{\\text{P(no-moroso)}}\\right], \\\\\n",
        "&=\\left[\\frac{\\text{P(term|no-moroso)P(no-moroso)}}{\\text{P(term)}}\\right]\\left[\\frac{\\text{P(loan_amnt|no-moroso)P(no-moroso)}}{\\text{P(loan_amnt)P(no-moroso)}}\\right], \\\\\n",
        "&=\\frac{\\text{P(no-moroso|term)}\\text{P(no-moroso|loan_amnt)}}{\\text{P(no-moroso)}}\n",
        "\\end{align}\n",
        "$$\n",
        "\n",
        "En palabras más simples, la suposición ***Naive*** de independencia nos permite calcular las probabilidades ajustando primero un modelo para las variables discretas y las variables continuas por separado. Luego multiplicamos estos valores y los dividimos por las probabilidades anteriores $\\text{P(no moroso)}$ y $\\text{P(moroso)}$."
      ],
      "metadata": {
        "id": "Spc0cqqdHxIl"
      }
    },
    {
      "cell_type": "code",
      "source": [
        "## Implementación.\n",
        "df_nb = df.copy()\n",
        "label_encoder = LabelEncoder()\n",
        "## Codificar las variables categóricas\n",
        "for column in df_nb.select_dtypes(\"category\"):\n",
        "    df_nb[column] = label_encoder.fit_transform(df_nb[column])\n",
        "y = df_nb[\"loan_status\"]\n",
        "## Ajustamos el modelo para variables continuas\n",
        "gnb = GaussianNB()\n",
        "Xcont = df_nb[[\"annual_inc_log\",\"loan_amnt_sqrt\",\"int_rate\"]]\n",
        "cont_probas = gnb.fit(Xcont, y).predict_proba(Xcont)          ## Probabilidades de cada registro.\n",
        "## Ajustamos el modelo para variables categóricas\n",
        "mnb = MultinomialNB()\n",
        "Xcat = df_nb.select_dtypes(\"int\").drop(columns=[\"loan_status\"])\n",
        "cat_probas = mnb.fit(Xcat, y).predict_proba(Xcat)             ## Probabilidades de cada registro.\n",
        "## Probas de Naive-Bayes.\n",
        "nb_probas = np.multiply(cont_probas, cat_probas)/np.array([proba_moroso, proba_no_moroso])\n",
        "## Probas de la clase positiva.\n",
        "df_nb[\"nb_predict_proba\"] = nb_probas[:,1]\n",
        "df_nb[\"nb_predict_proba\"]\n",
        "\n",
        "## Ajustamos el modelo para variables continuas\n",
        "lda = LinearDiscriminantAnalysis()\n",
        "df_nb[\"lda_predict_proba\"] = lda.fit(Xcont, y).predict_proba(Xcont)[:,1]"
      ],
      "metadata": {
        "id": "3hqD8f0iXCJu"
      },
      "execution_count": 18,
      "outputs": []
    },
    {
      "cell_type": "code",
      "source": [
        "## Curva ROC modelo Naive Bayes.\n",
        "fpr, tpr, thresholds = roc_curve(df_full[\"loan_status\"],df_nb['nb_predict_proba'])\n",
        "roc_auc = auc(fpr, tpr)\n",
        "plt.plot(fpr,tpr,label = \"Naive-Bayes  (AUC = {:.5f})\".format(roc_auc),)\n",
        "##\n",
        "plt.plot((0,1), (0,1), ls = \"--\", color = \"grey\", label = \"Randow guess\")\n",
        "plt.legend(loc=\"lower right\")\n",
        "plt.title(\"Receiver operating characteristic\")\n",
        "plt.show()"
      ],
      "metadata": {
        "colab": {
          "base_uri": "https://localhost:8080/",
          "height": 546
        },
        "id": "y2iQAUlahMpZ",
        "outputId": "89708314-b2b3-4eb5-a8ce-12eaeb706f39"
      },
      "execution_count": 19,
      "outputs": [
        {
          "output_type": "display_data",
          "data": {
            "text/plain": [
              "<Figure size 1500x600 with 1 Axes>"
            ],
            "image/png": "[encoded data removed]"
          },
          "metadata": {}
        }
      ]
    },
    {
      "cell_type": "code",
      "source": [
        "## Curva ROC modelo lda.\n",
        "fpr, tpr, thresholds = roc_curve(df_full[\"loan_status\"],df_nb['lda_predict_proba'])\n",
        "roc_auc = auc(fpr, tpr)\n",
        "plt.plot(fpr,tpr,label = \"LDA  (AUC = {:.5f})\".format(roc_auc),)\n",
        "##\n",
        "plt.plot((0,1), (0,1), ls = \"--\", color = \"grey\", label = \"Randow guess\")\n",
        "plt.legend(loc=\"lower right\")\n",
        "plt.title(\"Receiver operating characteristic\")\n",
        "plt.show()"
      ],
      "metadata": {
        "colab": {
          "base_uri": "https://localhost:8080/",
          "height": 546
        },
        "id": "wyZWdUC19hXT",
        "outputId": "96955eb1-8978-4dd9-ac82-3adaead23783"
      },
      "execution_count": 20,
      "outputs": [
        {
          "output_type": "display_data",
          "data": {
            "text/plain": [
              "<Figure size 1500x600 with 1 Axes>"
            ],
            "image/png": "[encoded data removed]"
          },
          "metadata": {}
        }
      ]
    }
  ]
}