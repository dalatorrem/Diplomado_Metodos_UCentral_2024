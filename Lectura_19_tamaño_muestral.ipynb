{
  "nbformat": 4,
  "nbformat_minor": 0,
  "metadata": {
    "colab": {
      "provenance": [],
      "include_colab_link": true
    },
    "kernelspec": {
      "name": "python3",
      "display_name": "Python 3"
    },
    "language_info": {
      "name": "python"
    }
  },
  "cells": [
    {
      "cell_type": "markdown",
      "metadata": {
        "id": "view-in-github",
        "colab_type": "text"
      },
      "source": [
        "<a href=\"https://colab.research.google.com/github/dalatorrem/Diplomado_Metodos_UCentral_2023/blob/main/Lectura_19_tama%C3%B1o_muestral.ipynb\" target=\"_parent\"><img src=\"https://colab.research.google.com/assets/colab-badge.svg\" alt=\"Open In Colab\"/></a>"
      ]
    },
    {
      "cell_type": "markdown",
      "source": [
        "---\n",
        "\n",
        "<p align=\"center\">\n",
        "  <img src=\"https://raw.githubusercontent.com/lacamposm/Diplomado_Metodos_UCentral/main/data/images/imagen_ucentral.jpg\" alt=\"logo_Ucentral\" width=\"400px\" height=\"300px\">\n",
        "</p>"
      ],
      "metadata": {
        "id": "d4O1bJopXsTr"
      }
    },
    {
      "cell_type": "code",
      "execution_count": null,
      "metadata": {
        "id": "L_qlfX4AXrIr"
      },
      "outputs": [],
      "source": [
        "import pandas as pd\n",
        "import numpy as np\n",
        "import matplotlib.pyplot as plt\n",
        "import seaborn as sns\n",
        "from scipy.stats import t, nct, norm   ## distribuciones t y t no-central.\n",
        "from pingouin import ttest       ## ttest: prueba-t\n",
        "##\n",
        "sns.set_style(\"darkgrid\")\n",
        "##\n",
        "url_base= \"https://raw.githubusercontent.com/lacamposm/Fundamentos_Analitica/main/data/\""
      ]
    },
    {
      "cell_type": "markdown",
      "source": [
        "# Intervalo de confianza"
      ],
      "metadata": {
        "id": "Qqqur9vbX3S3"
      }
    },
    {
      "cell_type": "markdown",
      "source": [
        "Se pueden realizar estimaciones puntuales y estimaciones por intervalo, en este caso trataremos los intervalos de confianza:\n",
        "\n",
        "Un intervalo de confianza de $(1-\\alpha ) \\%$ para estimar  $\\theta$  un parámetro poblacional, donde  que sigue una determinada distribución de probabilidad, es una expresión del tipo $[\\theta_1, \\theta_2]$\n",
        "tal que\n",
        "$$P (\\theta_1 \\leq \\theta \\leq \\theta_2)= (1-\\alpha)\\%$$\n",
        " donde $P$ es la función de distribución de probabilidad de $\\theta$."
      ],
      "metadata": {
        "id": "i1Rc1Q58X7Kj"
      }
    },
    {
      "cell_type": "markdown",
      "source": [
        "## Ejemplos\n",
        "\n",
        "Intervalo de confianza para la media de una población normal cuya varianza es conocida\n",
        "\n",
        " ![image.png](data:image/png;base64,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)\n",
        "\n",
        "El intervalo de confianza para estimar una proporción\n",
        "\n",
        "![image.png](data:image/png;base64,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)\n",
        "\n"
      ],
      "metadata": {
        "id": "BPOvMSmZX-Mj"
      }
    },
    {
      "cell_type": "markdown",
      "source": [
        "# Tamaño de muestra para la media de una población normal con varianza conocida\n",
        "\n",
        "$\\epsilon = z_{\\alpha /2} \\dfrac{\\sigma}{\\sqrt{n}}$\n",
        "\n",
        "entonces\n",
        "\n",
        "$n = z_{\\alpha /2}^2 \\dfrac{\\sigma^2}{\\epsilon^2}$"
      ],
      "metadata": {
        "id": "HCwg0Jh8Oniw"
      }
    },
    {
      "cell_type": "markdown",
      "source": [
        "# Tamaño de muestra para la proporción\n",
        "\n",
        "$\\epsilon = z_{\\alpha /2} \\sqrt{\\dfrac{p(1-p)}{n}}$\n",
        "\n",
        "entonces\n",
        "\n",
        "$n = z_{\\alpha /2}^2 \\dfrac{p(1-p)}{\\epsilon^2}$\n",
        "\n",
        "el máximo valor de n se obtiene cuando $p=0.5$, sino conoce un estimado del valor de $p$ use 0.5\n",
        "\n",
        "$n = z_{\\alpha /2}^2 \\dfrac{0.25}{\\epsilon^2}$"
      ],
      "metadata": {
        "id": "ruHur2zqQC9I"
      }
    },
    {
      "cell_type": "code",
      "source": [
        "def calcula_tam_est_prop(alpha, error):\n",
        "  from scipy.stats import norm\n",
        "  z_alpha_2 = norm.ppf(1-alpha/2)\n",
        "  return int(0.25* (z_alpha_2**2)/error**2) + 1\n",
        "\n",
        "def calcula_tam_est_media(alpha, error, varianza):\n",
        "  from scipy.stats import norm\n",
        "  z_alpha_2 = norm.ppf(1-alpha/2)\n",
        "  return int(varianza* (z_alpha_2**2)/error**2) + 1"
      ],
      "metadata": {
        "id": "Peq_TLqjR8fw"
      },
      "execution_count": 3,
      "outputs": []
    },
    {
      "cell_type": "code",
      "source": [
        "calcula_tam_est_prop(0.05, 0.1)"
      ],
      "metadata": {
        "colab": {
          "base_uri": "https://localhost:8080/"
        },
        "id": "QYHnKaRaT6vf",
        "outputId": "83bf6b9a-1400-4031-af0c-33087558d2c7"
      },
      "execution_count": 5,
      "outputs": [
        {
          "output_type": "execute_result",
          "data": {
            "text/plain": [
              "97"
            ]
          },
          "metadata": {},
          "execution_count": 5
        }
      ]
    },
    {
      "cell_type": "code",
      "source": [
        "calcula_tam_est_media(0.05, 3, 15**2)"
      ],
      "metadata": {
        "colab": {
          "base_uri": "https://localhost:8080/"
        },
        "id": "pvnSsCUeUBYm",
        "outputId": "2ac3fdc2-70d2-45c9-a941-aacb55265a70"
      },
      "execution_count": 7,
      "outputs": [
        {
          "output_type": "execute_result",
          "data": {
            "text/plain": [
              "97"
            ]
          },
          "metadata": {},
          "execution_count": 7
        }
      ]
    },
    {
      "cell_type": "code",
      "source": [],
      "metadata": {
        "id": "ch5DkAXmU5Wp"
      },
      "execution_count": null,
      "outputs": []
    }
  ]
}