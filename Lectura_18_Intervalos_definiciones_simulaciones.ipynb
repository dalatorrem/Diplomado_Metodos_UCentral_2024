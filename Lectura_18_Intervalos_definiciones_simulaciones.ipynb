{
  "nbformat": 4,
  "nbformat_minor": 0,
  "metadata": {
    "colab": {
      "provenance": [],
      "authorship_tag": "ABX9TyOlVuObRteZIZzPYaXvO4GT",
      "include_colab_link": true
    },
    "kernelspec": {
      "name": "python3",
      "display_name": "Python 3"
    },
    "language_info": {
      "name": "python"
    }
  },
  "cells": [
    {
      "cell_type": "markdown",
      "metadata": {
        "id": "view-in-github",
        "colab_type": "text"
      },
      "source": [
        "<a href=\"https://colab.research.google.com/github/dalatorrem/Diplomado_Metodos_UCentral_2023/blob/main/Lectura_18_Intervalos_definiciones_simulaciones.ipynb\" target=\"_parent\"><img src=\"https://colab.research.google.com/assets/colab-badge.svg\" alt=\"Open In Colab\"/></a>"
      ]
    },
    {
      "cell_type": "markdown",
      "source": [
        "---\n",
        "\n",
        "<p align=\"center\">\n",
        "  <img src=\"https://raw.githubusercontent.com/lacamposm/Diplomado_Metodos_UCentral/main/data/images/imagen_ucentral.jpg\" alt=\"logo_Ucentral\" width=\"400px\" height=\"300px\">\n",
        "</p>"
      ],
      "metadata": {
        "id": "d4O1bJopXsTr"
      }
    },
    {
      "cell_type": "code",
      "source": [
        "%%capture\n",
        "!pip install pingouin ## instalación libreria pingouin"
      ],
      "metadata": {
        "id": "cdJM5043YsPo"
      },
      "execution_count": 2,
      "outputs": []
    },
    {
      "cell_type": "code",
      "execution_count": 4,
      "metadata": {
        "id": "L_qlfX4AXrIr"
      },
      "outputs": [],
      "source": [
        "import pandas as pd\n",
        "import numpy as np\n",
        "import matplotlib.pyplot as plt\n",
        "import seaborn as sns\n",
        "from scipy.stats import t, nct, norm   ## distribuciones t y t no-central.\n",
        "from pingouin import ttest       ## ttest: prueba-t\n",
        "##\n",
        "sns.set_style(\"darkgrid\")\n",
        "##\n",
        "url_base= \"https://raw.githubusercontent.com/lacamposm/Fundamentos_Analitica/main/data/\""
      ]
    },
    {
      "cell_type": "markdown",
      "source": [
        "# Intervalo de confianza"
      ],
      "metadata": {
        "id": "Qqqur9vbX3S3"
      }
    },
    {
      "cell_type": "markdown",
      "source": [
        "Se pueden realizar estimaciones puntuales y estimaciones por intervalo, en este caso trataremos los intervalos de confianza:\n",
        "\n",
        "Un intervalo de confianza de $(1-\\alpha ) \\%$ para estimar  $\\theta$  un parámetro poblacional, donde  que sigue una determinada distribución de probabilidad, es una expresión del tipo $[\\theta_1, \\theta_2]$\n",
        "tal que\n",
        "$$P (\\theta_1 \\leq \\theta \\leq \\theta_2)= (1-\\alpha)\\%$$\n",
        " donde $P$ es la función de distribución de probabilidad de $\\theta$."
      ],
      "metadata": {
        "id": "i1Rc1Q58X7Kj"
      }
    },
    {
      "cell_type": "markdown",
      "source": [
        "## Ejemplos\n",
        "\n",
        "Intervalo de confianza para la media de una población normal cuya varianza es conocida\n",
        "\n",
        " ![image.png](data:image/png;base64,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)\n",
        "\n",
        "El intervalo de confianza para estimar una proporción\n",
        "\n",
        "![image.png](data:image/png;base64,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)\n",
        "\n",
        "Intervalo de confianza para la media\n",
        "\n",
        "$$\\bar{x}-t_{\\alpha/2}\\dfrac{s}{\\sqrt{n}}<\\mu<\\bar{x}-t_{\\alpha/2}\\dfrac{s}{\\sqrt{n}}$$"
      ],
      "metadata": {
        "id": "BPOvMSmZX-Mj"
      }
    },
    {
      "cell_type": "markdown",
      "source": [
        "# Simulaciones Clase"
      ],
      "metadata": {
        "id": "EjNKUl-oZLB9"
      }
    },
    {
      "cell_type": "markdown",
      "source": [
        "## Intervalo de confianza para la media de una población normal cuya varianza es conocida"
      ],
      "metadata": {
        "id": "IeOgIA61g9Mr"
      }
    },
    {
      "cell_type": "code",
      "source": [
        "def conseg_interv_conf_media_var_con(muestra, alpha, varianza, print_m = False):\n",
        "  n = len(muestra)\n",
        "  x_barra = muestra.mean()\n",
        "  confianza_porcentaje = 100*(1-alpha)\n",
        "  if print_m:\n",
        "    print(f'Confianza del {confianza_porcentaje}%')\n",
        "  sigma = varianza**0.5 # raíz cuadrada\n",
        "  z_alpha_medios = norm.ppf(1-alpha/2)\n",
        "  if print_m:\n",
        "    print(f'Z_alpha/2 es: {round(z_alpha_medios,3)}')\n",
        "  desv_punto_medio = z_alpha_medios*(sigma/np.sqrt(n))\n",
        "  lim_inf = x_barra - desv_punto_medio\n",
        "  lim_sup = x_barra + desv_punto_medio\n",
        "  return lim_inf, lim_sup"
      ],
      "metadata": {
        "id": "lWW2rgGhlGN3"
      },
      "execution_count": 20,
      "outputs": []
    },
    {
      "cell_type": "code",
      "source": [
        "muestra = pd.Series([2,3,4,5])\n",
        "alpha = 0.001\n",
        "varianza = 1\n",
        "conseg_interv_conf_media_var_con(muestra, alpha, varianza, print_m=True)"
      ],
      "metadata": {
        "colab": {
          "base_uri": "https://localhost:8080/"
        },
        "id": "q8Ow8ToLZOEM",
        "outputId": "a100e77c-db18-46f1-f315-114f75af2499"
      },
      "execution_count": 38,
      "outputs": [
        {
          "output_type": "stream",
          "name": "stdout",
          "text": [
            "Confianza del 99.9%\n",
            "Z_alpha/2 es: 3.291\n"
          ]
        },
        {
          "output_type": "execute_result",
          "data": {
            "text/plain": [
              "(1.8547366342540372, 5.145263365745963)"
            ]
          },
          "metadata": {},
          "execution_count": 38
        }
      ]
    },
    {
      "cell_type": "code",
      "source": [
        "size_sample = 50\n",
        "no_simulaciones = 1000\n",
        "media_poblacional = 1500\n",
        "varianza_poblacional = 900\n",
        "alpha = 0.001\n",
        "print(f'Confianza del {100*(1-alpha)}%')\n",
        "simulacion_df = list()\n",
        "for i in range(no_simulaciones):\n",
        "  muestra_aleatoria = np.random.normal(media_poblacional, varianza_poblacional**0.5, size_sample)\n",
        "  lim_inf, lim_sup = conseg_interv_conf_media_var_con(muestra_aleatoria, alpha, varianza_poblacional)\n",
        "  simulacion_df.append([len(muestra_aleatoria),\n",
        "                        muestra_aleatoria.mean(),\n",
        "                        lim_inf,\n",
        "                        lim_sup])\n",
        "simulacion_df = pd.DataFrame(np.array(simulacion_df), columns= ['n','mean_sample', 'lim_inf', 'lim_sup'])\n",
        "simulacion_df['ID_SAMPLE'] = np.arange(no_simulaciones) + 1\n",
        "simulacion_df['FLAG_REV_PAR'] = 1*((simulacion_df['lim_inf']<media_poblacional) & (simulacion_df['lim_sup']>media_poblacional))\n",
        "100*simulacion_df['FLAG_REV_PAR'].value_counts(1)"
      ],
      "metadata": {
        "colab": {
          "base_uri": "https://localhost:8080/"
        },
        "id": "HF6Hy3IskKnx",
        "outputId": "07371c82-9b37-43fb-dfbc-e153bcc8168a"
      },
      "execution_count": 102,
      "outputs": [
        {
          "output_type": "stream",
          "name": "stdout",
          "text": [
            "Confianza del 99.9%\n"
          ]
        },
        {
          "output_type": "execute_result",
          "data": {
            "text/plain": [
              "1    99.8\n",
              "0     0.2\n",
              "Name: FLAG_REV_PAR, dtype: float64"
            ]
          },
          "metadata": {},
          "execution_count": 102
        }
      ]
    },
    {
      "cell_type": "code",
      "source": [
        "simulacion_df"
      ],
      "metadata": {
        "colab": {
          "base_uri": "https://localhost:8080/",
          "height": 424
        },
        "id": "AojDMo_Xxuj_",
        "outputId": "73e41e1a-d2bc-4a62-d0f3-8f10d39397c5"
      },
      "execution_count": 103,
      "outputs": [
        {
          "output_type": "execute_result",
          "data": {
            "text/plain": [
              "        n  mean_sample      lim_inf      lim_sup  ID_SAMPLE  FLAG_REV_PAR\n",
              "0    50.0  1504.355283  1490.394761  1518.315806          1             1\n",
              "1    50.0  1498.301628  1484.341105  1512.262150          2             1\n",
              "2    50.0  1502.260127  1488.299604  1516.220649          3             1\n",
              "3    50.0  1503.411171  1489.450648  1517.371693          4             1\n",
              "4    50.0  1491.632717  1477.672194  1505.593239          5             1\n",
              "..    ...          ...          ...          ...        ...           ...\n",
              "995  50.0  1494.223689  1480.263166  1508.184211        996             1\n",
              "996  50.0  1503.737410  1489.776888  1517.697933        997             1\n",
              "997  50.0  1487.877564  1473.917041  1501.838086        998             1\n",
              "998  50.0  1494.481910  1480.521387  1508.442432        999             1\n",
              "999  50.0  1493.717535  1479.757012  1507.678057       1000             1\n",
              "\n",
              "[1000 rows x 6 columns]"
            ],
            "text/html": [
              "\n",
              "\n",
              "  <div id=\"df-784165c6-47be-47f5-a0cf-53b96d24db7f\">\n",
              "    <div class=\"colab-df-container\">\n",
              "      <div>\n",
              "<style scoped>\n",
              "    .dataframe tbody tr th:only-of-type {\n",
              "        vertical-align: middle;\n",
              "    }\n",
              "\n",
              "    .dataframe tbody tr th {\n",
              "        vertical-align: top;\n",
              "    }\n",
              "\n",
              "    .dataframe thead th {\n",
              "        text-align: right;\n",
              "    }\n",
              "</style>\n",
              "<table border=\"1\" class=\"dataframe\">\n",
              "  <thead>\n",
              "    <tr style=\"text-align: right;\">\n",
              "      <th></th>\n",
              "      <th>n</th>\n",
              "      <th>mean_sample</th>\n",
              "      <th>lim_inf</th>\n",
              "      <th>lim_sup</th>\n",
              "      <th>ID_SAMPLE</th>\n",
              "      <th>FLAG_REV_PAR</th>\n",
              "    </tr>\n",
              "  </thead>\n",
              "  <tbody>\n",
              "    <tr>\n",
              "      <th>0</th>\n",
              "      <td>50.0</td>\n",
              "      <td>1504.355283</td>\n",
              "      <td>1490.394761</td>\n",
              "      <td>1518.315806</td>\n",
              "      <td>1</td>\n",
              "      <td>1</td>\n",
              "    </tr>\n",
              "    <tr>\n",
              "      <th>1</th>\n",
              "      <td>50.0</td>\n",
              "      <td>1498.301628</td>\n",
              "      <td>1484.341105</td>\n",
              "      <td>1512.262150</td>\n",
              "      <td>2</td>\n",
              "      <td>1</td>\n",
              "    </tr>\n",
              "    <tr>\n",
              "      <th>2</th>\n",
              "      <td>50.0</td>\n",
              "      <td>1502.260127</td>\n",
              "      <td>1488.299604</td>\n",
              "      <td>1516.220649</td>\n",
              "      <td>3</td>\n",
              "      <td>1</td>\n",
              "    </tr>\n",
              "    <tr>\n",
              "      <th>3</th>\n",
              "      <td>50.0</td>\n",
              "      <td>1503.411171</td>\n",
              "      <td>1489.450648</td>\n",
              "      <td>1517.371693</td>\n",
              "      <td>4</td>\n",
              "      <td>1</td>\n",
              "    </tr>\n",
              "    <tr>\n",
              "      <th>4</th>\n",
              "      <td>50.0</td>\n",
              "      <td>1491.632717</td>\n",
              "      <td>1477.672194</td>\n",
              "      <td>1505.593239</td>\n",
              "      <td>5</td>\n",
              "      <td>1</td>\n",
              "    </tr>\n",
              "    <tr>\n",
              "      <th>...</th>\n",
              "      <td>...</td>\n",
              "      <td>...</td>\n",
              "      <td>...</td>\n",
              "      <td>...</td>\n",
              "      <td>...</td>\n",
              "      <td>...</td>\n",
              "    </tr>\n",
              "    <tr>\n",
              "      <th>995</th>\n",
              "      <td>50.0</td>\n",
              "      <td>1494.223689</td>\n",
              "      <td>1480.263166</td>\n",
              "      <td>1508.184211</td>\n",
              "      <td>996</td>\n",
              "      <td>1</td>\n",
              "    </tr>\n",
              "    <tr>\n",
              "      <th>996</th>\n",
              "      <td>50.0</td>\n",
              "      <td>1503.737410</td>\n",
              "      <td>1489.776888</td>\n",
              "      <td>1517.697933</td>\n",
              "      <td>997</td>\n",
              "      <td>1</td>\n",
              "    </tr>\n",
              "    <tr>\n",
              "      <th>997</th>\n",
              "      <td>50.0</td>\n",
              "      <td>1487.877564</td>\n",
              "      <td>1473.917041</td>\n",
              "      <td>1501.838086</td>\n",
              "      <td>998</td>\n",
              "      <td>1</td>\n",
              "    </tr>\n",
              "    <tr>\n",
              "      <th>998</th>\n",
              "      <td>50.0</td>\n",
              "      <td>1494.481910</td>\n",
              "      <td>1480.521387</td>\n",
              "      <td>1508.442432</td>\n",
              "      <td>999</td>\n",
              "      <td>1</td>\n",
              "    </tr>\n",
              "    <tr>\n",
              "      <th>999</th>\n",
              "      <td>50.0</td>\n",
              "      <td>1493.717535</td>\n",
              "      <td>1479.757012</td>\n",
              "      <td>1507.678057</td>\n",
              "      <td>1000</td>\n",
              "      <td>1</td>\n",
              "    </tr>\n",
              "  </tbody>\n",
              "</table>\n",
              "<p>1000 rows × 6 columns</p>\n",
              "</div>\n",
              "      <button class=\"colab-df-convert\" onclick=\"convertToInteractive('df-784165c6-47be-47f5-a0cf-53b96d24db7f')\"\n",
              "              title=\"Convert this dataframe to an interactive table.\"\n",
              "              style=\"display:none;\">\n",
              "\n",
              "  <svg xmlns=\"http://www.w3.org/2000/svg\" height=\"24px\"viewBox=\"0 0 24 24\"\n",
              "       width=\"24px\">\n",
              "    <path d=\"M0 0h24v24H0V0z\" fill=\"none\"/>\n",
              "    <path d=\"M18.56 5.44l.94 2.06.94-2.06 2.06-.94-2.06-.94-.94-2.06-.94 2.06-2.06.94zm-11 1L8.5 8.5l.94-2.06 2.06-.94-2.06-.94L8.5 2.5l-.94 2.06-2.06.94zm10 10l.94 2.06.94-2.06 2.06-.94-2.06-.94-.94-2.06-.94 2.06-2.06.94z\"/><path d=\"M17.41 7.96l-1.37-1.37c-.4-.4-.92-.59-1.43-.59-.52 0-1.04.2-1.43.59L10.3 9.45l-7.72 7.72c-.78.78-.78 2.05 0 2.83L4 21.41c.39.39.9.59 1.41.59.51 0 1.02-.2 1.41-.59l7.78-7.78 2.81-2.81c.8-.78.8-2.07 0-2.86zM5.41 20L4 18.59l7.72-7.72 1.47 1.35L5.41 20z\"/>\n",
              "  </svg>\n",
              "      </button>\n",
              "\n",
              "\n",
              "\n",
              "    <div id=\"df-19369379-5539-474a-8e3b-f6743d657713\">\n",
              "      <button class=\"colab-df-quickchart\" onclick=\"quickchart('df-19369379-5539-474a-8e3b-f6743d657713')\"\n",
              "              title=\"Suggest charts.\"\n",
              "              style=\"display:none;\">\n",
              "\n",
              "<svg xmlns=\"http://www.w3.org/2000/svg\" height=\"24px\"viewBox=\"0 0 24 24\"\n",
              "     width=\"24px\">\n",
              "    <g>\n",
              "        <path d=\"M19 3H5c-1.1 0-2 .9-2 2v14c0 1.1.9 2 2 2h14c1.1 0 2-.9 2-2V5c0-1.1-.9-2-2-2zM9 17H7v-7h2v7zm4 0h-2V7h2v10zm4 0h-2v-4h2v4z\"/>\n",
              "    </g>\n",
              "</svg>\n",
              "      </button>\n",
              "    </div>\n",
              "\n",
              "<style>\n",
              "  .colab-df-quickchart {\n",
              "    background-color: #E8F0FE;\n",
              "    border: none;\n",
              "    border-radius: 50%;\n",
              "    cursor: pointer;\n",
              "    display: none;\n",
              "    fill: #1967D2;\n",
              "    height: 32px;\n",
              "    padding: 0 0 0 0;\n",
              "    width: 32px;\n",
              "  }\n",
              "\n",
              "  .colab-df-quickchart:hover {\n",
              "    background-color: #E2EBFA;\n",
              "    box-shadow: 0px 1px 2px rgba(60, 64, 67, 0.3), 0px 1px 3px 1px rgba(60, 64, 67, 0.15);\n",
              "    fill: #174EA6;\n",
              "  }\n",
              "\n",
              "  [theme=dark] .colab-df-quickchart {\n",
              "    background-color: #3B4455;\n",
              "    fill: #D2E3FC;\n",
              "  }\n",
              "\n",
              "  [theme=dark] .colab-df-quickchart:hover {\n",
              "    background-color: #434B5C;\n",
              "    box-shadow: 0px 1px 3px 1px rgba(0, 0, 0, 0.15);\n",
              "    filter: drop-shadow(0px 1px 2px rgba(0, 0, 0, 0.3));\n",
              "    fill: #FFFFFF;\n",
              "  }\n",
              "</style>\n",
              "\n",
              "    <script>\n",
              "      async function quickchart(key) {\n",
              "        const containerElement = document.querySelector('#' + key);\n",
              "        const charts = await google.colab.kernel.invokeFunction(\n",
              "            'suggestCharts', [key], {});\n",
              "      }\n",
              "    </script>\n",
              "\n",
              "      <script>\n",
              "\n",
              "function displayQuickchartButton(domScope) {\n",
              "  let quickchartButtonEl =\n",
              "    domScope.querySelector('#df-19369379-5539-474a-8e3b-f6743d657713 button.colab-df-quickchart');\n",
              "  quickchartButtonEl.style.display =\n",
              "    google.colab.kernel.accessAllowed ? 'block' : 'none';\n",
              "}\n",
              "\n",
              "        displayQuickchartButton(document);\n",
              "      </script>\n",
              "      <style>\n",
              "    .colab-df-container {\n",
              "      display:flex;\n",
              "      flex-wrap:wrap;\n",
              "      gap: 12px;\n",
              "    }\n",
              "\n",
              "    .colab-df-convert {\n",
              "      background-color: #E8F0FE;\n",
              "      border: none;\n",
              "      border-radius: 50%;\n",
              "      cursor: pointer;\n",
              "      display: none;\n",
              "      fill: #1967D2;\n",
              "      height: 32px;\n",
              "      padding: 0 0 0 0;\n",
              "      width: 32px;\n",
              "    }\n",
              "\n",
              "    .colab-df-convert:hover {\n",
              "      background-color: #E2EBFA;\n",
              "      box-shadow: 0px 1px 2px rgba(60, 64, 67, 0.3), 0px 1px 3px 1px rgba(60, 64, 67, 0.15);\n",
              "      fill: #174EA6;\n",
              "    }\n",
              "\n",
              "    [theme=dark] .colab-df-convert {\n",
              "      background-color: #3B4455;\n",
              "      fill: #D2E3FC;\n",
              "    }\n",
              "\n",
              "    [theme=dark] .colab-df-convert:hover {\n",
              "      background-color: #434B5C;\n",
              "      box-shadow: 0px 1px 3px 1px rgba(0, 0, 0, 0.15);\n",
              "      filter: drop-shadow(0px 1px 2px rgba(0, 0, 0, 0.3));\n",
              "      fill: #FFFFFF;\n",
              "    }\n",
              "  </style>\n",
              "\n",
              "      <script>\n",
              "        const buttonEl =\n",
              "          document.querySelector('#df-784165c6-47be-47f5-a0cf-53b96d24db7f button.colab-df-convert');\n",
              "        buttonEl.style.display =\n",
              "          google.colab.kernel.accessAllowed ? 'block' : 'none';\n",
              "\n",
              "        async function convertToInteractive(key) {\n",
              "          const element = document.querySelector('#df-784165c6-47be-47f5-a0cf-53b96d24db7f');\n",
              "          const dataTable =\n",
              "            await google.colab.kernel.invokeFunction('convertToInteractive',\n",
              "                                                     [key], {});\n",
              "          if (!dataTable) return;\n",
              "\n",
              "          const docLinkHtml = 'Like what you see? Visit the ' +\n",
              "            '<a target=\"_blank\" href=https://colab.research.google.com/notebooks/data_table.ipynb>data table notebook</a>'\n",
              "            + ' to learn more about interactive tables.';\n",
              "          element.innerHTML = '';\n",
              "          dataTable['output_type'] = 'display_data';\n",
              "          await google.colab.output.renderOutput(dataTable, element);\n",
              "          const docLink = document.createElement('div');\n",
              "          docLink.innerHTML = docLinkHtml;\n",
              "          element.appendChild(docLink);\n",
              "        }\n",
              "      </script>\n",
              "    </div>\n",
              "  </div>\n"
            ]
          },
          "metadata": {},
          "execution_count": 103
        }
      ]
    },
    {
      "cell_type": "code",
      "source": [
        "simulacion_df['mean_sample'].hist()"
      ],
      "metadata": {
        "colab": {
          "base_uri": "https://localhost:8080/",
          "height": 447
        },
        "id": "DyXYyrjFrcjv",
        "outputId": "9940fafa-9ad5-470c-98a1-d7d0b3f1c04c"
      },
      "execution_count": 104,
      "outputs": [
        {
          "output_type": "execute_result",
          "data": {
            "text/plain": [
              "<Axes: >"
            ]
          },
          "metadata": {},
          "execution_count": 104
        },
        {
          "output_type": "display_data",
          "data": {
            "text/plain": [
              "<Figure size 640x480 with 1 Axes>"
            ],
            "image/png": "[encoded data removed]"
          },
          "metadata": {}
        }
      ]
    },
    {
      "cell_type": "code",
      "source": [
        "(simulacion_df['lim_inf'] + simulacion_df['lim_sup'])/2 - simulacion_df['mean_sample']"
      ],
      "metadata": {
        "colab": {
          "base_uri": "https://localhost:8080/"
        },
        "id": "cZEZ-7d9rOEI",
        "outputId": "d5e675b0-9d0a-4d74-8fe1-3bc4d7286d86"
      },
      "execution_count": 105,
      "outputs": [
        {
          "output_type": "execute_result",
          "data": {
            "text/plain": [
              "0      0.0\n",
              "1      0.0\n",
              "2      0.0\n",
              "3      0.0\n",
              "4      0.0\n",
              "      ... \n",
              "995    0.0\n",
              "996    0.0\n",
              "997    0.0\n",
              "998    0.0\n",
              "999    0.0\n",
              "Length: 1000, dtype: float64"
            ]
          },
          "metadata": {},
          "execution_count": 105
        }
      ]
    },
    {
      "cell_type": "code",
      "source": [
        "simulacion_df[['lim_inf', 'lim_sup']].plot()"
      ],
      "metadata": {
        "colab": {
          "base_uri": "https://localhost:8080/",
          "height": 447
        },
        "id": "2_Bba057qCo5",
        "outputId": "40f711bd-5874-4c35-d7fb-8a8790ec906a"
      },
      "execution_count": 106,
      "outputs": [
        {
          "output_type": "execute_result",
          "data": {
            "text/plain": [
              "<Axes: >"
            ]
          },
          "metadata": {},
          "execution_count": 106
        },
        {
          "output_type": "display_data",
          "data": {
            "text/plain": [
              "<Figure size 640x480 with 1 Axes>"
            ],
            "image/png": "[encoded data removed]"
          },
          "metadata": {}
        }
      ]
    },
    {
      "cell_type": "markdown",
      "source": [
        "*** Revisón de que el parámetro real esté dentro del intervalo***"
      ],
      "metadata": {
        "id": "cXrS5aVtro0n"
      }
    },
    {
      "cell_type": "code",
      "source": [
        "100*simulacion_df['FLAG_REV_PAR'].value_counts(1)"
      ],
      "metadata": {
        "colab": {
          "base_uri": "https://localhost:8080/"
        },
        "id": "tnhzP59yrulY",
        "outputId": "42d0e3bc-8bdf-43b2-aa47-760daf8e983b"
      },
      "execution_count": 107,
      "outputs": [
        {
          "output_type": "execute_result",
          "data": {
            "text/plain": [
              "1    99.8\n",
              "0     0.2\n",
              "Name: FLAG_REV_PAR, dtype: float64"
            ]
          },
          "metadata": {},
          "execution_count": 107
        }
      ]
    },
    {
      "cell_type": "markdown",
      "source": [
        "**Conclusiones**\n",
        "\n",
        "* A mayor varianza o a mayor desviación estándar, el intervalo de confianza es más grande, con alpha (o confianza) y tamaño de la muestra fijas.\n",
        "\n",
        "* A menor tamaño de la muestra el intervalo es más grande, , con alpha (o confianza) y varianza (o desviación estándar) fijas.\n",
        "\n",
        "* A mayor confianza (o menor alpha) el intervalo es más grande, con varianza y tamaño fijos.\n",
        "\n",
        "Recuerde que en la práctica el valor que se puede escoger es el tamaño de la muestra.\n",
        "\n",
        "\n",
        "\n"
      ],
      "metadata": {
        "id": "gtshyUer2Ttc"
      }
    },
    {
      "cell_type": "markdown",
      "source": [
        "## Intervalo de confianza para la proporción de una población"
      ],
      "metadata": {
        "id": "WnbzqXVP5N5y"
      }
    },
    {
      "cell_type": "code",
      "source": [
        "muestra = pd.Series([1,0,1,0,1,0,1,0,1,0,1,0,1,0,1,0,1,0,1,1,1,0,1,1,1,1,0,1,0,\n",
        "                     1,0,1,0,1,0,1,0,1,0,1,0,1,0,1,0,1,0,1,1,1,0,1,1,1,1,0,1,0,\n",
        "                     1,0,1,0,1,0,1,0,1,0,1,0,1,0,1,0,1,0,1,1,1,0,1,1,1,1,0,1,0,\n",
        "                     1,0,1,0,1,0,1,0,1,0,1,0,1,0,1,0,1,0,1,1,1,0,1,1,1,1,0,1,0,\n",
        "                     1,0,1,0,1,0,1,0,1,0,1,0,1,0,1,0,1,0,1,1,1,0,1,1,1,1,0,1,0,\n",
        "                     1,0,1,0,1,0,1,0,1,0,1,0,1,0,1,0,1,0,1,1,1,0,1,1,1,1,0,1,0,\n",
        "                     1,0,1,0,1,0,1,0,1,0,1,0,1,0,1,0,1,0,1,1,1,0,1,1,1,1,0,1,0,\n",
        "                     1,0,1,0,1,0,1,0,1,0,1,0,1,0,1,0,1,0,1,1,1,0,1,1,1,1,0,1,0,\n",
        "                     1,0,1,0,1,0,1,0,1,0,1,0,1,0,1,0,1,0,1,1,1,0,1,1,1,1,0,1,0,\n",
        "                     1,0,1,0,1,0,1,0,1,0,1,0,1,0,1,0,1,0,1,1,1,0,1,1,1,1,0,1,0,\n",
        "                     1,0,1,0,1,0,1,0,1,0,1,0,1,0,1,0,1,0,1,1,1,0,1,1,1,1,0,1,0,\n",
        "                     1,0,1,0,1,0,1,0,1,0,1,0,1,0,1,0,1,0,1,1,1,0,1,1,1,1,0,1,0,\n",
        "                     1,0,1,0,1,0,1,0,1,0,1,0,1,0,1,0,1,0,1,1,1,0,1,1,1,1,0,1,0,\n",
        "                     1,0,1,0,1,0,1,0,1,0,1,0,1,0,1,0,1,0,1,1,1,0,1,1,1,1,0,1,0]*10000)\n",
        "alpha = 0.01\n",
        "varianza = muestra.std(ddof=0)**2\n",
        "l_inf, l_sup = conseg_interv_conf_media_var_con(muestra, alpha, varianza, print_m=True)\n",
        "l_inf, l_sup, l_sup- l_inf"
      ],
      "metadata": {
        "colab": {
          "base_uri": "https://localhost:8080/"
        },
        "id": "B903AxyP2TSC",
        "outputId": "674fd608-90ed-4d22-d64d-8ae2d31c8843"
      },
      "execution_count": 118,
      "outputs": [
        {
          "output_type": "stream",
          "name": "stdout",
          "text": [
            "Confianza del 99.0%\n",
            "Z_alpha/2 es: 2.576\n"
          ]
        },
        {
          "output_type": "execute_result",
          "data": {
            "text/plain": [
              "(0.5855772872311171, 0.586836505872331, 0.0012592186412139217)"
            ]
          },
          "metadata": {},
          "execution_count": 118
        }
      ]
    },
    {
      "cell_type": "code",
      "source": [
        "alpha = 0.1\n",
        "varianza = muestra.std(ddof=0)**2\n",
        "l_inf, l_sup = conseg_interv_conf_media_var_con(muestra, alpha, varianza, print_m=True)\n",
        "l_inf, l_sup, l_sup - l_inf"
      ],
      "metadata": {
        "colab": {
          "base_uri": "https://localhost:8080/"
        },
        "id": "hziciJfP-WoQ",
        "outputId": "f5c34354-4740-4f0b-a814-3f7d150d551d"
      },
      "execution_count": 119,
      "outputs": [
        {
          "output_type": "stream",
          "name": "stdout",
          "text": [
            "Confianza del 90.0%\n",
            "Z_alpha/2 es: 1.645\n"
          ]
        },
        {
          "output_type": "execute_result",
          "data": {
            "text/plain": [
              "(0.5858048453858584, 0.5866089477175898, 0.0008041023317313378)"
            ]
          },
          "metadata": {},
          "execution_count": 119
        }
      ]
    },
    {
      "cell_type": "markdown",
      "source": [
        "## ***Ejemplo Datos Reales.***\n",
        "\n",
        "En la reserva hay 390.955 árboles de los que disponemos de datos censales. La altura media de todos esos árboles es de 57,35 pies (17,5 metros). Por lo tanto, decimos que la **población** consta de 390.955 árboles, y que la **media poblacional** de la altura de los árboles es de 57,35 pies (es decir, la media de la altura de todos los árboles de la población es de 57,35 pies). Denotaremos la media de la población como la letra griega $\\mu$.\n"
      ],
      "metadata": {
        "id": "tl7gxcvyYFij"
      }
    },
    {
      "cell_type": "code",
      "source": [
        "censo = pd.read_csv(url_base + \"censo.csv\", names=[\"ID\",\"CN\", \"HT\"], header=0,\n",
        "                    usecols=[\"CN\",\"HT\"])\n",
        "display(censo.head())\n",
        "print(\"\\nTamaño de la población:\", censo.shape[0])"
      ],
      "metadata": {
        "colab": {
          "base_uri": "https://localhost:8080/",
          "height": 241
        },
        "id": "YmzofRPgX2Az",
        "outputId": "90cc6a0e-8e42-4b70-cb0d-639443dcc459"
      },
      "execution_count": 120,
      "outputs": [
        {
          "output_type": "display_data",
          "data": {
            "text/plain": [
              "                CN    HT\n",
              "0  248587121489998  35.0\n",
              "1    8888777010901  37.0\n",
              "2  449560175489998  51.0\n",
              "3  449558216489998  45.0\n",
              "4   23220187010497  39.0"
            ],
            "text/html": [
              "\n",
              "\n",
              "  <div id=\"df-3d3dc94e-d247-47da-becb-8f3296d60b18\">\n",
              "    <div class=\"colab-df-container\">\n",
              "      <div>\n",
              "<style scoped>\n",
              "    .dataframe tbody tr th:only-of-type {\n",
              "        vertical-align: middle;\n",
              "    }\n",
              "\n",
              "    .dataframe tbody tr th {\n",
              "        vertical-align: top;\n",
              "    }\n",
              "\n",
              "    .dataframe thead th {\n",
              "        text-align: right;\n",
              "    }\n",
              "</style>\n",
              "<table border=\"1\" class=\"dataframe\">\n",
              "  <thead>\n",
              "    <tr style=\"text-align: right;\">\n",
              "      <th></th>\n",
              "      <th>CN</th>\n",
              "      <th>HT</th>\n",
              "    </tr>\n",
              "  </thead>\n",
              "  <tbody>\n",
              "    <tr>\n",
              "      <th>0</th>\n",
              "      <td>248587121489998</td>\n",
              "      <td>35.0</td>\n",
              "    </tr>\n",
              "    <tr>\n",
              "      <th>1</th>\n",
              "      <td>8888777010901</td>\n",
              "      <td>37.0</td>\n",
              "    </tr>\n",
              "    <tr>\n",
              "      <th>2</th>\n",
              "      <td>449560175489998</td>\n",
              "      <td>51.0</td>\n",
              "    </tr>\n",
              "    <tr>\n",
              "      <th>3</th>\n",
              "      <td>449558216489998</td>\n",
              "      <td>45.0</td>\n",
              "    </tr>\n",
              "    <tr>\n",
              "      <th>4</th>\n",
              "      <td>23220187010497</td>\n",
              "      <td>39.0</td>\n",
              "    </tr>\n",
              "  </tbody>\n",
              "</table>\n",
              "</div>\n",
              "      <button class=\"colab-df-convert\" onclick=\"convertToInteractive('df-3d3dc94e-d247-47da-becb-8f3296d60b18')\"\n",
              "              title=\"Convert this dataframe to an interactive table.\"\n",
              "              style=\"display:none;\">\n",
              "\n",
              "  <svg xmlns=\"http://www.w3.org/2000/svg\" height=\"24px\"viewBox=\"0 0 24 24\"\n",
              "       width=\"24px\">\n",
              "    <path d=\"M0 0h24v24H0V0z\" fill=\"none\"/>\n",
              "    <path d=\"M18.56 5.44l.94 2.06.94-2.06 2.06-.94-2.06-.94-.94-2.06-.94 2.06-2.06.94zm-11 1L8.5 8.5l.94-2.06 2.06-.94-2.06-.94L8.5 2.5l-.94 2.06-2.06.94zm10 10l.94 2.06.94-2.06 2.06-.94-2.06-.94-.94-2.06-.94 2.06-2.06.94z\"/><path d=\"M17.41 7.96l-1.37-1.37c-.4-.4-.92-.59-1.43-.59-.52 0-1.04.2-1.43.59L10.3 9.45l-7.72 7.72c-.78.78-.78 2.05 0 2.83L4 21.41c.39.39.9.59 1.41.59.51 0 1.02-.2 1.41-.59l7.78-7.78 2.81-2.81c.8-.78.8-2.07 0-2.86zM5.41 20L4 18.59l7.72-7.72 1.47 1.35L5.41 20z\"/>\n",
              "  </svg>\n",
              "      </button>\n",
              "\n",
              "\n",
              "\n",
              "    <div id=\"df-0d05f1aa-cad2-47fd-94b8-bdbadcdb7f6b\">\n",
              "      <button class=\"colab-df-quickchart\" onclick=\"quickchart('df-0d05f1aa-cad2-47fd-94b8-bdbadcdb7f6b')\"\n",
              "              title=\"Suggest charts.\"\n",
              "              style=\"display:none;\">\n",
              "\n",
              "<svg xmlns=\"http://www.w3.org/2000/svg\" height=\"24px\"viewBox=\"0 0 24 24\"\n",
              "     width=\"24px\">\n",
              "    <g>\n",
              "        <path d=\"M19 3H5c-1.1 0-2 .9-2 2v14c0 1.1.9 2 2 2h14c1.1 0 2-.9 2-2V5c0-1.1-.9-2-2-2zM9 17H7v-7h2v7zm4 0h-2V7h2v10zm4 0h-2v-4h2v4z\"/>\n",
              "    </g>\n",
              "</svg>\n",
              "      </button>\n",
              "    </div>\n",
              "\n",
              "<style>\n",
              "  .colab-df-quickchart {\n",
              "    background-color: #E8F0FE;\n",
              "    border: none;\n",
              "    border-radius: 50%;\n",
              "    cursor: pointer;\n",
              "    display: none;\n",
              "    fill: #1967D2;\n",
              "    height: 32px;\n",
              "    padding: 0 0 0 0;\n",
              "    width: 32px;\n",
              "  }\n",
              "\n",
              "  .colab-df-quickchart:hover {\n",
              "    background-color: #E2EBFA;\n",
              "    box-shadow: 0px 1px 2px rgba(60, 64, 67, 0.3), 0px 1px 3px 1px rgba(60, 64, 67, 0.15);\n",
              "    fill: #174EA6;\n",
              "  }\n",
              "\n",
              "  [theme=dark] .colab-df-quickchart {\n",
              "    background-color: #3B4455;\n",
              "    fill: #D2E3FC;\n",
              "  }\n",
              "\n",
              "  [theme=dark] .colab-df-quickchart:hover {\n",
              "    background-color: #434B5C;\n",
              "    box-shadow: 0px 1px 3px 1px rgba(0, 0, 0, 0.15);\n",
              "    filter: drop-shadow(0px 1px 2px rgba(0, 0, 0, 0.3));\n",
              "    fill: #FFFFFF;\n",
              "  }\n",
              "</style>\n",
              "\n",
              "    <script>\n",
              "      async function quickchart(key) {\n",
              "        const containerElement = document.querySelector('#' + key);\n",
              "        const charts = await google.colab.kernel.invokeFunction(\n",
              "            'suggestCharts', [key], {});\n",
              "      }\n",
              "    </script>\n",
              "\n",
              "      <script>\n",
              "\n",
              "function displayQuickchartButton(domScope) {\n",
              "  let quickchartButtonEl =\n",
              "    domScope.querySelector('#df-0d05f1aa-cad2-47fd-94b8-bdbadcdb7f6b button.colab-df-quickchart');\n",
              "  quickchartButtonEl.style.display =\n",
              "    google.colab.kernel.accessAllowed ? 'block' : 'none';\n",
              "}\n",
              "\n",
              "        displayQuickchartButton(document);\n",
              "      </script>\n",
              "      <style>\n",
              "    .colab-df-container {\n",
              "      display:flex;\n",
              "      flex-wrap:wrap;\n",
              "      gap: 12px;\n",
              "    }\n",
              "\n",
              "    .colab-df-convert {\n",
              "      background-color: #E8F0FE;\n",
              "      border: none;\n",
              "      border-radius: 50%;\n",
              "      cursor: pointer;\n",
              "      display: none;\n",
              "      fill: #1967D2;\n",
              "      height: 32px;\n",
              "      padding: 0 0 0 0;\n",
              "      width: 32px;\n",
              "    }\n",
              "\n",
              "    .colab-df-convert:hover {\n",
              "      background-color: #E2EBFA;\n",
              "      box-shadow: 0px 1px 2px rgba(60, 64, 67, 0.3), 0px 1px 3px 1px rgba(60, 64, 67, 0.15);\n",
              "      fill: #174EA6;\n",
              "    }\n",
              "\n",
              "    [theme=dark] .colab-df-convert {\n",
              "      background-color: #3B4455;\n",
              "      fill: #D2E3FC;\n",
              "    }\n",
              "\n",
              "    [theme=dark] .colab-df-convert:hover {\n",
              "      background-color: #434B5C;\n",
              "      box-shadow: 0px 1px 3px 1px rgba(0, 0, 0, 0.15);\n",
              "      filter: drop-shadow(0px 1px 2px rgba(0, 0, 0, 0.3));\n",
              "      fill: #FFFFFF;\n",
              "    }\n",
              "  </style>\n",
              "\n",
              "      <script>\n",
              "        const buttonEl =\n",
              "          document.querySelector('#df-3d3dc94e-d247-47da-becb-8f3296d60b18 button.colab-df-convert');\n",
              "        buttonEl.style.display =\n",
              "          google.colab.kernel.accessAllowed ? 'block' : 'none';\n",
              "\n",
              "        async function convertToInteractive(key) {\n",
              "          const element = document.querySelector('#df-3d3dc94e-d247-47da-becb-8f3296d60b18');\n",
              "          const dataTable =\n",
              "            await google.colab.kernel.invokeFunction('convertToInteractive',\n",
              "                                                     [key], {});\n",
              "          if (!dataTable) return;\n",
              "\n",
              "          const docLinkHtml = 'Like what you see? Visit the ' +\n",
              "            '<a target=\"_blank\" href=https://colab.research.google.com/notebooks/data_table.ipynb>data table notebook</a>'\n",
              "            + ' to learn more about interactive tables.';\n",
              "          element.innerHTML = '';\n",
              "          dataTable['output_type'] = 'display_data';\n",
              "          await google.colab.output.renderOutput(dataTable, element);\n",
              "          const docLink = document.createElement('div');\n",
              "          docLink.innerHTML = docLinkHtml;\n",
              "          element.appendChild(docLink);\n",
              "        }\n",
              "      </script>\n",
              "    </div>\n",
              "  </div>\n"
            ]
          },
          "metadata": {}
        },
        {
          "output_type": "stream",
          "name": "stdout",
          "text": [
            "\n",
            "Tamaño de la población: 390955\n"
          ]
        }
      ]
    },
    {
      "cell_type": "code",
      "source": [
        "alpha = 0.01"
      ],
      "metadata": {
        "id": "XK-mnOv1BjkR"
      },
      "execution_count": 126,
      "outputs": []
    },
    {
      "cell_type": "code",
      "source": [
        "mu_california = 30\n",
        "ttest(censo['HT'].sample(100),mu_california, confidence=1-alpha)"
      ],
      "metadata": {
        "colab": {
          "base_uri": "https://localhost:8080/",
          "height": 142
        },
        "id": "UUbHSzWYY8v1",
        "outputId": "d9113d8d-61a8-4433-febd-f314f821ade9"
      },
      "execution_count": 127,
      "outputs": [
        {
          "output_type": "execute_result",
          "data": {
            "text/plain": [
              "               T  dof alternative         p-val  \\\n",
              "T-test  5.699565   84   two-sided  1.737676e-07   \n",
              "\n",
              "                                         CI99%   cohen-d       BF10    power  \n",
              "T-test  [43.31283802026775, 66.21657374443814]  0.618205  7.574e+04  0.99988  "
            ],
            "text/html": [
              "\n",
              "\n",
              "  <div id=\"df-826087d4-4936-4675-8411-45720097fa1b\">\n",
              "    <div class=\"colab-df-container\">\n",
              "      <div>\n",
              "<style scoped>\n",
              "    .dataframe tbody tr th:only-of-type {\n",
              "        vertical-align: middle;\n",
              "    }\n",
              "\n",
              "    .dataframe tbody tr th {\n",
              "        vertical-align: top;\n",
              "    }\n",
              "\n",
              "    .dataframe thead th {\n",
              "        text-align: right;\n",
              "    }\n",
              "</style>\n",
              "<table border=\"1\" class=\"dataframe\">\n",
              "  <thead>\n",
              "    <tr style=\"text-align: right;\">\n",
              "      <th></th>\n",
              "      <th>T</th>\n",
              "      <th>dof</th>\n",
              "      <th>alternative</th>\n",
              "      <th>p-val</th>\n",
              "      <th>CI99%</th>\n",
              "      <th>cohen-d</th>\n",
              "      <th>BF10</th>\n",
              "      <th>power</th>\n",
              "    </tr>\n",
              "  </thead>\n",
              "  <tbody>\n",
              "    <tr>\n",
              "      <th>T-test</th>\n",
              "      <td>5.699565</td>\n",
              "      <td>84</td>\n",
              "      <td>two-sided</td>\n",
              "      <td>1.737676e-07</td>\n",
              "      <td>[43.31283802026775, 66.21657374443814]</td>\n",
              "      <td>0.618205</td>\n",
              "      <td>7.574e+04</td>\n",
              "      <td>0.99988</td>\n",
              "    </tr>\n",
              "  </tbody>\n",
              "</table>\n",
              "</div>\n",
              "      <button class=\"colab-df-convert\" onclick=\"convertToInteractive('df-826087d4-4936-4675-8411-45720097fa1b')\"\n",
              "              title=\"Convert this dataframe to an interactive table.\"\n",
              "              style=\"display:none;\">\n",
              "\n",
              "  <svg xmlns=\"http://www.w3.org/2000/svg\" height=\"24px\"viewBox=\"0 0 24 24\"\n",
              "       width=\"24px\">\n",
              "    <path d=\"M0 0h24v24H0V0z\" fill=\"none\"/>\n",
              "    <path d=\"M18.56 5.44l.94 2.06.94-2.06 2.06-.94-2.06-.94-.94-2.06-.94 2.06-2.06.94zm-11 1L8.5 8.5l.94-2.06 2.06-.94-2.06-.94L8.5 2.5l-.94 2.06-2.06.94zm10 10l.94 2.06.94-2.06 2.06-.94-2.06-.94-.94-2.06-.94 2.06-2.06.94z\"/><path d=\"M17.41 7.96l-1.37-1.37c-.4-.4-.92-.59-1.43-.59-.52 0-1.04.2-1.43.59L10.3 9.45l-7.72 7.72c-.78.78-.78 2.05 0 2.83L4 21.41c.39.39.9.59 1.41.59.51 0 1.02-.2 1.41-.59l7.78-7.78 2.81-2.81c.8-.78.8-2.07 0-2.86zM5.41 20L4 18.59l7.72-7.72 1.47 1.35L5.41 20z\"/>\n",
              "  </svg>\n",
              "      </button>\n",
              "\n",
              "\n",
              "\n",
              "    <div id=\"df-72a1b173-79b8-4844-b1a8-73b3ad7e8a1f\">\n",
              "      <button class=\"colab-df-quickchart\" onclick=\"quickchart('df-72a1b173-79b8-4844-b1a8-73b3ad7e8a1f')\"\n",
              "              title=\"Suggest charts.\"\n",
              "              style=\"display:none;\">\n",
              "\n",
              "<svg xmlns=\"http://www.w3.org/2000/svg\" height=\"24px\"viewBox=\"0 0 24 24\"\n",
              "     width=\"24px\">\n",
              "    <g>\n",
              "        <path d=\"M19 3H5c-1.1 0-2 .9-2 2v14c0 1.1.9 2 2 2h14c1.1 0 2-.9 2-2V5c0-1.1-.9-2-2-2zM9 17H7v-7h2v7zm4 0h-2V7h2v10zm4 0h-2v-4h2v4z\"/>\n",
              "    </g>\n",
              "</svg>\n",
              "      </button>\n",
              "    </div>\n",
              "\n",
              "<style>\n",
              "  .colab-df-quickchart {\n",
              "    background-color: #E8F0FE;\n",
              "    border: none;\n",
              "    border-radius: 50%;\n",
              "    cursor: pointer;\n",
              "    display: none;\n",
              "    fill: #1967D2;\n",
              "    height: 32px;\n",
              "    padding: 0 0 0 0;\n",
              "    width: 32px;\n",
              "  }\n",
              "\n",
              "  .colab-df-quickchart:hover {\n",
              "    background-color: #E2EBFA;\n",
              "    box-shadow: 0px 1px 2px rgba(60, 64, 67, 0.3), 0px 1px 3px 1px rgba(60, 64, 67, 0.15);\n",
              "    fill: #174EA6;\n",
              "  }\n",
              "\n",
              "  [theme=dark] .colab-df-quickchart {\n",
              "    background-color: #3B4455;\n",
              "    fill: #D2E3FC;\n",
              "  }\n",
              "\n",
              "  [theme=dark] .colab-df-quickchart:hover {\n",
              "    background-color: #434B5C;\n",
              "    box-shadow: 0px 1px 3px 1px rgba(0, 0, 0, 0.15);\n",
              "    filter: drop-shadow(0px 1px 2px rgba(0, 0, 0, 0.3));\n",
              "    fill: #FFFFFF;\n",
              "  }\n",
              "</style>\n",
              "\n",
              "    <script>\n",
              "      async function quickchart(key) {\n",
              "        const containerElement = document.querySelector('#' + key);\n",
              "        const charts = await google.colab.kernel.invokeFunction(\n",
              "            'suggestCharts', [key], {});\n",
              "      }\n",
              "    </script>\n",
              "\n",
              "      <script>\n",
              "\n",
              "function displayQuickchartButton(domScope) {\n",
              "  let quickchartButtonEl =\n",
              "    domScope.querySelector('#df-72a1b173-79b8-4844-b1a8-73b3ad7e8a1f button.colab-df-quickchart');\n",
              "  quickchartButtonEl.style.display =\n",
              "    google.colab.kernel.accessAllowed ? 'block' : 'none';\n",
              "}\n",
              "\n",
              "        displayQuickchartButton(document);\n",
              "      </script>\n",
              "      <style>\n",
              "    .colab-df-container {\n",
              "      display:flex;\n",
              "      flex-wrap:wrap;\n",
              "      gap: 12px;\n",
              "    }\n",
              "\n",
              "    .colab-df-convert {\n",
              "      background-color: #E8F0FE;\n",
              "      border: none;\n",
              "      border-radius: 50%;\n",
              "      cursor: pointer;\n",
              "      display: none;\n",
              "      fill: #1967D2;\n",
              "      height: 32px;\n",
              "      padding: 0 0 0 0;\n",
              "      width: 32px;\n",
              "    }\n",
              "\n",
              "    .colab-df-convert:hover {\n",
              "      background-color: #E2EBFA;\n",
              "      box-shadow: 0px 1px 2px rgba(60, 64, 67, 0.3), 0px 1px 3px 1px rgba(60, 64, 67, 0.15);\n",
              "      fill: #174EA6;\n",
              "    }\n",
              "\n",
              "    [theme=dark] .colab-df-convert {\n",
              "      background-color: #3B4455;\n",
              "      fill: #D2E3FC;\n",
              "    }\n",
              "\n",
              "    [theme=dark] .colab-df-convert:hover {\n",
              "      background-color: #434B5C;\n",
              "      box-shadow: 0px 1px 3px 1px rgba(0, 0, 0, 0.15);\n",
              "      filter: drop-shadow(0px 1px 2px rgba(0, 0, 0, 0.3));\n",
              "      fill: #FFFFFF;\n",
              "    }\n",
              "  </style>\n",
              "\n",
              "      <script>\n",
              "        const buttonEl =\n",
              "          document.querySelector('#df-826087d4-4936-4675-8411-45720097fa1b button.colab-df-convert');\n",
              "        buttonEl.style.display =\n",
              "          google.colab.kernel.accessAllowed ? 'block' : 'none';\n",
              "\n",
              "        async function convertToInteractive(key) {\n",
              "          const element = document.querySelector('#df-826087d4-4936-4675-8411-45720097fa1b');\n",
              "          const dataTable =\n",
              "            await google.colab.kernel.invokeFunction('convertToInteractive',\n",
              "                                                     [key], {});\n",
              "          if (!dataTable) return;\n",
              "\n",
              "          const docLinkHtml = 'Like what you see? Visit the ' +\n",
              "            '<a target=\"_blank\" href=https://colab.research.google.com/notebooks/data_table.ipynb>data table notebook</a>'\n",
              "            + ' to learn more about interactive tables.';\n",
              "          element.innerHTML = '';\n",
              "          dataTable['output_type'] = 'display_data';\n",
              "          await google.colab.output.renderOutput(dataTable, element);\n",
              "          const docLink = document.createElement('div');\n",
              "          docLink.innerHTML = docLinkHtml;\n",
              "          element.appendChild(docLink);\n",
              "        }\n",
              "      </script>\n",
              "    </div>\n",
              "  </div>\n"
            ]
          },
          "metadata": {},
          "execution_count": 127
        }
      ]
    },
    {
      "cell_type": "markdown",
      "source": [
        "**El intervalo de confianza NO DEPENDE de mu_california**"
      ],
      "metadata": {
        "id": "w_d2ui-qCX3a"
      }
    },
    {
      "cell_type": "markdown",
      "source": [
        "p-valor > $\\alpha$   entonces no hay evidencia para rechazar."
      ],
      "metadata": {
        "id": "AFQ-3w-pCAqx"
      }
    },
    {
      "cell_type": "markdown",
      "source": [
        "$H_0$: $\\mu=30$ <br>\n",
        "$H_1$: $\\mu \\neq 30$"
      ],
      "metadata": {
        "id": "4crsHLvLBIKL"
      }
    },
    {
      "cell_type": "code",
      "source": [],
      "metadata": {
        "id": "W-A0R5OOA53m"
      },
      "execution_count": null,
      "outputs": []
    }
  ]
}