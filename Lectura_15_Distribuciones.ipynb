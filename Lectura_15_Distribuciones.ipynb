{
 "cells": [
  {
   "cell_type": "markdown",
   "metadata": {
    "id": "SQR_C2IAEEak"
   },
   "source": [
    "---\n",
    "\n",
    "<p align=\"center\">\n",
    "  <img src=\"https://raw.githubusercontent.com/lacamposm/Diplomado_Metodos_UCentral/main/data/images/imagen_ucentral.jpg\" alt=\"logo_Ucentral\" width=\"400px\" height=\"300px\">\n",
    "</p>\n"
   ]
  },
  {
   "cell_type": "markdown",
   "metadata": {},
   "source": [
    "# ___Diplomado: Métodos Estadísticos para el Análisis de Datos___\n",
    "\n",
    "## ___Docente: Luis Andres Campos Maldonado.___\n",
    "\n",
    "### ___Variables Aleatorias-Funciones de Probabilidad.___\n",
    "\n",
    "\n",
    "##### ***Distribuciones de probabilidad.***\n",
    "\n",
    "Vamos a considerar algunas distribuciones que serán de uso en lo que resta del curso.\n",
    "\n",
    "- Distribución Binomial.\n",
    "- Distribución Normal."
   ]
  },
  {
   "cell_type": "code",
   "execution_count": 1,
   "metadata": {
    "executionInfo": {
     "elapsed": 408,
     "status": "ok",
     "timestamp": 1664234759619,
     "user": {
      "displayName": "luis andres campos maldonado",
      "userId": "11260189668651664411"
     },
     "user_tz": 300
    },
    "id": "Oo3VEHbIEm33"
   },
   "outputs": [],
   "source": [
    "import pandas as pd\n",
    "import numpy as np\n",
    "import matplotlib.pyplot as plt\n",
    "import seaborn as sns\n",
    "from scipy.stats import bernoulli, binom, norm\n",
    "\n",
    "sns.set_style(\"darkgrid\")"
   ]
  },
  {
   "cell_type": "markdown",
   "metadata": {
    "id": "bZ6JNW1YEUDQ"
   },
   "source": [
    "## ***Distribuciones.***\n",
    "\n",
    "Vamos a considerar algunas distribuciones que serán de uso en lo que resta del curso.\n",
    "\n",
    "- Distribución Binomial.\n",
    "- Distribución Normal."
   ]
  },
  {
   "cell_type": "markdown",
   "metadata": {
    "id": "NqopBmhZsTip"
   },
   "source": [
    "### ***Distribución de Bernoulli.***\n",
    "\n",
    "\n",
    "Una variable de Bernoulli se da cuando en un experimento aleatorio tenemos solo dos resultados posibles: \n",
    "\n",
    "- $E$ evento llamado : **éxito**\n",
    "\n",
    "- $E^c$ evento llamado : **fracaso**\n",
    "\n",
    "En este caso, si $P(E)=p$ entonces $P(E^c)=1-p$\n",
    "\n",
    "Una Variable Aleatoria definida así:\n",
    "\n",
    "$$\\begin{align*} X \\,  :& \\, \\Omega \\longrightarrow \\mathbb{R} \\\\ & \\omega \\longrightarrow X(\\omega)= \\begin{cases} 1 & si \\quad \\omega=E \\\\ 0 & si \\quad \\omega=E^c  \\end{cases} \\end{align*}$$\n",
    "se le llama *variable aleatoria de Bernoulli* de parámetro $p$: $X \\sim B(p)$\n",
    "\n",
    "Además, la función de densidad está dada por :\n",
    "\n",
    "$$f(x)= \\begin{cases} 1-p & si \\quad x=0 \\\\ p & si \\quad x=1 \\\\ 0 & \\text{en otro caso}  \\end{cases} = \\begin{cases} p^x(1-p)^{1-x} & si \\quad x=0,1 \\\\ 0 & \\text{en otro caso} \\end{cases}$$\n",
    "y la distribución de probabilidad\n",
    "\n",
    "$$F(x)= \\begin{cases} 0 & si \\quad x<0 \\\\ 1-p & si \\quad 0 \\leq x < 1 \\\\ 1 & si \\quad x \\geq 1  \\end{cases}$$\n",
    "El valor esperado o la esperanza de la variable aleatoria está dado por:\n",
    "\n",
    "$$\\begin{align*} E(X) & =\\sum \\limits_{x} xf(x) \\\\ & = 0.(1-p)+1.p \\\\ & =  p \\end{align*}$$ \n",
    "Por otro lado,la varianza \n",
    "\n",
    "$$\\begin{align*} Var(X) & =E(X^2)-E(X)^2 \\\\ & = \\sum \\limits_{x} x^2f(x) - p^2 \\\\& =  0^2(1-p)+1^2(p)-p^2 \\\\ & =p-p^2 \\\\ & = p(1-p) \\end{align*}$$\n",
    "\n"
   ]
  },
  {
   "cell_type": "markdown",
   "metadata": {
    "id": "gyCcjzJKsabN"
   },
   "source": [
    "#### ***Ejemplo 1.***\n",
    "\n",
    "Vamos a simular una variable aleatoria de Bernoulli, haciendo uso de `Python` con la instrucción *bernoulli.rvs(p,N)*, donde $p$ es la probabilidad de éxito y N es el número de simulaciones del experimento."
   ]
  },
  {
   "cell_type": "code",
   "execution_count": 2,
   "metadata": {
    "colab": {
     "base_uri": "https://localhost:8080/"
    },
    "executionInfo": {
     "elapsed": 19,
     "status": "ok",
     "timestamp": 1664234760414,
     "user": {
      "displayName": "luis andres campos maldonado",
      "userId": "11260189668651664411"
     },
     "user_tz": 300
    },
    "id": "BT_WMNtduQCo",
    "outputId": "96ad0519-7d3f-45f4-ea08-4f6448babd90"
   },
   "outputs": [
    {
     "data": {
      "text/plain": [
       "array([0, 0, 0, 0, 1, 0, 1, 0, 0, 0])"
      ]
     },
     "execution_count": 2,
     "metadata": {},
     "output_type": "execute_result"
    }
   ],
   "source": [
    "## Simulamos 10 eventos bernoullis de parámetro p=0.3\n",
    "bernoulli.rvs(p=0.3, size=10,random_state=123)"
   ]
  },
  {
   "cell_type": "code",
   "execution_count": 3,
   "metadata": {
    "colab": {
     "base_uri": "https://localhost:8080/"
    },
    "executionInfo": {
     "elapsed": 17,
     "status": "ok",
     "timestamp": 1664234760414,
     "user": {
      "displayName": "luis andres campos maldonado",
      "userId": "11260189668651664411"
     },
     "user_tz": 300
    },
    "id": "maImTy_xxAmQ",
    "outputId": "11313dc4-4a1d-46a3-dc92-646a4b2bd6a6"
   },
   "outputs": [
    {
     "data": {
      "text/plain": [
       "(array([0, 1]), array([70050, 29950]))"
      ]
     },
     "execution_count": 3,
     "metadata": {},
     "output_type": "execute_result"
    }
   ],
   "source": [
    "x = bernoulli.rvs(p=0.3, size=100_000, random_state=1)\n",
    "grap = np.unique(x, return_counts=True)\n",
    "grap"
   ]
  },
  {
   "cell_type": "code",
   "execution_count": 4,
   "metadata": {
    "colab": {
     "base_uri": "https://localhost:8080/",
     "height": 339
    },
    "executionInfo": {
     "elapsed": 16,
     "status": "ok",
     "timestamp": 1664234760417,
     "user": {
      "displayName": "luis andres campos maldonado",
      "userId": "11260189668651664411"
     },
     "user_tz": 300
    },
    "id": "oDTGLaKMu8yR",
    "outputId": "6c8b6e2c-26b6-4dc9-af31-47a968bbc3f9"
   },
   "outputs": [
    {
     "data": {
      "image/png": "[encoded data removed]",
      "text/plain": [
       "<Figure size 1300x500 with 1 Axes>"
      ]
     },
     "metadata": {},
     "output_type": "display_data"
    }
   ],
   "source": [
    "x = pd.DataFrame(x, columns=[\"simulacion\"])\n",
    "plt.figure(figsize=(13,5))\n",
    "sns.countplot(data=x , y=\"simulacion\", color=\"skyblue\")\n",
    "plt.xlabel(\"Conteo\", size = 15, style=\"italic\")\n",
    "plt.ylabel(\"Espacio muestral\", size = 15, style=\"italic\")\n",
    "plt.show()"
   ]
  },
  {
   "cell_type": "markdown",
   "metadata": {
    "id": "irWZdqn5s3QY"
   },
   "source": [
    "Note que en la situación anterior se espera que al realizar múltiples veces el experimento el total de éxitos es del 30% aproximadamente. Recuerde que el valor esperado es 0.3 y la varianza es 0.21."
   ]
  },
  {
   "cell_type": "markdown",
   "metadata": {
    "id": "r4swNmlVyk1C"
   },
   "source": [
    "#### ***Ejemplo 2 (Bernoulli).***\n",
    "\n",
    "Al lanzar una moneda los dos eventos posibles son cara y sello. Si asignamos los valores de $1$ y $0$ obtenemos una variable aleatoria que se distribuye Bernoulli. \n",
    "\n",
    "```python\n",
    "## Función de probabilidad\n",
    "omega = [\"cara\", \"sello\"]\n",
    "probas = bernoulli.pmf([0,1], p = 0.5)\n",
    "for i,j in zip(omega,probas):\n",
    "    print(\"La probabilidad de\", i, \"es:\", j)\n",
    "```\n",
    "\n"
   ]
  },
  {
   "cell_type": "code",
   "execution_count": 5,
   "metadata": {
    "colab": {
     "base_uri": "https://localhost:8080/"
    },
    "executionInfo": {
     "elapsed": 15,
     "status": "ok",
     "timestamp": 1664234760418,
     "user": {
      "displayName": "luis andres campos maldonado",
      "userId": "11260189668651664411"
     },
     "user_tz": 300
    },
    "id": "6_ZlkEyTzhIk",
    "outputId": "2dc518f1-8d96-4d55-c4ea-c4d88e2acc8b"
   },
   "outputs": [
    {
     "name": "stdout",
     "output_type": "stream",
     "text": [
      "La probabilidad de cara es: 0.5\n",
      "La probabilidad de sello es: 0.5\n"
     ]
    }
   ],
   "source": [
    "# Celda para probar.\n",
    "## Función de probabilidad\n",
    "omega = [\"cara\", \"sello\"]\n",
    "probas = bernoulli.pmf([0,1], p=0.5)\n",
    "for i,j in zip(omega, probas):\n",
    "    print(\"La probabilidad de\", i, \"es:\", j)"
   ]
  },
  {
   "cell_type": "markdown",
   "metadata": {
    "id": "VcWgKj1J1DBn"
   },
   "source": [
    "#### ***Ejemplo 3 (Bernoulli).***\n",
    "\n",
    "En un lote de $400$ piñones se selecciona un piñon al azar, determinaremos si está defectuoso o no. Si sabemos que en el lote hay $100$ piñones  defectuosos y $E$ = \"el piñon extraído es defectuso\", entonces\n",
    "\n",
    "$$P(E)=\\dfrac{100}{400}=\\dfrac{1}{4}$$\n",
    "\n",
    "Esto nos permite definir una variable aleatoria con $X(E)=1$ y $X(E^c)=0$. Además, \n",
    "\n",
    "- $P(X=1)=p=\\dfrac{1}{4}$\n",
    "- $P(X=0)=\\dfrac{300}{400}=\\dfrac{3}{4}$\n",
    "\n",
    "En este caso, $X \\sim B(1/4)$"
   ]
  },
  {
   "cell_type": "markdown",
   "metadata": {
    "id": "YvvWdBBn1PpY"
   },
   "source": [
    "## ***Distribución Binomial.***\n",
    "\n",
    "\n",
    "La distribución binomial se obtiene a partir de la realización de $n$ experimentos de Bernoulli de manera sucesiva, teniendo en cuenta que cada evento es independiente del anterior.\n",
    "\n",
    "Definimos la variable aleatoria\n",
    "\n",
    "$X$= número de éxitos en las $n$ pruebas. \n",
    "\n",
    "Si consideramos que $p$ es la probabilidad de éxito, entonces se dice que $X$ se distribuye Binomial con parámetros $n$ y $p$, y se denota\n",
    "\n",
    "$$X \\sim B(n,p)$$\n",
    "\n",
    "La variable $X$ puede tomar los valores $0,1,2, \\dots, n$. Además, la probabilidad se calcula de la siguiente manera:\n",
    "\n",
    "- Probabilidad que en $n$ intentos de un experimento aletario, no se obtenga \"éxito\"\n",
    "\n",
    "$$P(X=0)=(1-p)^{n}$$ \n",
    "\n",
    "es decir, todos son intentos son fracasos.\n",
    "\n",
    "- Probabilidad que en $n$ intentos de un experimento aletario, se obtenga una vez \"éxito\"\n",
    "\n",
    "$$P(X=1)= \\binom{n}{1}p(1-p)^{n-1} $$\n",
    "En general\n",
    "\n",
    "$$P(X=k)= \\binom{n}{k}p^{k}(1-p)^{n-k} $$\n",
    "La distribución Binomial se da en ciertas características:\n",
    "\n",
    "- En cada ensayo o experimento solo hay dos posibles resultados: éxito o fracaso.\n",
    "\n",
    "- La probabilidad de éxito es constante. \n",
    "\n",
    "- El resultado de cada experimento es independiente del anterior.\n",
    "\n",
    "- Los sucesos son mutuamente excluyentes.\n",
    "\n",
    "Además, usando la definición, es posible deducir lo siguiente\n",
    "\n",
    "- $E[X]=np$\n",
    "\n",
    "- $Var[X]=np(1-p)$\n",
    "\n",
    "***Veamos un par de ejemplos:***"
   ]
  },
  {
   "cell_type": "markdown",
   "metadata": {
    "id": "kvj54q1h1Vqx"
   },
   "source": [
    "#### ***Ejemplo 1 (Binomial).***\n",
    "\n",
    "Supongamos que el $70 \\%$ de personas de una ciudad ha visto la final de fútbol de los equipos de la región. En una reunión, cinco personas comparten experiencias. ¿Cuál es la probabilidad de que 3 de ellos hayan visto el partido de Fúlbol?\n",
    "\n",
    "**Solución:** Dado el problema tenemos los siguientes datos:\n",
    "\n",
    "- $n=5$\n",
    "\n",
    "- $X$ = \"Número de éxitos.\"\n",
    "\n",
    "- $p=0.7$: probabilidad de éxito, es decir, de que una persona haya visto el partido.\n",
    "\n",
    "- Nos preguntan : $P(X=3)$\n",
    "\n",
    "$$P(X=3)= \\binom{5}{3}(0.7)^{3}(0.3)^{2}$$"
   ]
  },
  {
   "cell_type": "markdown",
   "metadata": {
    "id": "znXgfr4Y1c8F"
   },
   "source": [
    "Antes de calcular la probabilidad, simulemos el experimento:"
   ]
  },
  {
   "cell_type": "code",
   "execution_count": 6,
   "metadata": {},
   "outputs": [
    {
     "data": {
      "text/plain": [
       "array([5, 4, 1, 5, 4, 4, 4, 2, 5, 5])"
      ]
     },
     "execution_count": 6,
     "metadata": {},
     "output_type": "execute_result"
    }
   ],
   "source": [
    "binom.rvs(n=5, p=0.7 , size=10)"
   ]
  },
  {
   "cell_type": "code",
   "execution_count": 7,
   "metadata": {
    "colab": {
     "base_uri": "https://localhost:8080/"
    },
    "executionInfo": {
     "elapsed": 574,
     "status": "ok",
     "timestamp": 1664234760981,
     "user": {
      "displayName": "luis andres campos maldonado",
      "userId": "11260189668651664411"
     },
     "user_tz": 300
    },
    "id": "yqJ1YzmT1dww",
    "outputId": "f3a01c46-7676-419c-ce88-c12d403b795e"
   },
   "outputs": [
    {
     "name": "stdout",
     "output_type": "stream",
     "text": [
      "Simulación 1 :  [3 3 3 3 4 3 4 2 2 4]\n",
      "Simulación 2 :  [4 3 5 4 5 5 4 4 4 3]\n",
      "Simulación 3 :  [4 5 3 4 4 4 4 3 4 4]\n",
      "Simulación 4 :  [3 3 4 4 2 2 5 4 5 4]\n",
      "Simulación 5 :  [2 3 1 3 3 4 1 5 4 4]\n"
     ]
    }
   ],
   "source": [
    "## binom.rvs(n,p,size); n = parámetro binomial, p = proba de éxito, \n",
    "## size = tamaño muestra aleatoria.\n",
    "for random in range(5):\n",
    "  print(\"Simulación\",random +1,\": \",binom.rvs(5, p=0.7, random_state=random , size=10))"
   ]
  },
  {
   "cell_type": "markdown",
   "metadata": {
    "id": "gHyiHdm53Vle"
   },
   "source": [
    "Para calcular este valor en `Python`, usamos la instrucción `binom.pmf(k,n,p)`, donde $k$ es el valor que toma la variable aleatoria, $n$ es el número de ensayos independientes y $p$ es la probabilidad de éxito de cada ensayo."
   ]
  },
  {
   "cell_type": "code",
   "execution_count": 8,
   "metadata": {
    "colab": {
     "base_uri": "https://localhost:8080/"
    },
    "executionInfo": {
     "elapsed": 51,
     "status": "ok",
     "timestamp": 1664234760982,
     "user": {
      "displayName": "luis andres campos maldonado",
      "userId": "11260189668651664411"
     },
     "user_tz": 300
    },
    "id": "k819tjgW3skA",
    "outputId": "b4c3d448-150e-42e2-de71-b73acfe07618"
   },
   "outputs": [
    {
     "name": "stdout",
     "output_type": "stream",
     "text": [
      "La probabilidad de que 3 de ellos hayan visto el partido de fútbol es: 0.3087\n"
     ]
    }
   ],
   "source": [
    "p = binom.pmf(k=3, n=5, p=0.7)\n",
    "print(\"La probabilidad de que 3 de ellos hayan visto el partido de fútbol es:\", round(p,4))"
   ]
  },
  {
   "cell_type": "code",
   "execution_count": 9,
   "metadata": {
    "colab": {
     "base_uri": "https://localhost:8080/"
    },
    "executionInfo": {
     "elapsed": 48,
     "status": "ok",
     "timestamp": 1664234760982,
     "user": {
      "displayName": "luis andres campos maldonado",
      "userId": "11260189668651664411"
     },
     "user_tz": 300
    },
    "id": "WSCUKTKu4fgX",
    "outputId": "be12def6-4906-4bb6-8dad-a82fcfe11e4d"
   },
   "outputs": [
    {
     "data": {
      "text/plain": [
       "array([0.00243, 0.02835, 0.1323 , 0.3087 , 0.36015, 0.16807])"
      ]
     },
     "execution_count": 9,
     "metadata": {},
     "output_type": "execute_result"
    }
   ],
   "source": [
    "## Todas las probabilidad para este caso.\n",
    "binom.pmf(k=[i for i in range(6)], n=5, p=0.7)"
   ]
  },
  {
   "cell_type": "code",
   "execution_count": 10,
   "metadata": {
    "colab": {
     "base_uri": "https://localhost:8080/"
    },
    "executionInfo": {
     "elapsed": 43,
     "status": "ok",
     "timestamp": 1664234760983,
     "user": {
      "displayName": "luis andres campos maldonado",
      "userId": "11260189668651664411"
     },
     "user_tz": 300
    },
    "id": "s_Y0Bwt048NG",
    "outputId": "06182642-1eb9-48c2-cac8-68788091f057"
   },
   "outputs": [
    {
     "data": {
      "text/plain": [
       "array([0.02835, 0.36015, 0.16807])"
      ]
     },
     "execution_count": 10,
     "metadata": {},
     "output_type": "execute_result"
    }
   ],
   "source": [
    "binom.pmf([1,4,5], n=5, p=0.7) ## P(X=1), P(X=4), P(X=5)"
   ]
  },
  {
   "cell_type": "code",
   "execution_count": 11,
   "metadata": {
    "colab": {
     "base_uri": "https://localhost:8080/"
    },
    "executionInfo": {
     "elapsed": 38,
     "status": "ok",
     "timestamp": 1664234760983,
     "user": {
      "displayName": "luis andres campos maldonado",
      "userId": "11260189668651664411"
     },
     "user_tz": 300
    },
    "id": "7YurQoVG5FxZ",
    "outputId": "abc3a734-0de0-4b3e-a5cb-daa4784dd464"
   },
   "outputs": [
    {
     "data": {
      "text/plain": [
       "0.9999999999999998"
      ]
     },
     "execution_count": 11,
     "metadata": {},
     "output_type": "execute_result"
    }
   ],
   "source": [
    "sum(binom.pmf([i for i in range(6)], 5, 0.7)) ## # La suma de las probabilidades debe ser 1"
   ]
  },
  {
   "cell_type": "markdown",
   "metadata": {
    "id": "XzCnhV8K6BXk"
   },
   "source": [
    "Para calcular probabilidades binomiales *acumuladas* en `Python` , usamos el comando *binom.cdf(x,n,p)*\n",
    "\n",
    "$$binom.cdf(x,n,p)=P(X \\leq x)=P(X=0)+P(X=1)+\\dots + P(X=x)$$"
   ]
  },
  {
   "cell_type": "code",
   "execution_count": 12,
   "metadata": {
    "colab": {
     "base_uri": "https://localhost:8080/"
    },
    "executionInfo": {
     "elapsed": 34,
     "status": "ok",
     "timestamp": 1664234760984,
     "user": {
      "displayName": "luis andres campos maldonado",
      "userId": "11260189668651664411"
     },
     "user_tz": 300
    },
    "id": "3kftR2ss5hB2",
    "outputId": "c16cb7d0-3a5e-4d86-d573-fe620ed34800"
   },
   "outputs": [
    {
     "data": {
      "text/plain": [
       "0.16308000000000006"
      ]
     },
     "execution_count": 12,
     "metadata": {},
     "output_type": "execute_result"
    }
   ],
   "source": [
    "# P(X=0)+P(X=1)+P(X=2) = P(X <= 2); pbinom: Función de distribución acumulada\n",
    "binom.cdf(k=2, n=5, p=0.7)"
   ]
  },
  {
   "cell_type": "code",
   "execution_count": 13,
   "metadata": {
    "colab": {
     "base_uri": "https://localhost:8080/"
    },
    "executionInfo": {
     "elapsed": 29,
     "status": "ok",
     "timestamp": 1664234760984,
     "user": {
      "displayName": "luis andres campos maldonado",
      "userId": "11260189668651664411"
     },
     "user_tz": 300
    },
    "id": "U36KvMTX62fn",
    "outputId": "189aac93-f353-4951-cc3b-8cd8c6a4e865"
   },
   "outputs": [
    {
     "data": {
      "text/plain": [
       "0.8369199999999999"
      ]
     },
     "execution_count": 13,
     "metadata": {},
     "output_type": "execute_result"
    }
   ],
   "source": [
    "# P(X>2)=1-P(X <=2)\n",
    "binom.sf(k=2, n=5, p=0.7)"
   ]
  },
  {
   "cell_type": "code",
   "execution_count": 14,
   "metadata": {
    "colab": {
     "base_uri": "https://localhost:8080/"
    },
    "executionInfo": {
     "elapsed": 25,
     "status": "ok",
     "timestamp": 1664234760985,
     "user": {
      "displayName": "luis andres campos maldonado",
      "userId": "11260189668651664411"
     },
     "user_tz": 300
    },
    "id": "n5r8gfTq7Tkx",
    "outputId": "ded4d89e-c3ba-4171-e9ea-5aae62f7f3ec"
   },
   "outputs": [
    {
     "data": {
      "text/plain": [
       "array([0.3087 , 0.36015, 0.16807])"
      ]
     },
     "execution_count": 14,
     "metadata": {},
     "output_type": "execute_result"
    }
   ],
   "source": [
    "binom.pmf([3,4,5],5,0.7)"
   ]
  },
  {
   "cell_type": "code",
   "execution_count": 15,
   "metadata": {
    "colab": {
     "base_uri": "https://localhost:8080/"
    },
    "executionInfo": {
     "elapsed": 20,
     "status": "ok",
     "timestamp": 1664234760985,
     "user": {
      "displayName": "luis andres campos maldonado",
      "userId": "11260189668651664411"
     },
     "user_tz": 300
    },
    "id": "eM5sAsVe7jEu",
    "outputId": "5d0258de-c1ad-44f8-b36c-fd611bcb1d17"
   },
   "outputs": [
    {
     "name": "stdout",
     "output_type": "stream",
     "text": [
      "0.8369199999999998\n"
     ]
    },
    {
     "data": {
      "text/plain": [
       "0.8369199999999998"
      ]
     },
     "execution_count": 15,
     "metadata": {},
     "output_type": "execute_result"
    }
   ],
   "source": [
    "# P(X=3)+P(X=4)+P(X=5)\n",
    "print(sum(binom.pmf([3,4,5],5,0.7)))\n",
    "np.sum(binom.pmf([3,4,5],5,0.7))"
   ]
  },
  {
   "cell_type": "code",
   "execution_count": 16,
   "metadata": {
    "colab": {
     "base_uri": "https://localhost:8080/"
    },
    "executionInfo": {
     "elapsed": 15,
     "status": "ok",
     "timestamp": 1664234760985,
     "user": {
      "displayName": "luis andres campos maldonado",
      "userId": "11260189668651664411"
     },
     "user_tz": 300
    },
    "id": "Ni225XCi7uHs",
    "outputId": "bf1794d6-58ee-4036-d226-fea22280906c"
   },
   "outputs": [
    {
     "data": {
      "text/plain": [
       "0.96922"
      ]
     },
     "execution_count": 16,
     "metadata": {},
     "output_type": "execute_result"
    }
   ],
   "source": [
    "# P(X > 1)=P(X >= 2)\n",
    "binom.sf(k=1, n=5, p=0.7)"
   ]
  },
  {
   "cell_type": "markdown",
   "metadata": {
    "id": "mRkhdaca8UiL"
   },
   "source": [
    "### ***Veamos algunas representaciones (histogramas de la variable)***"
   ]
  },
  {
   "cell_type": "code",
   "execution_count": 17,
   "metadata": {
    "colab": {
     "base_uri": "https://localhost:8080/",
     "height": 360
    },
    "executionInfo": {
     "elapsed": 11,
     "status": "ok",
     "timestamp": 1664234760986,
     "user": {
      "displayName": "luis andres campos maldonado",
      "userId": "11260189668651664411"
     },
     "user_tz": 300
    },
    "id": "hrSttNhd8VdO",
    "outputId": "8f7e773d-65dd-4b82-b58a-9fe0fd85f81c"
   },
   "outputs": [
    {
     "data": {
      "image/png": "[encoded data removed]",
      "text/plain": [
       "<Figure size 1500x500 with 1 Axes>"
      ]
     },
     "metadata": {},
     "output_type": "display_data"
    }
   ],
   "source": [
    "probas = binom.pmf(range(6), 5, 0.7)\n",
    "##\n",
    "plt.figure(figsize=(15,5))\n",
    "plt.bar(x=range(6), height=probas, color=\"skyblue\")\n",
    "plt.xlabel(\"Valores V.A\", size=15, style=\"italic\")\n",
    "plt.ylabel(\"probabilidad\", size=15, style=\"italic\", color=\"magenta\")\n",
    "plt.title(\"Distribucion binomial, n=5, p=0.7\", size=20, fontstyle=\"oblique\", \n",
    "          color=\"blue\", fontweight=\"bold\")\n",
    "plt.xticks([0,1,2,3,4,5], labels=[\"0\", \"1\", \"2\",\"3\", \"4\",\"5\"], \n",
    "           fontstyle=\"italic\", fontweight=\"bold\")\n",
    "plt.ylim(0,0.4)\n",
    "for i, text in enumerate(probas):\n",
    "    plt.text(i, text + 0.01,round(text,4), horizontalalignment='center', fontsize=12, \n",
    "             fontstyle=\"italic\")\n",
    "plt.show()"
   ]
  },
  {
   "cell_type": "code",
   "execution_count": 18,
   "metadata": {
    "colab": {
     "base_uri": "https://localhost:8080/",
     "height": 355
    },
    "executionInfo": {
     "elapsed": 439,
     "status": "ok",
     "timestamp": 1664234761415,
     "user": {
      "displayName": "luis andres campos maldonado",
      "userId": "11260189668651664411"
     },
     "user_tz": 300
    },
    "id": "Dvlx38sm-IPV",
    "outputId": "d4ab6adb-45ea-4e60-a4fc-c268b9acfac1"
   },
   "outputs": [
    {
     "data": {
      "image/png": "[encoded data removed]",
      "text/plain": [
       "<Figure size 1500x500 with 1 Axes>"
      ]
     },
     "metadata": {},
     "output_type": "display_data"
    }
   ],
   "source": [
    "probas = binom.pmf(range(9), 8, 0.5)\n",
    "##\n",
    "plt.figure(figsize=(15,5))\n",
    "plt.bar(x=range(9), height=probas, color=\"green\")\n",
    "plt.xlabel(\"Valores V.A\")\n",
    "plt.ylabel(\"probabilidad\")\n",
    "plt.ylim(0,0.32)\n",
    "plt.title(\"Distribucion binomial, n=8, p=0.5\", size=20)\n",
    "##\n",
    "for i, text in enumerate(probas):\n",
    "    plt.text(i, text + 0.01,round(text,4), horizontalalignment='center', fontsize=12, \n",
    "             fontstyle=\"italic\")\n",
    "plt.show()"
   ]
  },
  {
   "cell_type": "code",
   "execution_count": 19,
   "metadata": {
    "colab": {
     "base_uri": "https://localhost:8080/",
     "height": 356
    },
    "executionInfo": {
     "elapsed": 543,
     "status": "ok",
     "timestamp": 1664234761953,
     "user": {
      "displayName": "luis andres campos maldonado",
      "userId": "11260189668651664411"
     },
     "user_tz": 300
    },
    "id": "ddsVGt6Q_Aiy",
    "outputId": "2064a388-6120-4388-9800-ae020f652610"
   },
   "outputs": [
    {
     "data": {
      "image/png": "[encoded data removed]",
      "text/plain": [
       "<Figure size 1500x500 with 1 Axes>"
      ]
     },
     "metadata": {},
     "output_type": "display_data"
    }
   ],
   "source": [
    "probas = binom.pmf(range(11), 10, 0.2)\n",
    "##\n",
    "plt.figure(figsize = (15,5))\n",
    "plt.bar(x = range(11), height = probas, color = \"yellow\")\n",
    "plt.xlabel(\"Valores V.A\")\n",
    "plt.ylabel(\"probabilidad\", color = \"magenta\", fontsize = 15, fontstyle = \"italic\")\n",
    "plt.yticks(color = \"blue\", fontsize = 12)\n",
    "plt.ylim(0,0.35)\n",
    "plt.title(\"Distribucion binomial, n=10, p=0.2\", size = 22, color = \"red\", fontstyle = \"italic\" )\n",
    "##\n",
    "for i, text in enumerate(probas):\n",
    "    plt.text(i, text + 0.01,round(text,6), horizontalalignment='center', fontsize = 12, \n",
    "             fontstyle = \"italic\")\n",
    "plt.show()"
   ]
  },
  {
   "cell_type": "markdown",
   "metadata": {
    "id": "fi6ClU_t_gwt"
   },
   "source": [
    "***¿Donde se presenta la probabilidad más alta?***"
   ]
  },
  {
   "cell_type": "markdown",
   "metadata": {
    "id": "1RkRFMZl_p6d"
   },
   "source": [
    "### ***Ejemplo 2 (Binomial).***\n",
    "\n",
    "Se acusa a una persona de un crimen y se lleva a un juicio con un jurado de 15 personas. Para ser condenado se requien que al menos 10 personas del jurado voten culpable. Cada jurado dejará su voto al azar y lo determinará con el lanzamiento de una moneda. Si cae cara es culpable y cae sello es inocente. ¿Cuál es la probabilidad de que el acusado sea declarado culpable?\n",
    "\n",
    "**Solución:** Definimos el evento $A$: obtener sello en el lanzamiento o de otra manera \"inocente\". Es decir,  $p(A)=0.5$ en un intento.\n",
    "\n",
    "- $X$ será el numéro de éxitos, (obtener sello) en $15$ intentos.\n",
    "\n",
    "Para que el acusado salga inocente debe obtener por lo menos $10$ veces sellos, es decir: $X \\geq 10$.\n",
    "\n",
    "Luego,\n",
    "\n",
    "$$P(X \\geq 10)= \\sum \\limits_{k=\n",
    "10}^{15} \\binom{15}{k} \\left (\\dfrac{1}{2} \\right )^k \\left( \\dfrac{1}{2} \\right)^{15-k}$$"
   ]
  },
  {
   "cell_type": "code",
   "execution_count": 20,
   "metadata": {
    "colab": {
     "base_uri": "https://localhost:8080/"
    },
    "executionInfo": {
     "elapsed": 37,
     "status": "ok",
     "timestamp": 1664234761954,
     "user": {
      "displayName": "luis andres campos maldonado",
      "userId": "11260189668651664411"
     },
     "user_tz": 300
    },
    "id": "zZJ-XDwz_rgj",
    "outputId": "41bc8f7c-af2b-468c-9a10-710c8ae5a219"
   },
   "outputs": [
    {
     "name": "stdout",
     "output_type": "stream",
     "text": [
      "La probabilidad de que el acusado salga culpable es: 0.15088\n"
     ]
    }
   ],
   "source": [
    "# P(X>=10) #\n",
    "p = binom.sf(k=9, n=15, p=0.5)\n",
    "print(\"La probabilidad de que el acusado salga culpable es:\", round(p,5))"
   ]
  },
  {
   "cell_type": "markdown",
   "metadata": {
    "id": "Ohns48flAesV"
   },
   "source": [
    "## ***Distribución Normal.***\n",
    "\n",
    "\n",
    "La distribución normal o distribución Gaussiana es una de las más importantes distribuciones continuas, ya que muchos fenómenos se pueden modelar por medio de una distribución normal. Esta distribución tiene dos parámetros fundamentales:\n",
    "\n",
    "- $\\mu$: media de la distribución. Este puede ser cualquier valor real.\n",
    "\n",
    "- $\\sigma$: desviación típica o estándar de la distribución. ($\\sigma^2$: varianza). Valor real estrictamente mayor que 0.\n",
    "\n",
    "Cuando una variable sigue una distribución normal se denota $X \\sim N(\\mu, \\sigma^2)$\n",
    "\n",
    "La ecuación que describe la distribución normal (forma de campana de Gauss) viene dada por la siguiente función.\n",
    "\n",
    "$$f(x)=\\dfrac{1}{\\sqrt{2\\pi}\\sigma}e^{-\\frac{(x-\\mu)^2}{2\\sigma^2}}$$"
   ]
  },
  {
   "cell_type": "markdown",
   "metadata": {
    "id": "C8-duJdeAqZ8"
   },
   "source": [
    "Para trabajar en `Python` usamos la instrucción \n",
    "\n",
    "1. $pdf(x, loc=0, scale=1)$ : valor puntual de la función $f(x)$. Sin embargo, recordemos que en términos de la probabilidad este valor es cero.\n",
    "4. $cdf(x, loc=0, scale=1)$ : probabilidad acumulada hasta $x$\n",
    "5. $rvs(loc=0, scale=1,size=1, random_state=None)$ : valores aleatorios en una distribución normal.\n",
    "6. $ppf(q, loc=0, scale=1)$ : Percentil $q$\n",
    "\n",
    "**Observación:** Cuando $\\mu=0$ y $\\sigma=1$ la distribución $X \\sim N(0,1)$ se denomina Normal estándar o tipificada.\n",
    "\n",
    "<font color = \"blue\" FONT SIZE = 5>***Teorema:***</font>\n",
    "\n",
    "Si $X \\sim N(\\mu, \\sigma^2)$ entonces $\\frac{X-\\mu}{\\sigma} \\sim N(0,1)$"
   ]
  },
  {
   "cell_type": "markdown",
   "metadata": {},
   "source": [
    "### Ejemplo:\n",
    "\n",
    "Si $X \\sim N(3, (1)^2)$\n"
   ]
  },
  {
   "cell_type": "code",
   "execution_count": 21,
   "metadata": {
    "colab": {
     "base_uri": "https://localhost:8080/"
    },
    "executionInfo": {
     "elapsed": 30,
     "status": "ok",
     "timestamp": 1664234761955,
     "user": {
      "displayName": "luis andres campos maldonado",
      "userId": "11260189668651664411"
     },
     "user_tz": 300
    },
    "id": "-RGgpYwtE8OM",
    "outputId": "c3837869-8963-470e-c35b-f3f5a4a45720"
   },
   "outputs": [
    {
     "data": {
      "text/plain": [
       "0.24197072451914337"
      ]
     },
     "execution_count": 21,
     "metadata": {},
     "output_type": "execute_result"
    }
   ],
   "source": [
    "# mu=3, sigma=1, imagen de 2 vía la función de densidad. ## scale hace referencia a la desviación estandar. #\n",
    "norm.pdf(x=2, loc=3, scale=1)"
   ]
  },
  {
   "cell_type": "code",
   "execution_count": 22,
   "metadata": {
    "colab": {
     "base_uri": "https://localhost:8080/"
    },
    "executionInfo": {
     "elapsed": 26,
     "status": "ok",
     "timestamp": 1664234761956,
     "user": {
      "displayName": "luis andres campos maldonado",
      "userId": "11260189668651664411"
     },
     "user_tz": 300
    },
    "id": "O2bEJTzVFW2N",
    "outputId": "b5380ce8-b275-4e52-9b7f-a291f1fd8089"
   },
   "outputs": [
    {
     "data": {
      "text/plain": [
       "0.15865525393145707"
      ]
     },
     "execution_count": 22,
     "metadata": {},
     "output_type": "execute_result"
    }
   ],
   "source": [
    "# P(X<=2), X es normal de media 3 y desviación estandar 1.\n",
    "norm.cdf(x=2, loc=3, scale=1)"
   ]
  },
  {
   "cell_type": "code",
   "execution_count": 23,
   "metadata": {
    "colab": {
     "base_uri": "https://localhost:8080/"
    },
    "executionInfo": {
     "elapsed": 21,
     "status": "ok",
     "timestamp": 1664234761956,
     "user": {
      "displayName": "luis andres campos maldonado",
      "userId": "11260189668651664411"
     },
     "user_tz": 300
    },
    "id": "UMBySV3zFoB2",
    "outputId": "99ead251-ee52-4283-e1b3-c382bf6c2f7a"
   },
   "outputs": [
    {
     "data": {
      "text/plain": [
       "array([2.93125878, 1.65407762, 0.94660448, 1.90830282, 1.77441939,\n",
       "       3.51348577, 4.55873823, 3.7532464 , 2.08921031, 3.01225705,\n",
       "       1.47069242, 2.09797496, 1.00457383, 3.91126723, 3.38272982,\n",
       "       1.44213196, 3.03718036, 3.95600372, 4.33409841, 1.59158162,\n",
       "       2.83129142, 2.4203626 , 5.2935989 , 4.83344233, 3.57195005,\n",
       "       1.65134363, 3.92033783, 1.61176445, 3.03103576, 2.85301044])"
      ]
     },
     "execution_count": 23,
     "metadata": {},
     "output_type": "execute_result"
    }
   ],
   "source": [
    "# Simulamos 30 valor de una normal, media 3 y desviación estardar 1.\n",
    "norm.rvs(loc=3, scale=1, size=30)"
   ]
  },
  {
   "cell_type": "code",
   "execution_count": 24,
   "metadata": {
    "colab": {
     "base_uri": "https://localhost:8080/"
    },
    "executionInfo": {
     "elapsed": 19,
     "status": "ok",
     "timestamp": 1664234761957,
     "user": {
      "displayName": "luis andres campos maldonado",
      "userId": "11260189668651664411"
     },
     "user_tz": 300
    },
    "id": "dywiX7pHFwDK",
    "outputId": "5e0b65b2-075f-4325-c0d4-44cb4a9f8695"
   },
   "outputs": [
    {
     "data": {
      "text/plain": [
       "1.6448536269514722"
      ]
     },
     "execution_count": 24,
     "metadata": {},
     "output_type": "execute_result"
    }
   ],
   "source": [
    "# X ~ N(0,1) # Percentil 95 #\n",
    "norm.ppf(q=0.95, loc=0, scale=1)"
   ]
  },
  {
   "cell_type": "code",
   "execution_count": 25,
   "metadata": {
    "colab": {
     "base_uri": "https://localhost:8080/"
    },
    "executionInfo": {
     "elapsed": 14,
     "status": "ok",
     "timestamp": 1664234761959,
     "user": {
      "displayName": "luis andres campos maldonado",
      "userId": "11260189668651664411"
     },
     "user_tz": 300
    },
    "id": "RvmOwwPJYTnp",
    "outputId": "efbc0392-07f0-4529-b993-3b57d3ca92c4"
   },
   "outputs": [
    {
     "data": {
      "text/plain": [
       "(-3.7190164854556804, 3.719016485455709)"
      ]
     },
     "execution_count": 25,
     "metadata": {},
     "output_type": "execute_result"
    }
   ],
   "source": [
    "norm.ppf(0.0001, loc=0, scale=1), norm.ppf(0.9999, loc=0, scale=1)"
   ]
  },
  {
   "cell_type": "code",
   "execution_count": 26,
   "metadata": {
    "colab": {
     "base_uri": "https://localhost:8080/",
     "height": 396
    },
    "executionInfo": {
     "elapsed": 619,
     "status": "ok",
     "timestamp": 1664234762566,
     "user": {
      "displayName": "luis andres campos maldonado",
      "userId": "11260189668651664411"
     },
     "user_tz": 300
    },
    "id": "esQoT_2fGCxu",
    "outputId": "2b10ca24-8c4a-49c7-a44b-aa6b15c964b2"
   },
   "outputs": [
    {
     "data": {
      "image/png": "[encoded data removed]",
      "text/plain": [
       "<Figure size 1600x600 with 1 Axes>"
      ]
     },
     "metadata": {},
     "output_type": "display_data"
    }
   ],
   "source": [
    "r = norm.rvs(size=100000)\n",
    "x = np.linspace(norm.ppf(0.0001), norm.ppf(0.9999), 10000)\n",
    "\n",
    "plt.figure(figsize=(16,6))\n",
    "plt.plot(x, norm.pdf(x))\n",
    "plt.hist(r, density=True, color=\"red\", bins=20)\n",
    "plt.title(\"Distribución normal estandar\", size=22)\n",
    "plt.show()"
   ]
  },
  {
   "cell_type": "markdown",
   "metadata": {
    "id": "FM2wTZl_KSQd"
   },
   "source": [
    "#### ***Ejemplo 1 (Normal):***\n",
    "\n",
    "\n",
    "En unos estudios realizados a un determinado tipo de aves rapaces. Se comprueba que la longitud de las alas extendidas, $X$, es una variable aleatoria que se distribuye aproximadamente según una curva Normal, de media 110 cms. y desviación típica 4 cms. Elegida un ave al azar y suponiendo que las longitudes se distribuyen normalmente, calcular:\n",
    "\n",
    "a) La probabilidad de que la longitud de las alas esté comprendida entre 110 y 115 cm.\n",
    "\n",
    "b) La probabilidad de que la longitud de las alas sea mayor que 105 cm.\n",
    "\n",
    "c) La probabilidad de que la longitud de las alas sea menor de 100 cm.\n",
    "\n",
    "d) La longitud mínima  del 20% de las alas que más miden\n",
    "\n",
    "**Solución:**\n",
    "\n",
    "Primero simulemos 20 elementos de esa variable aleatoria:\n",
    "\n"
   ]
  },
  {
   "cell_type": "code",
   "execution_count": 27,
   "metadata": {
    "colab": {
     "base_uri": "https://localhost:8080/"
    },
    "executionInfo": {
     "elapsed": 18,
     "status": "ok",
     "timestamp": 1664234762567,
     "user": {
      "displayName": "luis andres campos maldonado",
      "userId": "11260189668651664411"
     },
     "user_tz": 300
    },
    "id": "uEi_c7NfKWlO",
    "outputId": "127c66dc-1739-4ef7-a8a7-b1abc08d8038"
   },
   "outputs": [
    {
     "data": {
      "text/plain": [
       "array([108.57029201, 106.0004834 , 101.37939619, 105.64098642,\n",
       "       109.44844252, 111.65617143, 116.03056172, 115.48148757,\n",
       "       114.09867579, 108.48331663, 110.12862117, 106.10973113,\n",
       "       103.79158538, 112.86649754, 107.70980863, 115.77651574,\n",
       "       108.46402384, 111.51755063, 105.60404872, 116.93805756])"
      ]
     },
     "execution_count": 27,
     "metadata": {},
     "output_type": "execute_result"
    }
   ],
   "source": [
    "norm.rvs(loc=110, scale=4, size=20,)# random_state=100)"
   ]
  },
  {
   "cell_type": "markdown",
   "metadata": {
    "id": "oh7v931BKsQI"
   },
   "source": [
    "Además el histograma de la múltiples simulaciones:"
   ]
  },
  {
   "cell_type": "code",
   "execution_count": 28,
   "metadata": {
    "colab": {
     "base_uri": "https://localhost:8080/",
     "height": 419
    },
    "executionInfo": {
     "elapsed": 635,
     "status": "ok",
     "timestamp": 1664234763194,
     "user": {
      "displayName": "luis andres campos maldonado",
      "userId": "11260189668651664411"
     },
     "user_tz": 300
    },
    "id": "l643WCuQKtUp",
    "outputId": "ec9df216-0a60-4af0-8208-c0b053c3f0fb"
   },
   "outputs": [
    {
     "data": {
      "image/png": "[encoded data removed]",
      "text/plain": [
       "<Figure size 1600x600 with 1 Axes>"
      ]
     },
     "metadata": {},
     "output_type": "display_data"
    }
   ],
   "source": [
    "r = norm.rvs(110,4,100_000, random_state = 2)\n",
    "##\n",
    "plt.figure(figsize=(16,6))\n",
    "plt.hist(r, color = \"red\", bins = 20)\n",
    "plt.title(\"Simulación distribución:\\nLongitud alas extendidas\", size = 22)\n",
    "plt.ylim(0,17000)\n",
    "plt.show()"
   ]
  },
  {
   "cell_type": "markdown",
   "metadata": {
    "id": "oQvp9wW7Lx6A"
   },
   "source": [
    "a) $P(110 \\leq X \\leq 115)=P(X \\leq 115)- P(X \\leq 110)$"
   ]
  },
  {
   "cell_type": "code",
   "execution_count": 29,
   "metadata": {
    "colab": {
     "base_uri": "https://localhost:8080/"
    },
    "executionInfo": {
     "elapsed": 37,
     "status": "ok",
     "timestamp": 1664234763195,
     "user": {
      "displayName": "luis andres campos maldonado",
      "userId": "11260189668651664411"
     },
     "user_tz": 300
    },
    "id": "PN_GW5N4LtgC",
    "outputId": "e7dc3a19-3fee-4d56-dc45-fc65afe8ef9a"
   },
   "outputs": [
    {
     "data": {
      "text/plain": [
       "0.39435022633314465"
      ]
     },
     "execution_count": 29,
     "metadata": {},
     "output_type": "execute_result"
    }
   ],
   "source": [
    "norm.cdf(x=115, loc=110, scale=4)-norm.cdf(x=110, loc=110, scale=4)"
   ]
  },
  {
   "cell_type": "code",
   "execution_count": 30,
   "metadata": {
    "colab": {
     "base_uri": "https://localhost:8080/"
    },
    "executionInfo": {
     "elapsed": 34,
     "status": "ok",
     "timestamp": 1664234763196,
     "user": {
      "displayName": "luis andres campos maldonado",
      "userId": "11260189668651664411"
     },
     "user_tz": 300
    },
    "id": "XQ4RPyahbN4o",
    "outputId": "e2a9642f-5770-4603-ce4d-52e80c8c5ebb"
   },
   "outputs": [
    {
     "name": "stdout",
     "output_type": "stream",
     "text": [
      "0.0\n",
      "1.25\n"
     ]
    }
   ],
   "source": [
    "media = 110\n",
    "desviacion = 4\n",
    "##\n",
    "liminf = (110-media)/desviacion\n",
    "limsup = (115-media)/desviacion\n",
    "print(liminf)\n",
    "print(limsup)"
   ]
  },
  {
   "cell_type": "markdown",
   "metadata": {
    "id": "Z-5Z6xaZbtDJ"
   },
   "source": [
    "a) $P(110 \\leq X \\leq 115)=P(0 \\leq Z \\leq 1.25)=P(Z \\leq 1.25)- P(Z \\leq 0)$, donde $Z\\sim N(0,1)$"
   ]
  },
  {
   "cell_type": "code",
   "execution_count": 31,
   "metadata": {
    "colab": {
     "base_uri": "https://localhost:8080/"
    },
    "executionInfo": {
     "elapsed": 29,
     "status": "ok",
     "timestamp": 1664234763196,
     "user": {
      "displayName": "luis andres campos maldonado",
      "userId": "11260189668651664411"
     },
     "user_tz": 300
    },
    "id": "ydH0A-57Ltcb",
    "outputId": "b6099b91-4dfe-4668-9b50-92664401e671"
   },
   "outputs": [
    {
     "data": {
      "text/plain": [
       "0.39435022633314465"
      ]
     },
     "execution_count": 31,
     "metadata": {},
     "output_type": "execute_result"
    }
   ],
   "source": [
    "norm.cdf(x=1.25)-norm.cdf(x=0) # Estandarización"
   ]
  },
  {
   "cell_type": "markdown",
   "metadata": {
    "id": "TMfbrm5oMaVu"
   },
   "source": [
    "b) $P(X \\geq 105)$"
   ]
  },
  {
   "cell_type": "code",
   "execution_count": 32,
   "metadata": {
    "colab": {
     "base_uri": "https://localhost:8080/"
    },
    "executionInfo": {
     "elapsed": 27,
     "status": "ok",
     "timestamp": 1664234763197,
     "user": {
      "displayName": "luis andres campos maldonado",
      "userId": "11260189668651664411"
     },
     "user_tz": 300
    },
    "id": "7L2uZ40YLtaD",
    "outputId": "12b0df97-c379-4699-b6a3-76bbf3e1c241"
   },
   "outputs": [
    {
     "data": {
      "text/plain": [
       "0.8943502263331446"
      ]
     },
     "execution_count": 32,
     "metadata": {},
     "output_type": "execute_result"
    }
   ],
   "source": [
    "norm.sf(105,110,4)"
   ]
  },
  {
   "cell_type": "markdown",
   "metadata": {
    "id": "rE4hv48JMjvO"
   },
   "source": [
    "c) $P(X \\leq 100)$"
   ]
  },
  {
   "cell_type": "code",
   "execution_count": 33,
   "metadata": {
    "colab": {
     "base_uri": "https://localhost:8080/"
    },
    "executionInfo": {
     "elapsed": 23,
     "status": "ok",
     "timestamp": 1664234763197,
     "user": {
      "displayName": "luis andres campos maldonado",
      "userId": "11260189668651664411"
     },
     "user_tz": 300
    },
    "id": "SGlW5yg9LtXa",
    "outputId": "cf45cc3a-fbbe-4648-e26d-58a1770ab954"
   },
   "outputs": [
    {
     "data": {
      "text/plain": [
       "0.006209665325776132"
      ]
     },
     "execution_count": 33,
     "metadata": {},
     "output_type": "execute_result"
    }
   ],
   "source": [
    "norm.cdf(100,110,4)"
   ]
  },
  {
   "cell_type": "markdown",
   "metadata": {
    "id": "rH_5PrUmMyTf"
   },
   "source": [
    "d) La longitud mínima del $20\\%$ de las alas que más miden \n",
    "\n",
    "Ordenamos los valores de menor a mayor, buscamos el $20\\%$ de los valores más grandes de la variable. El valor mínimo de estos valores deja a la izquierda el $80\\%$ de los valores de mediciones de las alas.\n",
    "Es decir, debemos calcular el percentil $80$."
   ]
  },
  {
   "cell_type": "code",
   "execution_count": 34,
   "metadata": {
    "colab": {
     "base_uri": "https://localhost:8080/"
    },
    "executionInfo": {
     "elapsed": 19,
     "status": "ok",
     "timestamp": 1664234763198,
     "user": {
      "displayName": "luis andres campos maldonado",
      "userId": "11260189668651664411"
     },
     "user_tz": 300
    },
    "id": "Z7mrYA62LtUs",
    "outputId": "7e5a75fc-44ca-423f-8e0a-4ee8e76e5b6b"
   },
   "outputs": [
    {
     "data": {
      "text/plain": [
       "113.36648493429166"
      ]
     },
     "execution_count": 34,
     "metadata": {},
     "output_type": "execute_result"
    }
   ],
   "source": [
    "norm.ppf(0.8,110,4)"
   ]
  },
  {
   "cell_type": "code",
   "execution_count": 35,
   "metadata": {
    "colab": {
     "base_uri": "https://localhost:8080/"
    },
    "executionInfo": {
     "elapsed": 15,
     "status": "ok",
     "timestamp": 1664234763198,
     "user": {
      "displayName": "luis andres campos maldonado",
      "userId": "11260189668651664411"
     },
     "user_tz": 300
    },
    "id": "GHDNQPQPNGkP",
    "outputId": "4f8445bd-7c3f-4da1-c02b-a44a532aa782"
   },
   "outputs": [
    {
     "data": {
      "text/plain": [
       "113.36648493429166"
      ]
     },
     "execution_count": 35,
     "metadata": {},
     "output_type": "execute_result"
    }
   ],
   "source": [
    "## Otra opción: El 20% de mayores valores.\n",
    "norm.isf(0.2,110,4)"
   ]
  },
  {
   "cell_type": "markdown",
   "metadata": {
    "id": "2S8ochx9NXjR"
   },
   "source": [
    "#### ***Ejercicio para casa:***\n",
    "\n",
    "En enero de 2003 un empleado estadounidense pasaba, en promedio, 77 horas conectado a Internet durante las horas de trabajo (CNBC, 15 de marzo de 2003). Suponga que la media poblacional es 77 horas, tiempos que están distribuidos normalmente y que la desviación estándar es 20 horas. \n",
    "\n",
    "a) ¿Cuál es la probabilidad de que en enero de 2003 un empleado seleccionado aleatoriamente haya pasado menos de 50 horas conectado a Internet?\n",
    "\n",
    "b) ¿Qué porcentaje de los empleados pasó en enero de 2003 más de 100\n",
    "horas conectado a Internet?\n",
    "\n",
    "c) Un usuario es clasificado como intensivo si se encuentra en el 20%\n",
    "superior de uso. ¿Cuántas horas tiene un empleado que haber estado\n",
    "conectado a Internet en enero de 2003 para que se le conside un\n",
    "usuario intensivo?"
   ]
  },
  {
   "cell_type": "markdown",
   "metadata": {
    "id": "zAnhatpaNYs-"
   },
   "source": [
    "#### ***Ejercicio para casa:***\n",
    "\n",
    "Revisar y desglosar: http://jse.amstat.org/v11n2/datasets.heinz.html"
   ]
  },
  {
   "cell_type": "markdown",
   "metadata": {
    "id": "Y2Rx6th9N0FY"
   },
   "source": [
    "## ***Resultados relacionados con la distribución Normal.***\n",
    "\n",
    "\n",
    "Supongamos que tenemos $n$ variables aleatorias, $X_1$, $X_2, \\dots, X_n$   que se distribuyen normal $X_i \\sim N(\\mu_i, \\sigma_i^2)$, $i=1,2,3, \\dots, n$. Entonces:\n",
    "$$Y=X_1+X_2+ \\dots + X_n$$\n",
    "\n",
    "se distribuye normal y además\n",
    "\n",
    "$$Y \\sim N\\left(\\mu_1+\\mu_2+\\dots+\\mu_n, \\sigma_1^2+\\sigma_2^2+\\dots+\\sigma_n^2 \\right)$$"
   ]
  },
  {
   "cell_type": "markdown",
   "metadata": {
    "id": "NmWkcYhFONqX"
   },
   "source": [
    "#### ***Ejemplo:***\n",
    "\n",
    "Supongamos que:\n",
    "\n",
    "- Promedio de la estatura de hombres latinos es $170$ cms con una desviación estándar de $5.8$ cms.\n",
    "\n",
    "- Promedio de la estatura de hombres europeos es $178$ cms con una desviación estándar de $6.2$ cms.\n",
    "\n",
    "- Promedio de la estatura de mujeres latinas es $164$ cms con una desviación estandar de $7.2$ cms.\n",
    "\n",
    "Vamos a escoger una muestra de 4 personas; un hombre latino, europeo y dos mujeres."
   ]
  },
  {
   "cell_type": "code",
   "execution_count": 36,
   "metadata": {
    "colab": {
     "base_uri": "https://localhost:8080/",
     "height": 81
    },
    "executionInfo": {
     "elapsed": 13,
     "status": "ok",
     "timestamp": 1664234763199,
     "user": {
      "displayName": "luis andres campos maldonado",
      "userId": "11260189668651664411"
     },
     "user_tz": 300
    },
    "id": "uQ6YhqpxLtJx",
    "outputId": "c5588ab4-2763-4d58-c1aa-5859221c56d8"
   },
   "outputs": [
    {
     "data": {
      "text/html": [
       "<div>\n",
       "<style scoped>\n",
       "    .dataframe tbody tr th:only-of-type {\n",
       "        vertical-align: middle;\n",
       "    }\n",
       "\n",
       "    .dataframe tbody tr th {\n",
       "        vertical-align: top;\n",
       "    }\n",
       "\n",
       "    .dataframe thead th {\n",
       "        text-align: right;\n",
       "    }\n",
       "</style>\n",
       "<table border=\"1\" class=\"dataframe\">\n",
       "  <thead>\n",
       "    <tr style=\"text-align: right;\">\n",
       "      <th></th>\n",
       "      <th>x1</th>\n",
       "      <th>x2</th>\n",
       "      <th>x3</th>\n",
       "      <th>x4</th>\n",
       "      <th>y</th>\n",
       "    </tr>\n",
       "  </thead>\n",
       "  <tbody>\n",
       "    <tr>\n",
       "      <th>simulacion</th>\n",
       "      <td>179.421203</td>\n",
       "      <td>188.070941</td>\n",
       "      <td>175.695287</td>\n",
       "      <td>160.999343</td>\n",
       "      <td>704.186774</td>\n",
       "    </tr>\n",
       "  </tbody>\n",
       "</table>\n",
       "</div>"
      ],
      "text/plain": [
       "                    x1          x2          x3          x4           y\n",
       "simulacion  179.421203  188.070941  175.695287  160.999343  704.186774"
      ]
     },
     "execution_count": 36,
     "metadata": {},
     "output_type": "execute_result"
    }
   ],
   "source": [
    "x1=norm.rvs(170, 5.8,1,  random_state=1) \n",
    "x2=norm.rvs(178, 6.2,1,  random_state=1)\n",
    "x3=norm.rvs(164, 7.2, 1, random_state=1)\n",
    "x4=norm.rvs(164, 7.2, 1, random_state=2) \n",
    "y=x1+x2+x3+x4 \n",
    "pd.DataFrame({\"x1\":x1,\"x2\":x2, \"x3\":x3,\"x4\":x4,\"y\":y},\n",
    "             index=[\"simulacion\"])"
   ]
  },
  {
   "cell_type": "markdown",
   "metadata": {
    "id": "1fw8Y2yUQBJL"
   },
   "source": [
    "Si hacemos este proceso $20000$ veces los valores de $y$ debería aproximarse a una variable normal. Para esto vamos a usar una estructura de control con un *for*"
   ]
  },
  {
   "cell_type": "code",
   "execution_count": 37,
   "metadata": {
    "colab": {
     "base_uri": "https://localhost:8080/",
     "height": 396
    },
    "executionInfo": {
     "elapsed": 5769,
     "status": "ok",
     "timestamp": 1664234768956,
     "user": {
      "displayName": "luis andres campos maldonado",
      "userId": "11260189668651664411"
     },
     "user_tz": 300
    },
    "id": "3FVB40BQP8tP",
    "outputId": "fab1f8fe-8157-44a9-81bd-60aee95c63a5"
   },
   "outputs": [
    {
     "data": {
      "image/png": "[encoded data removed]",
      "text/plain": [
       "<Figure size 1600x600 with 1 Axes>"
      ]
     },
     "metadata": {},
     "output_type": "display_data"
    }
   ],
   "source": [
    "y = np.empty(20_000)\n",
    "##\n",
    "for i in range(20_000):\n",
    "    x1 = norm.rvs(170, 5.8,1)\n",
    "    x2 = norm.rvs(178, 6.2,1)\n",
    "    x3 = norm.rvs(164, 7.2, 1)\n",
    "    x4 = norm.rvs(164, 7.2, 1)\n",
    "    y[i] = x1 + x2 + x3 + x4\n",
    "##\n",
    "x = np.linspace(norm.ppf(0.0001,676,13.257), norm.ppf(0.9999,676,13.257), 10000)\n",
    "plt.figure(figsize=(16,6))\n",
    "plt.plot(x, norm.pdf(x,676,13.257) )\n",
    "plt.hist(y, density = True, color = \"red\", bins = 20)\n",
    "plt.title(\"Simulación: Suma de Normales\", size = 22)\n",
    "plt.show()"
   ]
  },
  {
   "cell_type": "code",
   "execution_count": 38,
   "metadata": {
    "colab": {
     "base_uri": "https://localhost:8080/",
     "height": 112
    },
    "executionInfo": {
     "elapsed": 33,
     "status": "ok",
     "timestamp": 1664234768957,
     "user": {
      "displayName": "luis andres campos maldonado",
      "userId": "11260189668651664411"
     },
     "user_tz": 300
    },
    "id": "GhRtxEF8Ud3H",
    "outputId": "27579f3f-bc18-4ebd-c226-75a3b9abab15"
   },
   "outputs": [
    {
     "data": {
      "text/html": [
       "<div>\n",
       "<style scoped>\n",
       "    .dataframe tbody tr th:only-of-type {\n",
       "        vertical-align: middle;\n",
       "    }\n",
       "\n",
       "    .dataframe tbody tr th {\n",
       "        vertical-align: top;\n",
       "    }\n",
       "\n",
       "    .dataframe thead th {\n",
       "        text-align: right;\n",
       "    }\n",
       "</style>\n",
       "<table border=\"1\" class=\"dataframe\">\n",
       "  <thead>\n",
       "    <tr style=\"text-align: right;\">\n",
       "      <th></th>\n",
       "      <th>simulación</th>\n",
       "      <th>teóricos</th>\n",
       "    </tr>\n",
       "  </thead>\n",
       "  <tbody>\n",
       "    <tr>\n",
       "      <th>media</th>\n",
       "      <td>675.979227</td>\n",
       "      <td>676.000000</td>\n",
       "    </tr>\n",
       "    <tr>\n",
       "      <th>desviación estandar</th>\n",
       "      <td>13.230459</td>\n",
       "      <td>13.257451</td>\n",
       "    </tr>\n",
       "  </tbody>\n",
       "</table>\n",
       "</div>"
      ],
      "text/plain": [
       "                     simulación    teóricos\n",
       "media                675.979227  676.000000\n",
       "desviación estandar   13.230459   13.257451"
      ]
     },
     "execution_count": 38,
     "metadata": {},
     "output_type": "execute_result"
    }
   ],
   "source": [
    "media_teo = 170+178+164+164\n",
    "std_teo = np.sqrt(5.8**2+6.2**2+7.2**2+7.2**2)\n",
    "pd.DataFrame({\"simulación\":[np.mean(y), np.std(y)], \"teóricos\": [media_teo, std_teo]},\n",
    "             index = [\"media\", \"desviación estandar\"])"
   ]
  },
  {
   "cell_type": "markdown",
   "metadata": {
    "id": "_A6mHGxaVWd7"
   },
   "source": [
    "#### ***Ejemplo:***\n",
    "\n",
    "Un ascensor tiene una advertencia de capacidad de 1000 Kg. Al ascensor se suben 12 personas, cuyo peso se distribuyen según una distribución normal con media 90 kg y varianza de 10 kg. ¿Cuál es la probabilidad de que se bloquee el ascensor?\n",
    "\n",
    "***Solución:***\n",
    "\n",
    "Definimos la variable $Y$: peso de las 12 personas.\n",
    "\n",
    "Esto corresponde a la suma de las 12 variables normales $X_i \\sim N(90,10)$\n",
    "La variable está definida como $Y=X_1+X_2+ \\dots + X_{12}$.\n",
    "\n",
    "De acuerdo, a lo anterior\n",
    "$$Y \\sim N(1080, 12 \\times 100)= N(1080,120)$$\n",
    "\n",
    "Calculamos $P(Y>1000)$ "
   ]
  },
  {
   "cell_type": "code",
   "execution_count": 39,
   "metadata": {
    "colab": {
     "base_uri": "https://localhost:8080/"
    },
    "executionInfo": {
     "elapsed": 31,
     "status": "ok",
     "timestamp": 1664234768957,
     "user": {
      "displayName": "luis andres campos maldonado",
      "userId": "11260189668651664411"
     },
     "user_tz": 300
    },
    "id": "HxeO1a-QWVGR",
    "outputId": "f289a3af-a75a-480f-d3eb-c53e144d33dc"
   },
   "outputs": [
    {
     "data": {
      "text/plain": [
       "1.0"
      ]
     },
     "execution_count": 39,
     "metadata": {},
     "output_type": "execute_result"
    }
   ],
   "source": [
    "std = 120**0.5\n",
    "##\n",
    "round(norm.sf(1000,1080,std),4)"
   ]
  },
  {
   "cell_type": "markdown",
   "metadata": {
    "id": "_mhcBBr6X-tt"
   },
   "source": [
    "Antes de enunciar el teorema del límite central veamos una definición\n",
    "\n",
    "### ***Función de Probabilidad Conjunta***\n",
    "\n",
    "Dadas dos variables aletaorias discretas $X$ y $Y$ definidas sobre el mismo espacio de probabilidad de un experimento aleatorio. La función de probabilidad conjunta para cada par $(x,y)$ es\n",
    "\n",
    "$$P_{XY}(x,y)=P(X=x, Y=y)$$"
   ]
  },
  {
   "cell_type": "markdown",
   "metadata": {
    "id": "UY1rS5l6YDZ5"
   },
   "source": [
    "#### ***Ejemplo:***\n",
    "\n",
    "- Experimento aleatorio: Tenemos una urna que contiene 4 bolitas rojas, 4 bolitas blancas y se extraen sucesivamente 3 bolitas sin reposición y se registra en orden la extracción, el color de cada bolita extraida.\n",
    "\n",
    "- Espacio muestral $\\Omega=\\{bbb,rbb,brb,bbr,rrb,rbr,brr,rrr\\}$\n",
    "\n",
    "- Variables Aleatorias: $X$ y $Y$ definidas por:\n",
    "\n",
    "   - $X$ : cantidad de bolitas rojas en las dos primeras extracciones.\n",
    "   \n",
    "   - $Y$ : cantidad de bolitas rojas en la tercera extracción.\n",
    "\n"
   ]
  },
  {
   "cell_type": "markdown",
   "metadata": {
    "id": "sioMNi9ngsu8"
   },
   "source": [
    "**Solución:** \n",
    "\n",
    "- Valores de $X$ --------------> $0,1,2$\n",
    "- Valores de $Y$ --------------> $0,1$\n",
    "\n",
    "$P(X=0,Y=0) = P(\\{bbb\\}) = \\frac{4}{8}*\\frac{3}{7}*\\frac{2}{6}=\\frac{1}{14}$\n",
    "\n",
    "$P(X=0,Y=1)= P(\\{bbr\\}) = \\frac{4}{8}*\\frac{3}{7}*\\frac{4}{6}=\\frac{2}{14}$\n",
    "\n",
    "$P(X=1,Y=0)$\n",
    "\n",
    "$P(X=1,Y=1)$\n",
    "\n",
    "$P(X=2,Y=0)$\n",
    "\n",
    "$P(X=2,Y=1)$"
   ]
  },
  {
   "cell_type": "markdown",
   "metadata": {
    "id": "ZWX_cuDcYH3C"
   },
   "source": [
    "### ***Variables Independientes:***\n",
    "\n",
    "Un conjunto de variables aleatorias $X_1, X_2, X_3, \\dots , X_n$ se dice independientes si:\n",
    "\n",
    "1. $f_{X_1,X_2, \\dots , X_n}(x_1, x_2, \\dots , x_n) = f_{X_1}(x_1).f_{X_2}(x_2) \\dots f_{X_n}(x_n)$, en particular \n",
    "\n",
    "2. $P(X_1=x_1, X_2=x_2, \\dots X_n =x_n)=P(X=x_1).P(X=x_2). \\dots P(X_n=x_n)$. \n",
    "\n",
    "Para el caso de 2 y la función de distribución acumuladad:\n",
    "\n",
    "$P[(X \\leq x) \\cap (Y \\leq y)]=P(X \\leq x)P(Y \\leq y)$)"
   ]
  },
  {
   "cell_type": "markdown",
   "metadata": {
    "id": "j1fkeDycYRqm"
   },
   "source": [
    "## ***Teorema del Límite Central***\n",
    "\n",
    "Vimos que la suma de variables que se distribuyen de manera normal, también se distribuye normal. Sin embargo, este resultado se puede extender a variables que no se distribuyen necesariamente normal. \n",
    "\n",
    "El teorema del límite central, grosso modo garantiza que si sumamos variables aleatorias cualesquiera, la variable suma seguirá una distribución normal bajo algunas condiciones, como por ejemplo, que sea una suma grande de variables, entre otros.\n",
    "\n",
    "### ***Teorema del Límite Central:***\n",
    "\n",
    "Sea $X_1,X_2,X_3, \\dots , X_n$ un conjunto de variables aleatorias independientes e identicamente distribuidas, cada una de ellas con función de distribución $F$, y supongamos que $E(X_k)=\\mu$\n",
    "y $Var(X_k)=\\sigma^2$ para cualquier elemento del conjunto. Si llamamos\n",
    "\n",
    "$$S_n=\\dfrac{X_1+X_2+X_3+ \\dots + X_n - n\\mu}{\\sigma \\sqrt{n}}$$\n",
    "entonces la sucesión de sumas normalizadas converge (norma de funciones) a la variable aleatoria Normal Estándar $Z \\sim N(0,1)$, es decir, \n",
    "\n",
    "$$S_n \\longrightarrow Z$$\n",
    "Consecuencia importante del teorema: Si consideramos la suma de $n$ variables aleatorias con las condiciones del teorema, es decir, $Y=X_1+X_2+X_3+\\dots X_n$, entonces \n",
    "\n",
    "$$Y \\longrightarrow N(n\\mu, n\\sigma^2)$$"
   ]
  },
  {
   "cell_type": "markdown",
   "metadata": {
    "id": "vD0xE-ruYY27"
   },
   "source": [
    "#### ***Ejemplo 1 (TLC aplicado a variables Bernoulli y Binomiales):***\n",
    "\n",
    "Si tomamos una sucesión de variables Bernoulli $X_1, X_2, \\dots X_n$ tal que cada $X_i \\sim Ber_i(p)$ y consideramos  la variable $B_n=X_1+X_2+X_3+ \\dots + X_n$, entonces\n",
    "\n",
    "$$B_n \\longrightarrow N(np, np(1-p))$$\n",
    "\n",
    "Esto se tiene ya que si $X_i \\sim Bernoulli(p)$, entonces\n",
    "\n",
    "- $E[X_i]=p$\n",
    "\n",
    "- $Var[X_i]=p(1-p)$.\n",
    "\n",
    "Este resultado es asintótico, es decir, cuando $n$ es muy grande (tiende a infinito)."
   ]
  },
  {
   "cell_type": "markdown",
   "metadata": {
    "id": "kfEzQnJVlUKO"
   },
   "source": [
    "*Vamos realizar una simulación de la situación anterior.*"
   ]
  },
  {
   "cell_type": "markdown",
   "metadata": {},
   "source": [
    "---"
   ]
  },
  {
   "cell_type": "code",
   "execution_count": 40,
   "metadata": {
    "colab": {
     "base_uri": "https://localhost:8080/",
     "height": 395
    },
    "executionInfo": {
     "elapsed": 771,
     "status": "ok",
     "timestamp": 1664234959335,
     "user": {
      "displayName": "luis andres campos maldonado",
      "userId": "11260189668651664411"
     },
     "user_tz": 300
    },
    "id": "BLxtyeCmlOKc",
    "outputId": "e8e0ec73-a275-4c12-d26e-c703fe0b01f4"
   },
   "outputs": [
    {
     "data": {
      "image/png": "[encoded data removed]",
      "text/plain": [
       "<Figure size 1500x600 with 1 Axes>"
      ]
     },
     "metadata": {},
     "output_type": "display_data"
    }
   ],
   "source": [
    "x = binom.rvs(n=5, p=0.7, size=200_000)\n",
    "unicos, conteo = np.unique(x, return_counts=True)\n",
    "#\n",
    "plt.figure(figsize=(15,6))\n",
    "plt.bar(unicos,conteo/len(x))\n",
    "plt.title(\"Probabilidades binomial n=5, p=0.7\", size=20)\n",
    "plt.show()"
   ]
  },
  {
   "cell_type": "code",
   "execution_count": 41,
   "metadata": {
    "colab": {
     "base_uri": "https://localhost:8080/",
     "height": 237
    },
    "executionInfo": {
     "elapsed": 365,
     "status": "ok",
     "timestamp": 1664235007578,
     "user": {
      "displayName": "luis andres campos maldonado",
      "userId": "11260189668651664411"
     },
     "user_tz": 300
    },
    "id": "M4ZJn3jppQzj",
    "outputId": "e7a7b5b9-a855-4b74-e1a9-cd4848f0e947"
   },
   "outputs": [
    {
     "data": {
      "text/html": [
       "<div>\n",
       "<style scoped>\n",
       "    .dataframe tbody tr th:only-of-type {\n",
       "        vertical-align: middle;\n",
       "    }\n",
       "\n",
       "    .dataframe tbody tr th {\n",
       "        vertical-align: top;\n",
       "    }\n",
       "\n",
       "    .dataframe thead th {\n",
       "        text-align: right;\n",
       "    }\n",
       "</style>\n",
       "<table border=\"1\" class=\"dataframe\">\n",
       "  <thead>\n",
       "    <tr style=\"text-align: right;\">\n",
       "      <th></th>\n",
       "      <th>Aciertos</th>\n",
       "      <th>Probabilidad_simulada</th>\n",
       "      <th>Probabilidad_teorica</th>\n",
       "    </tr>\n",
       "  </thead>\n",
       "  <tbody>\n",
       "    <tr>\n",
       "      <th>0</th>\n",
       "      <td>0</td>\n",
       "      <td>0.002725</td>\n",
       "      <td>0.00243</td>\n",
       "    </tr>\n",
       "    <tr>\n",
       "      <th>1</th>\n",
       "      <td>1</td>\n",
       "      <td>0.028925</td>\n",
       "      <td>0.02835</td>\n",
       "    </tr>\n",
       "    <tr>\n",
       "      <th>2</th>\n",
       "      <td>2</td>\n",
       "      <td>0.132390</td>\n",
       "      <td>0.13230</td>\n",
       "    </tr>\n",
       "    <tr>\n",
       "      <th>3</th>\n",
       "      <td>3</td>\n",
       "      <td>0.308985</td>\n",
       "      <td>0.30870</td>\n",
       "    </tr>\n",
       "    <tr>\n",
       "      <th>4</th>\n",
       "      <td>4</td>\n",
       "      <td>0.359690</td>\n",
       "      <td>0.36015</td>\n",
       "    </tr>\n",
       "    <tr>\n",
       "      <th>5</th>\n",
       "      <td>5</td>\n",
       "      <td>0.167285</td>\n",
       "      <td>0.16807</td>\n",
       "    </tr>\n",
       "  </tbody>\n",
       "</table>\n",
       "</div>"
      ],
      "text/plain": [
       "   Aciertos  Probabilidad_simulada  Probabilidad_teorica\n",
       "0         0               0.002725               0.00243\n",
       "1         1               0.028925               0.02835\n",
       "2         2               0.132390               0.13230\n",
       "3         3               0.308985               0.30870\n",
       "4         4               0.359690               0.36015\n",
       "5         5               0.167285               0.16807"
      ]
     },
     "execution_count": 41,
     "metadata": {},
     "output_type": "execute_result"
    }
   ],
   "source": [
    "pd.DataFrame({\"Aciertos\":[i for i in range(6)], \n",
    "              \"Probabilidad_simulada\": pd.Categorical(x).value_counts()/200000,\n",
    "              \"Probabilidad_teorica\": binom.pmf([0,1,2,3,4,5],5,0.7) })"
   ]
  },
  {
   "cell_type": "code",
   "execution_count": 42,
   "metadata": {
    "colab": {
     "base_uri": "https://localhost:8080/"
    },
    "executionInfo": {
     "elapsed": 324,
     "status": "ok",
     "timestamp": 1664235157052,
     "user": {
      "displayName": "luis andres campos maldonado",
      "userId": "11260189668651664411"
     },
     "user_tz": 300
    },
    "id": "zHFd9KVyo-Jp",
    "outputId": "a8093cd4-eab8-4fb3-871a-e78eaeef4241"
   },
   "outputs": [
    {
     "data": {
      "text/plain": [
       "3.5"
      ]
     },
     "execution_count": 42,
     "metadata": {},
     "output_type": "execute_result"
    }
   ],
   "source": [
    "## Valor esperado o media de la Binomial B(5,0.7)\n",
    "5*0.7"
   ]
  },
  {
   "cell_type": "code",
   "execution_count": 43,
   "metadata": {
    "colab": {
     "base_uri": "https://localhost:8080/"
    },
    "executionInfo": {
     "elapsed": 5,
     "status": "ok",
     "timestamp": 1664235067958,
     "user": {
      "displayName": "luis andres campos maldonado",
      "userId": "11260189668651664411"
     },
     "user_tz": 300
    },
    "id": "BEiFVqcEILC_",
    "outputId": "2486ff1d-4cbe-4297-cd3d-5d69829e54d9"
   },
   "outputs": [
    {
     "data": {
      "text/plain": [
       "array([1, 3, 5, ..., 2, 5, 5])"
      ]
     },
     "execution_count": 43,
     "metadata": {},
     "output_type": "execute_result"
    }
   ],
   "source": [
    "binom.rvs(5,0.7, size = 200000)"
   ]
  },
  {
   "cell_type": "code",
   "execution_count": 44,
   "metadata": {
    "colab": {
     "base_uri": "https://localhost:8080/"
    },
    "executionInfo": {
     "elapsed": 320,
     "status": "ok",
     "timestamp": 1664235065574,
     "user": {
      "displayName": "luis andres campos maldonado",
      "userId": "11260189668651664411"
     },
     "user_tz": 300
    },
    "id": "JKPQXwsRpKBS",
    "outputId": "77bff287-7c6c-4c51-eba9-5f7f6f4c4d18"
   },
   "outputs": [
    {
     "data": {
      "text/plain": [
       "3422"
      ]
     },
     "execution_count": 44,
     "metadata": {},
     "output_type": "execute_result"
    }
   ],
   "source": [
    "sum(binom.rvs(5,0.7,size=1000))"
   ]
  },
  {
   "cell_type": "code",
   "execution_count": 45,
   "metadata": {
    "colab": {
     "base_uri": "https://localhost:8080/",
     "height": 419
    },
    "executionInfo": {
     "elapsed": 5497,
     "status": "ok",
     "timestamp": 1664235091845,
     "user": {
      "displayName": "luis andres campos maldonado",
      "userId": "11260189668651664411"
     },
     "user_tz": 300
    },
    "id": "s7XVUzQcw8J3",
    "outputId": "8fec9531-f007-4105-ce42-5d2cb55dee7a"
   },
   "outputs": [
    {
     "data": {
      "image/png": "[encoded data removed]",
      "text/plain": [
       "<Figure size 1600x600 with 1 Axes>"
      ]
     },
     "metadata": {},
     "output_type": "display_data"
    }
   ],
   "source": [
    "y = np.empty(20000)\n",
    "for i in range(20000):\n",
    "    y[i] = sum(binom.rvs(5,0.7,size=1000))\n",
    "##\n",
    "plt.figure(figsize=(16,6))\n",
    "plt.hist(y, density=True, color = \"red\", bins = 20)\n",
    "plt.title(\"Distribución de la suma de 1000 binomiales\\nn=5, p=0.7\", size = 22)\n",
    "plt.show()"
   ]
  },
  {
   "cell_type": "code",
   "execution_count": 46,
   "metadata": {
    "colab": {
     "base_uri": "https://localhost:8080/"
    },
    "executionInfo": {
     "elapsed": 342,
     "status": "ok",
     "timestamp": 1664235292491,
     "user": {
      "displayName": "luis andres campos maldonado",
      "userId": "11260189668651664411"
     },
     "user_tz": 300
    },
    "id": "S_Jspqr0pnVZ",
    "outputId": "fabc8345-0f25-4a23-a80a-504cec7730fc"
   },
   "outputs": [
    {
     "name": "stdout",
     "output_type": "stream",
     "text": [
      "La media teórica de la suma debe ser de: 3500.0\n",
      "La varianza teórica de la suma debe ser de: 1050.0000000000002\n"
     ]
    }
   ],
   "source": [
    "p = 0.7                               ## Probalidad de éxito.\n",
    "n = 5                                 ## Número de ensayos de la binomial.\n",
    "ex = n*p                              ## Valor esperado de la Binomial B(5,0.7)\n",
    "var = n*p*(1-p)                       ## Varianza Binomial B(5,0.7)\n",
    "###\n",
    "N = 1000                              ## Número variables aleatorias a sumar\n",
    "print(\"La media teórica de la suma debe ser de:\",N*ex)\n",
    "print(\"La varianza teórica de la suma debe ser de:\",N*var)"
   ]
  },
  {
   "cell_type": "code",
   "execution_count": 47,
   "metadata": {
    "colab": {
     "base_uri": "https://localhost:8080/"
    },
    "executionInfo": {
     "elapsed": 25,
     "status": "ok",
     "timestamp": 1664234773845,
     "user": {
      "displayName": "luis andres campos maldonado",
      "userId": "11260189668651664411"
     },
     "user_tz": 300
    },
    "id": "VahS-NS7pXEk",
    "outputId": "de6bca94-fdc5-41cb-ab81-b797244ff455"
   },
   "outputs": [
    {
     "name": "stdout",
     "output_type": "stream",
     "text": [
      "La media de la suma de las 1000 Binomiales simuladas es:  3500.1817\n",
      "La varianza de la suma de las 1000 Binomiales  simuladas es: 1033.9965851099998\n"
     ]
    }
   ],
   "source": [
    "print(\"La media de la suma de las 1000 Binomiales simuladas es: \",np.mean(y))\n",
    "print(\"La varianza de la suma de las 1000 Binomiales  simuladas es:\",np.var(y))"
   ]
  }
 ],
 "metadata": {
  "colab": {
   "collapsed_sections": [],
   "provenance": []
  },
  "kernelspec": {
   "display_name": "Python 3 (ipykernel)",
   "language": "python",
   "name": "python3"
  },
  "language_info": {
   "codemirror_mode": {
    "name": "ipython",
    "version": 3
   },
   "file_extension": ".py",
   "mimetype": "text/x-python",
   "name": "python",
   "nbconvert_exporter": "python",
   "pygments_lexer": "ipython3",
   "version": "3.10.11"
  }
 },
 "nbformat": 4,
 "nbformat_minor": 1
}
