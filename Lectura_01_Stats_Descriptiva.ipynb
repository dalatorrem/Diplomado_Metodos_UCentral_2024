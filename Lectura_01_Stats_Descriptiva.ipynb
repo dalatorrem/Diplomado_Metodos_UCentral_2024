{
  "nbformat": 4,
  "nbformat_minor": 0,
  "metadata": {
    "colab": {
      "provenance": [],
      "include_colab_link": true
    },
    "kernelspec": {
      "name": "python3",
      "display_name": "Python 3"
    },
    "language_info": {
      "name": "python"
    }
  },
  "cells": [
    {
      "cell_type": "markdown",
      "metadata": {
        "id": "view-in-github",
        "colab_type": "text"
      },
      "source": [
        "<a href=\"https://colab.research.google.com/github/dalatorrem/Diplomado_Metodos_UCentral_2023/blob/main/Lectura_1_Stats_Descriptiva.ipynb\" target=\"_parent\"><img src=\"https://colab.research.google.com/assets/colab-badge.svg\" alt=\"Open In Colab\"/></a>"
      ]
    },
    {
      "cell_type": "markdown",
      "source": [
        "# ***Ideas sobre estadística***\n",
        "\n",
        "## **Fundamentos de estadística para analítica de Datos . Módulo de Maestría**\n",
        "### ***Docente: Luis Andres Campos Maldonado.***"
      ],
      "metadata": {
        "id": "PU0WA3UvTc7f"
      }
    },
    {
      "cell_type": "markdown",
      "source": [
        "## ***¿Que es la estadística?***\n",
        "\n",
        "\n",
        "La estadística es una disciplina científica que se ocupa de la obtención, orden y análisis de un conjunto de datos con el fin de obtener explicaciones y predicciones sobre fenómenos observados. En esta tarea se busca sistematizar, recoger, ordenar y presentar datos referentes a un fenomeno que\n",
        "presenta variabilidad o incertidumbre para su estudio metódico. Esto busca poder lograr hacer previsiones, tomar decisiones y obtener conclusiones."
      ],
      "metadata": {
        "id": "A-Pj484S9tHU"
      }
    },
    {
      "cell_type": "markdown",
      "source": [
        "## ***Población y muestra***\n",
        "\n",
        "<div align=\"center\"><img src='https://raw.githubusercontent.com/lacamposm/Fundamentos_Analitica/main/images/muestra_poblacion.png' width=550>\n",
        "<img src='https://raw.githubusercontent.com/lacamposm/Fundamentos_Analitica/main/images/esta_parametro.png' width=550>\n",
        "</div>\n"
      ],
      "metadata": {
        "id": "OPwaXnNNKoPy"
      }
    },
    {
      "cell_type": "markdown",
      "source": [
        "\n",
        "\n",
        "Consideremos algunos términos que serán de uso recurrente.\n",
        "\n",
        "***Población***\n",
        "\n",
        "Es el conjunto de todos los elementos o unidades (personas, objetos, animales, etc.) bajo consideración en un estudio estadístico y sobre los que se\n",
        "desea medir una o varias características, con el fin de describir y/o hacer inferencia de las mismas.\n",
        "\n",
        "***Marco muestral***\n",
        "\n",
        "Es el medio por el cual los elementos de una población objetivo son identificados.\n",
        "\n",
        "***Muestra***\n",
        "\n",
        "Es un subconjunto de elementos o unidades de una población estadística seleccionados de forma adecuada (mediante algún esquema de muestreo).\n",
        "\n",
        "***Unidad de muestreo***\n",
        "\n",
        "Es la unidad que es de hecho seleccionada para componer la muestra.\n",
        "\n",
        "***Variable de interés***\n",
        "\n",
        "Es la característica propia de los individuos sobre la que se realiza la inferencia para resolver los objetivos de la investigación.\n",
        "\n"
      ],
      "metadata": {
        "id": "Hkco6RsCB4HC"
      }
    },
    {
      "cell_type": "markdown",
      "source": [
        "#### ***Ejemplo.***\n",
        "\n",
        "Supongamos que el sistema de gestión integral de Transmilenio desea evaluar\n",
        "la proporción de empleados que están a favor de una nueva política de\n",
        "bonificación salarial de la empresa.\n",
        "\n",
        "Analicemos las definiciones dadas previamente respecto al problema en\n",
        "cuestión:\n",
        "\n",
        "***Población*** Está conformada por todos y cada uno de los\n",
        "empleados de Transmilenio que se puedan ser “medidos” mediante\n",
        "una encuesta de opinión.\n",
        "\n",
        "***Unidad de muestreo:*** Todos los empleados de Trasmilenio o  ́areas\n",
        "funcionales.\n",
        "\n",
        "***Marco muestral:*** si se especifica como unidad de muestreo el\n",
        "votante individual, el marco muestral será una lista de todos los\n",
        "empleados de Transmilenio. Si se consideran las  ́areas funcionales\n",
        "como unidades de muestreo, tendremos más de un marco muestral y\n",
        "serán las listas de empleados por departamento.\n",
        "\n",
        "***Muestra:*** será una colección de unidades de muestreo (empleados de\n",
        "Transmilenio) obtenidas a partir de uno o varios marcos de muestreo."
      ],
      "metadata": {
        "id": "vRg-p8lzKGjl"
      }
    },
    {
      "cell_type": "markdown",
      "source": [
        "El muestreo es el área de la estadística que estudia técnicas y procedimientos para retirar y analizar una muestra con el objetivo de hacer inferencia\n",
        "respecto a una población.\n",
        "\n",
        "¿Cuál es la importancia del muestreo?\n",
        "\n",
        "1. Poder cuantificar una población.\n",
        "1. Caracterizar una población mediante una muestra.\n",
        "2. Poder tomar decisiones basados en una muestra probabilística.\n",
        "\n",
        "***Ejemplo de aplicaciones:***\n",
        "\n",
        "- **Marketing:** Encuestas de mercado, encuestas de satisfacci ́on del\n",
        "cliente.\n",
        "\n",
        "- **Sociología:** Encuestas de opinión.\n",
        "\n",
        "- **Ciencia Política:** Encuestas electorales.\n",
        "\n",
        "- **Psicología:** Investigaciones comportamiento, investigaciones de\n",
        "calidad de vida.\n",
        "\n",
        "- **Ingeniería:** Implementación de planes para seguimiento de calidad,\n",
        "control de calidad.\n",
        "\n",
        "***Ventajas del muestreo vs Censo:***\n",
        "\n",
        "- Bajo costo.\n",
        "\n",
        "- Rapidez.\n",
        "\n",
        "- Calidad de la información."
      ],
      "metadata": {
        "id": "2R0WfU-YCCMd"
      }
    },
    {
      "cell_type": "markdown",
      "source": [
        "### ***Tipos de datos:***\n",
        "\n",
        "Una **variable** es cualquier característica cuyo valor puede cambiar de un objeto a otro en la población.\n",
        "\n",
        "Por su naturaleza podemos considerar variables del tipo:\n",
        "\n",
        "- Univariantes: Son quellas que en nn conjunto de datos univariantes se compone de observaciones realizadas\n",
        "en una sola variable.\n",
        "- Bivariantes: Se tienen datos bivariantes cuando se realizan observaciones en cada unidad experimental de dos variables.\n",
        "\n",
        "- Multivariantes: Estos surgen cuando se realizan observaciones en más de una variable (por lo que bivariante es un caso especial de multivariante).\n",
        "\n",
        "\n"
      ],
      "metadata": {
        "id": "BWrxT1uuWLwF"
      }
    },
    {
      "cell_type": "markdown",
      "source": [
        "Vamos a considerar los 2 tipos de datos clásicos:\n",
        "\n",
        "<div align=\"center\"><img src='https://raw.githubusercontent.com/lacamposm/Fundamentos_Analitica/main/data/images/tipos_variables.png' width=550>\n",
        "</div>\n",
        "\n",
        "\n",
        "\n",
        "- ***Numéricos:*** Datos que se expresan en una escala numérica.\n",
        "\n",
        " 1. Continuo: Datos que pueden tomar cualquier valor en un intervalo.\n",
        " 2. Discreto: Datos que solo pueden tomar valores enteros, como conteos.\n",
        "\n",
        "- ***Categóricos:*** Datos que pueden tomar solo un conjunto específico y finito de valores que representan un conjunto de posibles categorías.\n",
        "\n",
        "1. Binario: Un caso especial de datos categóricos con solo dos categorías de valores, por ejemplo, 0/1,\n",
        "verdadero Falso. (Sinónimos: dicotómico, lógico, indicador, booleano)\n",
        "\n",
        "2. Ordinal: Datos categóricos que tienen un ordenamiento explícito. (Sinónimo: factor ordenado)\n",
        "\n",
        "De esta clasificación dependerá su tratamiento pues estos datos normalmente se clasifican en el software por sus tipos, los cuales incluyen: continuos, discretos, binarios y ordinales. Así, la tipificación de datos en el software actúa como una señal para el software sobre cómo procesar la información"
      ],
      "metadata": {
        "id": "tPUz_mhkQf1Q"
      }
    },
    {
      "cell_type": "markdown",
      "source": [
        "### ***`DataFrame`***\n",
        "\n",
        "El tratamiento de información comunmente se hace con datos rectagulares (Hoja de cálculo) pues son la estructura de datos básica para fines estadísticos y\n",
        "modelos de machine learning. Esta tipo de información la vamos a llamar de acá en adelante `dataframe`.\n",
        "\n",
        "Una columna dentro de un dataframe se conoce comúnmente como una característica (feature). No tan común en este ambito, pero términos usados como: atributo, entrada, predictor.\n",
        "\n",
        "Muchos proyectos en ciencia de datos implican predecir un resultado, a menudo un resultado de sí/no. Las features son las utilizadas para predecir el resultado de un experimento o un estudio. Esta variable es conocida como `target` o variable dependiente o variable respuesta.\n",
        "\n",
        "Una fila dentro de un dataframe se conoce comúnmente como un `record`. O quizá como: instancia u observación."
      ],
      "metadata": {
        "id": "xxgW86wWXuIQ"
      }
    },
    {
      "cell_type": "markdown",
      "source": [
        "Importemos nuestro módulo de trabajo y un dataframe."
      ],
      "metadata": {
        "id": "gPhjgxuvmLml"
      }
    },
    {
      "cell_type": "code",
      "source": [
        "## Conentando con google drive.\n",
        "%load_ext autoreload\n",
        "%autoreload 2\n",
        "from google.colab import drive\n",
        "drive.mount('/content/drive')"
      ],
      "metadata": {
        "colab": {
          "base_uri": "https://localhost:8080/"
        },
        "id": "oEieaJt-nGfI",
        "outputId": "72080d8e-02d5-485d-c992-ad3ebd4eadab"
      },
      "execution_count": null,
      "outputs": [
        {
          "output_type": "stream",
          "name": "stdout",
          "text": [
            "The autoreload extension is already loaded. To reload it, use:\n",
            "  %reload_ext autoreload\n",
            "Drive already mounted at /content/drive; to attempt to forcibly remount, call drive.mount(\"/content/drive\", force_remount=True).\n"
          ]
        }
      ]
    },
    {
      "cell_type": "code",
      "source": [
        "%cd \"/content/drive/MyDrive/Ucentral Maestría/Fundamentos_2022-II/Lecturas_curso\""
      ],
      "metadata": {
        "colab": {
          "base_uri": "https://localhost:8080/"
        },
        "id": "2nhKI7FhneEW",
        "outputId": "40fe783e-97e8-4362-94b1-58fe5eee8eef"
      },
      "execution_count": null,
      "outputs": [
        {
          "output_type": "stream",
          "name": "stdout",
          "text": [
            "/content/drive/MyDrive/Ucentral Maestría/Fundamentos_2022-II/Lecturas_curso\n"
          ]
        }
      ]
    },
    {
      "cell_type": "code",
      "source": [
        "!ls datas"
      ],
      "metadata": {
        "colab": {
          "base_uri": "https://localhost:8080/"
        },
        "id": "UKV1Cowon7F7",
        "outputId": "f76e042b-95bd-4539-af20-85c8fa79c042"
      },
      "execution_count": null,
      "outputs": [
        {
          "output_type": "stream",
          "name": "stdout",
          "text": [
            "espectro.json  NOTASBARRAS.xlsx  TABLA_PERSONAS.csv\n"
          ]
        }
      ]
    },
    {
      "cell_type": "code",
      "source": [
        "import pandas as pd\n",
        "\n",
        "url = \"datas/TABLA_PERSONAS.csv\"\n",
        "df = pd.read_csv(url, sep = \";\", index_col = 0)\n",
        "df.head()"
      ],
      "metadata": {
        "colab": {
          "base_uri": "https://localhost:8080/",
          "height": 237
        },
        "id": "dUPOwZz1mQ46",
        "outputId": "d4c1e6cd-f26c-4eec-cf01-e2015717a4a5"
      },
      "execution_count": null,
      "outputs": [
        {
          "output_type": "execute_result",
          "data": {
            "text/plain": [
              "           EDAD SEXO ESTATURA NIVEL_ESCOLAR MARCA_DE_AUTO  NUMERO_DE_HIJOS  \\\n",
              "PERSONA                                                                      \n",
              "PERSONA 1    21    M     1,54      MAESTRIA          AUDI                0   \n",
              "PERSONA 2    26    F     1,55   PROFESIONAL       RENAULT                5   \n",
              "PERSONA 3    30    F      1,6     DOCTORADO           BMW                2   \n",
              "PERSONA 4    31    F      1,7   PROFESIONAL       RENAULT                2   \n",
              "PERSONA 5    35    M     1,71      MAESTRIA          AUDI                1   \n",
              "\n",
              "           SALARIO  \n",
              "PERSONA             \n",
              "PERSONA 1  1200000  \n",
              "PERSONA 2  1250000  \n",
              "PERSONA 3   900000  \n",
              "PERSONA 4   800000  \n",
              "PERSONA 5   950000  "
            ],
            "text/html": [
              "\n",
              "  <div id=\"df-f00dc06f-f050-4cf8-bc71-aeaa2a5247a2\">\n",
              "    <div class=\"colab-df-container\">\n",
              "      <div>\n",
              "<style scoped>\n",
              "    .dataframe tbody tr th:only-of-type {\n",
              "        vertical-align: middle;\n",
              "    }\n",
              "\n",
              "    .dataframe tbody tr th {\n",
              "        vertical-align: top;\n",
              "    }\n",
              "\n",
              "    .dataframe thead th {\n",
              "        text-align: right;\n",
              "    }\n",
              "</style>\n",
              "<table border=\"1\" class=\"dataframe\">\n",
              "  <thead>\n",
              "    <tr style=\"text-align: right;\">\n",
              "      <th></th>\n",
              "      <th>EDAD</th>\n",
              "      <th>SEXO</th>\n",
              "      <th>ESTATURA</th>\n",
              "      <th>NIVEL_ESCOLAR</th>\n",
              "      <th>MARCA_DE_AUTO</th>\n",
              "      <th>NUMERO_DE_HIJOS</th>\n",
              "      <th>SALARIO</th>\n",
              "    </tr>\n",
              "    <tr>\n",
              "      <th>PERSONA</th>\n",
              "      <th></th>\n",
              "      <th></th>\n",
              "      <th></th>\n",
              "      <th></th>\n",
              "      <th></th>\n",
              "      <th></th>\n",
              "      <th></th>\n",
              "    </tr>\n",
              "  </thead>\n",
              "  <tbody>\n",
              "    <tr>\n",
              "      <th>PERSONA 1</th>\n",
              "      <td>21</td>\n",
              "      <td>M</td>\n",
              "      <td>1,54</td>\n",
              "      <td>MAESTRIA</td>\n",
              "      <td>AUDI</td>\n",
              "      <td>0</td>\n",
              "      <td>1200000</td>\n",
              "    </tr>\n",
              "    <tr>\n",
              "      <th>PERSONA 2</th>\n",
              "      <td>26</td>\n",
              "      <td>F</td>\n",
              "      <td>1,55</td>\n",
              "      <td>PROFESIONAL</td>\n",
              "      <td>RENAULT</td>\n",
              "      <td>5</td>\n",
              "      <td>1250000</td>\n",
              "    </tr>\n",
              "    <tr>\n",
              "      <th>PERSONA 3</th>\n",
              "      <td>30</td>\n",
              "      <td>F</td>\n",
              "      <td>1,6</td>\n",
              "      <td>DOCTORADO</td>\n",
              "      <td>BMW</td>\n",
              "      <td>2</td>\n",
              "      <td>900000</td>\n",
              "    </tr>\n",
              "    <tr>\n",
              "      <th>PERSONA 4</th>\n",
              "      <td>31</td>\n",
              "      <td>F</td>\n",
              "      <td>1,7</td>\n",
              "      <td>PROFESIONAL</td>\n",
              "      <td>RENAULT</td>\n",
              "      <td>2</td>\n",
              "      <td>800000</td>\n",
              "    </tr>\n",
              "    <tr>\n",
              "      <th>PERSONA 5</th>\n",
              "      <td>35</td>\n",
              "      <td>M</td>\n",
              "      <td>1,71</td>\n",
              "      <td>MAESTRIA</td>\n",
              "      <td>AUDI</td>\n",
              "      <td>1</td>\n",
              "      <td>950000</td>\n",
              "    </tr>\n",
              "  </tbody>\n",
              "</table>\n",
              "</div>\n",
              "      <button class=\"colab-df-convert\" onclick=\"convertToInteractive('df-f00dc06f-f050-4cf8-bc71-aeaa2a5247a2')\"\n",
              "              title=\"Convert this dataframe to an interactive table.\"\n",
              "              style=\"display:none;\">\n",
              "        \n",
              "  <svg xmlns=\"http://www.w3.org/2000/svg\" height=\"24px\"viewBox=\"0 0 24 24\"\n",
              "       width=\"24px\">\n",
              "    <path d=\"M0 0h24v24H0V0z\" fill=\"none\"/>\n",
              "    <path d=\"M18.56 5.44l.94 2.06.94-2.06 2.06-.94-2.06-.94-.94-2.06-.94 2.06-2.06.94zm-11 1L8.5 8.5l.94-2.06 2.06-.94-2.06-.94L8.5 2.5l-.94 2.06-2.06.94zm10 10l.94 2.06.94-2.06 2.06-.94-2.06-.94-.94-2.06-.94 2.06-2.06.94z\"/><path d=\"M17.41 7.96l-1.37-1.37c-.4-.4-.92-.59-1.43-.59-.52 0-1.04.2-1.43.59L10.3 9.45l-7.72 7.72c-.78.78-.78 2.05 0 2.83L4 21.41c.39.39.9.59 1.41.59.51 0 1.02-.2 1.41-.59l7.78-7.78 2.81-2.81c.8-.78.8-2.07 0-2.86zM5.41 20L4 18.59l7.72-7.72 1.47 1.35L5.41 20z\"/>\n",
              "  </svg>\n",
              "      </button>\n",
              "      \n",
              "  <style>\n",
              "    .colab-df-container {\n",
              "      display:flex;\n",
              "      flex-wrap:wrap;\n",
              "      gap: 12px;\n",
              "    }\n",
              "\n",
              "    .colab-df-convert {\n",
              "      background-color: #E8F0FE;\n",
              "      border: none;\n",
              "      border-radius: 50%;\n",
              "      cursor: pointer;\n",
              "      display: none;\n",
              "      fill: #1967D2;\n",
              "      height: 32px;\n",
              "      padding: 0 0 0 0;\n",
              "      width: 32px;\n",
              "    }\n",
              "\n",
              "    .colab-df-convert:hover {\n",
              "      background-color: #E2EBFA;\n",
              "      box-shadow: 0px 1px 2px rgba(60, 64, 67, 0.3), 0px 1px 3px 1px rgba(60, 64, 67, 0.15);\n",
              "      fill: #174EA6;\n",
              "    }\n",
              "\n",
              "    [theme=dark] .colab-df-convert {\n",
              "      background-color: #3B4455;\n",
              "      fill: #D2E3FC;\n",
              "    }\n",
              "\n",
              "    [theme=dark] .colab-df-convert:hover {\n",
              "      background-color: #434B5C;\n",
              "      box-shadow: 0px 1px 3px 1px rgba(0, 0, 0, 0.15);\n",
              "      filter: drop-shadow(0px 1px 2px rgba(0, 0, 0, 0.3));\n",
              "      fill: #FFFFFF;\n",
              "    }\n",
              "  </style>\n",
              "\n",
              "      <script>\n",
              "        const buttonEl =\n",
              "          document.querySelector('#df-f00dc06f-f050-4cf8-bc71-aeaa2a5247a2 button.colab-df-convert');\n",
              "        buttonEl.style.display =\n",
              "          google.colab.kernel.accessAllowed ? 'block' : 'none';\n",
              "\n",
              "        async function convertToInteractive(key) {\n",
              "          const element = document.querySelector('#df-f00dc06f-f050-4cf8-bc71-aeaa2a5247a2');\n",
              "          const dataTable =\n",
              "            await google.colab.kernel.invokeFunction('convertToInteractive',\n",
              "                                                     [key], {});\n",
              "          if (!dataTable) return;\n",
              "\n",
              "          const docLinkHtml = 'Like what you see? Visit the ' +\n",
              "            '<a target=\"_blank\" href=https://colab.research.google.com/notebooks/data_table.ipynb>data table notebook</a>'\n",
              "            + ' to learn more about interactive tables.';\n",
              "          element.innerHTML = '';\n",
              "          dataTable['output_type'] = 'display_data';\n",
              "          await google.colab.output.renderOutput(dataTable, element);\n",
              "          const docLink = document.createElement('div');\n",
              "          docLink.innerHTML = docLinkHtml;\n",
              "          element.appendChild(docLink);\n",
              "        }\n",
              "      </script>\n",
              "    </div>\n",
              "  </div>\n",
              "  "
            ]
          },
          "metadata": {},
          "execution_count": 12
        }
      ]
    },
    {
      "cell_type": "code",
      "source": [
        "## Tipos de datos importados\n",
        "df.dtypes"
      ],
      "metadata": {
        "colab": {
          "base_uri": "https://localhost:8080/"
        },
        "id": "K0VRGR6ytUGd",
        "outputId": "50d4f5c3-afbb-44ed-c7a5-d8da85e730a6"
      },
      "execution_count": null,
      "outputs": [
        {
          "output_type": "execute_result",
          "data": {
            "text/plain": [
              "EDAD                int64\n",
              "SEXO               object\n",
              "ESTATURA           object\n",
              "NIVEL_ESCOLAR      object\n",
              "MARCA_DE_AUTO      object\n",
              "NUMERO_DE_HIJOS     int64\n",
              "SALARIO             int64\n",
              "dtype: object"
            ]
          },
          "metadata": {},
          "execution_count": 13
        }
      ]
    },
    {
      "cell_type": "code",
      "source": [
        "## Tenemos 31 registros y 7 features\n",
        "df.shape"
      ],
      "metadata": {
        "colab": {
          "base_uri": "https://localhost:8080/"
        },
        "id": "3UEaXX9ltjJI",
        "outputId": "b5f80b21-8d0f-401d-b6cd-aebf73fe5bc8"
      },
      "execution_count": null,
      "outputs": [
        {
          "output_type": "execute_result",
          "data": {
            "text/plain": [
              "(31, 7)"
            ]
          },
          "metadata": {},
          "execution_count": 14
        }
      ]
    },
    {
      "cell_type": "code",
      "source": [
        "## Información básica del DataFrame\n",
        "df.info()"
      ],
      "metadata": {
        "colab": {
          "base_uri": "https://localhost:8080/"
        },
        "id": "zncY4iU0tz2q",
        "outputId": "dff0b6ff-f877-4060-8ea1-407c12ded0b7"
      },
      "execution_count": null,
      "outputs": [
        {
          "output_type": "stream",
          "name": "stdout",
          "text": [
            "<class 'pandas.core.frame.DataFrame'>\n",
            "Index: 31 entries, PERSONA 1 to PERSONA 31\n",
            "Data columns (total 7 columns):\n",
            " #   Column           Non-Null Count  Dtype \n",
            "---  ------           --------------  ----- \n",
            " 0   EDAD             31 non-null     int64 \n",
            " 1   SEXO             30 non-null     object\n",
            " 2   ESTATURA         31 non-null     object\n",
            " 3   NIVEL_ESCOLAR    30 non-null     object\n",
            " 4   MARCA_DE_AUTO    31 non-null     object\n",
            " 5   NUMERO_DE_HIJOS  31 non-null     int64 \n",
            " 6   SALARIO          31 non-null     int64 \n",
            "dtypes: int64(3), object(4)\n",
            "memory usage: 1.9+ KB\n"
          ]
        }
      ]
    },
    {
      "cell_type": "markdown",
      "source": [
        "Note que tenemos 7 features, 2 de las cuales tienen un valor nulo. Vamos a encontralos"
      ],
      "metadata": {
        "id": "MPTZqwK7t4mu"
      }
    },
    {
      "cell_type": "code",
      "source": [
        "##  Se observa que el registro 31 tiene los NaN.\n",
        "df[df['SEXO'].isna()]"
      ],
      "metadata": {
        "colab": {
          "base_uri": "https://localhost:8080/",
          "height": 112
        },
        "id": "gh9m9jk_uFGP",
        "outputId": "8b06c73c-9a4e-4f94-e352-b4f4f1444709"
      },
      "execution_count": null,
      "outputs": [
        {
          "output_type": "execute_result",
          "data": {
            "text/plain": [
              "            EDAD SEXO ESTATURA NIVEL_ESCOLAR MARCA_DE_AUTO  NUMERO_DE_HIJOS  \\\n",
              "PERSONA                                                                       \n",
              "PERSONA 31    34  NaN      1,5           NaN          AUDI                0   \n",
              "\n",
              "            SALARIO  \n",
              "PERSONA              \n",
              "PERSONA 31        0  "
            ],
            "text/html": [
              "\n",
              "  <div id=\"df-50645bd5-8184-44dc-b3bd-e56948b03307\">\n",
              "    <div class=\"colab-df-container\">\n",
              "      <div>\n",
              "<style scoped>\n",
              "    .dataframe tbody tr th:only-of-type {\n",
              "        vertical-align: middle;\n",
              "    }\n",
              "\n",
              "    .dataframe tbody tr th {\n",
              "        vertical-align: top;\n",
              "    }\n",
              "\n",
              "    .dataframe thead th {\n",
              "        text-align: right;\n",
              "    }\n",
              "</style>\n",
              "<table border=\"1\" class=\"dataframe\">\n",
              "  <thead>\n",
              "    <tr style=\"text-align: right;\">\n",
              "      <th></th>\n",
              "      <th>EDAD</th>\n",
              "      <th>SEXO</th>\n",
              "      <th>ESTATURA</th>\n",
              "      <th>NIVEL_ESCOLAR</th>\n",
              "      <th>MARCA_DE_AUTO</th>\n",
              "      <th>NUMERO_DE_HIJOS</th>\n",
              "      <th>SALARIO</th>\n",
              "    </tr>\n",
              "    <tr>\n",
              "      <th>PERSONA</th>\n",
              "      <th></th>\n",
              "      <th></th>\n",
              "      <th></th>\n",
              "      <th></th>\n",
              "      <th></th>\n",
              "      <th></th>\n",
              "      <th></th>\n",
              "    </tr>\n",
              "  </thead>\n",
              "  <tbody>\n",
              "    <tr>\n",
              "      <th>PERSONA 31</th>\n",
              "      <td>34</td>\n",
              "      <td>NaN</td>\n",
              "      <td>1,5</td>\n",
              "      <td>NaN</td>\n",
              "      <td>AUDI</td>\n",
              "      <td>0</td>\n",
              "      <td>0</td>\n",
              "    </tr>\n",
              "  </tbody>\n",
              "</table>\n",
              "</div>\n",
              "      <button class=\"colab-df-convert\" onclick=\"convertToInteractive('df-50645bd5-8184-44dc-b3bd-e56948b03307')\"\n",
              "              title=\"Convert this dataframe to an interactive table.\"\n",
              "              style=\"display:none;\">\n",
              "        \n",
              "  <svg xmlns=\"http://www.w3.org/2000/svg\" height=\"24px\"viewBox=\"0 0 24 24\"\n",
              "       width=\"24px\">\n",
              "    <path d=\"M0 0h24v24H0V0z\" fill=\"none\"/>\n",
              "    <path d=\"M18.56 5.44l.94 2.06.94-2.06 2.06-.94-2.06-.94-.94-2.06-.94 2.06-2.06.94zm-11 1L8.5 8.5l.94-2.06 2.06-.94-2.06-.94L8.5 2.5l-.94 2.06-2.06.94zm10 10l.94 2.06.94-2.06 2.06-.94-2.06-.94-.94-2.06-.94 2.06-2.06.94z\"/><path d=\"M17.41 7.96l-1.37-1.37c-.4-.4-.92-.59-1.43-.59-.52 0-1.04.2-1.43.59L10.3 9.45l-7.72 7.72c-.78.78-.78 2.05 0 2.83L4 21.41c.39.39.9.59 1.41.59.51 0 1.02-.2 1.41-.59l7.78-7.78 2.81-2.81c.8-.78.8-2.07 0-2.86zM5.41 20L4 18.59l7.72-7.72 1.47 1.35L5.41 20z\"/>\n",
              "  </svg>\n",
              "      </button>\n",
              "      \n",
              "  <style>\n",
              "    .colab-df-container {\n",
              "      display:flex;\n",
              "      flex-wrap:wrap;\n",
              "      gap: 12px;\n",
              "    }\n",
              "\n",
              "    .colab-df-convert {\n",
              "      background-color: #E8F0FE;\n",
              "      border: none;\n",
              "      border-radius: 50%;\n",
              "      cursor: pointer;\n",
              "      display: none;\n",
              "      fill: #1967D2;\n",
              "      height: 32px;\n",
              "      padding: 0 0 0 0;\n",
              "      width: 32px;\n",
              "    }\n",
              "\n",
              "    .colab-df-convert:hover {\n",
              "      background-color: #E2EBFA;\n",
              "      box-shadow: 0px 1px 2px rgba(60, 64, 67, 0.3), 0px 1px 3px 1px rgba(60, 64, 67, 0.15);\n",
              "      fill: #174EA6;\n",
              "    }\n",
              "\n",
              "    [theme=dark] .colab-df-convert {\n",
              "      background-color: #3B4455;\n",
              "      fill: #D2E3FC;\n",
              "    }\n",
              "\n",
              "    [theme=dark] .colab-df-convert:hover {\n",
              "      background-color: #434B5C;\n",
              "      box-shadow: 0px 1px 3px 1px rgba(0, 0, 0, 0.15);\n",
              "      filter: drop-shadow(0px 1px 2px rgba(0, 0, 0, 0.3));\n",
              "      fill: #FFFFFF;\n",
              "    }\n",
              "  </style>\n",
              "\n",
              "      <script>\n",
              "        const buttonEl =\n",
              "          document.querySelector('#df-50645bd5-8184-44dc-b3bd-e56948b03307 button.colab-df-convert');\n",
              "        buttonEl.style.display =\n",
              "          google.colab.kernel.accessAllowed ? 'block' : 'none';\n",
              "\n",
              "        async function convertToInteractive(key) {\n",
              "          const element = document.querySelector('#df-50645bd5-8184-44dc-b3bd-e56948b03307');\n",
              "          const dataTable =\n",
              "            await google.colab.kernel.invokeFunction('convertToInteractive',\n",
              "                                                     [key], {});\n",
              "          if (!dataTable) return;\n",
              "\n",
              "          const docLinkHtml = 'Like what you see? Visit the ' +\n",
              "            '<a target=\"_blank\" href=https://colab.research.google.com/notebooks/data_table.ipynb>data table notebook</a>'\n",
              "            + ' to learn more about interactive tables.';\n",
              "          element.innerHTML = '';\n",
              "          dataTable['output_type'] = 'display_data';\n",
              "          await google.colab.output.renderOutput(dataTable, element);\n",
              "          const docLink = document.createElement('div');\n",
              "          docLink.innerHTML = docLinkHtml;\n",
              "          element.appendChild(docLink);\n",
              "        }\n",
              "      </script>\n",
              "    </div>\n",
              "  </div>\n",
              "  "
            ]
          },
          "metadata": {},
          "execution_count": 16
        }
      ]
    },
    {
      "cell_type": "markdown",
      "source": [
        "### ***Tabla de frecuencias.***\n",
        "\n",
        "| Categoría o  Clase  de la variable $\\large{X_i}$  | Frecuencia  Relativa $\\large{(f_i=\\frac{n_i}{N})}$|Frecuencia Absoluta  $\\large(n_i)$ |Frecuencia Relativa  en Porcentaje % $\\large{(f_i*100)}$ | |\n",
        "|:-------------------:|:---:|:---:|:---:|:---:|\n",
        "|Clase 1 | $n_1$ : número de elementos de la clase 1 | $\\large{f_1=\\dfrac{n_1}{N}}$ | $\\large{f_1*100}$|\n",
        "|Clase 2 | $n_2$ : número de elementos de la clase 2 | $\\large{f_2=\\dfrac{n_2}{N}}$ | $\\large{f_2*100}$|\n",
        "|$\\dots$ | $\\dots$ | $\\dots$|  $\\dots$\n",
        " Clase k | $n_k$ : número de elementos de la clase k | $\\large{f_k=\\dfrac{n_k}{N}}$ | $\\large{f_k*100}$|\n",
        "|Total | $n_1+n_2+ \\dots + n_k =N$\t| $\\large{1}$ | $100\\%$"
      ],
      "metadata": {
        "id": "WFhfdhadrH6k"
      }
    },
    {
      "cell_type": "markdown",
      "source": [
        "Algunas consideraciones de esta tabla.\n",
        "\n",
        "- La **frecuencia absoluta** $(n_i)$ de una clase $X_i$ es el número de veces que se repite la clase $X_i$.\n",
        "\n",
        "- La suma de todas las frecuencias absolutas $(n_i)$ con $i = 1,2,3,\\dots , k$ es igual al número total de datos (elementos).\n",
        "\n",
        "$$\\sum \\limits_{i=1} ^{k} n_i = n_1 + n_2 + \\dots + n_k = N$$\n",
        "\n",
        "donde $N$ es el número total de elementos.\n",
        "\n",
        "- La **frecuencia relativa** $f_i$ de una clase $X_i$ es la proporción de valores iguales a $X_i$ en el conjunto de datos. En otras palabras\n",
        "\n",
        "$$f_i= \\dfrac{n_i}{N}$$\n",
        "donde $n_i$ representa el número de veces que se repite $X_i$"
      ],
      "metadata": {
        "id": "l9-7Hcg1sGth"
      }
    },
    {
      "cell_type": "markdown",
      "source": [
        "Vamos a construir una tabla de frecuencias de la feature `MARCA_DE_AUTO`"
      ],
      "metadata": {
        "id": "IyY9Acq-u9B2"
      }
    },
    {
      "cell_type": "code",
      "source": [
        "## Frecuencia absoluta.\n",
        "frec_abs = df[\"MARCA_DE_AUTO\"].value_counts()\n",
        "frec_abs.rename(\"frec_abs\", inplace = True)"
      ],
      "metadata": {
        "colab": {
          "base_uri": "https://localhost:8080/"
        },
        "id": "BETNqlw9vOiw",
        "outputId": "b7694ceb-dd48-45fc-af90-b59af079ef7b"
      },
      "execution_count": null,
      "outputs": [
        {
          "output_type": "execute_result",
          "data": {
            "text/plain": [
              "AUDI         8\n",
              "RENAULT      6\n",
              "BMW          6\n",
              "CHEVROLET    6\n",
              "FORD         5\n",
              "Name: frec_abs, dtype: int64"
            ]
          },
          "metadata": {},
          "execution_count": 17
        }
      ]
    },
    {
      "cell_type": "code",
      "source": [
        "## Frecuencia relativa.\n",
        "frec_rela = df[\"MARCA_DE_AUTO\"].value_counts(normalize = True)\n",
        "frec_rela.rename(\"frec_rela\", inplace = True)"
      ],
      "metadata": {
        "colab": {
          "base_uri": "https://localhost:8080/"
        },
        "id": "s8K1SsVAvhNZ",
        "outputId": "f1ab6546-b852-4f21-db46-fbf87b454fea"
      },
      "execution_count": null,
      "outputs": [
        {
          "output_type": "execute_result",
          "data": {
            "text/plain": [
              "AUDI         0.258065\n",
              "RENAULT      0.193548\n",
              "BMW          0.193548\n",
              "CHEVROLET    0.193548\n",
              "FORD         0.161290\n",
              "Name: frec_rela, dtype: float64"
            ]
          },
          "metadata": {},
          "execution_count": 18
        }
      ]
    },
    {
      "cell_type": "code",
      "source": [
        "## Frecuencia relativa.\n",
        "frec_rela_porcen = df[\"MARCA_DE_AUTO\"].value_counts(normalize = True)*100\n",
        "frec_rela_porcen.rename(\"frec_rela_%\", inplace = True)"
      ],
      "metadata": {
        "colab": {
          "base_uri": "https://localhost:8080/"
        },
        "id": "HFda5-Msxtpy",
        "outputId": "a023c85e-a7c8-4f00-fb4f-83313d3ae198"
      },
      "execution_count": null,
      "outputs": [
        {
          "output_type": "execute_result",
          "data": {
            "text/plain": [
              "AUDI         25.806452\n",
              "RENAULT      19.354839\n",
              "BMW          19.354839\n",
              "CHEVROLET    19.354839\n",
              "FORD         16.129032\n",
              "Name: frec_rela_%, dtype: float64"
            ]
          },
          "metadata": {},
          "execution_count": 19
        }
      ]
    },
    {
      "cell_type": "code",
      "source": [
        "tabla_frecuencia = pd.concat([frec_abs,frec_rela,frec_rela_porcen],axis=1)\n",
        "total = pd.DataFrame(tabla_frecuencia.apply(sum,axis=0), columns=[\"TOTALES\"]).T\n",
        "pd.concat([tabla_frecuencia,total],axis = 0)"
      ],
      "metadata": {
        "colab": {
          "base_uri": "https://localhost:8080/",
          "height": 237
        },
        "id": "B23xtInav6ji",
        "outputId": "a31ead1b-7002-4fba-fccd-ff58ad2b558c"
      },
      "execution_count": null,
      "outputs": [
        {
          "output_type": "execute_result",
          "data": {
            "text/plain": [
              "           frec_abs  frec_rela  frec_rela_%\n",
              "AUDI            8.0   0.258065    25.806452\n",
              "RENAULT         6.0   0.193548    19.354839\n",
              "BMW             6.0   0.193548    19.354839\n",
              "CHEVROLET       6.0   0.193548    19.354839\n",
              "FORD            5.0   0.161290    16.129032\n",
              "TOTALES        31.0   1.000000   100.000000"
            ],
            "text/html": [
              "\n",
              "  <div id=\"df-601b2549-73c9-4f2c-9ba2-5ef4ed28707c\">\n",
              "    <div class=\"colab-df-container\">\n",
              "      <div>\n",
              "<style scoped>\n",
              "    .dataframe tbody tr th:only-of-type {\n",
              "        vertical-align: middle;\n",
              "    }\n",
              "\n",
              "    .dataframe tbody tr th {\n",
              "        vertical-align: top;\n",
              "    }\n",
              "\n",
              "    .dataframe thead th {\n",
              "        text-align: right;\n",
              "    }\n",
              "</style>\n",
              "<table border=\"1\" class=\"dataframe\">\n",
              "  <thead>\n",
              "    <tr style=\"text-align: right;\">\n",
              "      <th></th>\n",
              "      <th>frec_abs</th>\n",
              "      <th>frec_rela</th>\n",
              "      <th>frec_rela_%</th>\n",
              "    </tr>\n",
              "  </thead>\n",
              "  <tbody>\n",
              "    <tr>\n",
              "      <th>AUDI</th>\n",
              "      <td>8.0</td>\n",
              "      <td>0.258065</td>\n",
              "      <td>25.806452</td>\n",
              "    </tr>\n",
              "    <tr>\n",
              "      <th>RENAULT</th>\n",
              "      <td>6.0</td>\n",
              "      <td>0.193548</td>\n",
              "      <td>19.354839</td>\n",
              "    </tr>\n",
              "    <tr>\n",
              "      <th>BMW</th>\n",
              "      <td>6.0</td>\n",
              "      <td>0.193548</td>\n",
              "      <td>19.354839</td>\n",
              "    </tr>\n",
              "    <tr>\n",
              "      <th>CHEVROLET</th>\n",
              "      <td>6.0</td>\n",
              "      <td>0.193548</td>\n",
              "      <td>19.354839</td>\n",
              "    </tr>\n",
              "    <tr>\n",
              "      <th>FORD</th>\n",
              "      <td>5.0</td>\n",
              "      <td>0.161290</td>\n",
              "      <td>16.129032</td>\n",
              "    </tr>\n",
              "    <tr>\n",
              "      <th>TOTALES</th>\n",
              "      <td>31.0</td>\n",
              "      <td>1.000000</td>\n",
              "      <td>100.000000</td>\n",
              "    </tr>\n",
              "  </tbody>\n",
              "</table>\n",
              "</div>\n",
              "      <button class=\"colab-df-convert\" onclick=\"convertToInteractive('df-601b2549-73c9-4f2c-9ba2-5ef4ed28707c')\"\n",
              "              title=\"Convert this dataframe to an interactive table.\"\n",
              "              style=\"display:none;\">\n",
              "        \n",
              "  <svg xmlns=\"http://www.w3.org/2000/svg\" height=\"24px\"viewBox=\"0 0 24 24\"\n",
              "       width=\"24px\">\n",
              "    <path d=\"M0 0h24v24H0V0z\" fill=\"none\"/>\n",
              "    <path d=\"M18.56 5.44l.94 2.06.94-2.06 2.06-.94-2.06-.94-.94-2.06-.94 2.06-2.06.94zm-11 1L8.5 8.5l.94-2.06 2.06-.94-2.06-.94L8.5 2.5l-.94 2.06-2.06.94zm10 10l.94 2.06.94-2.06 2.06-.94-2.06-.94-.94-2.06-.94 2.06-2.06.94z\"/><path d=\"M17.41 7.96l-1.37-1.37c-.4-.4-.92-.59-1.43-.59-.52 0-1.04.2-1.43.59L10.3 9.45l-7.72 7.72c-.78.78-.78 2.05 0 2.83L4 21.41c.39.39.9.59 1.41.59.51 0 1.02-.2 1.41-.59l7.78-7.78 2.81-2.81c.8-.78.8-2.07 0-2.86zM5.41 20L4 18.59l7.72-7.72 1.47 1.35L5.41 20z\"/>\n",
              "  </svg>\n",
              "      </button>\n",
              "      \n",
              "  <style>\n",
              "    .colab-df-container {\n",
              "      display:flex;\n",
              "      flex-wrap:wrap;\n",
              "      gap: 12px;\n",
              "    }\n",
              "\n",
              "    .colab-df-convert {\n",
              "      background-color: #E8F0FE;\n",
              "      border: none;\n",
              "      border-radius: 50%;\n",
              "      cursor: pointer;\n",
              "      display: none;\n",
              "      fill: #1967D2;\n",
              "      height: 32px;\n",
              "      padding: 0 0 0 0;\n",
              "      width: 32px;\n",
              "    }\n",
              "\n",
              "    .colab-df-convert:hover {\n",
              "      background-color: #E2EBFA;\n",
              "      box-shadow: 0px 1px 2px rgba(60, 64, 67, 0.3), 0px 1px 3px 1px rgba(60, 64, 67, 0.15);\n",
              "      fill: #174EA6;\n",
              "    }\n",
              "\n",
              "    [theme=dark] .colab-df-convert {\n",
              "      background-color: #3B4455;\n",
              "      fill: #D2E3FC;\n",
              "    }\n",
              "\n",
              "    [theme=dark] .colab-df-convert:hover {\n",
              "      background-color: #434B5C;\n",
              "      box-shadow: 0px 1px 3px 1px rgba(0, 0, 0, 0.15);\n",
              "      filter: drop-shadow(0px 1px 2px rgba(0, 0, 0, 0.3));\n",
              "      fill: #FFFFFF;\n",
              "    }\n",
              "  </style>\n",
              "\n",
              "      <script>\n",
              "        const buttonEl =\n",
              "          document.querySelector('#df-601b2549-73c9-4f2c-9ba2-5ef4ed28707c button.colab-df-convert');\n",
              "        buttonEl.style.display =\n",
              "          google.colab.kernel.accessAllowed ? 'block' : 'none';\n",
              "\n",
              "        async function convertToInteractive(key) {\n",
              "          const element = document.querySelector('#df-601b2549-73c9-4f2c-9ba2-5ef4ed28707c');\n",
              "          const dataTable =\n",
              "            await google.colab.kernel.invokeFunction('convertToInteractive',\n",
              "                                                     [key], {});\n",
              "          if (!dataTable) return;\n",
              "\n",
              "          const docLinkHtml = 'Like what you see? Visit the ' +\n",
              "            '<a target=\"_blank\" href=https://colab.research.google.com/notebooks/data_table.ipynb>data table notebook</a>'\n",
              "            + ' to learn more about interactive tables.';\n",
              "          element.innerHTML = '';\n",
              "          dataTable['output_type'] = 'display_data';\n",
              "          await google.colab.output.renderOutput(dataTable, element);\n",
              "          const docLink = document.createElement('div');\n",
              "          docLink.innerHTML = docLinkHtml;\n",
              "          element.appendChild(docLink);\n",
              "        }\n",
              "      </script>\n",
              "    </div>\n",
              "  </div>\n",
              "  "
            ]
          },
          "metadata": {},
          "execution_count": 20
        }
      ]
    },
    {
      "cell_type": "markdown",
      "source": [
        "### ***Representación gráfica : barras y tortas.***\n",
        "\n",
        "#### ***Gráfico de barras de la frecuencia absoluta.***\n",
        "\n",
        "Haremos algunas indicaciones sobre gráficos de barras:\n",
        "\n",
        "1. Los diagramas (o gráficos) de barras se usan para variables cualitativas (categóricas) o para variables cuantitativas discretas.\n",
        "\n",
        "2. Los niveles de cada factor o categoría van en el eje $x$.\n",
        "\n",
        "3. Las frecuencias en el eje $y$. (o proporciones)\n",
        "\n",
        "4. Usamos el método plot de una Serie de pandas, con el parámetro `kind=\"bar\"`.\n",
        "\n"
      ],
      "metadata": {
        "id": "qESdAIms0wgE"
      }
    },
    {
      "cell_type": "code",
      "source": [
        "tabla_frecuencia[\"frec_abs\"]"
      ],
      "metadata": {
        "colab": {
          "base_uri": "https://localhost:8080/"
        },
        "id": "oomto8pv39pZ",
        "outputId": "73e06a08-22a3-4cde-98ee-03661fe95073"
      },
      "execution_count": null,
      "outputs": [
        {
          "output_type": "execute_result",
          "data": {
            "text/plain": [
              "AUDI         8\n",
              "RENAULT      6\n",
              "BMW          6\n",
              "CHEVROLET    6\n",
              "FORD         5\n",
              "Name: frec_abs, dtype: int64"
            ]
          },
          "metadata": {},
          "execution_count": 21
        }
      ]
    },
    {
      "cell_type": "code",
      "source": [
        "## Primer plot.\n",
        "tabla_frecuencia[\"frec_abs\"].plot(kind=\"bar\")"
      ],
      "metadata": {
        "colab": {
          "base_uri": "https://localhost:8080/",
          "height": 332
        },
        "id": "fJSo6ijVp0b-",
        "outputId": "53339462-c4f6-4b4d-9166-ffb09103d2e9"
      },
      "execution_count": null,
      "outputs": [
        {
          "output_type": "execute_result",
          "data": {
            "text/plain": [
              "<matplotlib.axes._subplots.AxesSubplot at 0x7f5b350305d0>"
            ]
          },
          "metadata": {},
          "execution_count": 22
        },
        {
          "output_type": "display_data",
          "data": {
            "text/plain": [
              "<Figure size 432x288 with 1 Axes>"
            ],
            "image/png": "[encoded data removed]"
          },
          "metadata": {
            "needs_background": "light"
          }
        }
      ]
    },
    {
      "cell_type": "code",
      "source": [
        "## Módulo para plots.\n",
        "import matplotlib.pyplot as plt\n",
        "\n",
        "plt.style.use(\"ggplot\")           ## Estilo para las gŕaficas\n",
        "plt.figure(figsize = (15,6))      ## Tamaño del plot\n",
        "plt.bar(tabla_frecuencia.index,tabla_frecuencia['frec_abs'],\n",
        "         color = [\"blue\", \"red\", \"pink\", \"yellow\", \"orange\"])\n",
        "##\n",
        "plt.xlabel(\"\\nMarca de Auto\")     ## Etiqueta eje x\n",
        "plt.ylabel(\"Cantidad\")            ## Etiqueta eje y\n",
        "plt.title(\"Gráfico de barras: Marca de auto vs Cantidad\",) # Título.\n",
        "plt.ylim((0,8.8))                 ## Longitud eje y\n",
        "plt.xticks(rotation = 0)          ## Rotación de las etiquetas del eje x.\n",
        "## Anotamos los valores de cada categoría.\n",
        "for label, annot in enumerate(tabla_frecuencia['frec_abs']):\n",
        "  plt.annotate(str(annot),xy=(label,annot+0.2))\n",
        "plt.show()"
      ],
      "metadata": {
        "colab": {
          "base_uri": "https://localhost:8080/",
          "height": 423
        },
        "id": "t_XEuyRW0PX7",
        "outputId": "025db7e4-a6af-4e56-876f-1a6a8ece9277"
      },
      "execution_count": null,
      "outputs": [
        {
          "output_type": "display_data",
          "data": {
            "text/plain": [
              "<Figure size 1080x432 with 1 Axes>"
            ],
            "image/png": "[encoded data removed]"
          },
          "metadata": {}
        }
      ]
    },
    {
      "cell_type": "markdown",
      "source": [
        "#### ***Ejercicio 1.***\n",
        "\n",
        "Realice un plot como el anterior sobre la feature `NIVEL_ESCOLAR`. Las barras se deben presentar de la menor a la mayor\n",
        "\n",
        "***Respuesta.***"
      ],
      "metadata": {
        "id": "tMuGazB2-R8-"
      }
    },
    {
      "cell_type": "code",
      "source": [
        "## Celda de código para probar."
      ],
      "metadata": {
        "id": "xP5jkgJxtshQ"
      },
      "execution_count": null,
      "outputs": []
    },
    {
      "cell_type": "markdown",
      "source": [
        "### ***2. Gráfico de torta de la frecuencia absoluta.***\n",
        "\n",
        "También podemos representar y resumir las variables con un pie o diagrama de torta. Recordemos que estos diagramas se representan con un círculo, en el cual, las proporciones de cada una de las categorías de la variable satisfacen que a mayor área (o pedazo de círculo) indica una mayor proporción de la categoría con respecto al total. Adicionalmente,  no es recomendable usar estos diagramas si se tienen muchas categorías para facilitar su lectura.\n",
        "\n",
        "La instrucción para hacer un diagrama de torta básico es `plt.pie()`."
      ],
      "metadata": {
        "id": "xzbkFLWdB2Ey"
      }
    },
    {
      "cell_type": "code",
      "source": [
        "tabla_frecuencia['frec_abs']"
      ],
      "metadata": {
        "colab": {
          "base_uri": "https://localhost:8080/"
        },
        "id": "d37c0SuUCsEM",
        "outputId": "b3453f21-c088-4c13-c509-817555125bae"
      },
      "execution_count": null,
      "outputs": [
        {
          "output_type": "execute_result",
          "data": {
            "text/plain": [
              "AUDI         8\n",
              "RENAULT      6\n",
              "BMW          6\n",
              "CHEVROLET    6\n",
              "FORD         5\n",
              "Name: frec_abs, dtype: int64"
            ]
          },
          "metadata": {},
          "execution_count": 25
        }
      ]
    },
    {
      "cell_type": "code",
      "source": [
        "## pie plot\n",
        "plt.figure(figsize = (10,7))\n",
        "plt.pie(tabla_frecuencia['frec_abs'],labels = tabla_frecuencia.index,\n",
        "        colors = [\"orange\", \"cyan\", \"brown\",\"grey\", \"indigo\", \"beige\"], autopct='%.1f%%')\n",
        "plt.title(\"Gráfico de torta: Marca de auto.\",)\n",
        "plt.show()"
      ],
      "metadata": {
        "colab": {
          "base_uri": "https://localhost:8080/",
          "height": 428
        },
        "id": "agROUzeeCKN3",
        "outputId": "b297854b-b7f6-4ab1-d70b-48bdbcfff474"
      },
      "execution_count": null,
      "outputs": [
        {
          "output_type": "display_data",
          "data": {
            "text/plain": [
              "<Figure size 720x504 with 1 Axes>"
            ],
            "image/png": "[encoded data removed]"
          },
          "metadata": {}
        }
      ]
    },
    {
      "cell_type": "markdown",
      "source": [
        "\n",
        "### ***3. Gráfico de barras horizontal.***\n",
        "\n",
        "Podemos hacer un gráfico de barras horizontal simplemente con la instrucción usamos `plt.barh`. Veamos el siguiente ejemplo:"
      ],
      "metadata": {
        "id": "I9NZnbVqE_iO"
      }
    },
    {
      "cell_type": "code",
      "source": [
        "plt.figure(figsize = (15,6))\n",
        "plt.barh(tabla_frecuencia.index,tabla_frecuencia['frec_abs'],color = [\"b\", \"r\", \"pink\", \"g\", \"orange\"])\n",
        "plt.xlabel(\"\\nFrecuencia\")\n",
        "plt.ylabel(\"Marca de Auto\")\n",
        "plt.title(\"Gráfico de barras: Marca de auto vs Frecuencia\",)\n",
        "for label, annot in enumerate(tabla_frecuencia['frec_abs']):\n",
        "  plt.annotate(str(annot),xy=(annot+0.1,label))\n",
        "plt.show()"
      ],
      "metadata": {
        "colab": {
          "base_uri": "https://localhost:8080/",
          "height": 423
        },
        "id": "LJFOFa2CEVuV",
        "outputId": "8caf92ca-3013-4ae3-d5cb-13bc19b218c2"
      },
      "execution_count": null,
      "outputs": [
        {
          "output_type": "display_data",
          "data": {
            "text/plain": [
              "<Figure size 1080x432 with 1 Axes>"
            ],
            "image/png": "[encoded data removed]"
          },
          "metadata": {}
        }
      ]
    },
    {
      "cell_type": "markdown",
      "source": [
        "### ***4. Gráficos de barras múltiples.***\n",
        "\n",
        "Para hacer varios gráficos de barras vamos a importar la información en el archivo *NOTASBARRAS.xlsx*."
      ],
      "metadata": {
        "id": "dtbjv40dGi2a"
      }
    },
    {
      "cell_type": "code",
      "source": [
        "## Importamos la informacion desde el repositorio del curso.\n",
        "url_base = \"https://raw.githubusercontent.com/lacamposm/Fundamentos_Analitica/main/data/\"\n",
        "url_file = \"NOTASBARRAS.xlsx\"\n",
        "df1 = pd.read_excel(url_base + url_file, index_col=0)\n",
        "df1.head()"
      ],
      "metadata": {
        "colab": {
          "base_uri": "https://localhost:8080/",
          "height": 306
        },
        "id": "cI5tC8wCG0dV",
        "outputId": "28ddde3b-b13f-4b3a-e3c5-561ebd20d646"
      },
      "execution_count": null,
      "outputs": [
        {
          "output_type": "execute_result",
          "data": {
            "text/plain": [
              "                            Promedio de Calificaciones en el primer corte  \\\n",
              "Ingenieros de Sistemas                                                3.5   \n",
              "Ingenieros de Electrónicos                                            3.2   \n",
              "Ingenieros Ambientales                                                3.0   \n",
              "Ingenieros Industriales                                               3.1   \n",
              "\n",
              "                            Promedio de Calificaciones en el segundo corte  \\\n",
              "Ingenieros de Sistemas                                                 4.0   \n",
              "Ingenieros de Electrónicos                                             4.2   \n",
              "Ingenieros Ambientales                                                 4.0   \n",
              "Ingenieros Industriales                                                3.8   \n",
              "\n",
              "                            Promedio de Calificaciones en el tercer corte  \\\n",
              "Ingenieros de Sistemas                                                3.9   \n",
              "Ingenieros de Electrónicos                                            3.6   \n",
              "Ingenieros Ambientales                                                4.3   \n",
              "Ingenieros Industriales                                               4.3   \n",
              "\n",
              "                            Promedio Nota Final  \n",
              "Ingenieros de Sistemas                     3.81  \n",
              "Ingenieros de Electrónicos                 3.66  \n",
              "Ingenieros Ambientales                     3.82  \n",
              "Ingenieros Industriales                    3.79  "
            ],
            "text/html": [
              "\n",
              "  <div id=\"df-f125d258-8369-424c-8168-8190956c2152\">\n",
              "    <div class=\"colab-df-container\">\n",
              "      <div>\n",
              "<style scoped>\n",
              "    .dataframe tbody tr th:only-of-type {\n",
              "        vertical-align: middle;\n",
              "    }\n",
              "\n",
              "    .dataframe tbody tr th {\n",
              "        vertical-align: top;\n",
              "    }\n",
              "\n",
              "    .dataframe thead th {\n",
              "        text-align: right;\n",
              "    }\n",
              "</style>\n",
              "<table border=\"1\" class=\"dataframe\">\n",
              "  <thead>\n",
              "    <tr style=\"text-align: right;\">\n",
              "      <th></th>\n",
              "      <th>Promedio de Calificaciones en el primer corte</th>\n",
              "      <th>Promedio de Calificaciones en el segundo corte</th>\n",
              "      <th>Promedio de Calificaciones en el tercer corte</th>\n",
              "      <th>Promedio Nota Final</th>\n",
              "    </tr>\n",
              "  </thead>\n",
              "  <tbody>\n",
              "    <tr>\n",
              "      <th>Ingenieros de Sistemas</th>\n",
              "      <td>3.5</td>\n",
              "      <td>4.0</td>\n",
              "      <td>3.9</td>\n",
              "      <td>3.81</td>\n",
              "    </tr>\n",
              "    <tr>\n",
              "      <th>Ingenieros de Electrónicos</th>\n",
              "      <td>3.2</td>\n",
              "      <td>4.2</td>\n",
              "      <td>3.6</td>\n",
              "      <td>3.66</td>\n",
              "    </tr>\n",
              "    <tr>\n",
              "      <th>Ingenieros Ambientales</th>\n",
              "      <td>3.0</td>\n",
              "      <td>4.0</td>\n",
              "      <td>4.3</td>\n",
              "      <td>3.82</td>\n",
              "    </tr>\n",
              "    <tr>\n",
              "      <th>Ingenieros Industriales</th>\n",
              "      <td>3.1</td>\n",
              "      <td>3.8</td>\n",
              "      <td>4.3</td>\n",
              "      <td>3.79</td>\n",
              "    </tr>\n",
              "  </tbody>\n",
              "</table>\n",
              "</div>\n",
              "      <button class=\"colab-df-convert\" onclick=\"convertToInteractive('df-f125d258-8369-424c-8168-8190956c2152')\"\n",
              "              title=\"Convert this dataframe to an interactive table.\"\n",
              "              style=\"display:none;\">\n",
              "        \n",
              "  <svg xmlns=\"http://www.w3.org/2000/svg\" height=\"24px\"viewBox=\"0 0 24 24\"\n",
              "       width=\"24px\">\n",
              "    <path d=\"M0 0h24v24H0V0z\" fill=\"none\"/>\n",
              "    <path d=\"M18.56 5.44l.94 2.06.94-2.06 2.06-.94-2.06-.94-.94-2.06-.94 2.06-2.06.94zm-11 1L8.5 8.5l.94-2.06 2.06-.94-2.06-.94L8.5 2.5l-.94 2.06-2.06.94zm10 10l.94 2.06.94-2.06 2.06-.94-2.06-.94-.94-2.06-.94 2.06-2.06.94z\"/><path d=\"M17.41 7.96l-1.37-1.37c-.4-.4-.92-.59-1.43-.59-.52 0-1.04.2-1.43.59L10.3 9.45l-7.72 7.72c-.78.78-.78 2.05 0 2.83L4 21.41c.39.39.9.59 1.41.59.51 0 1.02-.2 1.41-.59l7.78-7.78 2.81-2.81c.8-.78.8-2.07 0-2.86zM5.41 20L4 18.59l7.72-7.72 1.47 1.35L5.41 20z\"/>\n",
              "  </svg>\n",
              "      </button>\n",
              "      \n",
              "  <style>\n",
              "    .colab-df-container {\n",
              "      display:flex;\n",
              "      flex-wrap:wrap;\n",
              "      gap: 12px;\n",
              "    }\n",
              "\n",
              "    .colab-df-convert {\n",
              "      background-color: #E8F0FE;\n",
              "      border: none;\n",
              "      border-radius: 50%;\n",
              "      cursor: pointer;\n",
              "      display: none;\n",
              "      fill: #1967D2;\n",
              "      height: 32px;\n",
              "      padding: 0 0 0 0;\n",
              "      width: 32px;\n",
              "    }\n",
              "\n",
              "    .colab-df-convert:hover {\n",
              "      background-color: #E2EBFA;\n",
              "      box-shadow: 0px 1px 2px rgba(60, 64, 67, 0.3), 0px 1px 3px 1px rgba(60, 64, 67, 0.15);\n",
              "      fill: #174EA6;\n",
              "    }\n",
              "\n",
              "    [theme=dark] .colab-df-convert {\n",
              "      background-color: #3B4455;\n",
              "      fill: #D2E3FC;\n",
              "    }\n",
              "\n",
              "    [theme=dark] .colab-df-convert:hover {\n",
              "      background-color: #434B5C;\n",
              "      box-shadow: 0px 1px 3px 1px rgba(0, 0, 0, 0.15);\n",
              "      filter: drop-shadow(0px 1px 2px rgba(0, 0, 0, 0.3));\n",
              "      fill: #FFFFFF;\n",
              "    }\n",
              "  </style>\n",
              "\n",
              "      <script>\n",
              "        const buttonEl =\n",
              "          document.querySelector('#df-f125d258-8369-424c-8168-8190956c2152 button.colab-df-convert');\n",
              "        buttonEl.style.display =\n",
              "          google.colab.kernel.accessAllowed ? 'block' : 'none';\n",
              "\n",
              "        async function convertToInteractive(key) {\n",
              "          const element = document.querySelector('#df-f125d258-8369-424c-8168-8190956c2152');\n",
              "          const dataTable =\n",
              "            await google.colab.kernel.invokeFunction('convertToInteractive',\n",
              "                                                     [key], {});\n",
              "          if (!dataTable) return;\n",
              "\n",
              "          const docLinkHtml = 'Like what you see? Visit the ' +\n",
              "            '<a target=\"_blank\" href=https://colab.research.google.com/notebooks/data_table.ipynb>data table notebook</a>'\n",
              "            + ' to learn more about interactive tables.';\n",
              "          element.innerHTML = '';\n",
              "          dataTable['output_type'] = 'display_data';\n",
              "          await google.colab.output.renderOutput(dataTable, element);\n",
              "          const docLink = document.createElement('div');\n",
              "          docLink.innerHTML = docLinkHtml;\n",
              "          element.appendChild(docLink);\n",
              "        }\n",
              "      </script>\n",
              "    </div>\n",
              "  </div>\n",
              "  "
            ]
          },
          "metadata": {},
          "execution_count": 28
        }
      ]
    },
    {
      "cell_type": "code",
      "source": [
        "## Reescribimos los nombres de la columnas.\n",
        "df1.columns = [\"PromN1\",\"PromN2\",\"PromN3\",\"PromNF\"]\n",
        "df1"
      ],
      "metadata": {
        "colab": {
          "base_uri": "https://localhost:8080/",
          "height": 175
        },
        "id": "U35S7uNkHI-S",
        "outputId": "4918e8d0-ed3b-4177-a2d8-40ccf306db36"
      },
      "execution_count": null,
      "outputs": [
        {
          "output_type": "execute_result",
          "data": {
            "text/plain": [
              "                            PromN1  PromN2  PromN3  PromNF\n",
              "Ingenieros de Sistemas         3.5     4.0     3.9    3.81\n",
              "Ingenieros de Electrónicos     3.2     4.2     3.6    3.66\n",
              "Ingenieros Ambientales         3.0     4.0     4.3    3.82\n",
              "Ingenieros Industriales        3.1     3.8     4.3    3.79"
            ],
            "text/html": [
              "\n",
              "  <div id=\"df-e1b3a53f-132a-4b7a-af6d-c5c73b6d9f40\">\n",
              "    <div class=\"colab-df-container\">\n",
              "      <div>\n",
              "<style scoped>\n",
              "    .dataframe tbody tr th:only-of-type {\n",
              "        vertical-align: middle;\n",
              "    }\n",
              "\n",
              "    .dataframe tbody tr th {\n",
              "        vertical-align: top;\n",
              "    }\n",
              "\n",
              "    .dataframe thead th {\n",
              "        text-align: right;\n",
              "    }\n",
              "</style>\n",
              "<table border=\"1\" class=\"dataframe\">\n",
              "  <thead>\n",
              "    <tr style=\"text-align: right;\">\n",
              "      <th></th>\n",
              "      <th>PromN1</th>\n",
              "      <th>PromN2</th>\n",
              "      <th>PromN3</th>\n",
              "      <th>PromNF</th>\n",
              "    </tr>\n",
              "  </thead>\n",
              "  <tbody>\n",
              "    <tr>\n",
              "      <th>Ingenieros de Sistemas</th>\n",
              "      <td>3.5</td>\n",
              "      <td>4.0</td>\n",
              "      <td>3.9</td>\n",
              "      <td>3.81</td>\n",
              "    </tr>\n",
              "    <tr>\n",
              "      <th>Ingenieros de Electrónicos</th>\n",
              "      <td>3.2</td>\n",
              "      <td>4.2</td>\n",
              "      <td>3.6</td>\n",
              "      <td>3.66</td>\n",
              "    </tr>\n",
              "    <tr>\n",
              "      <th>Ingenieros Ambientales</th>\n",
              "      <td>3.0</td>\n",
              "      <td>4.0</td>\n",
              "      <td>4.3</td>\n",
              "      <td>3.82</td>\n",
              "    </tr>\n",
              "    <tr>\n",
              "      <th>Ingenieros Industriales</th>\n",
              "      <td>3.1</td>\n",
              "      <td>3.8</td>\n",
              "      <td>4.3</td>\n",
              "      <td>3.79</td>\n",
              "    </tr>\n",
              "  </tbody>\n",
              "</table>\n",
              "</div>\n",
              "      <button class=\"colab-df-convert\" onclick=\"convertToInteractive('df-e1b3a53f-132a-4b7a-af6d-c5c73b6d9f40')\"\n",
              "              title=\"Convert this dataframe to an interactive table.\"\n",
              "              style=\"display:none;\">\n",
              "        \n",
              "  <svg xmlns=\"http://www.w3.org/2000/svg\" height=\"24px\"viewBox=\"0 0 24 24\"\n",
              "       width=\"24px\">\n",
              "    <path d=\"M0 0h24v24H0V0z\" fill=\"none\"/>\n",
              "    <path d=\"M18.56 5.44l.94 2.06.94-2.06 2.06-.94-2.06-.94-.94-2.06-.94 2.06-2.06.94zm-11 1L8.5 8.5l.94-2.06 2.06-.94-2.06-.94L8.5 2.5l-.94 2.06-2.06.94zm10 10l.94 2.06.94-2.06 2.06-.94-2.06-.94-.94-2.06-.94 2.06-2.06.94z\"/><path d=\"M17.41 7.96l-1.37-1.37c-.4-.4-.92-.59-1.43-.59-.52 0-1.04.2-1.43.59L10.3 9.45l-7.72 7.72c-.78.78-.78 2.05 0 2.83L4 21.41c.39.39.9.59 1.41.59.51 0 1.02-.2 1.41-.59l7.78-7.78 2.81-2.81c.8-.78.8-2.07 0-2.86zM5.41 20L4 18.59l7.72-7.72 1.47 1.35L5.41 20z\"/>\n",
              "  </svg>\n",
              "      </button>\n",
              "      \n",
              "  <style>\n",
              "    .colab-df-container {\n",
              "      display:flex;\n",
              "      flex-wrap:wrap;\n",
              "      gap: 12px;\n",
              "    }\n",
              "\n",
              "    .colab-df-convert {\n",
              "      background-color: #E8F0FE;\n",
              "      border: none;\n",
              "      border-radius: 50%;\n",
              "      cursor: pointer;\n",
              "      display: none;\n",
              "      fill: #1967D2;\n",
              "      height: 32px;\n",
              "      padding: 0 0 0 0;\n",
              "      width: 32px;\n",
              "    }\n",
              "\n",
              "    .colab-df-convert:hover {\n",
              "      background-color: #E2EBFA;\n",
              "      box-shadow: 0px 1px 2px rgba(60, 64, 67, 0.3), 0px 1px 3px 1px rgba(60, 64, 67, 0.15);\n",
              "      fill: #174EA6;\n",
              "    }\n",
              "\n",
              "    [theme=dark] .colab-df-convert {\n",
              "      background-color: #3B4455;\n",
              "      fill: #D2E3FC;\n",
              "    }\n",
              "\n",
              "    [theme=dark] .colab-df-convert:hover {\n",
              "      background-color: #434B5C;\n",
              "      box-shadow: 0px 1px 3px 1px rgba(0, 0, 0, 0.15);\n",
              "      filter: drop-shadow(0px 1px 2px rgba(0, 0, 0, 0.3));\n",
              "      fill: #FFFFFF;\n",
              "    }\n",
              "  </style>\n",
              "\n",
              "      <script>\n",
              "        const buttonEl =\n",
              "          document.querySelector('#df-e1b3a53f-132a-4b7a-af6d-c5c73b6d9f40 button.colab-df-convert');\n",
              "        buttonEl.style.display =\n",
              "          google.colab.kernel.accessAllowed ? 'block' : 'none';\n",
              "\n",
              "        async function convertToInteractive(key) {\n",
              "          const element = document.querySelector('#df-e1b3a53f-132a-4b7a-af6d-c5c73b6d9f40');\n",
              "          const dataTable =\n",
              "            await google.colab.kernel.invokeFunction('convertToInteractive',\n",
              "                                                     [key], {});\n",
              "          if (!dataTable) return;\n",
              "\n",
              "          const docLinkHtml = 'Like what you see? Visit the ' +\n",
              "            '<a target=\"_blank\" href=https://colab.research.google.com/notebooks/data_table.ipynb>data table notebook</a>'\n",
              "            + ' to learn more about interactive tables.';\n",
              "          element.innerHTML = '';\n",
              "          dataTable['output_type'] = 'display_data';\n",
              "          await google.colab.output.renderOutput(dataTable, element);\n",
              "          const docLink = document.createElement('div');\n",
              "          docLink.innerHTML = docLinkHtml;\n",
              "          element.appendChild(docLink);\n",
              "        }\n",
              "      </script>\n",
              "    </div>\n",
              "  </div>\n",
              "  "
            ]
          },
          "metadata": {},
          "execution_count": 29
        }
      ]
    },
    {
      "cell_type": "code",
      "source": [
        "import numpy as np\n",
        "plt.figure(figsize=(15,6))\n",
        "#\n",
        "X_axis = np.arange(len(df1.columns))\n",
        "plt.bar(X_axis -0.2, df1.loc[\"Ingenieros de Sistemas\"],width=0.1, label = \"IngSis\")\n",
        "plt.bar(X_axis -0.1, df1.loc[\"Ingenieros de Electrónicos\"],width=0.1, label = \"IngElect\")\n",
        "plt.bar(X_axis, df1.loc[\"Ingenieros Ambientales\"],width=0.1, label = \"IngAmb\")\n",
        "plt.bar(X_axis +0.1, df1.loc[\"Ingenieros Industriales\"],width=0.1, label = \"IngInd\")\n",
        "plt.xticks(X_axis,df1.T.index)\n",
        "plt.xlabel(\"Notas del curso\",)\n",
        "plt.ylabel(\"Promedio por corte\",)\n",
        "plt.title(\"Promedio Notas por corte\")\n",
        "plt.legend()\n",
        "plt.show()"
      ],
      "metadata": {
        "colab": {
          "base_uri": "https://localhost:8080/",
          "height": 408
        },
        "id": "83diVHdZHso7",
        "outputId": "786700bd-aa64-46e8-d49e-3e212032414a"
      },
      "execution_count": null,
      "outputs": [
        {
          "output_type": "display_data",
          "data": {
            "text/plain": [
              "<Figure size 1080x432 with 1 Axes>"
            ],
            "image/png": "[encoded data removed]"
          },
          "metadata": {}
        }
      ]
    }
  ]
}