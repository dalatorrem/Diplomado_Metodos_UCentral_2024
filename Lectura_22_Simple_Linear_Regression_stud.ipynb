{
  "nbformat": 4,
  "nbformat_minor": 0,
  "metadata": {
    "colab": {
      "provenance": [],
      "include_colab_link": true
    },
    "kernelspec": {
      "name": "python3",
      "display_name": "Python 3"
    },
    "language_info": {
      "name": "python"
    }
  },
  "cells": [
    {
      "cell_type": "markdown",
      "metadata": {
        "id": "view-in-github",
        "colab_type": "text"
      },
      "source": [
        "<a href=\"https://colab.research.google.com/github/dalatorrem/Diplomado_Metodos_UCentral_2023/blob/main/Lectura_15_Simple_Linear_Regression_stud.ipynb\" target=\"_parent\"><img src=\"https://colab.research.google.com/assets/colab-badge.svg\" alt=\"Open In Colab\"/></a>"
      ]
    },
    {
      "cell_type": "markdown",
      "source": [
        "---\n",
        "\n",
        "<p align=\"center\">\n",
        "  <img src=\"https://raw.githubusercontent.com/lacamposm/Diplomado_Metodos_UCentral/main/data/images/imagen_ucentral.jpg\" alt=\"logo_Ucentral\" width=\"400px\" height=\"300px\">\n",
        "</p>\n",
        "\n"
      ],
      "metadata": {
        "id": "XSSUJfRAiGGD"
      }
    },
    {
      "cell_type": "code",
      "execution_count": null,
      "metadata": {
        "id": "8bba0CZyh3Hr"
      },
      "outputs": [],
      "source": [
        "import pandas as pd\n",
        "import numpy as np\n",
        "import matplotlib.pyplot as plt\n",
        "import seaborn as sns\n",
        "import plotly.express as px\n",
        "import warnings\n",
        "##\n",
        "from sklearn.linear_model import LinearRegression                      ## Modelo lineal.\n",
        "## Parte estadística.\n",
        "import statsmodels.formula.api  as smf                                 ## Modelos lineal.\n",
        "from scipy.stats import shapiro, probplot                              ## libreria estadística de Scipy\n",
        "from statsmodels.stats.anova import anova_lm                           ## Anova del modelo lineal\n",
        "##\n",
        "plt.style.use(\"ggplot\")\n",
        "plt.rcParams[\"figure.figsize\"] = (15,6)\n",
        "warnings.filterwarnings(\"ignore\")\n",
        "url_base = \"https://raw.githubusercontent.com/lacamposm/Metodos_Estadisticos/main/data/\""
      ]
    },
    {
      "cell_type": "markdown",
      "source": [
        "# ***Regresión lineal simple.***\n",
        "\n",
        "Consideremos la siguiente situación:\n",
        "\n",
        "Se ha recolectado información sobre 122 individuos, cada uno de ellos respondió por:\n",
        "\n",
        "\n",
        "1. ***`Exposure`:*** Numéro de años que el trabajador estuvo expuesto al polvo de algodón.\n",
        "\n",
        "2. ***`PEFR`:*** Proporciona una medida de la capacidad pulmonar del trabajador ([tasa de flujo respiratorio](https://en.wikipedia.org/wiki/Peak_expiratory_flow)).\n",
        "\n",
        "***¿Cómo se relaciona el `PEFR` con `Exposure`?***"
      ],
      "metadata": {
        "id": "3qYTxUtr_Tqj"
      }
    },
    {
      "cell_type": "code",
      "source": [
        "url_data = \"LM_simple_example_1.csv\"\n",
        "df = pd.read_csv(url_base+url_data,)\n",
        "df.head()"
      ],
      "metadata": {
        "colab": {
          "base_uri": "https://localhost:8080/",
          "height": 206
        },
        "id": "hY40qTdEGa2D",
        "outputId": "406219e4-3557-4b45-c71f-2fd213fb2df6"
      },
      "execution_count": null,
      "outputs": [
        {
          "output_type": "execute_result",
          "data": {
            "text/plain": [
              "   PEFR  Exposure\n",
              "0   390         0\n",
              "1   410         0\n",
              "2   430         0\n",
              "3   460         0\n",
              "4   420         1"
            ],
            "text/html": [
              "\n",
              "  <div id=\"df-e6f0b167-c098-4393-a326-faa48f8c9d0a\">\n",
              "    <div class=\"colab-df-container\">\n",
              "      <div>\n",
              "<style scoped>\n",
              "    .dataframe tbody tr th:only-of-type {\n",
              "        vertical-align: middle;\n",
              "    }\n",
              "\n",
              "    .dataframe tbody tr th {\n",
              "        vertical-align: top;\n",
              "    }\n",
              "\n",
              "    .dataframe thead th {\n",
              "        text-align: right;\n",
              "    }\n",
              "</style>\n",
              "<table border=\"1\" class=\"dataframe\">\n",
              "  <thead>\n",
              "    <tr style=\"text-align: right;\">\n",
              "      <th></th>\n",
              "      <th>PEFR</th>\n",
              "      <th>Exposure</th>\n",
              "    </tr>\n",
              "  </thead>\n",
              "  <tbody>\n",
              "    <tr>\n",
              "      <th>0</th>\n",
              "      <td>390</td>\n",
              "      <td>0</td>\n",
              "    </tr>\n",
              "    <tr>\n",
              "      <th>1</th>\n",
              "      <td>410</td>\n",
              "      <td>0</td>\n",
              "    </tr>\n",
              "    <tr>\n",
              "      <th>2</th>\n",
              "      <td>430</td>\n",
              "      <td>0</td>\n",
              "    </tr>\n",
              "    <tr>\n",
              "      <th>3</th>\n",
              "      <td>460</td>\n",
              "      <td>0</td>\n",
              "    </tr>\n",
              "    <tr>\n",
              "      <th>4</th>\n",
              "      <td>420</td>\n",
              "      <td>1</td>\n",
              "    </tr>\n",
              "  </tbody>\n",
              "</table>\n",
              "</div>\n",
              "      <button class=\"colab-df-convert\" onclick=\"convertToInteractive('df-e6f0b167-c098-4393-a326-faa48f8c9d0a')\"\n",
              "              title=\"Convert this dataframe to an interactive table.\"\n",
              "              style=\"display:none;\">\n",
              "        \n",
              "  <svg xmlns=\"http://www.w3.org/2000/svg\" height=\"24px\"viewBox=\"0 0 24 24\"\n",
              "       width=\"24px\">\n",
              "    <path d=\"M0 0h24v24H0V0z\" fill=\"none\"/>\n",
              "    <path d=\"M18.56 5.44l.94 2.06.94-2.06 2.06-.94-2.06-.94-.94-2.06-.94 2.06-2.06.94zm-11 1L8.5 8.5l.94-2.06 2.06-.94-2.06-.94L8.5 2.5l-.94 2.06-2.06.94zm10 10l.94 2.06.94-2.06 2.06-.94-2.06-.94-.94-2.06-.94 2.06-2.06.94z\"/><path d=\"M17.41 7.96l-1.37-1.37c-.4-.4-.92-.59-1.43-.59-.52 0-1.04.2-1.43.59L10.3 9.45l-7.72 7.72c-.78.78-.78 2.05 0 2.83L4 21.41c.39.39.9.59 1.41.59.51 0 1.02-.2 1.41-.59l7.78-7.78 2.81-2.81c.8-.78.8-2.07 0-2.86zM5.41 20L4 18.59l7.72-7.72 1.47 1.35L5.41 20z\"/>\n",
              "  </svg>\n",
              "      </button>\n",
              "      \n",
              "  <style>\n",
              "    .colab-df-container {\n",
              "      display:flex;\n",
              "      flex-wrap:wrap;\n",
              "      gap: 12px;\n",
              "    }\n",
              "\n",
              "    .colab-df-convert {\n",
              "      background-color: #E8F0FE;\n",
              "      border: none;\n",
              "      border-radius: 50%;\n",
              "      cursor: pointer;\n",
              "      display: none;\n",
              "      fill: #1967D2;\n",
              "      height: 32px;\n",
              "      padding: 0 0 0 0;\n",
              "      width: 32px;\n",
              "    }\n",
              "\n",
              "    .colab-df-convert:hover {\n",
              "      background-color: #E2EBFA;\n",
              "      box-shadow: 0px 1px 2px rgba(60, 64, 67, 0.3), 0px 1px 3px 1px rgba(60, 64, 67, 0.15);\n",
              "      fill: #174EA6;\n",
              "    }\n",
              "\n",
              "    [theme=dark] .colab-df-convert {\n",
              "      background-color: #3B4455;\n",
              "      fill: #D2E3FC;\n",
              "    }\n",
              "\n",
              "    [theme=dark] .colab-df-convert:hover {\n",
              "      background-color: #434B5C;\n",
              "      box-shadow: 0px 1px 3px 1px rgba(0, 0, 0, 0.15);\n",
              "      filter: drop-shadow(0px 1px 2px rgba(0, 0, 0, 0.3));\n",
              "      fill: #FFFFFF;\n",
              "    }\n",
              "  </style>\n",
              "\n",
              "      <script>\n",
              "        const buttonEl =\n",
              "          document.querySelector('#df-e6f0b167-c098-4393-a326-faa48f8c9d0a button.colab-df-convert');\n",
              "        buttonEl.style.display =\n",
              "          google.colab.kernel.accessAllowed ? 'block' : 'none';\n",
              "\n",
              "        async function convertToInteractive(key) {\n",
              "          const element = document.querySelector('#df-e6f0b167-c098-4393-a326-faa48f8c9d0a');\n",
              "          const dataTable =\n",
              "            await google.colab.kernel.invokeFunction('convertToInteractive',\n",
              "                                                     [key], {});\n",
              "          if (!dataTable) return;\n",
              "\n",
              "          const docLinkHtml = 'Like what you see? Visit the ' +\n",
              "            '<a target=\"_blank\" href=https://colab.research.google.com/notebooks/data_table.ipynb>data table notebook</a>'\n",
              "            + ' to learn more about interactive tables.';\n",
              "          element.innerHTML = '';\n",
              "          dataTable['output_type'] = 'display_data';\n",
              "          await google.colab.output.renderOutput(dataTable, element);\n",
              "          const docLink = document.createElement('div');\n",
              "          docLink.innerHTML = docLinkHtml;\n",
              "          element.appendChild(docLink);\n",
              "        }\n",
              "      </script>\n",
              "    </div>\n",
              "  </div>\n",
              "  "
            ]
          },
          "metadata": {},
          "execution_count": 2
        }
      ]
    },
    {
      "cell_type": "code",
      "source": [
        "df.info()"
      ],
      "metadata": {
        "colab": {
          "base_uri": "https://localhost:8080/"
        },
        "id": "Sfzn3iQ3Gqy2",
        "outputId": "bbc13025-8d60-41d7-8f8d-5240e0013b69"
      },
      "execution_count": null,
      "outputs": [
        {
          "output_type": "stream",
          "name": "stdout",
          "text": [
            "<class 'pandas.core.frame.DataFrame'>\n",
            "RangeIndex: 122 entries, 0 to 121\n",
            "Data columns (total 2 columns):\n",
            " #   Column    Non-Null Count  Dtype\n",
            "---  ------    --------------  -----\n",
            " 0   PEFR      122 non-null    int64\n",
            " 1   Exposure  122 non-null    int64\n",
            "dtypes: int64(2)\n",
            "memory usage: 2.0 KB\n"
          ]
        }
      ]
    },
    {
      "cell_type": "markdown",
      "source": [
        "Primero veamos la relación vía un scatterplot:"
      ],
      "metadata": {
        "id": "I_Pc-i1fblEc"
      }
    },
    {
      "cell_type": "code",
      "source": [
        "fig = px.scatter(df, x = \"Exposure\", y = \"PEFR\", template = \"plotly_white\",\n",
        "                 title = \"Scatterplot: Exposure vs. PEFR\")\n",
        "fig.show()"
      ],
      "metadata": {
        "colab": {
          "base_uri": "https://localhost:8080/",
          "height": 542
        },
        "id": "m0GEdI3yIjwd",
        "outputId": "9f1ff193-5048-4bc0-9189-27a2d8907909"
      },
      "execution_count": null,
      "outputs": [
        {
          "output_type": "display_data",
          "data": {
            "text/html": [
              "<html>\n",
              "<head><meta charset=\"utf-8\" /></head>\n",
              "<body>\n",
              "    <div>            <script src=\"https://cdnjs.cloudflare.com/ajax/libs/mathjax/2.7.5/MathJax.js?config=TeX-AMS-MML_SVG\"></script><script type=\"text/javascript\">if (window.MathJax) {MathJax.Hub.Config({SVG: {font: \"STIX-Web\"}});}</script>                <script type=\"text/javascript\">window.PlotlyConfig = {MathJaxConfig: 'local'};</script>\n",
              "        <script src=\"https://cdn.plot.ly/plotly-2.8.3.min.js\"></script>                <div id=\"f26a7508-198f-47fa-b368-656ef84dac91\" class=\"plotly-graph-div\" style=\"height:525px; width:100%;\"></div>            <script type=\"text/javascript\">                                    window.PLOTLYENV=window.PLOTLYENV || {};                                    if (document.getElementById(\"f26a7508-198f-47fa-b368-656ef84dac91\")) {                    Plotly.newPlot(                        \"f26a7508-198f-47fa-b368-656ef84dac91\",                        [{\"hovertemplate\":\"Exposure=%{x}<br>PEFR=%{y}<extra></extra>\",\"legendgroup\":\"\",\"marker\":{\"color\":\"#636efa\",\"symbol\":\"circle\"},\"mode\":\"markers\",\"name\":\"\",\"orientation\":\"v\",\"showlegend\":false,\"x\":[0,0,0,0,1,2,2,2,3,3,3,3,3,3,4,4,4,4,4,4,5,6,6,6,6,6,7,7,7,7,7,7,7,8,9,10,10,10,12,12,13,13,13,13,13,13,13,13,14,14,14,14,14,14,15,15,15,16,16,17,17,17,17,17,17,18,18,18,18,19,19,19,19,19,19,19,19,19,19,19,19,19,20,20,20,20,20,20,20,20,20,20,20,20,20,20,20,20,20,20,20,20,20,20,21,21,21,21,21,21,21,21,21,21,22,22,22,22,22,22,23,23],\"xaxis\":\"x\",\"y\":[390,410,430,460,420,280,420,520,610,590,430,410,360,320,110,390,400,420,450,520,460,200,390,340,450,550,300,320,340,360,430,480,560,500,310,430,500,510,250,410,220,300,340,360,400,450,490,500,200,220,320,360,410,420,380,410,450,220,320,130,220,320,360,360,490,220,230,310,460,160,200,220,280,290,310,320,330,360,390,400,430,510,150,190,200,210,240,220,250,260,280,290,300,310,320,330,360,390,400,430,460,470,490,550,280,290,320,330,350,370,390,400,510,530,280,360,400,450,490,500,370,390],\"yaxis\":\"y\",\"type\":\"scatter\"}],                        {\"template\":{\"data\":{\"barpolar\":[{\"marker\":{\"line\":{\"color\":\"white\",\"width\":0.5},\"pattern\":{\"fillmode\":\"overlay\",\"size\":10,\"solidity\":0.2}},\"type\":\"barpolar\"}],\"bar\":[{\"error_x\":{\"color\":\"#2a3f5f\"},\"error_y\":{\"color\":\"#2a3f5f\"},\"marker\":{\"line\":{\"color\":\"white\",\"width\":0.5},\"pattern\":{\"fillmode\":\"overlay\",\"size\":10,\"solidity\":0.2}},\"type\":\"bar\"}],\"carpet\":[{\"aaxis\":{\"endlinecolor\":\"#2a3f5f\",\"gridcolor\":\"#C8D4E3\",\"linecolor\":\"#C8D4E3\",\"minorgridcolor\":\"#C8D4E3\",\"startlinecolor\":\"#2a3f5f\"},\"baxis\":{\"endlinecolor\":\"#2a3f5f\",\"gridcolor\":\"#C8D4E3\",\"linecolor\":\"#C8D4E3\",\"minorgridcolor\":\"#C8D4E3\",\"startlinecolor\":\"#2a3f5f\"},\"type\":\"carpet\"}],\"choropleth\":[{\"colorbar\":{\"outlinewidth\":0,\"ticks\":\"\"},\"type\":\"choropleth\"}],\"contourcarpet\":[{\"colorbar\":{\"outlinewidth\":0,\"ticks\":\"\"},\"type\":\"contourcarpet\"}],\"contour\":[{\"colorbar\":{\"outlinewidth\":0,\"ticks\":\"\"},\"colorscale\":[[0.0,\"#0d0887\"],[0.1111111111111111,\"#46039f\"],[0.2222222222222222,\"#7201a8\"],[0.3333333333333333,\"#9c179e\"],[0.4444444444444444,\"#bd3786\"],[0.5555555555555556,\"#d8576b\"],[0.6666666666666666,\"#ed7953\"],[0.7777777777777778,\"#fb9f3a\"],[0.8888888888888888,\"#fdca26\"],[1.0,\"#f0f921\"]],\"type\":\"contour\"}],\"heatmapgl\":[{\"colorbar\":{\"outlinewidth\":0,\"ticks\":\"\"},\"colorscale\":[[0.0,\"#0d0887\"],[0.1111111111111111,\"#46039f\"],[0.2222222222222222,\"#7201a8\"],[0.3333333333333333,\"#9c179e\"],[0.4444444444444444,\"#bd3786\"],[0.5555555555555556,\"#d8576b\"],[0.6666666666666666,\"#ed7953\"],[0.7777777777777778,\"#fb9f3a\"],[0.8888888888888888,\"#fdca26\"],[1.0,\"#f0f921\"]],\"type\":\"heatmapgl\"}],\"heatmap\":[{\"colorbar\":{\"outlinewidth\":0,\"ticks\":\"\"},\"colorscale\":[[0.0,\"#0d0887\"],[0.1111111111111111,\"#46039f\"],[0.2222222222222222,\"#7201a8\"],[0.3333333333333333,\"#9c179e\"],[0.4444444444444444,\"#bd3786\"],[0.5555555555555556,\"#d8576b\"],[0.6666666666666666,\"#ed7953\"],[0.7777777777777778,\"#fb9f3a\"],[0.8888888888888888,\"#fdca26\"],[1.0,\"#f0f921\"]],\"type\":\"heatmap\"}],\"histogram2dcontour\":[{\"colorbar\":{\"outlinewidth\":0,\"ticks\":\"\"},\"colorscale\":[[0.0,\"#0d0887\"],[0.1111111111111111,\"#46039f\"],[0.2222222222222222,\"#7201a8\"],[0.3333333333333333,\"#9c179e\"],[0.4444444444444444,\"#bd3786\"],[0.5555555555555556,\"#d8576b\"],[0.6666666666666666,\"#ed7953\"],[0.7777777777777778,\"#fb9f3a\"],[0.8888888888888888,\"#fdca26\"],[1.0,\"#f0f921\"]],\"type\":\"histogram2dcontour\"}],\"histogram2d\":[{\"colorbar\":{\"outlinewidth\":0,\"ticks\":\"\"},\"colorscale\":[[0.0,\"#0d0887\"],[0.1111111111111111,\"#46039f\"],[0.2222222222222222,\"#7201a8\"],[0.3333333333333333,\"#9c179e\"],[0.4444444444444444,\"#bd3786\"],[0.5555555555555556,\"#d8576b\"],[0.6666666666666666,\"#ed7953\"],[0.7777777777777778,\"#fb9f3a\"],[0.8888888888888888,\"#fdca26\"],[1.0,\"#f0f921\"]],\"type\":\"histogram2d\"}],\"histogram\":[{\"marker\":{\"pattern\":{\"fillmode\":\"overlay\",\"size\":10,\"solidity\":0.2}},\"type\":\"histogram\"}],\"mesh3d\":[{\"colorbar\":{\"outlinewidth\":0,\"ticks\":\"\"},\"type\":\"mesh3d\"}],\"parcoords\":[{\"line\":{\"colorbar\":{\"outlinewidth\":0,\"ticks\":\"\"}},\"type\":\"parcoords\"}],\"pie\":[{\"automargin\":true,\"type\":\"pie\"}],\"scatter3d\":[{\"line\":{\"colorbar\":{\"outlinewidth\":0,\"ticks\":\"\"}},\"marker\":{\"colorbar\":{\"outlinewidth\":0,\"ticks\":\"\"}},\"type\":\"scatter3d\"}],\"scattercarpet\":[{\"marker\":{\"colorbar\":{\"outlinewidth\":0,\"ticks\":\"\"}},\"type\":\"scattercarpet\"}],\"scattergeo\":[{\"marker\":{\"colorbar\":{\"outlinewidth\":0,\"ticks\":\"\"}},\"type\":\"scattergeo\"}],\"scattergl\":[{\"marker\":{\"colorbar\":{\"outlinewidth\":0,\"ticks\":\"\"}},\"type\":\"scattergl\"}],\"scattermapbox\":[{\"marker\":{\"colorbar\":{\"outlinewidth\":0,\"ticks\":\"\"}},\"type\":\"scattermapbox\"}],\"scatterpolargl\":[{\"marker\":{\"colorbar\":{\"outlinewidth\":0,\"ticks\":\"\"}},\"type\":\"scatterpolargl\"}],\"scatterpolar\":[{\"marker\":{\"colorbar\":{\"outlinewidth\":0,\"ticks\":\"\"}},\"type\":\"scatterpolar\"}],\"scatter\":[{\"marker\":{\"colorbar\":{\"outlinewidth\":0,\"ticks\":\"\"}},\"type\":\"scatter\"}],\"scatterternary\":[{\"marker\":{\"colorbar\":{\"outlinewidth\":0,\"ticks\":\"\"}},\"type\":\"scatterternary\"}],\"surface\":[{\"colorbar\":{\"outlinewidth\":0,\"ticks\":\"\"},\"colorscale\":[[0.0,\"#0d0887\"],[0.1111111111111111,\"#46039f\"],[0.2222222222222222,\"#7201a8\"],[0.3333333333333333,\"#9c179e\"],[0.4444444444444444,\"#bd3786\"],[0.5555555555555556,\"#d8576b\"],[0.6666666666666666,\"#ed7953\"],[0.7777777777777778,\"#fb9f3a\"],[0.8888888888888888,\"#fdca26\"],[1.0,\"#f0f921\"]],\"type\":\"surface\"}],\"table\":[{\"cells\":{\"fill\":{\"color\":\"#EBF0F8\"},\"line\":{\"color\":\"white\"}},\"header\":{\"fill\":{\"color\":\"#C8D4E3\"},\"line\":{\"color\":\"white\"}},\"type\":\"table\"}]},\"layout\":{\"annotationdefaults\":{\"arrowcolor\":\"#2a3f5f\",\"arrowhead\":0,\"arrowwidth\":1},\"autotypenumbers\":\"strict\",\"coloraxis\":{\"colorbar\":{\"outlinewidth\":0,\"ticks\":\"\"}},\"colorscale\":{\"diverging\":[[0,\"#8e0152\"],[0.1,\"#c51b7d\"],[0.2,\"#de77ae\"],[0.3,\"#f1b6da\"],[0.4,\"#fde0ef\"],[0.5,\"#f7f7f7\"],[0.6,\"#e6f5d0\"],[0.7,\"#b8e186\"],[0.8,\"#7fbc41\"],[0.9,\"#4d9221\"],[1,\"#276419\"]],\"sequential\":[[0.0,\"#0d0887\"],[0.1111111111111111,\"#46039f\"],[0.2222222222222222,\"#7201a8\"],[0.3333333333333333,\"#9c179e\"],[0.4444444444444444,\"#bd3786\"],[0.5555555555555556,\"#d8576b\"],[0.6666666666666666,\"#ed7953\"],[0.7777777777777778,\"#fb9f3a\"],[0.8888888888888888,\"#fdca26\"],[1.0,\"#f0f921\"]],\"sequentialminus\":[[0.0,\"#0d0887\"],[0.1111111111111111,\"#46039f\"],[0.2222222222222222,\"#7201a8\"],[0.3333333333333333,\"#9c179e\"],[0.4444444444444444,\"#bd3786\"],[0.5555555555555556,\"#d8576b\"],[0.6666666666666666,\"#ed7953\"],[0.7777777777777778,\"#fb9f3a\"],[0.8888888888888888,\"#fdca26\"],[1.0,\"#f0f921\"]]},\"colorway\":[\"#636efa\",\"#EF553B\",\"#00cc96\",\"#ab63fa\",\"#FFA15A\",\"#19d3f3\",\"#FF6692\",\"#B6E880\",\"#FF97FF\",\"#FECB52\"],\"font\":{\"color\":\"#2a3f5f\"},\"geo\":{\"bgcolor\":\"white\",\"lakecolor\":\"white\",\"landcolor\":\"white\",\"showlakes\":true,\"showland\":true,\"subunitcolor\":\"#C8D4E3\"},\"hoverlabel\":{\"align\":\"left\"},\"hovermode\":\"closest\",\"mapbox\":{\"style\":\"light\"},\"paper_bgcolor\":\"white\",\"plot_bgcolor\":\"white\",\"polar\":{\"angularaxis\":{\"gridcolor\":\"#EBF0F8\",\"linecolor\":\"#EBF0F8\",\"ticks\":\"\"},\"bgcolor\":\"white\",\"radialaxis\":{\"gridcolor\":\"#EBF0F8\",\"linecolor\":\"#EBF0F8\",\"ticks\":\"\"}},\"scene\":{\"xaxis\":{\"backgroundcolor\":\"white\",\"gridcolor\":\"#DFE8F3\",\"gridwidth\":2,\"linecolor\":\"#EBF0F8\",\"showbackground\":true,\"ticks\":\"\",\"zerolinecolor\":\"#EBF0F8\"},\"yaxis\":{\"backgroundcolor\":\"white\",\"gridcolor\":\"#DFE8F3\",\"gridwidth\":2,\"linecolor\":\"#EBF0F8\",\"showbackground\":true,\"ticks\":\"\",\"zerolinecolor\":\"#EBF0F8\"},\"zaxis\":{\"backgroundcolor\":\"white\",\"gridcolor\":\"#DFE8F3\",\"gridwidth\":2,\"linecolor\":\"#EBF0F8\",\"showbackground\":true,\"ticks\":\"\",\"zerolinecolor\":\"#EBF0F8\"}},\"shapedefaults\":{\"line\":{\"color\":\"#2a3f5f\"}},\"ternary\":{\"aaxis\":{\"gridcolor\":\"#DFE8F3\",\"linecolor\":\"#A2B1C6\",\"ticks\":\"\"},\"baxis\":{\"gridcolor\":\"#DFE8F3\",\"linecolor\":\"#A2B1C6\",\"ticks\":\"\"},\"bgcolor\":\"white\",\"caxis\":{\"gridcolor\":\"#DFE8F3\",\"linecolor\":\"#A2B1C6\",\"ticks\":\"\"}},\"title\":{\"x\":0.05},\"xaxis\":{\"automargin\":true,\"gridcolor\":\"#EBF0F8\",\"linecolor\":\"#EBF0F8\",\"ticks\":\"\",\"title\":{\"standoff\":15},\"zerolinecolor\":\"#EBF0F8\",\"zerolinewidth\":2},\"yaxis\":{\"automargin\":true,\"gridcolor\":\"#EBF0F8\",\"linecolor\":\"#EBF0F8\",\"ticks\":\"\",\"title\":{\"standoff\":15},\"zerolinecolor\":\"#EBF0F8\",\"zerolinewidth\":2}}},\"xaxis\":{\"anchor\":\"y\",\"domain\":[0.0,1.0],\"title\":{\"text\":\"Exposure\"}},\"yaxis\":{\"anchor\":\"x\",\"domain\":[0.0,1.0],\"title\":{\"text\":\"PEFR\"}},\"legend\":{\"tracegroupgap\":0},\"title\":{\"text\":\"Scatterplot: Exposure vs. PEFR\"}},                        {\"responsive\": true}                    ).then(function(){\n",
              "                            \n",
              "var gd = document.getElementById('f26a7508-198f-47fa-b368-656ef84dac91');\n",
              "var x = new MutationObserver(function (mutations, observer) {{\n",
              "        var display = window.getComputedStyle(gd).display;\n",
              "        if (!display || display === 'none') {{\n",
              "            console.log([gd, 'removed!']);\n",
              "            Plotly.purge(gd);\n",
              "            observer.disconnect();\n",
              "        }}\n",
              "}});\n",
              "\n",
              "// Listen for the removal of the full notebook cells\n",
              "var notebookContainer = gd.closest('#notebook-container');\n",
              "if (notebookContainer) {{\n",
              "    x.observe(notebookContainer, {childList: true});\n",
              "}}\n",
              "\n",
              "// Listen for the clearing of the current output cell\n",
              "var outputEl = gd.closest('.output');\n",
              "if (outputEl) {{\n",
              "    x.observe(outputEl, {childList: true});\n",
              "}}\n",
              "\n",
              "                        })                };                            </script>        </div>\n",
              "</body>\n",
              "</html>"
            ]
          },
          "metadata": {}
        }
      ]
    },
    {
      "cell_type": "code",
      "source": [
        "corr_coef = df.corr().iloc[0,1]\n",
        "print(\"El coeficiente de correlación de Pearson es: {:.4f}\".format(corr_coef))"
      ],
      "metadata": {
        "colab": {
          "base_uri": "https://localhost:8080/"
        },
        "id": "4Nuk78zUI5EP",
        "outputId": "05f8a2af-4d6c-4979-e4b8-00c0101a1bc5"
      },
      "execution_count": null,
      "outputs": [
        {
          "output_type": "stream",
          "name": "stdout",
          "text": [
            "El coeficiente de correlación de Pearson es: -0.2770\n"
          ]
        }
      ]
    },
    {
      "cell_type": "markdown",
      "source": [
        "Un modelo de ***regresión lineal simple*** estima cuánto cambiará `PERF` cuando `Exposure` cambie en un\n",
        "cierta cantidad. Es decir, deseamos explicar si las diferencias en los niveles de `PERF` se asocian con las diferencias en los años de exposición (`Exposure`). Nuestro modelo será en este caso:\n",
        "\n",
        "\n",
        "$$PERF = \\beta_0 +\\beta_1*Exposure+\\epsilon$$\n",
        "\n",
        "$\\beta_0$ es una constante conocida como\n",
        "el intercepto, $\\beta_1$ será la pendiente, ambos de denominan parámetros de la regresión. $\\epsilon$ es un error o ruido que NO se logra explicar con el modelo. La ***regresión lineal simple*** trata de encontrar la \"mejor\" recta para predecir la variable ***Target*** `PEFR` como una función de la ***feature*** `Exposure`\n",
        "\n"
      ],
      "metadata": {
        "id": "1JVfj5LbIgW0"
      }
    },
    {
      "cell_type": "markdown",
      "source": [
        "Hacemos uso de [sklearn](https://scikit-learn.org/stable/modules/generated/sklearn.linear_model.LinearRegression.html)"
      ],
      "metadata": {
        "id": "sWNjcUFxNdp3"
      }
    },
    {
      "cell_type": "code",
      "source": [
        "## Ajuste de regresión con sklearn\n",
        "model_lm = LinearRegression()\n",
        "###\n",
        "y = df[\"PEFR\"]                                            ## Target.\n",
        "X = df.drop(columns = [\"PEFR\"])                           ## Feature.\n",
        "model_lm.fit(X = X, y = y)\n",
        "##\n",
        "print(f\"Intercepto: {model_lm.intercept_:.3f}\")\n",
        "print(f\"Coeficiente Exposure: {model_lm.coef_[0]:.3f}\")"
      ],
      "metadata": {
        "colab": {
          "base_uri": "https://localhost:8080/"
        },
        "id": "IFwMHhqiNWXo",
        "outputId": "fbff5732-7a42-47f3-ad78-d85a865a381f"
      },
      "execution_count": null,
      "outputs": [
        {
          "output_type": "stream",
          "name": "stdout",
          "text": [
            "Intercepto: 424.583\n",
            "Coeficiente Exposure: -4.185\n"
          ]
        }
      ]
    },
    {
      "cell_type": "markdown",
      "source": [
        "En caso que seleccionemos este ajuste muestro modelo será:\n",
        "\n",
        "$$PEFR = 424.583-4.185*Exposure+\\epsilon$$\n",
        "\n",
        "La interpretación de los coeficientes es la siguiente:\n",
        "\n",
        "1. $\\hat{\\beta_0}=424.583$: Es el intercepto del modelo, note que para un valor de $Exposure=0$, se obtiene que $PEFR=424.583$, así, se espera que un trabajador sin exposición tenga ese valor medio del indicador de respiración.\n",
        "\n",
        "2. $\\hat{\\beta_1}=-4.185$: Por cada aumento unitario en la variable $Exposure$ se espera que $PEFR$ disminuya en promedio el valor en $\\hat{\\beta_1}$"
      ],
      "metadata": {
        "id": "RCbjvX6mtXS8"
      }
    },
    {
      "cell_type": "markdown",
      "source": [
        "Veamos la recta de ajuste:"
      ],
      "metadata": {
        "id": "Ax4mEFrMQHcN"
      }
    },
    {
      "cell_type": "code",
      "source": [
        "## Regresión simple, recta de ajuste por OLS.\n",
        "fig = px.scatter(df, x = \"Exposure\", y = \"PEFR\", template = \"plotly_white\",\n",
        "                 title = \"Recta de ajuste por OLS\", trendline=\"ols\",\n",
        "                 trendline_color_override=\"yellow\")\n",
        "fig.show()"
      ],
      "metadata": {
        "colab": {
          "base_uri": "https://localhost:8080/",
          "height": 542
        },
        "id": "OHI5TWsQQJhb",
        "outputId": "8eebb5de-291e-4b0e-ee88-ea83ca36e9ac"
      },
      "execution_count": null,
      "outputs": [
        {
          "output_type": "display_data",
          "data": {
            "text/html": [
              "<html>\n",
              "<head><meta charset=\"utf-8\" /></head>\n",
              "<body>\n",
              "    <div>            <script src=\"https://cdnjs.cloudflare.com/ajax/libs/mathjax/2.7.5/MathJax.js?config=TeX-AMS-MML_SVG\"></script><script type=\"text/javascript\">if (window.MathJax) {MathJax.Hub.Config({SVG: {font: \"STIX-Web\"}});}</script>                <script type=\"text/javascript\">window.PlotlyConfig = {MathJaxConfig: 'local'};</script>\n",
              "        <script src=\"https://cdn.plot.ly/plotly-2.8.3.min.js\"></script>                <div id=\"2d25f5a6-a69b-4e46-a590-6433b88726ef\" class=\"plotly-graph-div\" style=\"height:525px; width:100%;\"></div>            <script type=\"text/javascript\">                                    window.PLOTLYENV=window.PLOTLYENV || {};                                    if (document.getElementById(\"2d25f5a6-a69b-4e46-a590-6433b88726ef\")) {                    Plotly.newPlot(                        \"2d25f5a6-a69b-4e46-a590-6433b88726ef\",                        [{\"hovertemplate\":\"Exposure=%{x}<br>PEFR=%{y}<extra></extra>\",\"legendgroup\":\"\",\"marker\":{\"color\":\"#636efa\",\"symbol\":\"circle\"},\"mode\":\"markers\",\"name\":\"\",\"orientation\":\"v\",\"showlegend\":false,\"x\":[0,0,0,0,1,2,2,2,3,3,3,3,3,3,4,4,4,4,4,4,5,6,6,6,6,6,7,7,7,7,7,7,7,8,9,10,10,10,12,12,13,13,13,13,13,13,13,13,14,14,14,14,14,14,15,15,15,16,16,17,17,17,17,17,17,18,18,18,18,19,19,19,19,19,19,19,19,19,19,19,19,19,20,20,20,20,20,20,20,20,20,20,20,20,20,20,20,20,20,20,20,20,20,20,21,21,21,21,21,21,21,21,21,21,22,22,22,22,22,22,23,23],\"xaxis\":\"x\",\"y\":[390,410,430,460,420,280,420,520,610,590,430,410,360,320,110,390,400,420,450,520,460,200,390,340,450,550,300,320,340,360,430,480,560,500,310,430,500,510,250,410,220,300,340,360,400,450,490,500,200,220,320,360,410,420,380,410,450,220,320,130,220,320,360,360,490,220,230,310,460,160,200,220,280,290,310,320,330,360,390,400,430,510,150,190,200,210,240,220,250,260,280,290,300,310,320,330,360,390,400,430,460,470,490,550,280,290,320,330,350,370,390,400,510,530,280,360,400,450,490,500,370,390],\"yaxis\":\"y\",\"type\":\"scatter\"},{\"hovertemplate\":\"<b>OLS trendline</b><br>PEFR = -4.18458 * Exposure + 424.583<br>R<sup>2</sup>=0.076741<br><br>Exposure=%{x}<br>PEFR=%{y} <b>(trend)</b><extra></extra>\",\"legendgroup\":\"\",\"line\":{\"color\":\"yellow\"},\"marker\":{\"color\":\"#636efa\",\"symbol\":\"circle\"},\"mode\":\"lines\",\"name\":\"\",\"showlegend\":false,\"x\":[0,0,0,0,1,2,2,2,3,3,3,3,3,3,4,4,4,4,4,4,5,6,6,6,6,6,7,7,7,7,7,7,7,8,9,10,10,10,12,12,13,13,13,13,13,13,13,13,14,14,14,14,14,14,15,15,15,16,16,17,17,17,17,17,17,18,18,18,18,19,19,19,19,19,19,19,19,19,19,19,19,19,20,20,20,20,20,20,20,20,20,20,20,20,20,20,20,20,20,20,20,20,20,20,21,21,21,21,21,21,21,21,21,21,22,22,22,22,22,22,23,23],\"xaxis\":\"x\",\"y\":[424.5828065739568,424.5828065739568,424.5828065739568,424.5828065739568,420.3982300884954,416.21365360303395,416.21365360303395,416.21365360303395,412.0290771175725,412.0290771175725,412.0290771175725,412.0290771175725,412.0290771175725,412.0290771175725,407.8445006321111,407.8445006321111,407.8445006321111,407.8445006321111,407.8445006321111,407.8445006321111,403.6599241466496,399.47534766118815,399.47534766118815,399.47534766118815,399.47534766118815,399.47534766118815,395.2907711757267,395.2907711757267,395.2907711757267,395.2907711757267,395.2907711757267,395.2907711757267,395.2907711757267,391.1061946902653,386.92161820480385,382.7370417193424,382.7370417193424,382.7370417193424,374.36788874841955,374.36788874841955,370.1833122629581,370.1833122629581,370.1833122629581,370.1833122629581,370.1833122629581,370.1833122629581,370.1833122629581,370.1833122629581,365.9987357774967,365.9987357774967,365.9987357774967,365.9987357774967,365.9987357774967,365.9987357774967,361.81415929203524,361.81415929203524,361.81415929203524,357.6295828065738,357.6295828065738,353.4450063211124,353.4450063211124,353.4450063211124,353.4450063211124,353.4450063211124,353.4450063211124,349.2604298356509,349.2604298356509,349.2604298356509,349.2604298356509,345.07585335018945,345.07585335018945,345.07585335018945,345.07585335018945,345.07585335018945,345.07585335018945,345.07585335018945,345.07585335018945,345.07585335018945,345.07585335018945,345.07585335018945,345.07585335018945,345.07585335018945,340.891276864728,340.891276864728,340.891276864728,340.891276864728,340.891276864728,340.891276864728,340.891276864728,340.891276864728,340.891276864728,340.891276864728,340.891276864728,340.891276864728,340.891276864728,340.891276864728,340.891276864728,340.891276864728,340.891276864728,340.891276864728,340.891276864728,340.891276864728,340.891276864728,340.891276864728,336.7067003792666,336.7067003792666,336.7067003792666,336.7067003792666,336.7067003792666,336.7067003792666,336.7067003792666,336.7067003792666,336.7067003792666,336.7067003792666,332.52212389380514,332.52212389380514,332.52212389380514,332.52212389380514,332.52212389380514,332.52212389380514,328.3375474083437,328.3375474083437],\"yaxis\":\"y\",\"type\":\"scatter\"}],                        {\"template\":{\"data\":{\"barpolar\":[{\"marker\":{\"line\":{\"color\":\"white\",\"width\":0.5},\"pattern\":{\"fillmode\":\"overlay\",\"size\":10,\"solidity\":0.2}},\"type\":\"barpolar\"}],\"bar\":[{\"error_x\":{\"color\":\"#2a3f5f\"},\"error_y\":{\"color\":\"#2a3f5f\"},\"marker\":{\"line\":{\"color\":\"white\",\"width\":0.5},\"pattern\":{\"fillmode\":\"overlay\",\"size\":10,\"solidity\":0.2}},\"type\":\"bar\"}],\"carpet\":[{\"aaxis\":{\"endlinecolor\":\"#2a3f5f\",\"gridcolor\":\"#C8D4E3\",\"linecolor\":\"#C8D4E3\",\"minorgridcolor\":\"#C8D4E3\",\"startlinecolor\":\"#2a3f5f\"},\"baxis\":{\"endlinecolor\":\"#2a3f5f\",\"gridcolor\":\"#C8D4E3\",\"linecolor\":\"#C8D4E3\",\"minorgridcolor\":\"#C8D4E3\",\"startlinecolor\":\"#2a3f5f\"},\"type\":\"carpet\"}],\"choropleth\":[{\"colorbar\":{\"outlinewidth\":0,\"ticks\":\"\"},\"type\":\"choropleth\"}],\"contourcarpet\":[{\"colorbar\":{\"outlinewidth\":0,\"ticks\":\"\"},\"type\":\"contourcarpet\"}],\"contour\":[{\"colorbar\":{\"outlinewidth\":0,\"ticks\":\"\"},\"colorscale\":[[0.0,\"#0d0887\"],[0.1111111111111111,\"#46039f\"],[0.2222222222222222,\"#7201a8\"],[0.3333333333333333,\"#9c179e\"],[0.4444444444444444,\"#bd3786\"],[0.5555555555555556,\"#d8576b\"],[0.6666666666666666,\"#ed7953\"],[0.7777777777777778,\"#fb9f3a\"],[0.8888888888888888,\"#fdca26\"],[1.0,\"#f0f921\"]],\"type\":\"contour\"}],\"heatmapgl\":[{\"colorbar\":{\"outlinewidth\":0,\"ticks\":\"\"},\"colorscale\":[[0.0,\"#0d0887\"],[0.1111111111111111,\"#46039f\"],[0.2222222222222222,\"#7201a8\"],[0.3333333333333333,\"#9c179e\"],[0.4444444444444444,\"#bd3786\"],[0.5555555555555556,\"#d8576b\"],[0.6666666666666666,\"#ed7953\"],[0.7777777777777778,\"#fb9f3a\"],[0.8888888888888888,\"#fdca26\"],[1.0,\"#f0f921\"]],\"type\":\"heatmapgl\"}],\"heatmap\":[{\"colorbar\":{\"outlinewidth\":0,\"ticks\":\"\"},\"colorscale\":[[0.0,\"#0d0887\"],[0.1111111111111111,\"#46039f\"],[0.2222222222222222,\"#7201a8\"],[0.3333333333333333,\"#9c179e\"],[0.4444444444444444,\"#bd3786\"],[0.5555555555555556,\"#d8576b\"],[0.6666666666666666,\"#ed7953\"],[0.7777777777777778,\"#fb9f3a\"],[0.8888888888888888,\"#fdca26\"],[1.0,\"#f0f921\"]],\"type\":\"heatmap\"}],\"histogram2dcontour\":[{\"colorbar\":{\"outlinewidth\":0,\"ticks\":\"\"},\"colorscale\":[[0.0,\"#0d0887\"],[0.1111111111111111,\"#46039f\"],[0.2222222222222222,\"#7201a8\"],[0.3333333333333333,\"#9c179e\"],[0.4444444444444444,\"#bd3786\"],[0.5555555555555556,\"#d8576b\"],[0.6666666666666666,\"#ed7953\"],[0.7777777777777778,\"#fb9f3a\"],[0.8888888888888888,\"#fdca26\"],[1.0,\"#f0f921\"]],\"type\":\"histogram2dcontour\"}],\"histogram2d\":[{\"colorbar\":{\"outlinewidth\":0,\"ticks\":\"\"},\"colorscale\":[[0.0,\"#0d0887\"],[0.1111111111111111,\"#46039f\"],[0.2222222222222222,\"#7201a8\"],[0.3333333333333333,\"#9c179e\"],[0.4444444444444444,\"#bd3786\"],[0.5555555555555556,\"#d8576b\"],[0.6666666666666666,\"#ed7953\"],[0.7777777777777778,\"#fb9f3a\"],[0.8888888888888888,\"#fdca26\"],[1.0,\"#f0f921\"]],\"type\":\"histogram2d\"}],\"histogram\":[{\"marker\":{\"pattern\":{\"fillmode\":\"overlay\",\"size\":10,\"solidity\":0.2}},\"type\":\"histogram\"}],\"mesh3d\":[{\"colorbar\":{\"outlinewidth\":0,\"ticks\":\"\"},\"type\":\"mesh3d\"}],\"parcoords\":[{\"line\":{\"colorbar\":{\"outlinewidth\":0,\"ticks\":\"\"}},\"type\":\"parcoords\"}],\"pie\":[{\"automargin\":true,\"type\":\"pie\"}],\"scatter3d\":[{\"line\":{\"colorbar\":{\"outlinewidth\":0,\"ticks\":\"\"}},\"marker\":{\"colorbar\":{\"outlinewidth\":0,\"ticks\":\"\"}},\"type\":\"scatter3d\"}],\"scattercarpet\":[{\"marker\":{\"colorbar\":{\"outlinewidth\":0,\"ticks\":\"\"}},\"type\":\"scattercarpet\"}],\"scattergeo\":[{\"marker\":{\"colorbar\":{\"outlinewidth\":0,\"ticks\":\"\"}},\"type\":\"scattergeo\"}],\"scattergl\":[{\"marker\":{\"colorbar\":{\"outlinewidth\":0,\"ticks\":\"\"}},\"type\":\"scattergl\"}],\"scattermapbox\":[{\"marker\":{\"colorbar\":{\"outlinewidth\":0,\"ticks\":\"\"}},\"type\":\"scattermapbox\"}],\"scatterpolargl\":[{\"marker\":{\"colorbar\":{\"outlinewidth\":0,\"ticks\":\"\"}},\"type\":\"scatterpolargl\"}],\"scatterpolar\":[{\"marker\":{\"colorbar\":{\"outlinewidth\":0,\"ticks\":\"\"}},\"type\":\"scatterpolar\"}],\"scatter\":[{\"marker\":{\"colorbar\":{\"outlinewidth\":0,\"ticks\":\"\"}},\"type\":\"scatter\"}],\"scatterternary\":[{\"marker\":{\"colorbar\":{\"outlinewidth\":0,\"ticks\":\"\"}},\"type\":\"scatterternary\"}],\"surface\":[{\"colorbar\":{\"outlinewidth\":0,\"ticks\":\"\"},\"colorscale\":[[0.0,\"#0d0887\"],[0.1111111111111111,\"#46039f\"],[0.2222222222222222,\"#7201a8\"],[0.3333333333333333,\"#9c179e\"],[0.4444444444444444,\"#bd3786\"],[0.5555555555555556,\"#d8576b\"],[0.6666666666666666,\"#ed7953\"],[0.7777777777777778,\"#fb9f3a\"],[0.8888888888888888,\"#fdca26\"],[1.0,\"#f0f921\"]],\"type\":\"surface\"}],\"table\":[{\"cells\":{\"fill\":{\"color\":\"#EBF0F8\"},\"line\":{\"color\":\"white\"}},\"header\":{\"fill\":{\"color\":\"#C8D4E3\"},\"line\":{\"color\":\"white\"}},\"type\":\"table\"}]},\"layout\":{\"annotationdefaults\":{\"arrowcolor\":\"#2a3f5f\",\"arrowhead\":0,\"arrowwidth\":1},\"autotypenumbers\":\"strict\",\"coloraxis\":{\"colorbar\":{\"outlinewidth\":0,\"ticks\":\"\"}},\"colorscale\":{\"diverging\":[[0,\"#8e0152\"],[0.1,\"#c51b7d\"],[0.2,\"#de77ae\"],[0.3,\"#f1b6da\"],[0.4,\"#fde0ef\"],[0.5,\"#f7f7f7\"],[0.6,\"#e6f5d0\"],[0.7,\"#b8e186\"],[0.8,\"#7fbc41\"],[0.9,\"#4d9221\"],[1,\"#276419\"]],\"sequential\":[[0.0,\"#0d0887\"],[0.1111111111111111,\"#46039f\"],[0.2222222222222222,\"#7201a8\"],[0.3333333333333333,\"#9c179e\"],[0.4444444444444444,\"#bd3786\"],[0.5555555555555556,\"#d8576b\"],[0.6666666666666666,\"#ed7953\"],[0.7777777777777778,\"#fb9f3a\"],[0.8888888888888888,\"#fdca26\"],[1.0,\"#f0f921\"]],\"sequentialminus\":[[0.0,\"#0d0887\"],[0.1111111111111111,\"#46039f\"],[0.2222222222222222,\"#7201a8\"],[0.3333333333333333,\"#9c179e\"],[0.4444444444444444,\"#bd3786\"],[0.5555555555555556,\"#d8576b\"],[0.6666666666666666,\"#ed7953\"],[0.7777777777777778,\"#fb9f3a\"],[0.8888888888888888,\"#fdca26\"],[1.0,\"#f0f921\"]]},\"colorway\":[\"#636efa\",\"#EF553B\",\"#00cc96\",\"#ab63fa\",\"#FFA15A\",\"#19d3f3\",\"#FF6692\",\"#B6E880\",\"#FF97FF\",\"#FECB52\"],\"font\":{\"color\":\"#2a3f5f\"},\"geo\":{\"bgcolor\":\"white\",\"lakecolor\":\"white\",\"landcolor\":\"white\",\"showlakes\":true,\"showland\":true,\"subunitcolor\":\"#C8D4E3\"},\"hoverlabel\":{\"align\":\"left\"},\"hovermode\":\"closest\",\"mapbox\":{\"style\":\"light\"},\"paper_bgcolor\":\"white\",\"plot_bgcolor\":\"white\",\"polar\":{\"angularaxis\":{\"gridcolor\":\"#EBF0F8\",\"linecolor\":\"#EBF0F8\",\"ticks\":\"\"},\"bgcolor\":\"white\",\"radialaxis\":{\"gridcolor\":\"#EBF0F8\",\"linecolor\":\"#EBF0F8\",\"ticks\":\"\"}},\"scene\":{\"xaxis\":{\"backgroundcolor\":\"white\",\"gridcolor\":\"#DFE8F3\",\"gridwidth\":2,\"linecolor\":\"#EBF0F8\",\"showbackground\":true,\"ticks\":\"\",\"zerolinecolor\":\"#EBF0F8\"},\"yaxis\":{\"backgroundcolor\":\"white\",\"gridcolor\":\"#DFE8F3\",\"gridwidth\":2,\"linecolor\":\"#EBF0F8\",\"showbackground\":true,\"ticks\":\"\",\"zerolinecolor\":\"#EBF0F8\"},\"zaxis\":{\"backgroundcolor\":\"white\",\"gridcolor\":\"#DFE8F3\",\"gridwidth\":2,\"linecolor\":\"#EBF0F8\",\"showbackground\":true,\"ticks\":\"\",\"zerolinecolor\":\"#EBF0F8\"}},\"shapedefaults\":{\"line\":{\"color\":\"#2a3f5f\"}},\"ternary\":{\"aaxis\":{\"gridcolor\":\"#DFE8F3\",\"linecolor\":\"#A2B1C6\",\"ticks\":\"\"},\"baxis\":{\"gridcolor\":\"#DFE8F3\",\"linecolor\":\"#A2B1C6\",\"ticks\":\"\"},\"bgcolor\":\"white\",\"caxis\":{\"gridcolor\":\"#DFE8F3\",\"linecolor\":\"#A2B1C6\",\"ticks\":\"\"}},\"title\":{\"x\":0.05},\"xaxis\":{\"automargin\":true,\"gridcolor\":\"#EBF0F8\",\"linecolor\":\"#EBF0F8\",\"ticks\":\"\",\"title\":{\"standoff\":15},\"zerolinecolor\":\"#EBF0F8\",\"zerolinewidth\":2},\"yaxis\":{\"automargin\":true,\"gridcolor\":\"#EBF0F8\",\"linecolor\":\"#EBF0F8\",\"ticks\":\"\",\"title\":{\"standoff\":15},\"zerolinecolor\":\"#EBF0F8\",\"zerolinewidth\":2}}},\"xaxis\":{\"anchor\":\"y\",\"domain\":[0.0,1.0],\"title\":{\"text\":\"Exposure\"}},\"yaxis\":{\"anchor\":\"x\",\"domain\":[0.0,1.0],\"title\":{\"text\":\"PEFR\"}},\"legend\":{\"tracegroupgap\":0},\"title\":{\"text\":\"Recta de ajuste por OLS\"}},                        {\"responsive\": true}                    ).then(function(){\n",
              "                            \n",
              "var gd = document.getElementById('2d25f5a6-a69b-4e46-a590-6433b88726ef');\n",
              "var x = new MutationObserver(function (mutations, observer) {{\n",
              "        var display = window.getComputedStyle(gd).display;\n",
              "        if (!display || display === 'none') {{\n",
              "            console.log([gd, 'removed!']);\n",
              "            Plotly.purge(gd);\n",
              "            observer.disconnect();\n",
              "        }}\n",
              "}});\n",
              "\n",
              "// Listen for the removal of the full notebook cells\n",
              "var notebookContainer = gd.closest('#notebook-container');\n",
              "if (notebookContainer) {{\n",
              "    x.observe(notebookContainer, {childList: true});\n",
              "}}\n",
              "\n",
              "// Listen for the clearing of the current output cell\n",
              "var outputEl = gd.closest('.output');\n",
              "if (outputEl) {{\n",
              "    x.observe(outputEl, {childList: true});\n",
              "}}\n",
              "\n",
              "                        })                };                            </script>        </div>\n",
              "</body>\n",
              "</html>"
            ]
          },
          "metadata": {}
        }
      ]
    },
    {
      "cell_type": "markdown",
      "source": [
        "### ***Valores ajustados y residuales.***\n",
        "\n",
        "\n",
        "\n",
        "Los conceptos importantes en el análisis de regresión son los valores ajustados (las predicciones con el modelo) y los residuales (errores de predicción). En general, para $Y$ variable target y $X$ variable explicativa o (feature para predicir), los datos no caen exactamente en la recta de ajuste, por lo que la ecuación de regresión debe incluir un término de error explícito $\\epsilon_i$\n",
        "\n",
        "\n",
        "$$Y_i=\\beta_0+\\beta_1*X+ϵ_i$$\n",
        "\n",
        "\n",
        "Los ***valores ajustados***, denotados por $\\hat{Y_i}$ vienes dados por la expresión:\n",
        "\n",
        "\n",
        "$$\\hat{Y_i}=\\hat{\\beta_0}+\\hat{\\beta_1}*X_i$$\n",
        "\n"
      ],
      "metadata": {
        "id": "ha5YBHK3TS5y"
      }
    },
    {
      "cell_type": "markdown",
      "source": [
        "La diferencia entre el valor predicho por la línea y el valor real (el punto de datos) es el error o ***residual*** (representado arriba como la letra griega $\\epsilon$ (épsilon)). Calculamos los residuos estimados ($\\hat{\\epsilon_i}$) mediante:\n",
        "\n",
        "\n",
        "$$\\hat{\\epsilon_i}=Y_i-\\hat{Y_i}$$\n",
        "\n",
        "\n",
        "\n"
      ],
      "metadata": {
        "id": "7HxyHfWtnykP"
      }
    },
    {
      "cell_type": "markdown",
      "source": [
        "Este diagrama resume las ideas anteriores:\n",
        "\n",
        "<div align=\"center\"><img src='https://raw.githubusercontent.com/lacamposm/Fundamentos_Analitica/main/images/line_best_fit_explained.jpg' width=500>\n",
        "</div>\n"
      ],
      "metadata": {
        "id": "RK0eEzTDovE4"
      }
    },
    {
      "cell_type": "code",
      "source": [
        "### With sklearn\n",
        "fitted = model_lm.predict(X) ### Valores ajustados Yi^\n",
        "resid = y - fitted           ### Residuales estimados."
      ],
      "metadata": {
        "id": "VcDU-aQSWMQE"
      },
      "execution_count": null,
      "outputs": []
    },
    {
      "cell_type": "code",
      "source": [
        "### pd.DataFrame con los primeros resultados del ajuste\n",
        "pd.DataFrame({\"valor_observado\":y, \"valor_ajustado\":fitted,\"residual\":resid})"
      ],
      "metadata": {
        "colab": {
          "base_uri": "https://localhost:8080/",
          "height": 424
        },
        "id": "bMH669OPcfT1",
        "outputId": "9f1dfc48-fb5a-4383-f393-b3357483a6b4"
      },
      "execution_count": null,
      "outputs": [
        {
          "output_type": "execute_result",
          "data": {
            "text/plain": [
              "     valor_observado  valor_ajustado    residual\n",
              "0                390      424.582807  -34.582807\n",
              "1                410      424.582807  -14.582807\n",
              "2                430      424.582807    5.417193\n",
              "3                460      424.582807   35.417193\n",
              "4                420      420.398230   -0.398230\n",
              "..               ...             ...         ...\n",
              "117              450      332.522124  117.477876\n",
              "118              490      332.522124  157.477876\n",
              "119              500      332.522124  167.477876\n",
              "120              370      328.337547   41.662453\n",
              "121              390      328.337547   61.662453\n",
              "\n",
              "[122 rows x 3 columns]"
            ],
            "text/html": [
              "\n",
              "  <div id=\"df-9598deeb-dbe8-4894-a9e8-300e5c585268\">\n",
              "    <div class=\"colab-df-container\">\n",
              "      <div>\n",
              "<style scoped>\n",
              "    .dataframe tbody tr th:only-of-type {\n",
              "        vertical-align: middle;\n",
              "    }\n",
              "\n",
              "    .dataframe tbody tr th {\n",
              "        vertical-align: top;\n",
              "    }\n",
              "\n",
              "    .dataframe thead th {\n",
              "        text-align: right;\n",
              "    }\n",
              "</style>\n",
              "<table border=\"1\" class=\"dataframe\">\n",
              "  <thead>\n",
              "    <tr style=\"text-align: right;\">\n",
              "      <th></th>\n",
              "      <th>valor_observado</th>\n",
              "      <th>valor_ajustado</th>\n",
              "      <th>residual</th>\n",
              "    </tr>\n",
              "  </thead>\n",
              "  <tbody>\n",
              "    <tr>\n",
              "      <th>0</th>\n",
              "      <td>390</td>\n",
              "      <td>424.582807</td>\n",
              "      <td>-34.582807</td>\n",
              "    </tr>\n",
              "    <tr>\n",
              "      <th>1</th>\n",
              "      <td>410</td>\n",
              "      <td>424.582807</td>\n",
              "      <td>-14.582807</td>\n",
              "    </tr>\n",
              "    <tr>\n",
              "      <th>2</th>\n",
              "      <td>430</td>\n",
              "      <td>424.582807</td>\n",
              "      <td>5.417193</td>\n",
              "    </tr>\n",
              "    <tr>\n",
              "      <th>3</th>\n",
              "      <td>460</td>\n",
              "      <td>424.582807</td>\n",
              "      <td>35.417193</td>\n",
              "    </tr>\n",
              "    <tr>\n",
              "      <th>4</th>\n",
              "      <td>420</td>\n",
              "      <td>420.398230</td>\n",
              "      <td>-0.398230</td>\n",
              "    </tr>\n",
              "    <tr>\n",
              "      <th>...</th>\n",
              "      <td>...</td>\n",
              "      <td>...</td>\n",
              "      <td>...</td>\n",
              "    </tr>\n",
              "    <tr>\n",
              "      <th>117</th>\n",
              "      <td>450</td>\n",
              "      <td>332.522124</td>\n",
              "      <td>117.477876</td>\n",
              "    </tr>\n",
              "    <tr>\n",
              "      <th>118</th>\n",
              "      <td>490</td>\n",
              "      <td>332.522124</td>\n",
              "      <td>157.477876</td>\n",
              "    </tr>\n",
              "    <tr>\n",
              "      <th>119</th>\n",
              "      <td>500</td>\n",
              "      <td>332.522124</td>\n",
              "      <td>167.477876</td>\n",
              "    </tr>\n",
              "    <tr>\n",
              "      <th>120</th>\n",
              "      <td>370</td>\n",
              "      <td>328.337547</td>\n",
              "      <td>41.662453</td>\n",
              "    </tr>\n",
              "    <tr>\n",
              "      <th>121</th>\n",
              "      <td>390</td>\n",
              "      <td>328.337547</td>\n",
              "      <td>61.662453</td>\n",
              "    </tr>\n",
              "  </tbody>\n",
              "</table>\n",
              "<p>122 rows × 3 columns</p>\n",
              "</div>\n",
              "      <button class=\"colab-df-convert\" onclick=\"convertToInteractive('df-9598deeb-dbe8-4894-a9e8-300e5c585268')\"\n",
              "              title=\"Convert this dataframe to an interactive table.\"\n",
              "              style=\"display:none;\">\n",
              "        \n",
              "  <svg xmlns=\"http://www.w3.org/2000/svg\" height=\"24px\"viewBox=\"0 0 24 24\"\n",
              "       width=\"24px\">\n",
              "    <path d=\"M0 0h24v24H0V0z\" fill=\"none\"/>\n",
              "    <path d=\"M18.56 5.44l.94 2.06.94-2.06 2.06-.94-2.06-.94-.94-2.06-.94 2.06-2.06.94zm-11 1L8.5 8.5l.94-2.06 2.06-.94-2.06-.94L8.5 2.5l-.94 2.06-2.06.94zm10 10l.94 2.06.94-2.06 2.06-.94-2.06-.94-.94-2.06-.94 2.06-2.06.94z\"/><path d=\"M17.41 7.96l-1.37-1.37c-.4-.4-.92-.59-1.43-.59-.52 0-1.04.2-1.43.59L10.3 9.45l-7.72 7.72c-.78.78-.78 2.05 0 2.83L4 21.41c.39.39.9.59 1.41.59.51 0 1.02-.2 1.41-.59l7.78-7.78 2.81-2.81c.8-.78.8-2.07 0-2.86zM5.41 20L4 18.59l7.72-7.72 1.47 1.35L5.41 20z\"/>\n",
              "  </svg>\n",
              "      </button>\n",
              "      \n",
              "  <style>\n",
              "    .colab-df-container {\n",
              "      display:flex;\n",
              "      flex-wrap:wrap;\n",
              "      gap: 12px;\n",
              "    }\n",
              "\n",
              "    .colab-df-convert {\n",
              "      background-color: #E8F0FE;\n",
              "      border: none;\n",
              "      border-radius: 50%;\n",
              "      cursor: pointer;\n",
              "      display: none;\n",
              "      fill: #1967D2;\n",
              "      height: 32px;\n",
              "      padding: 0 0 0 0;\n",
              "      width: 32px;\n",
              "    }\n",
              "\n",
              "    .colab-df-convert:hover {\n",
              "      background-color: #E2EBFA;\n",
              "      box-shadow: 0px 1px 2px rgba(60, 64, 67, 0.3), 0px 1px 3px 1px rgba(60, 64, 67, 0.15);\n",
              "      fill: #174EA6;\n",
              "    }\n",
              "\n",
              "    [theme=dark] .colab-df-convert {\n",
              "      background-color: #3B4455;\n",
              "      fill: #D2E3FC;\n",
              "    }\n",
              "\n",
              "    [theme=dark] .colab-df-convert:hover {\n",
              "      background-color: #434B5C;\n",
              "      box-shadow: 0px 1px 3px 1px rgba(0, 0, 0, 0.15);\n",
              "      filter: drop-shadow(0px 1px 2px rgba(0, 0, 0, 0.3));\n",
              "      fill: #FFFFFF;\n",
              "    }\n",
              "  </style>\n",
              "\n",
              "      <script>\n",
              "        const buttonEl =\n",
              "          document.querySelector('#df-9598deeb-dbe8-4894-a9e8-300e5c585268 button.colab-df-convert');\n",
              "        buttonEl.style.display =\n",
              "          google.colab.kernel.accessAllowed ? 'block' : 'none';\n",
              "\n",
              "        async function convertToInteractive(key) {\n",
              "          const element = document.querySelector('#df-9598deeb-dbe8-4894-a9e8-300e5c585268');\n",
              "          const dataTable =\n",
              "            await google.colab.kernel.invokeFunction('convertToInteractive',\n",
              "                                                     [key], {});\n",
              "          if (!dataTable) return;\n",
              "\n",
              "          const docLinkHtml = 'Like what you see? Visit the ' +\n",
              "            '<a target=\"_blank\" href=https://colab.research.google.com/notebooks/data_table.ipynb>data table notebook</a>'\n",
              "            + ' to learn more about interactive tables.';\n",
              "          element.innerHTML = '';\n",
              "          dataTable['output_type'] = 'display_data';\n",
              "          await google.colab.output.renderOutput(dataTable, element);\n",
              "          const docLink = document.createElement('div');\n",
              "          docLink.innerHTML = docLinkHtml;\n",
              "          element.appendChild(docLink);\n",
              "        }\n",
              "      </script>\n",
              "    </div>\n",
              "  </div>\n",
              "  "
            ]
          },
          "metadata": {},
          "execution_count": 9
        }
      ]
    },
    {
      "cell_type": "markdown",
      "source": [
        "## ***Anova***\n",
        "\n",
        "Dado que queremos explicar la variabilidad de la variable `Target` con respecto a su media podemos descomponerla de la siguiente manera:\n",
        "\n",
        "$$\\sum_{i=1}^{n}(y_i-\\bar{y})^{2}=\\sum_{i=n}^{n}(y_i-\\hat{y_i})^{2}+\\sum_{i=1}^{n}(\\hat{y_i}-\\bar{y})^{2}$$\n",
        "\n",
        "En la expresión expresión anterior se identifican:\n",
        "\n",
        "1. ***Suma de cuadrados totales***:\n",
        "$$SCT = \\sum_{i=1}^{n}(y_i-\\bar{y})^{2}$$\n",
        "  Esta suma determina la variabilidad respecto a su media.\n",
        "\n",
        "2. ***Suma de cuadrados del error:***\n",
        "$$SCE=\\sum_{i=n}^{n}(y_i-\\hat{y_i})^{2}$$\n",
        "  Esta  suma toma en cuenta la variación con la recta estimada. La variación residual que queda sin explicar por la recta de regresión.\n",
        "  \n",
        "3. ***Suma de cuadrados de la regresión:***\n",
        "$$SCR=\\sum_{i=1}^{n}(\\hat{y_i}-\\bar{y})^{2}$$\n",
        "  La cantidad de variabilidad en las observaciones explicada por la recta regresión. Esta suma toma en cuenta la variación de las observaciones y es atribuible al efecto lineal del modelo.\n"
      ],
      "metadata": {
        "id": "u2YbY0MvNa1z"
      }
    },
    {
      "cell_type": "markdown",
      "source": [
        "Para ajustar modelos de regresión por mínimos cuadrados ordinarios vamos a hacer uso de [stastmodels](https://www.statsmodels.org/dev/generated/statsmodels.formula.api.ols.html)"
      ],
      "metadata": {
        "id": "XUrO5kf0KRcG"
      }
    },
    {
      "cell_type": "code",
      "source": [
        "model_lm_sm = smf.ols(formula = \"PEFR ~ Exposure\", data = df).fit()     ## Ajuste con statsmodels.\n",
        "print(model_lm_sm.summary())"
      ],
      "metadata": {
        "colab": {
          "base_uri": "https://localhost:8080/"
        },
        "id": "nGK3UKosU7a-",
        "outputId": "6fea5e2a-6b99-4781-a4af-ed625aa2bd65"
      },
      "execution_count": null,
      "outputs": [
        {
          "output_type": "stream",
          "name": "stdout",
          "text": [
            "                            OLS Regression Results                            \n",
            "==============================================================================\n",
            "Dep. Variable:                   PEFR   R-squared:                       0.077\n",
            "Model:                            OLS   Adj. R-squared:                  0.069\n",
            "Method:                 Least Squares   F-statistic:                     9.974\n",
            "Date:                Mon, 24 Oct 2022   Prob (F-statistic):            0.00201\n",
            "Time:                        20:26:18   Log-Likelihood:                -735.68\n",
            "No. Observations:                 122   AIC:                             1475.\n",
            "Df Residuals:                     120   BIC:                             1481.\n",
            "Df Model:                           1                                         \n",
            "Covariance Type:            nonrobust                                         \n",
            "==============================================================================\n",
            "                 coef    std err          t      P>|t|      [0.025      0.975]\n",
            "------------------------------------------------------------------------------\n",
            "Intercept    424.5828     20.796     20.417      0.000     383.408     465.757\n",
            "Exposure      -4.1846      1.325     -3.158      0.002      -6.808      -1.561\n",
            "==============================================================================\n",
            "Omnibus:                        0.767   Durbin-Watson:                   1.111\n",
            "Prob(Omnibus):                  0.681   Jarque-Bera (JB):                0.891\n",
            "Skew:                          -0.162   Prob(JB):                        0.641\n",
            "Kurtosis:                       2.734   Cond. No.                         35.7\n",
            "==============================================================================\n",
            "\n",
            "Notes:\n",
            "[1] Standard Errors assume that the covariance matrix of the errors is correctly specified.\n"
          ]
        }
      ]
    },
    {
      "cell_type": "code",
      "source": [
        "## With statsmodels. from statsmodels.stats.anova import anova_lm ---> Anova del modelo lineal\n",
        "anova_lm(model_lm_sm, typ=1)"
      ],
      "metadata": {
        "colab": {
          "base_uri": "https://localhost:8080/",
          "height": 112
        },
        "id": "BjOP9Xk8Ko3D",
        "outputId": "d766ea9c-194c-4779-e2c9-a63bdd330f9b"
      },
      "execution_count": null,
      "outputs": [
        {
          "output_type": "execute_result",
          "data": {
            "text/plain": [
              "             df        sum_sq        mean_sq         F    PR(>F)\n",
              "Exposure    1.0  1.026333e+05  102633.255269  9.974366  0.002008\n",
              "Residual  120.0  1.234764e+06   10289.702381       NaN       NaN"
            ],
            "text/html": [
              "\n",
              "  <div id=\"df-7c6dd676-e082-4c32-ae84-ac2010e3b091\">\n",
              "    <div class=\"colab-df-container\">\n",
              "      <div>\n",
              "<style scoped>\n",
              "    .dataframe tbody tr th:only-of-type {\n",
              "        vertical-align: middle;\n",
              "    }\n",
              "\n",
              "    .dataframe tbody tr th {\n",
              "        vertical-align: top;\n",
              "    }\n",
              "\n",
              "    .dataframe thead th {\n",
              "        text-align: right;\n",
              "    }\n",
              "</style>\n",
              "<table border=\"1\" class=\"dataframe\">\n",
              "  <thead>\n",
              "    <tr style=\"text-align: right;\">\n",
              "      <th></th>\n",
              "      <th>df</th>\n",
              "      <th>sum_sq</th>\n",
              "      <th>mean_sq</th>\n",
              "      <th>F</th>\n",
              "      <th>PR(&gt;F)</th>\n",
              "    </tr>\n",
              "  </thead>\n",
              "  <tbody>\n",
              "    <tr>\n",
              "      <th>Exposure</th>\n",
              "      <td>1.0</td>\n",
              "      <td>1.026333e+05</td>\n",
              "      <td>102633.255269</td>\n",
              "      <td>9.974366</td>\n",
              "      <td>0.002008</td>\n",
              "    </tr>\n",
              "    <tr>\n",
              "      <th>Residual</th>\n",
              "      <td>120.0</td>\n",
              "      <td>1.234764e+06</td>\n",
              "      <td>10289.702381</td>\n",
              "      <td>NaN</td>\n",
              "      <td>NaN</td>\n",
              "    </tr>\n",
              "  </tbody>\n",
              "</table>\n",
              "</div>\n",
              "      <button class=\"colab-df-convert\" onclick=\"convertToInteractive('df-7c6dd676-e082-4c32-ae84-ac2010e3b091')\"\n",
              "              title=\"Convert this dataframe to an interactive table.\"\n",
              "              style=\"display:none;\">\n",
              "        \n",
              "  <svg xmlns=\"http://www.w3.org/2000/svg\" height=\"24px\"viewBox=\"0 0 24 24\"\n",
              "       width=\"24px\">\n",
              "    <path d=\"M0 0h24v24H0V0z\" fill=\"none\"/>\n",
              "    <path d=\"M18.56 5.44l.94 2.06.94-2.06 2.06-.94-2.06-.94-.94-2.06-.94 2.06-2.06.94zm-11 1L8.5 8.5l.94-2.06 2.06-.94-2.06-.94L8.5 2.5l-.94 2.06-2.06.94zm10 10l.94 2.06.94-2.06 2.06-.94-2.06-.94-.94-2.06-.94 2.06-2.06.94z\"/><path d=\"M17.41 7.96l-1.37-1.37c-.4-.4-.92-.59-1.43-.59-.52 0-1.04.2-1.43.59L10.3 9.45l-7.72 7.72c-.78.78-.78 2.05 0 2.83L4 21.41c.39.39.9.59 1.41.59.51 0 1.02-.2 1.41-.59l7.78-7.78 2.81-2.81c.8-.78.8-2.07 0-2.86zM5.41 20L4 18.59l7.72-7.72 1.47 1.35L5.41 20z\"/>\n",
              "  </svg>\n",
              "      </button>\n",
              "      \n",
              "  <style>\n",
              "    .colab-df-container {\n",
              "      display:flex;\n",
              "      flex-wrap:wrap;\n",
              "      gap: 12px;\n",
              "    }\n",
              "\n",
              "    .colab-df-convert {\n",
              "      background-color: #E8F0FE;\n",
              "      border: none;\n",
              "      border-radius: 50%;\n",
              "      cursor: pointer;\n",
              "      display: none;\n",
              "      fill: #1967D2;\n",
              "      height: 32px;\n",
              "      padding: 0 0 0 0;\n",
              "      width: 32px;\n",
              "    }\n",
              "\n",
              "    .colab-df-convert:hover {\n",
              "      background-color: #E2EBFA;\n",
              "      box-shadow: 0px 1px 2px rgba(60, 64, 67, 0.3), 0px 1px 3px 1px rgba(60, 64, 67, 0.15);\n",
              "      fill: #174EA6;\n",
              "    }\n",
              "\n",
              "    [theme=dark] .colab-df-convert {\n",
              "      background-color: #3B4455;\n",
              "      fill: #D2E3FC;\n",
              "    }\n",
              "\n",
              "    [theme=dark] .colab-df-convert:hover {\n",
              "      background-color: #434B5C;\n",
              "      box-shadow: 0px 1px 3px 1px rgba(0, 0, 0, 0.15);\n",
              "      filter: drop-shadow(0px 1px 2px rgba(0, 0, 0, 0.3));\n",
              "      fill: #FFFFFF;\n",
              "    }\n",
              "  </style>\n",
              "\n",
              "      <script>\n",
              "        const buttonEl =\n",
              "          document.querySelector('#df-7c6dd676-e082-4c32-ae84-ac2010e3b091 button.colab-df-convert');\n",
              "        buttonEl.style.display =\n",
              "          google.colab.kernel.accessAllowed ? 'block' : 'none';\n",
              "\n",
              "        async function convertToInteractive(key) {\n",
              "          const element = document.querySelector('#df-7c6dd676-e082-4c32-ae84-ac2010e3b091');\n",
              "          const dataTable =\n",
              "            await google.colab.kernel.invokeFunction('convertToInteractive',\n",
              "                                                     [key], {});\n",
              "          if (!dataTable) return;\n",
              "\n",
              "          const docLinkHtml = 'Like what you see? Visit the ' +\n",
              "            '<a target=\"_blank\" href=https://colab.research.google.com/notebooks/data_table.ipynb>data table notebook</a>'\n",
              "            + ' to learn more about interactive tables.';\n",
              "          element.innerHTML = '';\n",
              "          dataTable['output_type'] = 'display_data';\n",
              "          await google.colab.output.renderOutput(dataTable, element);\n",
              "          const docLink = document.createElement('div');\n",
              "          docLink.innerHTML = docLinkHtml;\n",
              "          element.appendChild(docLink);\n",
              "        }\n",
              "      </script>\n",
              "    </div>\n",
              "  </div>\n",
              "  "
            ]
          },
          "metadata": {},
          "execution_count": 11
        }
      ]
    },
    {
      "cell_type": "markdown",
      "source": [
        "***La tabla anterior es una típica ANOVA***."
      ],
      "metadata": {
        "id": "vfzrl5HIXMhw"
      }
    },
    {
      "cell_type": "markdown",
      "source": [
        "El estadístico $F_{1}^{n-2}$ se utiliza para contrastar el sistema de hipótesis:\n",
        "\n",
        "$$H_0:\\beta_1=0$$\n",
        "$$vs.$$\n",
        "$$H_1:\\beta_1\\neq 0$$\n",
        "\n",
        "Es decir, este ***mide la pertinencia o no del modelo (Significancia global del modelo).***"
      ],
      "metadata": {
        "id": "nr3ylr2GYiW6"
      }
    },
    {
      "cell_type": "markdown",
      "source": [
        "Para el caso específico de nuestro problema el $p$-valor de la prueba es $0.002008$, es decir, ***podemos explicar las diferencias en la variable `PEFR` con las diferencias existentes en la variable `Exposure`.***"
      ],
      "metadata": {
        "id": "oZM8Ylhwa6hO"
      }
    },
    {
      "cell_type": "markdown",
      "source": [
        "### ***$p$-valores.***\n",
        "\n",
        "Para cada coeficiente en la tabla de salida anterior, hay $p$-valor asociados. Esto se debe a que los coeficientes se estiman en función de nuestros datos disponibles, por lo que es posible que no representen necesariamente el coeficiente \"verdadero\" en toda la población. La hipótesis nula que se está probando aquí para $\\beta_1$ es:\n",
        "\n",
        "$$ H_0: \\beta_1 = 0 $$\n",
        "$$vs.$$\n",
        "$$ H_1: \\beta_1 \\neq 0.$$\n",
        "\n",
        "y de manera similar para $\\beta_0$. El $p$-valor de $\\beta_1$ (debajo de la columna: `P>|t|` en la tabla) es 0.002. Por lo tanto, la diferencia entre cero y $\\beta_1$ es estadísticamente significativa al nivel de significancia de 0.05 y rechazamos la hipótesis nula. Esto implica que `Exposure` sí está asociada con al menos algunas de las diferencias de `PEFR`.\n",
        "\n",
        "Si un coeficiente en su modelo no es estadísticamente significativo, significa que, suponiendo que su modelo represente la realidad de manera razonablemente correcta, no existe una asociación perceptible entre esa variable y su variable de salida."
      ],
      "metadata": {
        "id": "e9nJj5y5qXey"
      }
    },
    {
      "cell_type": "markdown",
      "source": [
        "### ***Coeficiente de determinación $R^{2}$.***\n",
        "\n",
        "El coeficiente de determinación se encuentra con la fórmula:\n",
        "\n",
        "$$R^{2}=\\frac{SCR}{SCT}=1-\\frac{SCE}{SCT}$$\n",
        "\n",
        "Al ser $SCT$ una medida de la variabilidad de $Y$ sin considerar el efecto de la variable regresora y $SCE$ es una medida de la variabilidad de $Y$ que queda después de haber tenido en consideración a $X$, el coeficiente de determinación, $R^{2}$ se llama con frecuencia la proporción de la variación explicada por el regresor $X$. Este valor va de 0 y hasta 1, valores cercanos a 1 implican que la mayor parte de la variabilidad de $Y$ está explicada por el modelo de regresión.\n",
        "\n",
        "Cuanto mayor sea $R^ 2$, mayor es el porcentaje de variación observada que puede ser explicado por el modelo. Puede considerarlo como un indicador de qué tan bien coincidirán sus predicciones con los puntos de datos reales; es decir, cuando $R^2=1$ las predicciones de su modelo son perfectas, y cuando $R^2=0$ están tan lejos que son básicamente inútiles. Por lo tanto, se dice que $R^2$ es una representación de la **bondad de ajuste** del modelo.\n",
        "\n"
      ],
      "metadata": {
        "id": "kyP585ydbhPP"
      }
    },
    {
      "cell_type": "markdown",
      "source": [
        "Aquí hay dos modelos de ejemplo: uno con una alta bondad de ajuste y otro con una bondad de ajuste razonable pero notablemente más baja:\n",
        "\n",
        "<div align=\"center\"><img src='https://raw.githubusercontent.com/lacamposm/Fundamentos_Analitica/main/images/high_low_r_2.png' width=200>\n",
        "</div>"
      ],
      "metadata": {
        "id": "ySaPUp7Fpnqo"
      }
    },
    {
      "cell_type": "code",
      "source": [
        "###\n",
        "SCE = 1.234764e+06                      ## Suma de cuadrados del error.\n",
        "SCR = 1.026333e+05\t                    ## Suma de cuadrados de la regresión.\n",
        "SCT = (1.234764e+06+1.026333e+05)\n",
        "R_2 = 1- SCE/SCT\n",
        "print(\"El valor de R^2 es: {:.4f}\".format(R_2))\n",
        "print(\"Por lo tanto el {:.2f}% de la variabilidad de PEFR queda explicada por el modelo.\".format(R_2*100))\n",
        "###\n",
        "print()\n",
        "print(\"R^2 Con sklearn:\", model_lm.score(X,y))\n",
        "### Con statsmodels\n",
        "print()\n",
        "print(\"Suma de cuadrados del error:\", model_lm_sm.ssr)\n",
        "print(\"Suma de cuadrados de la regresión:\", model_lm_sm.mse_model)\n",
        "print(\"Suma de cuadrados totales:\", model_lm_sm.centered_tss)\n",
        "print(\"R^2 con statsmodels:\", model_lm_sm.rsquared)"
      ],
      "metadata": {
        "colab": {
          "base_uri": "https://localhost:8080/"
        },
        "id": "Qj-mXWX-ejXH",
        "outputId": "9a05cb14-d518-4e24-9bc3-3eee63088b54"
      },
      "execution_count": null,
      "outputs": [
        {
          "output_type": "stream",
          "name": "stdout",
          "text": [
            "El valor de R^2 es: 0.0767\n",
            "Por lo tanto el 7.67% de la variabilidad de PEFR queda explicada por el modelo.\n",
            "\n",
            "R^2 Con sklearn: 0.0767410228628338\n",
            "\n",
            "Suma de cuadrados del error: 1234764.285714286\n",
            "Suma de cuadrados de la regresión: 102633.25526932045\n",
            "Suma de cuadrados totales: 1337397.5409836064\n",
            "R^2 con statsmodels: 0.07674102286283369\n"
          ]
        }
      ]
    },
    {
      "cell_type": "markdown",
      "source": [
        "## ***Análisis de residuales***\n",
        "\n",
        "1. Debemos verificar que los residuales no estén correlacionados.\n",
        "2. Homocedasticidad.\n",
        "3. Que los residuales distribuyan aproximadamente normal\n",
        "\n",
        "\n",
        "En primera medida debemos estimar el valor de $\\sigma^{2}$, este valor está dado por la expresión:\n",
        "\n",
        "$$\\hat{\\sigma}^{2}=\\frac{SCE}{n-1}$$\n",
        "\n",
        "***Que no es otra cosa que el cuadrado medio del error.***\n",
        "\n"
      ],
      "metadata": {
        "id": "lCb3V2mVjC8L"
      }
    },
    {
      "cell_type": "code",
      "source": [
        "## Estimación de sigma^2.\n",
        "sigma_2 = 10289.702381\n",
        "print(\"La estimación de la variabilidad del modelo es:\", sigma_2)\n",
        "## Estimación de sigma^2 con statsmodels.\n",
        "print(\"La estimación de sigma^2 con statsmodels es:\",model_lm_sm.scale)"
      ],
      "metadata": {
        "colab": {
          "base_uri": "https://localhost:8080/"
        },
        "id": "GL54cNbXmToW",
        "outputId": "9dae90b1-fed5-49ce-83cc-ad96abad4624"
      },
      "execution_count": null,
      "outputs": [
        {
          "output_type": "stream",
          "name": "stdout",
          "text": [
            "La estimación de la variabilidad del modelo es: 10289.702381\n",
            "La estimación de sigma^2 con statsmodels es: 10289.702380952383\n"
          ]
        }
      ]
    },
    {
      "cell_type": "markdown",
      "source": [
        "### ***Normalidad.***"
      ],
      "metadata": {
        "id": "WQt54a8--ON0"
      }
    },
    {
      "cell_type": "code",
      "source": [
        "## NORMALIDAD: Test de Shapiro-Wills\n",
        "## La prueba de Shapiro-Wilk prueba la hipótesis nula de que los datos se extrajeron\n",
        "## de una distribución normal.\n",
        "p_value1 = shapiro(df[\"PEFR\"])[1]                                   ### Normalidad variable respuesta\n",
        "print(\"El p-valor del Test de Shapiro-Wills para la variable respuesta es: {:.3f}\".format(p_value1))\n",
        "##\n",
        "p_value2 = shapiro(resid)[1]\n",
        "print(\"El p-valor del Test de Shapiro-Wills para normalidad de los residuales:{:.3f}\".format(p_value2))"
      ],
      "metadata": {
        "colab": {
          "base_uri": "https://localhost:8080/"
        },
        "id": "invmNL3Cp_4e",
        "outputId": "73b2ff16-0b44-47a1-8147-dac39ca6e13a"
      },
      "execution_count": null,
      "outputs": [
        {
          "output_type": "stream",
          "name": "stdout",
          "text": [
            "El p-valor del Test de Shapiro-Wills para la variable respuesta es: 0.541\n",
            "El p-valor del Test de Shapiro-Wills para normalidad de los residuales:0.586\n"
          ]
        }
      ]
    },
    {
      "cell_type": "markdown",
      "source": [
        "Luego no podemos rechazar la hipótesis nula, por lo tanto no tenemos evidencia estadística para decir que los residuales no distribuyen aproximadamente normal."
      ],
      "metadata": {
        "id": "fEzZ3C2Skqs0"
      }
    },
    {
      "cell_type": "code",
      "source": [
        "## QQ plot para los residuales observados. from scipy.stats import probplot\n",
        "plt.figure(figsize = (15,4))\n",
        "probplot(x=resid, dist=\"norm\", plot=plt)              ## QQ-plot.\n",
        "plt.xlabel(\"Cuantiles teóricos\")\n",
        "plt.ylabel(\"Valores ordenados\")\n",
        "plt.title(\"QQ Plot para los residuales.\")\n",
        "plt.show()"
      ],
      "metadata": {
        "colab": {
          "base_uri": "https://localhost:8080/",
          "height": 299
        },
        "id": "y_TBznngBE9f",
        "outputId": "bcf79d80-4ef1-469c-c9f5-32d01ce8434d"
      },
      "execution_count": null,
      "outputs": [
        {
          "output_type": "display_data",
          "data": {
            "text/plain": [
              "<Figure size 1080x288 with 1 Axes>"
            ],
            "image/png": "[encoded data removed]"
          },
          "metadata": {}
        }
      ]
    },
    {
      "cell_type": "markdown",
      "source": [
        "Como ***conclusión*** notemos que se cumplen los supuestos del modelo, pero el poder explicativo del modelo solo llega al $7.67\\%$, lo cual no es un buen indicador."
      ],
      "metadata": {
        "id": "eWyyxw5VuOAE"
      }
    }
  ]
}
